{
  "nbformat": 4,
  "nbformat_minor": 0,
  "metadata": {
    "colab": {
      "provenance": [],
      "include_colab_link": true
    },
    "kernelspec": {
      "name": "python3",
      "display_name": "Python 3"
    },
    "language_info": {
      "name": "python"
    },
    "gpuClass": "standard"
  },
  "cells": [
    {
      "cell_type": "markdown",
      "metadata": {
        "id": "view-in-github",
        "colab_type": "text"
      },
      "source": [
        "<a href=\"https://colab.research.google.com/github/iamatul1214/Tensorflow_Certification_Preparation/blob/main/06_Transfer_learning_using_tensorflow_part3_scaling_up.ipynb\" target=\"_parent\"><img src=\"https://colab.research.google.com/assets/colab-badge.svg\" alt=\"Open In Colab\"/></a>"
      ]
    },
    {
      "cell_type": "markdown",
      "source": [
        "## Till now we saw that feature extraction and Fine tuning transfer learning has worked nicely, now we will try to implement same on food101 dataset of 10% training data with 101 food classes."
      ],
      "metadata": {
        "id": "4eLTShLKilYl"
      }
    },
    {
      "cell_type": "code",
      "source": [
        "from google.colab import drive\n",
        "drive.mount('/content/drive')"
      ],
      "metadata": {
        "colab": {
          "base_uri": "https://localhost:8080/"
        },
        "id": "PmsaTSqrTO0u",
        "outputId": "039118a0-50d9-452b-82ec-b218f67ea634"
      },
      "execution_count": 2,
      "outputs": [
        {
          "output_type": "stream",
          "name": "stdout",
          "text": [
            "Drive already mounted at /content/drive; to attempt to forcibly remount, call drive.mount(\"/content/drive\", force_remount=True).\n"
          ]
        }
      ]
    },
    {
      "cell_type": "code",
      "execution_count": 6,
      "metadata": {
        "colab": {
          "base_uri": "https://localhost:8080/"
        },
        "id": "Q4k959XpiYen",
        "outputId": "118edf0d-fd16-4439-9610-38f48fe8a3f7"
      },
      "outputs": [
        {
          "output_type": "stream",
          "name": "stdout",
          "text": [
            "/content/drive/MyDrive/Tensorflow certifications work\n",
            "/content/drive/MyDrive/Tensorflow certifications work\n"
          ]
        }
      ],
      "source": [
        "import os\n",
        "Root = \"/content/drive/MyDrive/Tensorflow certifications work\"\n",
        "!pwd\n",
        "os.chdir(Root)\n",
        "!pwd"
      ]
    },
    {
      "cell_type": "markdown",
      "source": [
        "## installing the helper functions file"
      ],
      "metadata": {
        "id": "zDErUZbijPnc"
      }
    },
    {
      "cell_type": "code",
      "source": [
        "try:\n",
        "  if os.path.exists(\"Helper.py\"):\n",
        "    print(\"Helper file already exists..skipping download\")\n",
        "  else:\n",
        "    !wget https://raw.githubusercontent.com/iamatul1214/Tensorflow_Certification_Preparation/main/Helper.py\n",
        "    print(\"downloaded Helper.py\")\n",
        "except Exception as e:\n",
        "  print(e)"
      ],
      "metadata": {
        "colab": {
          "base_uri": "https://localhost:8080/"
        },
        "id": "NSqlPgdKjJWn",
        "outputId": "0513bac6-44f6-489b-c38e-050616f7afc6"
      },
      "execution_count": 7,
      "outputs": [
        {
          "output_type": "stream",
          "name": "stdout",
          "text": [
            "--2022-12-13 07:08:48--  https://raw.githubusercontent.com/iamatul1214/Tensorflow_Certification_Preparation/main/Helper.py\n",
            "Resolving raw.githubusercontent.com (raw.githubusercontent.com)... 185.199.108.133, 185.199.110.133, 185.199.109.133, ...\n",
            "Connecting to raw.githubusercontent.com (raw.githubusercontent.com)|185.199.108.133|:443... connected.\n",
            "HTTP request sent, awaiting response... 200 OK\n",
            "Length: 11944 (12K) [text/plain]\n",
            "Saving to: ‘Helper.py’\n",
            "\n",
            "\rHelper.py             0%[                    ]       0  --.-KB/s               \rHelper.py           100%[===================>]  11.66K  --.-KB/s    in 0.001s  \n",
            "\n",
            "2022-12-13 07:08:48 (9.76 MB/s) - ‘Helper.py’ saved [11944/11944]\n",
            "\n",
            "downloaded Helper.py\n"
          ]
        }
      ]
    },
    {
      "cell_type": "code",
      "source": [
        "## Downloading the dataset\n",
        "from Helper import unzip_data\n",
        "try:\n",
        "  if os.path.exists(\"101_food_classes_10_percent\"):\n",
        "    print(\"data already exists...hence, skipping downloading....\")\n",
        "  else:\n",
        "    !wget https://storage.googleapis.com/ztm_tf_course/food_vision/101_food_classes_10_percent.zip\n",
        "    unzip_data(\"101_food_classes_10_percent.zip\")\n",
        "    print(\"unzipping the data\")\n",
        "except Exception as e:\n",
        "  print(e)\n"
      ],
      "metadata": {
        "colab": {
          "base_uri": "https://localhost:8080/"
        },
        "id": "9ZiD8dC-juRj",
        "outputId": "4f2a0b88-fc3f-4338-cc08-bc3c1bc66172"
      },
      "execution_count": 8,
      "outputs": [
        {
          "output_type": "stream",
          "name": "stdout",
          "text": [
            "--2022-12-13 07:08:57--  https://storage.googleapis.com/ztm_tf_course/food_vision/101_food_classes_10_percent.zip\n",
            "Resolving storage.googleapis.com (storage.googleapis.com)... 108.177.126.128, 108.177.127.128, 142.250.145.128, ...\n",
            "Connecting to storage.googleapis.com (storage.googleapis.com)|108.177.126.128|:443... connected.\n",
            "HTTP request sent, awaiting response... 200 OK\n",
            "Length: 1625420029 (1.5G) [application/zip]\n",
            "Saving to: ‘101_food_classes_10_percent.zip’\n",
            "\n",
            "101_food_classes_10 100%[===================>]   1.51G  38.3MB/s    in 42s     \n",
            "\n",
            "2022-12-13 07:09:39 (36.7 MB/s) - ‘101_food_classes_10_percent.zip’ saved [1625420029/1625420029]\n",
            "\n",
            "unzipping the data\n"
          ]
        }
      ]
    },
    {
      "cell_type": "code",
      "source": [
        "## Setting up the data loaders\n",
        "import tensorflow as tf\n",
        "train_dir = \"101_food_classes_10_percent/train\"\n",
        "test_dir = \"101_food_classes_10_percent/test\"\n",
        "IMG_SIZE = (224,224)\n",
        "\n",
        "full_classes_10_percent_train_data = tf.keras.preprocessing.image_dataset_from_directory(train_dir,\n",
        "                                                                                         label_mode = 'categorical',\n",
        "                                                                                         image_size = IMG_SIZE)\n",
        "\n",
        "test_data = tf.keras.preprocessing.image_dataset_from_directory(test_dir,\n",
        "                                                                label_mode = \"categorical\",\n",
        "                                                                image_size = IMG_SIZE,\n",
        "                                                                shuffle = False)"
      ],
      "metadata": {
        "colab": {
          "base_uri": "https://localhost:8080/"
        },
        "id": "lLbDJhSTkNMe",
        "outputId": "0fc1d0a7-394f-4723-9465-9076dc57fe98"
      },
      "execution_count": 9,
      "outputs": [
        {
          "output_type": "stream",
          "name": "stdout",
          "text": [
            "Found 7575 files belonging to 101 classes.\n",
            "Found 25250 files belonging to 101 classes.\n"
          ]
        }
      ]
    },
    {
      "cell_type": "markdown",
      "source": [
        "## train a big dog model with transfer learning on 10% of the 101 food classes\n",
        "\n",
        "Here are the steps we will follow-\n",
        "* Create a ModelCheckpoint callback\n",
        "* Create a data augmentation layer to build a data augmentation right into the moddel\n",
        "* BUild a headless(no top layers) functional EfficientNetB0 backboned-model ( we will create our own output layer) \n",
        "* compile our model\n",
        "* feature extract for 5 full passes( 5 epochs on the train dataset and validate on 15% of the test data, to save epoch time)"
      ],
      "metadata": {
        "id": "n0wy_cikmmOC"
      }
    },
    {
      "cell_type": "code",
      "source": [
        "## creating a checkpoint callback\n",
        "from Helper import create_tensorboard_callback\n",
        "checkpoint_path = \"101_classes_10_percent_data_model_checkpoint\"\n",
        "checkpoint_callback = tf.keras.callbacks.ModelCheckpoint(filepath=checkpoint_path,\n",
        "                                                         monitor = 'val_accuracy',\n",
        "                                                         save_best_only = True,\n",
        "                                                         save_weights_only = True)\n"
      ],
      "metadata": {
        "id": "CXdLxdfrkw79"
      },
      "execution_count": 10,
      "outputs": []
    },
    {
      "cell_type": "code",
      "source": [
        "## Data augmentation layer to incorporate right into the model\n",
        "from tensorflow.keras.layers.experimental import preprocessing\n",
        "\n",
        "## setup data augmentation\n",
        "data_augmentation = tf.keras.Sequential([\n",
        "    preprocessing.RandomFlip(\"horizontal\"),\n",
        "    preprocessing.RandomRotation(0.2),\n",
        "    preprocessing.RandomHeight(0.2),\n",
        "    preprocessing.RandomWidth(0.2),\n",
        "    preprocessing.RandomZoom(0.2),\n",
        "    # preprocessing.Rescaling(1/255.). ## not required for efficientNetB0 but for resnet50\n",
        "], name = \"Data_augmentataiton_layer\")\n"
      ],
      "metadata": {
        "id": "nGgEkQhineME"
      },
      "execution_count": 11,
      "outputs": []
    },
    {
      "cell_type": "code",
      "source": [
        "## Setup the base model and freeze its layers ( this will extract the features )\n",
        "base_model = tf.keras.applications.EfficientNetB0(include_top = False)\n",
        "base_model.trainable = False\n",
        "\n",
        "## Setup model architecture with trainable top layers\n",
        "inputs = tf.keras.layers.Input(shape = (224,224,3), name = \"input_layer\")\n",
        "x = data_augmentation(inputs) #augment images( only happens during training phase)\n",
        "x = base_model(x, training = False) # put the base model in inference mode so weights which need to stay frozen will remian frozen\n",
        "x = tf.keras.layers.GlobalAveragePooling2D(name = \"global_avg_pool_layer\")(x)\n",
        "outputs = tf.keras.layers.Dense(len(full_classes_10_percent_train_data.class_names), activation=\"softmax\", name = \"output_layer\")(x)\n",
        "model = tf.keras.Model(inputs,outputs)\n"
      ],
      "metadata": {
        "id": "IPS772IUoKm1",
        "colab": {
          "base_uri": "https://localhost:8080/"
        },
        "outputId": "9b79a952-8627-40b4-db9c-a47dce89fadd"
      },
      "execution_count": 12,
      "outputs": [
        {
          "output_type": "stream",
          "name": "stdout",
          "text": [
            "Downloading data from https://storage.googleapis.com/keras-applications/efficientnetb0_notop.h5\n",
            "16705208/16705208 [==============================] - 1s 0us/step\n"
          ]
        }
      ]
    },
    {
      "cell_type": "code",
      "source": [
        "model.summary()"
      ],
      "metadata": {
        "colab": {
          "base_uri": "https://localhost:8080/"
        },
        "id": "bgTx2qwvB4_M",
        "outputId": "0286fb4b-f16e-4d3f-f653-7a594c9a0bbe"
      },
      "execution_count": 13,
      "outputs": [
        {
          "output_type": "stream",
          "name": "stdout",
          "text": [
            "Model: \"model\"\n",
            "_________________________________________________________________\n",
            " Layer (type)                Output Shape              Param #   \n",
            "=================================================================\n",
            " input_layer (InputLayer)    [(None, 224, 224, 3)]     0         \n",
            "                                                                 \n",
            " Data_augmentataiton_layer (  (None, 224, 224, 3)      0         \n",
            " Sequential)                                                     \n",
            "                                                                 \n",
            " efficientnetb0 (Functional)  (None, None, None, 1280)  4049571  \n",
            "                                                                 \n",
            " global_avg_pool_layer (Glob  (None, 1280)             0         \n",
            " alAveragePooling2D)                                             \n",
            "                                                                 \n",
            " output_layer (Dense)        (None, 101)               129381    \n",
            "                                                                 \n",
            "=================================================================\n",
            "Total params: 4,178,952\n",
            "Trainable params: 129,381\n",
            "Non-trainable params: 4,049,571\n",
            "_________________________________________________________________\n"
          ]
        }
      ]
    },
    {
      "cell_type": "code",
      "source": [
        "## compiling the model\n",
        "model.compile(loss = tf.keras.losses.categorical_crossentropy,\n",
        "              optimizer = tf.keras.optimizers.Adam(),\n",
        "              metrics = ['accuracy'])"
      ],
      "metadata": {
        "id": "g1u36VSbCbq6"
      },
      "execution_count": 14,
      "outputs": []
    },
    {
      "cell_type": "code",
      "source": [
        "## Training the model for 5 epochs\n",
        "history_all_classes_10_percent = model.fit(full_classes_10_percent_train_data,epochs = 5, \n",
        "         steps_per_epoch = len(full_classes_10_percent_train_data),\n",
        "          validation_data = test_data,\n",
        "          validation_steps = int(0.5 * len(test_data)),\n",
        "          callbacks = [checkpoint_callback])"
      ],
      "metadata": {
        "colab": {
          "base_uri": "https://localhost:8080/"
        },
        "id": "UiQ9H7oNFEhZ",
        "outputId": "f44b2412-4e2e-4dbc-b038-03a04f5b7cd4"
      },
      "execution_count": 15,
      "outputs": [
        {
          "output_type": "stream",
          "name": "stdout",
          "text": [
            "Epoch 1/5\n",
            "237/237 [==============================] - 132s 497ms/step - loss: 3.3531 - accuracy: 0.2751 - val_loss: 2.3501 - val_accuracy: 0.4805\n",
            "Epoch 2/5\n",
            "237/237 [==============================] - 98s 410ms/step - loss: 2.1913 - accuracy: 0.5015 - val_loss: 1.9315 - val_accuracy: 0.5306\n",
            "Epoch 3/5\n",
            "237/237 [==============================] - 95s 398ms/step - loss: 1.8224 - accuracy: 0.5659 - val_loss: 1.7646 - val_accuracy: 0.5537\n",
            "Epoch 4/5\n",
            "237/237 [==============================] - 87s 364ms/step - loss: 1.6040 - accuracy: 0.6132 - val_loss: 1.6852 - val_accuracy: 0.5684\n",
            "Epoch 5/5\n",
            "237/237 [==============================] - 85s 355ms/step - loss: 1.4367 - accuracy: 0.6483 - val_loss: 1.6495 - val_accuracy: 0.5716\n"
          ]
        }
      ]
    },
    {
      "cell_type": "code",
      "source": [
        "## Evaluate on whole test dataset\n",
        "model.evaluate(test_data)"
      ],
      "metadata": {
        "colab": {
          "base_uri": "https://localhost:8080/"
        },
        "id": "b8e8ZkGSF4-Z",
        "outputId": "b5e77539-31f2-400d-dfea-a34b32402517"
      },
      "execution_count": 16,
      "outputs": [
        {
          "output_type": "stream",
          "name": "stdout",
          "text": [
            "790/790 [==============================] - 84s 106ms/step - loss: 1.5719 - accuracy: 0.5908\n"
          ]
        },
        {
          "output_type": "execute_result",
          "data": {
            "text/plain": [
              "[1.571937918663025, 0.5908119082450867]"
            ]
          },
          "metadata": {},
          "execution_count": 16
        }
      ]
    },
    {
      "cell_type": "code",
      "source": [
        "from Helper import plot_loss_curves\n",
        "plot_loss_curves(history_all_classes_10_percent)"
      ],
      "metadata": {
        "colab": {
          "base_uri": "https://localhost:8080/",
          "height": 573
        },
        "id": "k59i5OZm7Eqv",
        "outputId": "bd305aa8-644d-45ff-b234-1c650d1e0942"
      },
      "execution_count": 17,
      "outputs": [
        {
          "output_type": "display_data",
          "data": {
            "text/plain": [
              "<Figure size 432x288 with 1 Axes>"
            ],
            "image/png": "[encoded data removed]"
          },
          "metadata": {
            "needs_background": "light"
          }
        },
        {
          "output_type": "display_data",
          "data": {
            "text/plain": [
              "<Figure size 432x288 with 1 Axes>"
            ],
            "image/png": "[encoded data removed]"
          },
          "metadata": {
            "needs_background": "light"
          }
        }
      ]
    },
    {
      "cell_type": "markdown",
      "source": [
        "## Fine Tuning"
      ],
      "metadata": {
        "id": "smx4RyadBzY0"
      }
    },
    {
      "cell_type": "code",
      "source": [
        "## Unfreeze all the layers in the base model\n",
        "base_model.trainable = True\n",
        "\n",
        "## Refreeze every layer except last 5\n",
        "for layer in base_model.layers[:-5]:\n",
        "  layer.trainable = True\n",
        "\n"
      ],
      "metadata": {
        "id": "PEw-ibPz_nmJ"
      },
      "execution_count": 18,
      "outputs": []
    },
    {
      "cell_type": "markdown",
      "source": [
        "## Recompile model with lower learning rate (it's typically best practice to lower the learning rate during finetuning"
      ],
      "metadata": {
        "id": "_lO5cUY2Ex8K"
      }
    },
    {
      "cell_type": "code",
      "source": [
        "model.compile(loss = tf.keras.losses.categorical_crossentropy,\n",
        "              optimizer = tf.keras.optimizers.Adam(lr = 0.0001),  #learning rate lowered by 10x\n",
        "              metrics = ['accuracy'])\n",
        " "
      ],
      "metadata": {
        "colab": {
          "base_uri": "https://localhost:8080/"
        },
        "id": "GcnYTP2f_F__",
        "outputId": "d465392d-72de-4fe7-b785-cd5fde341182"
      },
      "execution_count": 19,
      "outputs": [
        {
          "output_type": "stream",
          "name": "stderr",
          "text": [
            "/usr/local/lib/python3.8/dist-packages/keras/optimizers/optimizer_v2/adam.py:110: UserWarning: The `lr` argument is deprecated, use `learning_rate` instead.\n",
            "  super(Adam, self).__init__(name, **kwargs)\n"
          ]
        }
      ]
    },
    {
      "cell_type": "code",
      "source": [
        "## What layers in the model are trainable ?\n",
        "for layer in model.layers:\n",
        "  print(layer.name, layer.trainable)"
      ],
      "metadata": {
        "colab": {
          "base_uri": "https://localhost:8080/"
        },
        "id": "l0SktGBF_mV8",
        "outputId": "2fc0693d-a7d5-4915-dab0-2e99221e3344"
      },
      "execution_count": 20,
      "outputs": [
        {
          "output_type": "stream",
          "name": "stdout",
          "text": [
            "input_layer True\n",
            "Data_augmentataiton_layer True\n",
            "efficientnetb0 True\n",
            "global_avg_pool_layer True\n",
            "output_layer True\n"
          ]
        }
      ]
    },
    {
      "cell_type": "code",
      "source": [
        "## check which layers are trainable in our base_model\n",
        "for layer_number, layer in enumerate(model.layers[2].layers):\n",
        "  print(layer_number, layer.name, layer.trainable)"
      ],
      "metadata": {
        "colab": {
          "base_uri": "https://localhost:8080/"
        },
        "id": "L5AydWcLF0pR",
        "outputId": "13dae800-45d2-4750-9268-3cad7d7dc17e"
      },
      "execution_count": 21,
      "outputs": [
        {
          "output_type": "stream",
          "name": "stdout",
          "text": [
            "0 input_1 True\n",
            "1 rescaling True\n",
            "2 normalization True\n",
            "3 tf.math.truediv True\n",
            "4 stem_conv_pad True\n",
            "5 stem_conv True\n",
            "6 stem_bn True\n",
            "7 stem_activation True\n",
            "8 block1a_dwconv True\n",
            "9 block1a_bn True\n",
            "10 block1a_activation True\n",
            "11 block1a_se_squeeze True\n",
            "12 block1a_se_reshape True\n",
            "13 block1a_se_reduce True\n",
            "14 block1a_se_expand True\n",
            "15 block1a_se_excite True\n",
            "16 block1a_project_conv True\n",
            "17 block1a_project_bn True\n",
            "18 block2a_expand_conv True\n",
            "19 block2a_expand_bn True\n",
            "20 block2a_expand_activation True\n",
            "21 block2a_dwconv_pad True\n",
            "22 block2a_dwconv True\n",
            "23 block2a_bn True\n",
            "24 block2a_activation True\n",
            "25 block2a_se_squeeze True\n",
            "26 block2a_se_reshape True\n",
            "27 block2a_se_reduce True\n",
            "28 block2a_se_expand True\n",
            "29 block2a_se_excite True\n",
            "30 block2a_project_conv True\n",
            "31 block2a_project_bn True\n",
            "32 block2b_expand_conv True\n",
            "33 block2b_expand_bn True\n",
            "34 block2b_expand_activation True\n",
            "35 block2b_dwconv True\n",
            "36 block2b_bn True\n",
            "37 block2b_activation True\n",
            "38 block2b_se_squeeze True\n",
            "39 block2b_se_reshape True\n",
            "40 block2b_se_reduce True\n",
            "41 block2b_se_expand True\n",
            "42 block2b_se_excite True\n",
            "43 block2b_project_conv True\n",
            "44 block2b_project_bn True\n",
            "45 block2b_drop True\n",
            "46 block2b_add True\n",
            "47 block3a_expand_conv True\n",
            "48 block3a_expand_bn True\n",
            "49 block3a_expand_activation True\n",
            "50 block3a_dwconv_pad True\n",
            "51 block3a_dwconv True\n",
            "52 block3a_bn True\n",
            "53 block3a_activation True\n",
            "54 block3a_se_squeeze True\n",
            "55 block3a_se_reshape True\n",
            "56 block3a_se_reduce True\n",
            "57 block3a_se_expand True\n",
            "58 block3a_se_excite True\n",
            "59 block3a_project_conv True\n",
            "60 block3a_project_bn True\n",
            "61 block3b_expand_conv True\n",
            "62 block3b_expand_bn True\n",
            "63 block3b_expand_activation True\n",
            "64 block3b_dwconv True\n",
            "65 block3b_bn True\n",
            "66 block3b_activation True\n",
            "67 block3b_se_squeeze True\n",
            "68 block3b_se_reshape True\n",
            "69 block3b_se_reduce True\n",
            "70 block3b_se_expand True\n",
            "71 block3b_se_excite True\n",
            "72 block3b_project_conv True\n",
            "73 block3b_project_bn True\n",
            "74 block3b_drop True\n",
            "75 block3b_add True\n",
            "76 block4a_expand_conv True\n",
            "77 block4a_expand_bn True\n",
            "78 block4a_expand_activation True\n",
            "79 block4a_dwconv_pad True\n",
            "80 block4a_dwconv True\n",
            "81 block4a_bn True\n",
            "82 block4a_activation True\n",
            "83 block4a_se_squeeze True\n",
            "84 block4a_se_reshape True\n",
            "85 block4a_se_reduce True\n",
            "86 block4a_se_expand True\n",
            "87 block4a_se_excite True\n",
            "88 block4a_project_conv True\n",
            "89 block4a_project_bn True\n",
            "90 block4b_expand_conv True\n",
            "91 block4b_expand_bn True\n",
            "92 block4b_expand_activation True\n",
            "93 block4b_dwconv True\n",
            "94 block4b_bn True\n",
            "95 block4b_activation True\n",
            "96 block4b_se_squeeze True\n",
            "97 block4b_se_reshape True\n",
            "98 block4b_se_reduce True\n",
            "99 block4b_se_expand True\n",
            "100 block4b_se_excite True\n",
            "101 block4b_project_conv True\n",
            "102 block4b_project_bn True\n",
            "103 block4b_drop True\n",
            "104 block4b_add True\n",
            "105 block4c_expand_conv True\n",
            "106 block4c_expand_bn True\n",
            "107 block4c_expand_activation True\n",
            "108 block4c_dwconv True\n",
            "109 block4c_bn True\n",
            "110 block4c_activation True\n",
            "111 block4c_se_squeeze True\n",
            "112 block4c_se_reshape True\n",
            "113 block4c_se_reduce True\n",
            "114 block4c_se_expand True\n",
            "115 block4c_se_excite True\n",
            "116 block4c_project_conv True\n",
            "117 block4c_project_bn True\n",
            "118 block4c_drop True\n",
            "119 block4c_add True\n",
            "120 block5a_expand_conv True\n",
            "121 block5a_expand_bn True\n",
            "122 block5a_expand_activation True\n",
            "123 block5a_dwconv True\n",
            "124 block5a_bn True\n",
            "125 block5a_activation True\n",
            "126 block5a_se_squeeze True\n",
            "127 block5a_se_reshape True\n",
            "128 block5a_se_reduce True\n",
            "129 block5a_se_expand True\n",
            "130 block5a_se_excite True\n",
            "131 block5a_project_conv True\n",
            "132 block5a_project_bn True\n",
            "133 block5b_expand_conv True\n",
            "134 block5b_expand_bn True\n",
            "135 block5b_expand_activation True\n",
            "136 block5b_dwconv True\n",
            "137 block5b_bn True\n",
            "138 block5b_activation True\n",
            "139 block5b_se_squeeze True\n",
            "140 block5b_se_reshape True\n",
            "141 block5b_se_reduce True\n",
            "142 block5b_se_expand True\n",
            "143 block5b_se_excite True\n",
            "144 block5b_project_conv True\n",
            "145 block5b_project_bn True\n",
            "146 block5b_drop True\n",
            "147 block5b_add True\n",
            "148 block5c_expand_conv True\n",
            "149 block5c_expand_bn True\n",
            "150 block5c_expand_activation True\n",
            "151 block5c_dwconv True\n",
            "152 block5c_bn True\n",
            "153 block5c_activation True\n",
            "154 block5c_se_squeeze True\n",
            "155 block5c_se_reshape True\n",
            "156 block5c_se_reduce True\n",
            "157 block5c_se_expand True\n",
            "158 block5c_se_excite True\n",
            "159 block5c_project_conv True\n",
            "160 block5c_project_bn True\n",
            "161 block5c_drop True\n",
            "162 block5c_add True\n",
            "163 block6a_expand_conv True\n",
            "164 block6a_expand_bn True\n",
            "165 block6a_expand_activation True\n",
            "166 block6a_dwconv_pad True\n",
            "167 block6a_dwconv True\n",
            "168 block6a_bn True\n",
            "169 block6a_activation True\n",
            "170 block6a_se_squeeze True\n",
            "171 block6a_se_reshape True\n",
            "172 block6a_se_reduce True\n",
            "173 block6a_se_expand True\n",
            "174 block6a_se_excite True\n",
            "175 block6a_project_conv True\n",
            "176 block6a_project_bn True\n",
            "177 block6b_expand_conv True\n",
            "178 block6b_expand_bn True\n",
            "179 block6b_expand_activation True\n",
            "180 block6b_dwconv True\n",
            "181 block6b_bn True\n",
            "182 block6b_activation True\n",
            "183 block6b_se_squeeze True\n",
            "184 block6b_se_reshape True\n",
            "185 block6b_se_reduce True\n",
            "186 block6b_se_expand True\n",
            "187 block6b_se_excite True\n",
            "188 block6b_project_conv True\n",
            "189 block6b_project_bn True\n",
            "190 block6b_drop True\n",
            "191 block6b_add True\n",
            "192 block6c_expand_conv True\n",
            "193 block6c_expand_bn True\n",
            "194 block6c_expand_activation True\n",
            "195 block6c_dwconv True\n",
            "196 block6c_bn True\n",
            "197 block6c_activation True\n",
            "198 block6c_se_squeeze True\n",
            "199 block6c_se_reshape True\n",
            "200 block6c_se_reduce True\n",
            "201 block6c_se_expand True\n",
            "202 block6c_se_excite True\n",
            "203 block6c_project_conv True\n",
            "204 block6c_project_bn True\n",
            "205 block6c_drop True\n",
            "206 block6c_add True\n",
            "207 block6d_expand_conv True\n",
            "208 block6d_expand_bn True\n",
            "209 block6d_expand_activation True\n",
            "210 block6d_dwconv True\n",
            "211 block6d_bn True\n",
            "212 block6d_activation True\n",
            "213 block6d_se_squeeze True\n",
            "214 block6d_se_reshape True\n",
            "215 block6d_se_reduce True\n",
            "216 block6d_se_expand True\n",
            "217 block6d_se_excite True\n",
            "218 block6d_project_conv True\n",
            "219 block6d_project_bn True\n",
            "220 block6d_drop True\n",
            "221 block6d_add True\n",
            "222 block7a_expand_conv True\n",
            "223 block7a_expand_bn True\n",
            "224 block7a_expand_activation True\n",
            "225 block7a_dwconv True\n",
            "226 block7a_bn True\n",
            "227 block7a_activation True\n",
            "228 block7a_se_squeeze True\n",
            "229 block7a_se_reshape True\n",
            "230 block7a_se_reduce True\n",
            "231 block7a_se_expand True\n",
            "232 block7a_se_excite True\n",
            "233 block7a_project_conv True\n",
            "234 block7a_project_bn True\n",
            "235 top_conv True\n",
            "236 top_bn True\n",
            "237 top_activation True\n"
          ]
        }
      ]
    },
    {
      "cell_type": "code",
      "source": [
        "# Fine tune for 5 more epochs \n",
        "fine_tune_epochs = 10 # model has already done with 5 epochs of feature extraction and this is the total number of epochs 5 of feature extraction and 5 for fine tuning\n",
        "history_all_classes_10_percent_fine_tune = model.fit(full_classes_10_percent_train_data,\n",
        "                                                     epochs = fine_tune_epochs,\n",
        "                                                     validation_data = test_data,\n",
        "                                                     validation_steps = int(0.15* len(test_data)),\n",
        "                                                     initial_epoch = history_all_classes_10_percent.epoch[-1],\n",
        "                                                     callbacks = [checkpoint_callback])"
      ],
      "metadata": {
        "id": "LuIfmzEEGYow",
        "colab": {
          "base_uri": "https://localhost:8080/"
        },
        "outputId": "51d81e8c-cf7c-488e-b2ec-a41fbdd900a0"
      },
      "execution_count": 22,
      "outputs": [
        {
          "output_type": "stream",
          "name": "stdout",
          "text": [
            "Epoch 5/10\n",
            "237/237 [==============================] - 204s 816ms/step - loss: 1.1760 - accuracy: 0.6834 - val_loss: 1.5118 - val_accuracy: 0.5975\n",
            "Epoch 6/10\n",
            "237/237 [==============================] - 170s 716ms/step - loss: 0.8716 - accuracy: 0.7605 - val_loss: 1.5729 - val_accuracy: 0.5935\n",
            "Epoch 7/10\n",
            "237/237 [==============================] - 159s 671ms/step - loss: 0.6503 - accuracy: 0.8150 - val_loss: 1.6565 - val_accuracy: 0.5922\n",
            "Epoch 8/10\n",
            "237/237 [==============================] - 154s 647ms/step - loss: 0.4968 - accuracy: 0.8569 - val_loss: 1.7228 - val_accuracy: 0.5943\n",
            "Epoch 9/10\n",
            "237/237 [==============================] - 143s 602ms/step - loss: 0.3767 - accuracy: 0.8911 - val_loss: 1.7295 - val_accuracy: 0.6081\n",
            "Epoch 10/10\n",
            "237/237 [==============================] - 132s 555ms/step - loss: 0.2764 - accuracy: 0.9167 - val_loss: 1.8560 - val_accuracy: 0.6022\n"
          ]
        }
      ]
    },
    {
      "cell_type": "code",
      "source": [
        "plot_loss_curves(history_all_classes_10_percent_fine_tune)"
      ],
      "metadata": {
        "colab": {
          "base_uri": "https://localhost:8080/",
          "height": 573
        },
        "id": "S2J_tIDKZSk6",
        "outputId": "999df3aa-0f97-4fb1-c29d-0e741b44932b"
      },
      "execution_count": 23,
      "outputs": [
        {
          "output_type": "display_data",
          "data": {
            "text/plain": [
              "<Figure size 432x288 with 1 Axes>"
            ],
            "image/png": "[encoded data removed]"
          },
          "metadata": {
            "needs_background": "light"
          }
        },
        {
          "output_type": "display_data",
          "data": {
            "text/plain": [
              "<Figure size 432x288 with 1 Axes>"
            ],
            "image/png": "[encoded data removed]"
          },
          "metadata": {
            "needs_background": "light"
          }
        }
      ]
    },
    {
      "cell_type": "code",
      "source": [
        "all_classes_10_percent_fine_tune_results = model.evaluate(test_data)\n",
        "all_classes_10_percent_fine_tune_results"
      ],
      "metadata": {
        "colab": {
          "base_uri": "https://localhost:8080/"
        },
        "id": "xhqJOV6uazeK",
        "outputId": "480e3e99-dc85-406c-fe3c-598146d8b908"
      },
      "execution_count": 25,
      "outputs": [
        {
          "output_type": "stream",
          "name": "stdout",
          "text": [
            "790/790 [==============================] - 82s 103ms/step - loss: 1.7608 - accuracy: 0.6164\n"
          ]
        },
        {
          "output_type": "execute_result",
          "data": {
            "text/plain": [
              "[1.760830283164978, 0.6164356470108032]"
            ]
          },
          "metadata": {},
          "execution_count": 25
        }
      ]
    },
    {
      "cell_type": "code",
      "source": [
        "## Compare the history of feature extraction vs fine tuned\n",
        "from Helper import compare_historys\n",
        "compare_historys(original_history = history_all_classes_10_percent,\n",
        "                 new_history = history_all_classes_10_percent_fine_tune,\n",
        "                 initial_epochs = 5)"
      ],
      "metadata": {
        "colab": {
          "base_uri": "https://localhost:8080/",
          "height": 513
        },
        "id": "Tp0keuyPa3A-",
        "outputId": "06f2a6f1-fa6d-4f71-863a-dae88b1ed65b"
      },
      "execution_count": 28,
      "outputs": [
        {
          "output_type": "display_data",
          "data": {
            "text/plain": [
              "<Figure size 576x576 with 2 Axes>"
            ],
            "image/png": "[encoded data removed]"
          },
          "metadata": {
            "needs_background": "light"
          }
        }
      ]
    },
    {
      "cell_type": "markdown",
      "source": [
        "## saving and loading our model\n",
        "\n",
        "### To use our model in external application, we will need to save it and export it somewhere."
      ],
      "metadata": {
        "id": "BsfRLVyYeniy"
      }
    },
    {
      "cell_type": "code",
      "source": [
        "## save our fine-tuning model\n",
        "model.save(\"101_food_classes_10_percent_big_dog_model\")"
      ],
      "metadata": {
        "colab": {
          "base_uri": "https://localhost:8080/"
        },
        "id": "Mf0glNVpgPZ6",
        "outputId": "f735eb17-07c2-45ae-e541-3e8acf65d080"
      },
      "execution_count": 29,
      "outputs": [
        {
          "output_type": "stream",
          "name": "stderr",
          "text": [
            "WARNING:absl:Found untraced functions such as _jit_compiled_convolution_op, _jit_compiled_convolution_op, _jit_compiled_convolution_op, _jit_compiled_convolution_op, _jit_compiled_convolution_op while saving (showing 5 of 81). These functions will not be directly callable after loading.\n"
          ]
        }
      ]
    },
    {
      "cell_type": "code",
      "source": [
        "## Loading the model\n",
        "loaded_model = tf.keras.models.load_model(\"101_food_classes_10_percent_big_dog_model\")\n",
        "loaded_model.summary()"
      ],
      "metadata": {
        "colab": {
          "base_uri": "https://localhost:8080/"
        },
        "id": "Vtko8xTOgt8d",
        "outputId": "56c51918-5b5f-480a-9580-f95c36036d2b"
      },
      "execution_count": 32,
      "outputs": [
        {
          "output_type": "stream",
          "name": "stdout",
          "text": [
            "Model: \"model\"\n",
            "_________________________________________________________________\n",
            " Layer (type)                Output Shape              Param #   \n",
            "=================================================================\n",
            " input_layer (InputLayer)    [(None, 224, 224, 3)]     0         \n",
            "                                                                 \n",
            " Data_augmentataiton_layer (  (None, 224, 224, 3)      0         \n",
            " Sequential)                                                     \n",
            "                                                                 \n",
            " efficientnetb0 (Functional)  (None, None, None, 1280)  4049571  \n",
            "                                                                 \n",
            " global_avg_pool_layer (Glob  (None, 1280)             0         \n",
            " alAveragePooling2D)                                             \n",
            "                                                                 \n",
            " output_layer (Dense)        (None, 101)               129381    \n",
            "                                                                 \n",
            "=================================================================\n",
            "Total params: 4,178,952\n",
            "Trainable params: 4,136,929\n",
            "Non-trainable params: 42,023\n",
            "_________________________________________________________________\n"
          ]
        }
      ]
    },
    {
      "cell_type": "code",
      "source": [
        "## Evaludate loaded model and compare performance to presaved model\n",
        "loaded_model_results = loaded_model.evaluate(test_data)\n",
        "loaded_model_results\n",
        "\n"
      ],
      "metadata": {
        "colab": {
          "base_uri": "https://localhost:8080/"
        },
        "id": "1-S3LHlSg7nv",
        "outputId": "fbf22c05-f27a-489e-9083-2c7a06fcd4be"
      },
      "execution_count": 34,
      "outputs": [
        {
          "output_type": "stream",
          "name": "stdout",
          "text": [
            "790/790 [==============================] - 83s 104ms/step - loss: 1.7608 - accuracy: 0.6164\n"
          ]
        },
        {
          "output_type": "execute_result",
          "data": {
            "text/plain": [
              "[1.7608304023742676, 0.6164356470108032]"
            ]
          },
          "metadata": {},
          "execution_count": 34
        }
      ]
    },
    {
      "cell_type": "code",
      "source": [
        "all_classes_10_percent_fine_tune_results"
      ],
      "metadata": {
        "colab": {
          "base_uri": "https://localhost:8080/"
        },
        "id": "DXpdmVKAhWBk",
        "outputId": "07c54e00-eb27-4957-dd35-1bbdd8a0c70e"
      },
      "execution_count": 35,
      "outputs": [
        {
          "output_type": "execute_result",
          "data": {
            "text/plain": [
              "[1.760830283164978, 0.6164356470108032]"
            ]
          },
          "metadata": {},
          "execution_count": 35
        }
      ]
    },
    {
      "cell_type": "code",
      "source": [
        "import numpy as np\n",
        "np.round(all_classes_10_percent_fine_tune_results,2) == np.round(loaded_model_results,2)"
      ],
      "metadata": {
        "colab": {
          "base_uri": "https://localhost:8080/"
        },
        "id": "6LLYo_Euh2r8",
        "outputId": "a4db7a95-88c2-4193-b437-e499a2ebb78b"
      },
      "execution_count": 38,
      "outputs": [
        {
          "output_type": "execute_result",
          "data": {
            "text/plain": [
              "array([ True,  True])"
            ]
          },
          "metadata": {},
          "execution_count": 38
        }
      ]
    },
    {
      "cell_type": "code",
      "source": [],
      "metadata": {
        "id": "kPRd2IkfiNfW"
      },
      "execution_count": null,
      "outputs": []
    }
  ]
}