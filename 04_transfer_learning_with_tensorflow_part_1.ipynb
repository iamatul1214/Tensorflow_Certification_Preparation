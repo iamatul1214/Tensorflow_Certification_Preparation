{
  "nbformat": 4,
  "nbformat_minor": 0,
  "metadata": {
    "colab": {
      "provenance": [],
      "mount_file_id": "1ywbYzaOncUdnRIBVclxALUc8GbFng2Ba",
      "authorship_tag": "ABX9TyOaS7ziZGXYArPGHLF6qEfH",
      "include_colab_link": true
    },
    "kernelspec": {
      "name": "python3",
      "display_name": "Python 3"
    },
    "language_info": {
      "name": "python"
    },
    "accelerator": "GPU"
  },
  "cells": [
    {
      "cell_type": "markdown",
      "metadata": {
        "id": "view-in-github",
        "colab_type": "text"
      },
      "source": [
        "<a href=\"https://colab.research.google.com/github/iamatul1214/Tensorflow_Certification_Preparation/blob/main/04_transfer_learning_with_tensorflow_part_1.ipynb\" target=\"_parent\"><img src=\"https://colab.research.google.com/assets/colab-badge.svg\" alt=\"Open In Colab\"/></a>"
      ]
    },
    {
      "cell_type": "markdown",
      "source": [
        "## Here we will see transfer learning on the food dataset"
      ],
      "metadata": {
        "id": "9MsiyDZmC6a3"
      }
    },
    {
      "cell_type": "code",
      "source": [
        "import os\n",
        "Root = \"/content/drive/MyDrive/Tensorflow certifications work\"\n",
        "os.chdir(Root)\n",
        "!pwd"
      ],
      "metadata": {
        "colab": {
          "base_uri": "https://localhost:8080/"
        },
        "id": "L12pAY8qD-qm",
        "outputId": "163839c7-a825-4650-f81a-ba12eddc68a7"
      },
      "execution_count": 1,
      "outputs": [
        {
          "output_type": "stream",
          "name": "stdout",
          "text": [
            "/content/drive/MyDrive/Tensorflow certifications work\n"
          ]
        }
      ]
    },
    {
      "cell_type": "markdown",
      "source": [
        "## Becoming one with data"
      ],
      "metadata": {
        "id": "gWeKNlExDaUA"
      }
    },
    {
      "cell_type": "code",
      "source": [
        "try:\n",
        "  if os.path.exists(os.path.join(os.getcwd(),\"10_food_classes_10_percent.zip\")):\n",
        "    print(\"file already exists, hence, skipping the download of zip file and unzipping of it....\")\n",
        "  else:\n",
        "    ! wget https://storage.googleapis.com/ztm_tf_course/food_vision/10_food_classes_10_percent.zip\n",
        "\n",
        "    import zipfile\n",
        "    zip_ref = zipfile.ZipFile(\"10_food_classes_10_percent.zip\",\"r\")\n",
        "    zip_ref.extractall()\n",
        "    zip_ref.close()\n",
        "except Exception as e:\n",
        "  print(e) "
      ],
      "metadata": {
        "colab": {
          "base_uri": "https://localhost:8080/"
        },
        "id": "_zxqIQJ5C6Jw",
        "outputId": "b74e71e7-a6be-458d-a418-7235efbb9377"
      },
      "execution_count": 2,
      "outputs": [
        {
          "output_type": "stream",
          "name": "stdout",
          "text": [
            "file already exists, hence, skipping the download of zip file and unzipping of it....\n"
          ]
        }
      ]
    },
    {
      "cell_type": "code",
      "execution_count": 3,
      "metadata": {
        "colab": {
          "base_uri": "https://localhost:8080/"
        },
        "id": "myhPfXIOB-1c",
        "outputId": "db5adf43-dc19-4967-ab7f-d3fc6323ac5e"
      },
      "outputs": [
        {
          "output_type": "stream",
          "name": "stdout",
          "text": [
            "There are 2 directories and 0 images in 10_food_classes_10_percent\n",
            "There are 10 directories and 0 images in 10_food_classes_10_percent/test\n",
            "There are 0 directories and 250 images in 10_food_classes_10_percent/test/ice_cream\n",
            "There are 0 directories and 250 images in 10_food_classes_10_percent/test/chicken_curry\n",
            "There are 0 directories and 250 images in 10_food_classes_10_percent/test/steak\n",
            "There are 0 directories and 250 images in 10_food_classes_10_percent/test/sushi\n",
            "There are 0 directories and 250 images in 10_food_classes_10_percent/test/chicken_wings\n",
            "There are 0 directories and 250 images in 10_food_classes_10_percent/test/grilled_salmon\n",
            "There are 0 directories and 250 images in 10_food_classes_10_percent/test/hamburger\n",
            "There are 0 directories and 250 images in 10_food_classes_10_percent/test/pizza\n",
            "There are 0 directories and 250 images in 10_food_classes_10_percent/test/ramen\n",
            "There are 0 directories and 250 images in 10_food_classes_10_percent/test/fried_rice\n",
            "There are 10 directories and 0 images in 10_food_classes_10_percent/train\n",
            "There are 0 directories and 75 images in 10_food_classes_10_percent/train/ice_cream\n",
            "There are 0 directories and 75 images in 10_food_classes_10_percent/train/chicken_curry\n",
            "There are 0 directories and 75 images in 10_food_classes_10_percent/train/steak\n",
            "There are 0 directories and 75 images in 10_food_classes_10_percent/train/sushi\n",
            "There are 0 directories and 75 images in 10_food_classes_10_percent/train/chicken_wings\n",
            "There are 0 directories and 75 images in 10_food_classes_10_percent/train/grilled_salmon\n",
            "There are 0 directories and 75 images in 10_food_classes_10_percent/train/hamburger\n",
            "There are 0 directories and 75 images in 10_food_classes_10_percent/train/pizza\n",
            "There are 0 directories and 75 images in 10_food_classes_10_percent/train/ramen\n",
            "There are 0 directories and 75 images in 10_food_classes_10_percent/train/fried_rice\n"
          ]
        }
      ],
      "source": [
        "## checking images in each folder\n",
        "\n",
        "for dirpath, dirnames, filenames in os.walk(\"10_food_classes_10_percent\"):\n",
        "  print(f\"There are {len(dirnames)} directories and {len(filenames)} images in {dirpath}\")"
      ]
    },
    {
      "cell_type": "markdown",
      "source": [
        "### As we observed in above cell, we have 75 images only for each class, and that's why we will transfer learning here and see how in less data we can train a model properly.\n"
      ],
      "metadata": {
        "id": "bxpP5jSiGPnD"
      }
    },
    {
      "cell_type": "markdown",
      "source": [
        "### Let's create imagedatagenerators"
      ],
      "metadata": {
        "id": "Ll_N9EZPOy_7"
      }
    },
    {
      "cell_type": "code",
      "source": [
        "from tensorflow.keras.preprocessing.image import ImageDataGenerator\n",
        "import tensorflow as tf\n",
        "\n",
        "IMG_SIZE = (224,224)\n",
        "BATCH_SIZE = 32\n",
        "\n",
        "## The hyperparameters in tensorflow as generally defined in upper case\n",
        "\n",
        "train_dir = \"10_food_classes_10_percent/train/\"\n",
        "test_dir = \"10_food_classes_10_percent/test\"\n",
        "\n",
        "train_datagen = ImageDataGenerator(rescale = 1/255.)\n",
        "test_datagen = ImageDataGenerator(rescale = 1/255.)\n",
        "\n",
        "print(\"Training images\")\n",
        "train_data_10_percent = train_datagen.flow_from_directory(train_dir, \n",
        "                                                          target_size = IMG_SIZE,\n",
        "                                                          batch_size = BATCH_SIZE,\n",
        "                                                          class_mode = \"categorical\")\n",
        "\n",
        "print(\"Testing images\")\n",
        "test_data_10_percent = test_datagen.flow_from_directory(test_dir,\n",
        "                                                        target_size = IMG_SIZE,\n",
        "                                                        batch_size = BATCH_SIZE,\n",
        "                                                        class_mode = \"categorical\")"
      ],
      "metadata": {
        "id": "QZFs9cvoGC03",
        "colab": {
          "base_uri": "https://localhost:8080/"
        },
        "outputId": "8e490f6a-9042-4e51-abc8-9fb60b1bf801"
      },
      "execution_count": 4,
      "outputs": [
        {
          "output_type": "stream",
          "name": "stdout",
          "text": [
            "Training images\n",
            "Found 750 images belonging to 10 classes.\n",
            "Testing images\n",
            "Found 2500 images belonging to 10 classes.\n"
          ]
        }
      ]
    },
    {
      "cell_type": "markdown",
      "source": [
        "## Setting up callbacks\n",
        "\n",
        "callbacks are extra functionality you can add to your models to be performed during  or after training. Some of the most popular callbacks are-:\n",
        "* Tracking the experiments using tensorboard\n",
        "* Model checkpointing\n",
        "* Earlystopping checkpoint"
      ],
      "metadata": {
        "id": "miCxPlNKhPI4"
      }
    },
    {
      "cell_type": "code",
      "source": [
        "## creating a tensorboard callback but functionizing it because we need to create a new one for each model\n",
        "\n",
        "def create_tensorboard_callback(dir_name,experiment_name):\n",
        "  import datetime\n",
        "  log_dir = dir_name + \"/\" + experiment_name + \"/\" + datetime.datetime.now().strftime(\"%Y%m%d-%H&M%S\")\n",
        "  tensorboard_callback = tf.keras.callbacks.TensorBoard(log_dir = log_dir)\n",
        "  print(f\"Saving the tensorboard log files to: {log_dir}\")\n",
        "  return tensorboard_callback"
      ],
      "metadata": {
        "id": "lUrJ8bLYQXdC"
      },
      "execution_count": 5,
      "outputs": []
    },
    {
      "cell_type": "markdown",
      "source": [
        "## Creating model using tensorflow hub\n",
        "\n",
        "### Till now we have created models from scratch but now we will use tensorflow hub and use transfer learning to add some custom layers to our already created models.\n",
        "\n",
        "\n",
        "### We are using imagenet/resnet_v2_50 --> https://tfhub.dev/google/imagenet/resnet_v2_50/feature_vector/5\n",
        "\n",
        "### We are also using https://tfhub.dev/tensorflow/efficientnet/b0/feature-vector/1"
      ],
      "metadata": {
        "id": "qLj3tQC-lcok"
      }
    },
    {
      "cell_type": "code",
      "source": [
        "### Let's compare the following two models\n",
        "\n",
        "resnet_url = \"https://tfhub.dev/google/imagenet/resnet_v2_50/feature_vector/5\"\n",
        "\n",
        "efficientnet_url = \"https://tfhub.dev/tensorflow/efficientnet/b0/feature-vector/1\""
      ],
      "metadata": {
        "id": "7mvfk4eEktst"
      },
      "execution_count": 6,
      "outputs": []
    },
    {
      "cell_type": "code",
      "source": [
        "## Importing the dependencies\n",
        "import tensorflow as tf\n",
        "import tensorflow_hub as hub"
      ],
      "metadata": {
        "id": "ekcsdeN1sRx4"
      },
      "execution_count": 7,
      "outputs": []
    },
    {
      "cell_type": "code",
      "source": [
        "## Let's create a create_model() function to create a model from url\n",
        "\n",
        "def create_model(model_url, num_of_classes=10):\n",
        "  \"\"\"\n",
        "  Takes a tensorflow hub url and creates the model out of it\n",
        "\n",
        "  Args:\n",
        "  model_url (str): A tensorflow Hub feature extraction URL.\n",
        "  num_classes (int): Number of output neurons in the output layer. default is 10.\n",
        "\n",
        "  Returns:\n",
        "  An uncompiled Keras Sequential model model_url as feature extractor layer and Dense output layer as number of classes neurons.\n",
        "\n",
        "  \"\"\"\n",
        "  ## Dwonload the pretrained model and save it for keras layer\n",
        "  feature_extractor_layer = hub.KerasLayer(model_url,\n",
        "                                           trainable=False,\n",
        "                                           name = \"feature_extraction_layer\",\n",
        "                                           input_shape = IMG_SIZE+(3,))\n",
        "  ## create your own model\n",
        "\n",
        "  model = tf.keras.Sequential([\n",
        "      feature_extractor_layer,\n",
        "      tf.keras.layers.Dense(num_of_classes, activation = \"softmax\", name=\"Output_layer\")\n",
        "  ])\n",
        "\n",
        "  return model"
      ],
      "metadata": {
        "id": "jfJsKAupsaKk"
      },
      "execution_count": 8,
      "outputs": []
    },
    {
      "cell_type": "code",
      "source": [
        "## Create the resnet tensorflow hub model feature_extraction first\n",
        "\n",
        "resnet_model = create_model(resnet_url,num_of_classes=train_data_10_percent.num_classes)"
      ],
      "metadata": {
        "id": "_LmIlwEgvVZQ"
      },
      "execution_count": 9,
      "outputs": []
    },
    {
      "cell_type": "code",
      "source": [
        "resnet_model.summary()"
      ],
      "metadata": {
        "colab": {
          "base_uri": "https://localhost:8080/"
        },
        "id": "CwhMnqN0vrg7",
        "outputId": "4a3830c2-34a1-403f-c4eb-df60c6f40990"
      },
      "execution_count": 10,
      "outputs": [
        {
          "output_type": "stream",
          "name": "stdout",
          "text": [
            "Model: \"sequential\"\n",
            "_________________________________________________________________\n",
            " Layer (type)                Output Shape              Param #   \n",
            "=================================================================\n",
            " feature_extraction_layer (K  (None, 2048)             23564800  \n",
            " erasLayer)                                                      \n",
            "                                                                 \n",
            " Output_layer (Dense)        (None, 10)                20490     \n",
            "                                                                 \n",
            "=================================================================\n",
            "Total params: 23,585,290\n",
            "Trainable params: 20,490\n",
            "Non-trainable params: 23,564,800\n",
            "_________________________________________________________________\n"
          ]
        }
      ]
    },
    {
      "cell_type": "code",
      "source": [
        "## compiling the model\n",
        "resnet_model.compile(loss = tf.keras.losses.categorical_crossentropy,\n",
        "                     optimizer = tf.keras.optimizers.Adam(),\n",
        "                     metrics = ['accuracy'])"
      ],
      "metadata": {
        "id": "wlATK3CUwEdr"
      },
      "execution_count": 11,
      "outputs": []
    },
    {
      "cell_type": "code",
      "source": [
        "## fitting the model on training data\n",
        "history_resnet = resnet_model.fit(train_data_10_percent, epochs = 5, \n",
        "                                  steps_per_epoch=len(train_data_10_percent),\n",
        "                                  validation_data = test_data_10_percent, \n",
        "                                  validation_steps = len(test_data_10_percent),\n",
        "                                  callbacks = [create_tensorboard_callback(dir_name = \"tensorboard_hub\", experiment_name=\"Resnet50V2\")])"
      ],
      "metadata": {
        "colab": {
          "base_uri": "https://localhost:8080/"
        },
        "id": "rwHVEyHlwj97",
        "outputId": "81da4c0c-a9a9-4f1a-945f-6ba3338d8d24"
      },
      "execution_count": 13,
      "outputs": [
        {
          "output_type": "stream",
          "name": "stdout",
          "text": [
            "Saving the tensorboard log files to: tensorboard_hub/Resnet50V2/20220929-10&M48\n",
            "Epoch 1/5\n",
            "24/24 [==============================] - 2432s 104s/step - loss: 1.9656 - accuracy: 0.3493 - val_loss: 1.2014 - val_accuracy: 0.6268\n",
            "Epoch 2/5\n",
            "24/24 [==============================] - 19s 820ms/step - loss: 0.9044 - accuracy: 0.7200 - val_loss: 0.8607 - val_accuracy: 0.7296\n",
            "Epoch 3/5\n",
            "24/24 [==============================] - 19s 824ms/step - loss: 0.6252 - accuracy: 0.8187 - val_loss: 0.7773 - val_accuracy: 0.7440\n",
            "Epoch 4/5\n",
            "24/24 [==============================] - 19s 827ms/step - loss: 0.4896 - accuracy: 0.8680 - val_loss: 0.7005 - val_accuracy: 0.7696\n",
            "Epoch 5/5\n",
            "24/24 [==============================] - 19s 829ms/step - loss: 0.3814 - accuracy: 0.9160 - val_loss: 0.6866 - val_accuracy: 0.7764\n"
          ]
        }
      ]
    },
    {
      "cell_type": "markdown",
      "source": [
        "## !Wow we saw that using transfer learning with just 75 images of each class and we can see the huge difference in the validation accuracy compared to model creating from scratch.\n",
        "\n",
        "### Here we have used the transfer learning in the form of feature extractor which means we didn't do changes in any of the layers, we just changed the output layer becuase resnet50V2 was trained for 1000 classes, and we needed only 10 classes."
      ],
      "metadata": {
        "id": "aywEqPo99Gq_"
      }
    },
    {
      "cell_type": "code",
      "source": [
        "### Let's create a function for plotting the loss curve\n",
        "import matplotlib.pyplot as plt\n",
        "\n",
        "def plot_loss_curves(history):\n",
        "    \"\"\"\n",
        "    Returns separate loss curves for training and validation losses.\n",
        "    \n",
        "    Args:\n",
        "        history: Tensorflow history object\n",
        "        \n",
        "    Returns:\n",
        "        plots of training and validtion loss and accuracy metrics\n",
        "    \"\"\"\n",
        "    loss = history.history[\"loss\"]\n",
        "    val_loss = history.history[\"val_loss\"]\n",
        "    \n",
        "    accuracy = history.history[\"accuracy\"]\n",
        "    val_accuracy = history.history[\"val_accuracy\"]\n",
        "    \n",
        "    epochs = range(len(history.history[\"loss\"]))\n",
        "    \n",
        "    ## plot the loss\n",
        "    plt.figure()\n",
        "    plt.plot(epochs, loss, label = \"training loss\")\n",
        "    plt.plot(epochs, val_loss, label = \"validaiton loss\")\n",
        "    plt.title(\"Loss\")\n",
        "    plt.xlabel(\"Epochs\")\n",
        "    plt.legend()\n",
        "    \n",
        "    ## Plot the accuracy\n",
        "    plt.figure()\n",
        "    plt.plot(epochs, accuracy, label=\"training accuracy\")\n",
        "    plt.plot(epochs, val_accuracy, label = \"validaiton accuracy\")\n",
        "    plt.title(\"Accuracy\")\n",
        "    plt.xlabel(\"Epochs\")\n",
        "    plt.legend();"
      ],
      "metadata": {
        "id": "nl8IO2_CxRYD"
      },
      "execution_count": 14,
      "outputs": []
    },
    {
      "cell_type": "code",
      "source": [
        "plot_loss_curves(history_resnet)"
      ],
      "metadata": {
        "colab": {
          "base_uri": "https://localhost:8080/",
          "height": 573
        },
        "id": "fGUo7xUs7KCY",
        "outputId": "530931b2-9265-4852-bc72-b1964fb69abb"
      },
      "execution_count": 15,
      "outputs": [
        {
          "output_type": "display_data",
          "data": {
            "text/plain": [
              "<Figure size 432x288 with 1 Axes>"
            ],
            "image/png": "[encoded data removed]"
          },
          "metadata": {
            "needs_background": "light"
          }
        },
        {
          "output_type": "display_data",
          "data": {
            "text/plain": [
              "<Figure size 432x288 with 1 Axes>"
            ],
            "image/png": "[encoded data removed]"
          },
          "metadata": {
            "needs_background": "light"
          }
        }
      ]
    },
    {
      "cell_type": "code",
      "source": [],
      "metadata": {
        "id": "Mq3TVEgZ9Ksf"
      },
      "execution_count": null,
      "outputs": []
    },
    {
      "cell_type": "markdown",
      "source": [
        "### Now let's create a model using efficient net model and fit the data"
      ],
      "metadata": {
        "id": "KKhC78bT9LYv"
      }
    },
    {
      "cell_type": "code",
      "source": [
        "efficient_net_model = create_model(model_url=efficientnet_url)\n",
        "efficient_net_model.summary()"
      ],
      "metadata": {
        "colab": {
          "base_uri": "https://localhost:8080/"
        },
        "id": "e8a6dnwl7MHE",
        "outputId": "b99b7aa4-83a6-4800-a1c0-d00b409ea740"
      },
      "execution_count": 16,
      "outputs": [
        {
          "output_type": "stream",
          "name": "stdout",
          "text": [
            "Model: \"sequential_1\"\n",
            "_________________________________________________________________\n",
            " Layer (type)                Output Shape              Param #   \n",
            "=================================================================\n",
            " feature_extraction_layer (K  (None, 1280)             4049564   \n",
            " erasLayer)                                                      \n",
            "                                                                 \n",
            " Output_layer (Dense)        (None, 10)                12810     \n",
            "                                                                 \n",
            "=================================================================\n",
            "Total params: 4,062,374\n",
            "Trainable params: 12,810\n",
            "Non-trainable params: 4,049,564\n",
            "_________________________________________________________________\n"
          ]
        }
      ]
    },
    {
      "cell_type": "code",
      "source": [
        "efficient_net_model.compile(loss = tf.keras.losses.CategoricalCrossentropy(),\n",
        "                            optimizer = tf.keras.optimizers.Adam(),\n",
        "                            metrics = [\"accuracy\"])"
      ],
      "metadata": {
        "id": "aCJfpH597PHM"
      },
      "execution_count": 17,
      "outputs": []
    },
    {
      "cell_type": "code",
      "source": [
        "history_efficientNet = efficient_net_model.fit(train_data_10_percent,\n",
        "                                               epochs = 5,\n",
        "                                               steps_per_epoch=len(train_data_10_percent),\n",
        "                                               validation_data = test_data_10_percent,\n",
        "                                               validation_steps=len(test_data_10_percent),\n",
        "                                               callbacks=[create_tensorboard_callback(dir_name=\"tensorflow_hub\",\n",
        "                                                                                      experiment_name=\"Efficient_Net\")])"
      ],
      "metadata": {
        "colab": {
          "base_uri": "https://localhost:8080/"
        },
        "id": "f9zUndob7Qd3",
        "outputId": "a1382a95-c9ef-40da-dc7a-1d98d4b666ac"
      },
      "execution_count": 18,
      "outputs": [
        {
          "output_type": "stream",
          "name": "stdout",
          "text": [
            "Saving the tensorboard log files to: tensorflow_hub/Efficient_Net/20220929-11&M26\n",
            "Epoch 1/5\n",
            "24/24 [==============================] - 33s 1s/step - loss: 1.8209 - accuracy: 0.4307 - val_loss: 1.2718 - val_accuracy: 0.7304\n",
            "Epoch 2/5\n",
            "24/24 [==============================] - 19s 826ms/step - loss: 1.0423 - accuracy: 0.7733 - val_loss: 0.8550 - val_accuracy: 0.8160\n",
            "Epoch 3/5\n",
            "24/24 [==============================] - 19s 812ms/step - loss: 0.7522 - accuracy: 0.8387 - val_loss: 0.6934 - val_accuracy: 0.8480\n",
            "Epoch 4/5\n",
            "24/24 [==============================] - 19s 802ms/step - loss: 0.6082 - accuracy: 0.8680 - val_loss: 0.6108 - val_accuracy: 0.8560\n",
            "Epoch 5/5\n",
            "24/24 [==============================] - 19s 816ms/step - loss: 0.5106 - accuracy: 0.8960 - val_loss: 0.5533 - val_accuracy: 0.8668\n"
          ]
        }
      ]
    },
    {
      "cell_type": "markdown",
      "source": [
        "### Looks like Efficient net is working better than the Resnet. To find more read the documentation of Efficient net"
      ],
      "metadata": {
        "id": "sJZapTPZ9Qvc"
      }
    },
    {
      "cell_type": "code",
      "source": [
        "plot_loss_curves(history_efficientNet)"
      ],
      "metadata": {
        "colab": {
          "base_uri": "https://localhost:8080/",
          "height": 573
        },
        "id": "yMFDI3CO7R96",
        "outputId": "07c155f3-87ee-4f42-8fc3-b4c3d69d778d"
      },
      "execution_count": 19,
      "outputs": [
        {
          "output_type": "display_data",
          "data": {
            "text/plain": [
              "<Figure size 432x288 with 1 Axes>"
            ],
            "image/png": "[encoded data removed]"
          },
          "metadata": {
            "needs_background": "light"
          }
        },
        {
          "output_type": "display_data",
          "data": {
            "text/plain": [
              "<Figure size 432x288 with 1 Axes>"
            ],
            "image/png": "[encoded data removed]"
          },
          "metadata": {
            "needs_background": "light"
          }
        }
      ]
    },
    {
      "cell_type": "markdown",
      "source": [
        "## Different types of transfer learning\n",
        "* **As Is** Here we use the model as it is and don't do any changes. Eg-> Using Imagenet model of 101 classes for our 101 classes.\n",
        "* **Feature extraction** Here we just change the output layer of the existing model. That's why we get all the features and we amend the output as per our classes/requirement. Eg-> using Imagenet model of 101 classes for our 10 classes.\n",
        "* **Fine tuning** Here, we unfreeze some of the pretrained layers, and train them again, we can even introduce more layers."
      ],
      "metadata": {
        "id": "rlqrz9mw9T2M"
      }
    },
    {
      "cell_type": "code",
      "source": [],
      "metadata": {
        "id": "0VOTymV99Trv"
      },
      "execution_count": null,
      "outputs": []
    },
    {
      "cell_type": "markdown",
      "source": [
        "## Comparing our models results using TensorBoard.\n",
        "\n",
        "#### Remember that uploaded data on tensorboard.dev is available on public basis so please be ware before uploading."
      ],
      "metadata": {
        "id": "kk0aabSI9Wa_"
      }
    },
    {
      "cell_type": "code",
      "source": [
        "## Uploading to tensorboard.dev\n",
        "!tensorboard dev upload --logdir ./tensorflow_hub/ \\\n",
        "    --name \"EfficientNetB0 vs Resnet50V2\" \\\n",
        "    --description \"comparing two different models for transfer learning\" \\\n",
        "    --one_shot"
      ],
      "metadata": {
        "colab": {
          "base_uri": "https://localhost:8080/"
        },
        "id": "4C_eiF1W7ThC",
        "outputId": "064f5b77-3c8d-4153-9bde-b20452c35be9"
      },
      "execution_count": 20,
      "outputs": [
        {
          "output_type": "stream",
          "name": "stdout",
          "text": [
            "\n",
            "***** TensorBoard Uploader *****\n",
            "\n",
            "This will upload your TensorBoard logs to https://tensorboard.dev/ from\n",
            "the following directory:\n",
            "\n",
            "./tensorflow_hub/\n",
            "\n",
            "This TensorBoard will be visible to everyone. Do not upload sensitive\n",
            "data.\n",
            "\n",
            "Your use of this service is subject to Google's Terms of Service\n",
            "<https://policies.google.com/terms> and Privacy Policy\n",
            "<https://policies.google.com/privacy>, and TensorBoard.dev's Terms of Service\n",
            "<https://tensorboard.dev/policy/terms/>.\n",
            "\n",
            "This notice will not be shown again while you are logged into the uploader.\n",
            "To log out, run `tensorboard dev auth revoke`.\n",
            "\n",
            "Continue? (yes/NO) yes\n",
            "\n",
            "Please visit this URL to authorize this application: https://accounts.google.com/o/oauth2/auth?response_type=code&client_id=373649185512-8v619h5kft38l4456nm2dj4ubeqsrvh6.apps.googleusercontent.com&redirect_uri=urn%3Aietf%3Awg%3Aoauth%3A2.0%3Aoob&scope=openid+https%3A%2F%2Fwww.googleapis.com%2Fauth%2Fuserinfo.email&state=KNjXDdQaSwAPat7xW7svqnsaPQS2DD&prompt=consent&access_type=offline\n",
            "Enter the authorization code: 4/1ARtbsJroT2yJfrCh2U9anwZkV3A9xRGvnfm4L8VZUYl7bjtB28uhbBCZ5ho\n",
            "\n",
            "\n",
            "New experiment created. View your TensorBoard at: https://tensorboard.dev/experiment/812K6cK2QbeaxnvA8CEv1w/\n",
            "\n",
            "\u001b[1m[2022-09-29T11:10:35]\u001b[0m Started scanning logdir.\n",
            "\u001b[1m[2022-09-29T11:10:38]\u001b[0m Total uploaded: 30 scalars, 0 tensors, 1 binary objects (3.9 MB)\n",
            "\u001b[1m[2022-09-29T11:10:38]\u001b[0m Done scanning logdir.\n",
            "\n",
            "\n",
            "Done. View your TensorBoard at https://tensorboard.dev/experiment/812K6cK2QbeaxnvA8CEv1w/\n"
          ]
        }
      ]
    },
    {
      "cell_type": "code",
      "source": [
        "!tensorboard dev list"
      ],
      "metadata": {
        "colab": {
          "base_uri": "https://localhost:8080/"
        },
        "id": "t_uuEtw-7XXI",
        "outputId": "bd872b93-ccdb-465b-9293-b0eb2d1b351e"
      },
      "execution_count": 21,
      "outputs": [
        {
          "output_type": "stream",
          "name": "stdout",
          "text": [
            "https://tensorboard.dev/experiment/812K6cK2QbeaxnvA8CEv1w/\n",
            "\tName                 EfficientNetB0 vs Resnet50V2\n",
            "\tDescription          comparing two different models for transfer learning\n",
            "\tId                   812K6cK2QbeaxnvA8CEv1w\n",
            "\tCreated              2022-09-29 11:10:35 (5 minutes ago)\n",
            "\tUpdated              2022-09-29 11:10:38 (5 minutes ago)\n",
            "\tRuns                 2\n",
            "\tTags                 5\n",
            "\tScalars              30\n",
            "\tTensor bytes         0\n",
            "\tBinary object bytes  4074964\n",
            "Total: 1 experiment(s)\n"
          ]
        }
      ]
    },
    {
      "cell_type": "code",
      "source": [],
      "metadata": {
        "id": "a5mKcNp19dK7"
      },
      "execution_count": null,
      "outputs": []
    }
  ]
}