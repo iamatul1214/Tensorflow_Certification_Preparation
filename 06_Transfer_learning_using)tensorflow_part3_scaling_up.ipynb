{
  "nbformat": 4,
  "nbformat_minor": 0,
  "metadata": {
    "colab": {
      "provenance": [],
      "mount_file_id": "16_Dn_NatcrMgbcbZroehEhQR-E9mw3Zb",
      "authorship_tag": "ABX9TyNpsBUjDDfFpFw6Ix82zV/s",
      "include_colab_link": true
    },
    "kernelspec": {
      "name": "python3",
      "display_name": "Python 3"
    },
    "language_info": {
      "name": "python"
    }
  },
  "cells": [
    {
      "cell_type": "markdown",
      "metadata": {
        "id": "view-in-github",
        "colab_type": "text"
      },
      "source": [
        "<a href=\"https://colab.research.google.com/github/iamatul1214/Tensorflow_Certification_Preparation/blob/main/06_Transfer_learning_using)tensorflow_part3_scaling_up.ipynb\" target=\"_parent\"><img src=\"https://colab.research.google.com/assets/colab-badge.svg\" alt=\"Open In Colab\"/></a>"
      ]
    },
    {
      "cell_type": "markdown",
      "source": [
        "## Till now we saw that feature extraction and Fine tuning transfer learning has worked nicely, now we will try to implement same on food101 dataset of 10% training data with 101 food classes."
      ],
      "metadata": {
        "id": "4eLTShLKilYl"
      }
    },
    {
      "cell_type": "code",
      "execution_count": 1,
      "metadata": {
        "colab": {
          "base_uri": "https://localhost:8080/"
        },
        "id": "Q4k959XpiYen",
        "outputId": "ea55efea-2744-4791-a3a8-85f2a91c684f"
      },
      "outputs": [
        {
          "output_type": "stream",
          "name": "stdout",
          "text": [
            "/content\n",
            "/content/drive/MyDrive/Tensorflow certifications work\n"
          ]
        }
      ],
      "source": [
        "import os\n",
        "Root = \"/content/drive/MyDrive/Tensorflow certifications work\"\n",
        "!pwd\n",
        "os.chdir(Root)\n",
        "!pwd"
      ]
    },
    {
      "cell_type": "markdown",
      "source": [
        "## installing the helper functions file"
      ],
      "metadata": {
        "id": "zDErUZbijPnc"
      }
    },
    {
      "cell_type": "code",
      "source": [
        "try:\n",
        "  if os.path.exists(\"Helper.py\"):\n",
        "    print(\"Helper file already exists..skipping download\")\n",
        "  else:\n",
        "    !wget https://raw.githubusercontent.com/iamatul1214/Tensorflow_Certification_Preparation/main/Helper.py\n",
        "    print(\"downloaded Helper.py\")\n",
        "except Exception as e:\n",
        "  print(e)"
      ],
      "metadata": {
        "colab": {
          "base_uri": "https://localhost:8080/"
        },
        "id": "NSqlPgdKjJWn",
        "outputId": "1c9742b4-61d3-4211-feef-93e76741f0c9"
      },
      "execution_count": 2,
      "outputs": [
        {
          "output_type": "stream",
          "name": "stdout",
          "text": [
            "Helper file already exists..skipping download\n"
          ]
        }
      ]
    },
    {
      "cell_type": "code",
      "source": [
        "## Downloading the dataset\n",
        "from Helper import unzip_data\n",
        "try:\n",
        "  if os.path.exists(\"101_food_classes_10_percent\"):\n",
        "    print(\"data already exists...hence, skipping downloading....\")\n",
        "  else:\n",
        "    !wget https://storage.googleapis.com/ztm_tf_course/food_vision/101_food_classes_10_percent.zip\n",
        "    unzip_data(\"101_food_classes_10_percent.zip\")\n",
        "    print(\"unzipping the data\")\n",
        "except Exception as e:\n",
        "  print(e)\n"
      ],
      "metadata": {
        "colab": {
          "base_uri": "https://localhost:8080/"
        },
        "id": "9ZiD8dC-juRj",
        "outputId": "5f043ecd-2f07-4896-8197-a487c738d798"
      },
      "execution_count": 3,
      "outputs": [
        {
          "output_type": "stream",
          "name": "stdout",
          "text": [
            "--2022-10-29 11:46:46--  https://storage.googleapis.com/ztm_tf_course/food_vision/101_food_classes_10_percent.zip\n",
            "Resolving storage.googleapis.com (storage.googleapis.com)... 108.177.11.128, 108.177.13.128, 74.125.26.128, ...\n",
            "Connecting to storage.googleapis.com (storage.googleapis.com)|108.177.11.128|:443... connected.\n",
            "HTTP request sent, awaiting response... 200 OK\n",
            "Length: 1625420029 (1.5G) [application/zip]\n",
            "Saving to: ‘101_food_classes_10_percent.zip’\n",
            "\n",
            "101_food_classes_10 100%[===================>]   1.51G  68.6MB/s    in 23s     \n",
            "\n",
            "2022-10-29 11:47:09 (68.2 MB/s) - ‘101_food_classes_10_percent.zip’ saved [1625420029/1625420029]\n",
            "\n",
            "unzipping the data\n"
          ]
        }
      ]
    },
    {
      "cell_type": "code",
      "source": [
        "## Setting up the data loaders\n",
        "import tensorflow as tf\n",
        "train_dir = \"101_food_classes_10_percent/train\"\n",
        "test_dir = \"101_food_classes_10_percent/test\"\n",
        "IMG_SIZE = (224,224)\n",
        "\n",
        "full_classes_10_percent_train_data = tf.keras.preprocessing.image_dataset_from_directory(train_dir,\n",
        "                                                                                         label_mode = 'categorical',\n",
        "                                                                                         image_size = IMG_SIZE)\n",
        "\n",
        "test_data = tf.keras.preprocessing.image_dataset_from_directory(test_dir,\n",
        "                                                                label_mode = \"categorical\",\n",
        "                                                                image_size = IMG_SIZE,\n",
        "                                                                shuffle = False)"
      ],
      "metadata": {
        "colab": {
          "base_uri": "https://localhost:8080/"
        },
        "id": "lLbDJhSTkNMe",
        "outputId": "9760c032-6ab9-450e-939f-2d86eceb8018"
      },
      "execution_count": 5,
      "outputs": [
        {
          "output_type": "stream",
          "name": "stdout",
          "text": [
            "Found 7575 files belonging to 101 classes.\n",
            "Found 25250 files belonging to 101 classes.\n"
          ]
        }
      ]
    },
    {
      "cell_type": "markdown",
      "source": [
        "## train a big dog model with transfer learning on 10% of the 101 food classes\n",
        "\n",
        "Here are the steps we will follow-\n",
        "* Create a ModelCheckpoint callback\n",
        "* Create a data augmentation layer to build a data augmentation right into the moddel\n",
        "* BUild a headless(no top layers) functional EfficientNetB0 backboned-model ( we will create our own output layer) \n",
        "* compile our model\n",
        "* feature extract for 5 full passes( 5 epochs on the train dataset and validate on 15% of the test data, to save epoch time)"
      ],
      "metadata": {
        "id": "n0wy_cikmmOC"
      }
    },
    {
      "cell_type": "code",
      "source": [
        "## creating a checkpoint callback\n",
        "from Helper import create_tensorboard_callback\n",
        "checkpoint_path = \"101_classes_10_percent_data_model_checkpoint\"\n",
        "checkpoint_callback = tf.keras.callbacks.ModelCheckpoint(filepath=checkpoint_path,\n",
        "                                                         monitor = 'val_accuracy',\n",
        "                                                         save_best_only = True,\n",
        "                                                         save_weights_only = True)\n"
      ],
      "metadata": {
        "id": "CXdLxdfrkw79"
      },
      "execution_count": 6,
      "outputs": []
    },
    {
      "cell_type": "code",
      "source": [
        "## Data augmentation layer to incorporate right into the model\n",
        "from tensorflow.keras.layers.experimental import preprocessing\n",
        "\n",
        "## setup data augmentation\n",
        "data_augmentation = tf.keras.Sequential([\n",
        "    preprocessing.RandomFlip(\"horizontal\"),\n",
        "    preprocessing.RandomRotation(0.2),\n",
        "    preprocessing.RandomHeight(0.2),\n",
        "    preprocessing.RandomWidth(0.2),\n",
        "    preprocessing.RandomZoom(0.2),\n",
        "    # preprocessing.Rescaling(1/255.). ## not required for efficientNetB0 but for resnet50\n",
        "], name = \"Data_augmentataiton_layer\")\n"
      ],
      "metadata": {
        "id": "nGgEkQhineME"
      },
      "execution_count": 19,
      "outputs": []
    },
    {
      "cell_type": "code",
      "source": [],
      "metadata": {
        "id": "IPS772IUoKm1"
      },
      "execution_count": null,
      "outputs": []
    }
  ]
}