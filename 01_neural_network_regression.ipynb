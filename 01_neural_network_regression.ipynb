{
  "nbformat": 4,
  "nbformat_minor": 0,
  "metadata": {
    "colab": {
      "provenance": [],
      "authorship_tag": "ABX9TyMmJHKsGOhVFsZwySH/raEj",
      "include_colab_link": true
    },
    "kernelspec": {
      "name": "python3",
      "display_name": "Python 3"
    },
    "language_info": {
      "name": "python"
    }
  },
  "cells": [
    {
      "cell_type": "markdown",
      "metadata": {
        "id": "view-in-github",
        "colab_type": "text"
      },
      "source": [
        "<a href=\"https://colab.research.google.com/github/iamatul1214/Tensorflow_Certification_Preparation/blob/main/01_neural_network_regression.ipynb\" target=\"_parent\"><img src=\"https://colab.research.google.com/assets/colab-badge.svg\" alt=\"Open In Colab\"/></a>"
      ]
    },
    {
      "cell_type": "code",
      "execution_count": 1,
      "metadata": {
        "colab": {
          "base_uri": "https://localhost:8080/"
        },
        "id": "L3FBphyW2j_e",
        "outputId": "1c691ddd-3b31-4a52-c179-48f9555a036c"
      },
      "outputs": [
        {
          "output_type": "stream",
          "name": "stdout",
          "text": [
            "2.8.2\n"
          ]
        }
      ],
      "source": [
        "import tensorflow as tf\n",
        "print(tf.__version__)"
      ]
    },
    {
      "cell_type": "markdown",
      "source": [
        "### Let's try to create some synthetic data here\n"
      ],
      "metadata": {
        "id": "-LwwQ63q4EZi"
      }
    },
    {
      "cell_type": "code",
      "source": [
        "import numpy as np\n",
        "import matplotlib.pyplot as plt\n",
        "\n",
        "# creating features\n",
        "x = np.array([-7.0,-4.0,-1.0,2,5,8,11,14])\n",
        "\n",
        "# creating labels\n",
        "y = np.array([3.0,6.0,9.0,12.0,15.0,18.0,21.0,24.0])\n",
        "\n",
        "#visualize it\n",
        "plt.scatter(x,y)"
      ],
      "metadata": {
        "colab": {
          "base_uri": "https://localhost:8080/",
          "height": 286
        },
        "id": "1i4ci54F3oVG",
        "outputId": "c3f9bc7b-3fed-45bb-e4b8-38b77a7b77ed"
      },
      "execution_count": 2,
      "outputs": [
        {
          "output_type": "execute_result",
          "data": {
            "text/plain": [
              "<matplotlib.collections.PathCollection at 0x7fb9b8f43310>"
            ]
          },
          "metadata": {},
          "execution_count": 2
        },
        {
          "output_type": "display_data",
          "data": {
            "text/plain": [
              "<Figure size 432x288 with 1 Axes>"
            ],
            "image/png": "[encoded data removed]"
          },
          "metadata": {
            "needs_background": "light"
          }
        }
      ]
    },
    {
      "cell_type": "code",
      "source": [
        "## converting the arrays into tensors\n",
        "x_tensor = tf.constant(x)\n",
        "y_tensor = tf.constant(y)\n",
        "x_tensor,y_tensor"
      ],
      "metadata": {
        "colab": {
          "base_uri": "https://localhost:8080/"
        },
        "id": "YEfKCgMl4w7L",
        "outputId": "40d51b22-cc62-40b9-9720-d347f0feb26a"
      },
      "execution_count": 4,
      "outputs": [
        {
          "output_type": "execute_result",
          "data": {
            "text/plain": [
              "(<tf.Tensor: shape=(8,), dtype=float64, numpy=array([-7., -4., -1.,  2.,  5.,  8., 11., 14.])>,\n",
              " <tf.Tensor: shape=(8,), dtype=float64, numpy=array([ 3.,  6.,  9., 12., 15., 18., 21., 24.])>)"
            ]
          },
          "metadata": {},
          "execution_count": 4
        }
      ]
    },
    {
      "cell_type": "markdown",
      "source": [
        "### Steps in modeling with tensorflow\n",
        "1. Creating a model- define the input, output and hidden layers.\n",
        "2. Compiling a model- Define the loss function which tells our model how wrong it is. Optimizer tells your model how to improve the pattern it is leaning and evaluation metrics.\n",
        "3. Fitting a model: training the model. "
      ],
      "metadata": {
        "id": "-miZA18R7IJM"
      }
    },
    {
      "cell_type": "code",
      "source": [
        "## set random seed\n",
        "tf.random.set_seed(42)\n",
        "\n",
        "## 1. create a model using sequential API\n",
        "model = tf.keras.Sequential([\n",
        "    tf.keras.layers.Dense(1)   ## as we will only pass 1\n",
        "])\n",
        "\n",
        "## 2. Compile the model\n",
        "model.compile(loss=tf.keras.losses.mae,\n",
        "              optimizer = tf.keras.optimizers.SGD(),\n",
        "              metrics = ['mae'])\n",
        "\n",
        "## 3. Fitting the model\n",
        "model.fit(tf.expand_dims(x,axis=1),y, epochs= 5)  ## expanding the dimensions of input so that it can be converted into batches"
      ],
      "metadata": {
        "colab": {
          "base_uri": "https://localhost:8080/"
        },
        "id": "H09huLEo8Q-V",
        "outputId": "08eb353d-6aa9-445b-fdc2-7a95776e71d5"
      },
      "execution_count": 24,
      "outputs": [
        {
          "output_type": "stream",
          "name": "stdout",
          "text": [
            "Epoch 1/5\n",
            "1/1 [==============================] - 0s 234ms/step - loss: 11.5048 - mae: 11.5048\n",
            "Epoch 2/5\n",
            "1/1 [==============================] - 0s 11ms/step - loss: 11.3723 - mae: 11.3723\n",
            "Epoch 3/5\n",
            "1/1 [==============================] - 0s 7ms/step - loss: 11.2398 - mae: 11.2398\n",
            "Epoch 4/5\n",
            "1/1 [==============================] - 0s 9ms/step - loss: 11.1073 - mae: 11.1073\n",
            "Epoch 5/5\n",
            "1/1 [==============================] - 0s 9ms/step - loss: 10.9748 - mae: 10.9748\n"
          ]
        },
        {
          "output_type": "execute_result",
          "data": {
            "text/plain": [
              "<keras.callbacks.History at 0x7fb9b1d8a790>"
            ]
          },
          "metadata": {},
          "execution_count": 24
        }
      ]
    },
    {
      "cell_type": "markdown",
      "source": [
        "## Above we used loss and metrics to be same and that's why we can see loss: and mae: values to be same for every epoch. Let's try to predict and check ."
      ],
      "metadata": {
        "id": "J1kwPBQsAdrI"
      }
    },
    {
      "cell_type": "code",
      "source": [
        "tf.expand_dims(x,axis=1)"
      ],
      "metadata": {
        "colab": {
          "base_uri": "https://localhost:8080/"
        },
        "id": "kzS9uPobCG9z",
        "outputId": "7ae59e3a-45a8-4277-be56-557bfe57d263"
      },
      "execution_count": 21,
      "outputs": [
        {
          "output_type": "execute_result",
          "data": {
            "text/plain": [
              "<tf.Tensor: shape=(8, 1), dtype=float64, numpy=\n",
              "array([[-7.],\n",
              "       [-4.],\n",
              "       [-1.],\n",
              "       [ 2.],\n",
              "       [ 5.],\n",
              "       [ 8.],\n",
              "       [11.],\n",
              "       [14.]])>"
            ]
          },
          "metadata": {},
          "execution_count": 21
        }
      ]
    },
    {
      "cell_type": "code",
      "source": [
        "model.predict([17.0])"
      ],
      "metadata": {
        "colab": {
          "base_uri": "https://localhost:8080/"
        },
        "id": "pfQfF2kfAN-5",
        "outputId": "9dc46579-f7bd-4268-adbd-55865ef5f929"
      },
      "execution_count": 25,
      "outputs": [
        {
          "output_type": "execute_result",
          "data": {
            "text/plain": [
              "array([[12.716021]], dtype=float32)"
            ]
          },
          "metadata": {},
          "execution_count": 25
        }
      ]
    },
    {
      "cell_type": "markdown",
      "source": [
        "## Another way of creating models\n"
      ],
      "metadata": {
        "id": "bIc2xZMCCs5i"
      }
    },
    {
      "cell_type": "code",
      "source": [
        "## set random seed\n",
        "tf.random.set_seed(42)\n",
        "\n",
        "## 1. create a model using sequential API\n",
        "model = tf.keras.Sequential()\n",
        "model.add(tf.keras.layers.Dense(1))\n",
        "\n",
        "## 2. Compile the model\n",
        "model.compile(loss=tf.keras.losses.mae,\n",
        "              optimizer = tf.keras.optimizers.SGD(),\n",
        "              metrics = ['mae'])\n",
        "\n",
        "## 3. Fitting the model\n",
        "model.fit(tf.expand_dims(x,axis=1),y, epochs= 5)  ## expanding the dimensions of input so that it can be converted into batches"
      ],
      "metadata": {
        "colab": {
          "base_uri": "https://localhost:8080/"
        },
        "id": "_vc5k631CsPd",
        "outputId": "c7e7c252-a828-4d07-ba51-25483031a7e7"
      },
      "execution_count": 26,
      "outputs": [
        {
          "output_type": "stream",
          "name": "stdout",
          "text": [
            "Epoch 1/5\n",
            "1/1 [==============================] - 0s 201ms/step - loss: 11.5048 - mae: 11.5048\n",
            "Epoch 2/5\n",
            "1/1 [==============================] - 0s 5ms/step - loss: 11.3723 - mae: 11.3723\n",
            "Epoch 3/5\n",
            "1/1 [==============================] - 0s 3ms/step - loss: 11.2398 - mae: 11.2398\n",
            "Epoch 4/5\n",
            "1/1 [==============================] - 0s 3ms/step - loss: 11.1073 - mae: 11.1073\n",
            "Epoch 5/5\n",
            "1/1 [==============================] - 0s 3ms/step - loss: 10.9748 - mae: 10.9748\n"
          ]
        },
        {
          "output_type": "execute_result",
          "data": {
            "text/plain": [
              "<keras.callbacks.History at 0x7fb9b192b050>"
            ]
          },
          "metadata": {},
          "execution_count": 26
        }
      ]
    },
    {
      "cell_type": "markdown",
      "source": [
        "## As we observed up that prediction is not that good, Let's see now how can we increase the prediction accuracy"
      ],
      "metadata": {
        "id": "L0hvLkD3CEu6"
      }
    },
    {
      "cell_type": "markdown",
      "source": [
        "### Steps we can do to improve our model\n",
        "1. **while creating a model** - We may add more layers, increase the neurons in hidden layers, change the activation function\n",
        "2. **Compiling the model** - Here we can change the optimization function or the **learning rate** of it.\n",
        "3. **Fitting a model** - Here we can fit a model for more epochs, or more data examples to learn"
      ],
      "metadata": {
        "id": "m4ZE9iX8D5VL"
      }
    },
    {
      "cell_type": "code",
      "source": [
        "## creating another version of the model\n",
        "model = tf.keras.Sequential([\n",
        "    tf.keras.layers.Dense(1)\n",
        "])\n",
        "\n",
        "## compiling\n",
        "model.compile(loss = tf.keras.losses.mae,\n",
        "              optimizer = tf.keras.optimizers.SGD(),\n",
        "              metrics = ['mae'])\n",
        "\n",
        "## fitting the model on 100 epochs\n",
        "\n",
        "model.fit(tf.expand_dims(x, axis=1),y, epochs=100)"
      ],
      "metadata": {
        "colab": {
          "base_uri": "https://localhost:8080/"
        },
        "id": "8WLY0sHLB8SK",
        "outputId": "537f61fd-de11-41a5-9a96-02ee71be3998"
      },
      "execution_count": 31,
      "outputs": [
        {
          "output_type": "stream",
          "name": "stdout",
          "text": [
            "Epoch 1/100\n",
            "1/1 [==============================] - 0s 266ms/step - loss: 10.5736 - mae: 10.5736\n",
            "Epoch 2/100\n",
            "1/1 [==============================] - 0s 14ms/step - loss: 10.4411 - mae: 10.4411\n",
            "Epoch 3/100\n",
            "1/1 [==============================] - 0s 14ms/step - loss: 10.3086 - mae: 10.3086\n",
            "Epoch 4/100\n",
            "1/1 [==============================] - 0s 13ms/step - loss: 10.1761 - mae: 10.1761\n",
            "Epoch 5/100\n",
            "1/1 [==============================] - 0s 11ms/step - loss: 10.0436 - mae: 10.0436\n",
            "Epoch 6/100\n",
            "1/1 [==============================] - 0s 15ms/step - loss: 9.9111 - mae: 9.9111\n",
            "Epoch 7/100\n",
            "1/1 [==============================] - 0s 18ms/step - loss: 9.7786 - mae: 9.7786\n",
            "Epoch 8/100\n",
            "1/1 [==============================] - 0s 10ms/step - loss: 9.6461 - mae: 9.6461\n",
            "Epoch 9/100\n",
            "1/1 [==============================] - 0s 14ms/step - loss: 9.5136 - mae: 9.5136\n",
            "Epoch 10/100\n",
            "1/1 [==============================] - 0s 15ms/step - loss: 9.3811 - mae: 9.3811\n",
            "Epoch 11/100\n",
            "1/1 [==============================] - 0s 7ms/step - loss: 9.2486 - mae: 9.2486\n",
            "Epoch 12/100\n",
            "1/1 [==============================] - 0s 7ms/step - loss: 9.1161 - mae: 9.1161\n",
            "Epoch 13/100\n",
            "1/1 [==============================] - 0s 9ms/step - loss: 8.9836 - mae: 8.9836\n",
            "Epoch 14/100\n",
            "1/1 [==============================] - 0s 16ms/step - loss: 8.8511 - mae: 8.8511\n",
            "Epoch 15/100\n",
            "1/1 [==============================] - 0s 29ms/step - loss: 8.7186 - mae: 8.7186\n",
            "Epoch 16/100\n",
            "1/1 [==============================] - 0s 24ms/step - loss: 8.5861 - mae: 8.5861\n",
            "Epoch 17/100\n",
            "1/1 [==============================] - 0s 6ms/step - loss: 8.4536 - mae: 8.4536\n",
            "Epoch 18/100\n",
            "1/1 [==============================] - 0s 7ms/step - loss: 8.3211 - mae: 8.3211\n",
            "Epoch 19/100\n",
            "1/1 [==============================] - 0s 15ms/step - loss: 8.1886 - mae: 8.1886\n",
            "Epoch 20/100\n",
            "1/1 [==============================] - 0s 7ms/step - loss: 8.0561 - mae: 8.0561\n",
            "Epoch 21/100\n",
            "1/1 [==============================] - 0s 6ms/step - loss: 7.9236 - mae: 7.9236\n",
            "Epoch 22/100\n",
            "1/1 [==============================] - 0s 5ms/step - loss: 7.7911 - mae: 7.7911\n",
            "Epoch 23/100\n",
            "1/1 [==============================] - 0s 5ms/step - loss: 7.6586 - mae: 7.6586\n",
            "Epoch 24/100\n",
            "1/1 [==============================] - 0s 9ms/step - loss: 7.5261 - mae: 7.5261\n",
            "Epoch 25/100\n",
            "1/1 [==============================] - 0s 6ms/step - loss: 7.3936 - mae: 7.3936\n",
            "Epoch 26/100\n",
            "1/1 [==============================] - 0s 6ms/step - loss: 7.3125 - mae: 7.3125\n",
            "Epoch 27/100\n",
            "1/1 [==============================] - 0s 6ms/step - loss: 7.3069 - mae: 7.3069\n",
            "Epoch 28/100\n",
            "1/1 [==============================] - 0s 6ms/step - loss: 7.3012 - mae: 7.3012\n",
            "Epoch 29/100\n",
            "1/1 [==============================] - 0s 7ms/step - loss: 7.2956 - mae: 7.2956\n",
            "Epoch 30/100\n",
            "1/1 [==============================] - 0s 7ms/step - loss: 7.2900 - mae: 7.2900\n",
            "Epoch 31/100\n",
            "1/1 [==============================] - 0s 8ms/step - loss: 7.2844 - mae: 7.2844\n",
            "Epoch 32/100\n",
            "1/1 [==============================] - 0s 7ms/step - loss: 7.2787 - mae: 7.2787\n",
            "Epoch 33/100\n",
            "1/1 [==============================] - 0s 21ms/step - loss: 7.2731 - mae: 7.2731\n",
            "Epoch 34/100\n",
            "1/1 [==============================] - 0s 12ms/step - loss: 7.2675 - mae: 7.2675\n",
            "Epoch 35/100\n",
            "1/1 [==============================] - 0s 5ms/step - loss: 7.2619 - mae: 7.2619\n",
            "Epoch 36/100\n",
            "1/1 [==============================] - 0s 6ms/step - loss: 7.2562 - mae: 7.2562\n",
            "Epoch 37/100\n",
            "1/1 [==============================] - 0s 8ms/step - loss: 7.2506 - mae: 7.2506\n",
            "Epoch 38/100\n",
            "1/1 [==============================] - 0s 11ms/step - loss: 7.2450 - mae: 7.2450\n",
            "Epoch 39/100\n",
            "1/1 [==============================] - 0s 9ms/step - loss: 7.2394 - mae: 7.2394\n",
            "Epoch 40/100\n",
            "1/1 [==============================] - 0s 11ms/step - loss: 7.2337 - mae: 7.2337\n",
            "Epoch 41/100\n",
            "1/1 [==============================] - 0s 10ms/step - loss: 7.2281 - mae: 7.2281\n",
            "Epoch 42/100\n",
            "1/1 [==============================] - 0s 7ms/step - loss: 7.2225 - mae: 7.2225\n",
            "Epoch 43/100\n",
            "1/1 [==============================] - 0s 5ms/step - loss: 7.2169 - mae: 7.2169\n",
            "Epoch 44/100\n",
            "1/1 [==============================] - 0s 5ms/step - loss: 7.2112 - mae: 7.2112\n",
            "Epoch 45/100\n",
            "1/1 [==============================] - 0s 4ms/step - loss: 7.2056 - mae: 7.2056\n",
            "Epoch 46/100\n",
            "1/1 [==============================] - 0s 5ms/step - loss: 7.2000 - mae: 7.2000\n",
            "Epoch 47/100\n",
            "1/1 [==============================] - 0s 4ms/step - loss: 7.1944 - mae: 7.1944\n",
            "Epoch 48/100\n",
            "1/1 [==============================] - 0s 4ms/step - loss: 7.1887 - mae: 7.1887\n",
            "Epoch 49/100\n",
            "1/1 [==============================] - 0s 4ms/step - loss: 7.1831 - mae: 7.1831\n",
            "Epoch 50/100\n",
            "1/1 [==============================] - 0s 4ms/step - loss: 7.1775 - mae: 7.1775\n",
            "Epoch 51/100\n",
            "1/1 [==============================] - 0s 4ms/step - loss: 7.1719 - mae: 7.1719\n",
            "Epoch 52/100\n",
            "1/1 [==============================] - 0s 5ms/step - loss: 7.1663 - mae: 7.1663\n",
            "Epoch 53/100\n",
            "1/1 [==============================] - 0s 7ms/step - loss: 7.1606 - mae: 7.1606\n",
            "Epoch 54/100\n",
            "1/1 [==============================] - 0s 11ms/step - loss: 7.1550 - mae: 7.1550\n",
            "Epoch 55/100\n",
            "1/1 [==============================] - 0s 7ms/step - loss: 7.1494 - mae: 7.1494\n",
            "Epoch 56/100\n",
            "1/1 [==============================] - 0s 7ms/step - loss: 7.1438 - mae: 7.1438\n",
            "Epoch 57/100\n",
            "1/1 [==============================] - 0s 7ms/step - loss: 7.1381 - mae: 7.1381\n",
            "Epoch 58/100\n",
            "1/1 [==============================] - 0s 7ms/step - loss: 7.1325 - mae: 7.1325\n",
            "Epoch 59/100\n",
            "1/1 [==============================] - 0s 7ms/step - loss: 7.1269 - mae: 7.1269\n",
            "Epoch 60/100\n",
            "1/1 [==============================] - 0s 7ms/step - loss: 7.1213 - mae: 7.1213\n",
            "Epoch 61/100\n",
            "1/1 [==============================] - 0s 9ms/step - loss: 7.1156 - mae: 7.1156\n",
            "Epoch 62/100\n",
            "1/1 [==============================] - 0s 6ms/step - loss: 7.1100 - mae: 7.1100\n",
            "Epoch 63/100\n",
            "1/1 [==============================] - 0s 10ms/step - loss: 7.1044 - mae: 7.1044\n",
            "Epoch 64/100\n",
            "1/1 [==============================] - 0s 10ms/step - loss: 7.0988 - mae: 7.0988\n",
            "Epoch 65/100\n",
            "1/1 [==============================] - 0s 7ms/step - loss: 7.0931 - mae: 7.0931\n",
            "Epoch 66/100\n",
            "1/1 [==============================] - 0s 6ms/step - loss: 7.0875 - mae: 7.0875\n",
            "Epoch 67/100\n",
            "1/1 [==============================] - 0s 7ms/step - loss: 7.0819 - mae: 7.0819\n",
            "Epoch 68/100\n",
            "1/1 [==============================] - 0s 6ms/step - loss: 7.0763 - mae: 7.0763\n",
            "Epoch 69/100\n",
            "1/1 [==============================] - 0s 6ms/step - loss: 7.0706 - mae: 7.0706\n",
            "Epoch 70/100\n",
            "1/1 [==============================] - 0s 11ms/step - loss: 7.0650 - mae: 7.0650\n",
            "Epoch 71/100\n",
            "1/1 [==============================] - 0s 5ms/step - loss: 7.0594 - mae: 7.0594\n",
            "Epoch 72/100\n",
            "1/1 [==============================] - 0s 7ms/step - loss: 7.0538 - mae: 7.0538\n",
            "Epoch 73/100\n",
            "1/1 [==============================] - 0s 7ms/step - loss: 7.0481 - mae: 7.0481\n",
            "Epoch 74/100\n",
            "1/1 [==============================] - 0s 5ms/step - loss: 7.0425 - mae: 7.0425\n",
            "Epoch 75/100\n",
            "1/1 [==============================] - 0s 7ms/step - loss: 7.0369 - mae: 7.0369\n",
            "Epoch 76/100\n",
            "1/1 [==============================] - 0s 7ms/step - loss: 7.0312 - mae: 7.0312\n",
            "Epoch 77/100\n",
            "1/1 [==============================] - 0s 6ms/step - loss: 7.0256 - mae: 7.0256\n",
            "Epoch 78/100\n",
            "1/1 [==============================] - 0s 5ms/step - loss: 7.0200 - mae: 7.0200\n",
            "Epoch 79/100\n",
            "1/1 [==============================] - 0s 5ms/step - loss: 7.0144 - mae: 7.0144\n",
            "Epoch 80/100\n",
            "1/1 [==============================] - 0s 5ms/step - loss: 7.0087 - mae: 7.0087\n",
            "Epoch 81/100\n",
            "1/1 [==============================] - 0s 10ms/step - loss: 7.0031 - mae: 7.0031\n",
            "Epoch 82/100\n",
            "1/1 [==============================] - 0s 11ms/step - loss: 6.9975 - mae: 6.9975\n",
            "Epoch 83/100\n",
            "1/1 [==============================] - 0s 19ms/step - loss: 6.9919 - mae: 6.9919\n",
            "Epoch 84/100\n",
            "1/1 [==============================] - 0s 10ms/step - loss: 6.9862 - mae: 6.9862\n",
            "Epoch 85/100\n",
            "1/1 [==============================] - 0s 36ms/step - loss: 6.9806 - mae: 6.9806\n",
            "Epoch 86/100\n",
            "1/1 [==============================] - 0s 20ms/step - loss: 6.9750 - mae: 6.9750\n",
            "Epoch 87/100\n",
            "1/1 [==============================] - 0s 6ms/step - loss: 6.9694 - mae: 6.9694\n",
            "Epoch 88/100\n",
            "1/1 [==============================] - 0s 7ms/step - loss: 6.9637 - mae: 6.9637\n",
            "Epoch 89/100\n",
            "1/1 [==============================] - 0s 5ms/step - loss: 6.9581 - mae: 6.9581\n",
            "Epoch 90/100\n",
            "1/1 [==============================] - 0s 6ms/step - loss: 6.9525 - mae: 6.9525\n",
            "Epoch 91/100\n",
            "1/1 [==============================] - 0s 6ms/step - loss: 6.9469 - mae: 6.9469\n",
            "Epoch 92/100\n",
            "1/1 [==============================] - 0s 11ms/step - loss: 6.9413 - mae: 6.9413\n",
            "Epoch 93/100\n",
            "1/1 [==============================] - 0s 13ms/step - loss: 6.9356 - mae: 6.9356\n",
            "Epoch 94/100\n",
            "1/1 [==============================] - 0s 26ms/step - loss: 6.9300 - mae: 6.9300\n",
            "Epoch 95/100\n",
            "1/1 [==============================] - 0s 14ms/step - loss: 6.9244 - mae: 6.9244\n",
            "Epoch 96/100\n",
            "1/1 [==============================] - 0s 16ms/step - loss: 6.9188 - mae: 6.9188\n",
            "Epoch 97/100\n",
            "1/1 [==============================] - 0s 12ms/step - loss: 6.9131 - mae: 6.9131\n",
            "Epoch 98/100\n",
            "1/1 [==============================] - 0s 16ms/step - loss: 6.9075 - mae: 6.9075\n",
            "Epoch 99/100\n",
            "1/1 [==============================] - 0s 12ms/step - loss: 6.9019 - mae: 6.9019\n",
            "Epoch 100/100\n",
            "1/1 [==============================] - 0s 11ms/step - loss: 6.8963 - mae: 6.8963\n"
          ]
        },
        {
          "output_type": "execute_result",
          "data": {
            "text/plain": [
              "<keras.callbacks.History at 0x7fb9b17952d0>"
            ]
          },
          "metadata": {},
          "execution_count": 31
        }
      ]
    },
    {
      "cell_type": "code",
      "source": [
        "model.predict([17.0]) ## we can see that the output is somewhat closer than what we expect"
      ],
      "metadata": {
        "colab": {
          "base_uri": "https://localhost:8080/"
        },
        "id": "Y1w1DUv9BWGG",
        "outputId": "4ddf9fe4-5fa1-40b3-e217-a5529b0ec1a9"
      },
      "execution_count": 32,
      "outputs": [
        {
          "output_type": "execute_result",
          "data": {
            "text/plain": [
              "array([[29.901575]], dtype=float32)"
            ]
          },
          "metadata": {},
          "execution_count": 32
        }
      ]
    },
    {
      "cell_type": "code",
      "source": [
        "## Let's create another set of model with different configurations\n",
        "model = tf.keras.Sequential([\n",
        "    tf.keras.layers.Dense(5),\n",
        "    tf.keras.layers.Dense(3),\n",
        "    tf.keras.layers.Dense(1)\n",
        "])\n",
        "\n",
        "model.compile(loss=tf.keras.losses.mae,\n",
        "              optimizer = tf.keras.optimizers.SGD(),\n",
        "              metrics = ['mae'])\n",
        "\n",
        "model.fit(tf.expand_dims(x, axis=1),y, epochs=100)"
      ],
      "metadata": {
        "colab": {
          "base_uri": "https://localhost:8080/"
        },
        "id": "nOvhP7umPS77",
        "outputId": "5d3c256b-17e1-4dbd-bee8-9c54ae850491"
      },
      "execution_count": 34,
      "outputs": [
        {
          "output_type": "stream",
          "name": "stdout",
          "text": [
            "Epoch 1/100\n",
            "1/1 [==============================] - 0s 345ms/step - loss: 13.7714 - mae: 13.7714\n",
            "Epoch 2/100\n",
            "1/1 [==============================] - 0s 6ms/step - loss: 13.4899 - mae: 13.4899\n",
            "Epoch 3/100\n",
            "1/1 [==============================] - 0s 8ms/step - loss: 13.2094 - mae: 13.2094\n",
            "Epoch 4/100\n",
            "1/1 [==============================] - 0s 10ms/step - loss: 12.9254 - mae: 12.9254\n",
            "Epoch 5/100\n",
            "1/1 [==============================] - 0s 7ms/step - loss: 12.6335 - mae: 12.6335\n",
            "Epoch 6/100\n",
            "1/1 [==============================] - 0s 7ms/step - loss: 12.3289 - mae: 12.3289\n",
            "Epoch 7/100\n",
            "1/1 [==============================] - 0s 9ms/step - loss: 12.0067 - mae: 12.0067\n",
            "Epoch 8/100\n",
            "1/1 [==============================] - 0s 8ms/step - loss: 11.6613 - mae: 11.6613\n",
            "Epoch 9/100\n",
            "1/1 [==============================] - 0s 9ms/step - loss: 11.2863 - mae: 11.2863\n",
            "Epoch 10/100\n",
            "1/1 [==============================] - 0s 11ms/step - loss: 10.8743 - mae: 10.8743\n",
            "Epoch 11/100\n",
            "1/1 [==============================] - 0s 9ms/step - loss: 10.4168 - mae: 10.4168\n",
            "Epoch 12/100\n",
            "1/1 [==============================] - 0s 8ms/step - loss: 9.9035 - mae: 9.9035\n",
            "Epoch 13/100\n",
            "1/1 [==============================] - 0s 6ms/step - loss: 9.3218 - mae: 9.3218\n",
            "Epoch 14/100\n",
            "1/1 [==============================] - 0s 6ms/step - loss: 8.6564 - mae: 8.6564\n",
            "Epoch 15/100\n",
            "1/1 [==============================] - 0s 6ms/step - loss: 7.8884 - mae: 7.8884\n",
            "Epoch 16/100\n",
            "1/1 [==============================] - 0s 5ms/step - loss: 7.0216 - mae: 7.0216\n",
            "Epoch 17/100\n",
            "1/1 [==============================] - 0s 7ms/step - loss: 6.9886 - mae: 6.9886\n",
            "Epoch 18/100\n",
            "1/1 [==============================] - 0s 5ms/step - loss: 6.9554 - mae: 6.9554\n",
            "Epoch 19/100\n",
            "1/1 [==============================] - 0s 6ms/step - loss: 6.9219 - mae: 6.9219\n",
            "Epoch 20/100\n",
            "1/1 [==============================] - 0s 5ms/step - loss: 6.8881 - mae: 6.8881\n",
            "Epoch 21/100\n",
            "1/1 [==============================] - 0s 6ms/step - loss: 6.8540 - mae: 6.8540\n",
            "Epoch 22/100\n",
            "1/1 [==============================] - 0s 5ms/step - loss: 6.8195 - mae: 6.8195\n",
            "Epoch 23/100\n",
            "1/1 [==============================] - 0s 7ms/step - loss: 6.7847 - mae: 6.7847\n",
            "Epoch 24/100\n",
            "1/1 [==============================] - 0s 6ms/step - loss: 6.7495 - mae: 6.7495\n",
            "Epoch 25/100\n",
            "1/1 [==============================] - 0s 5ms/step - loss: 6.7138 - mae: 6.7138\n",
            "Epoch 26/100\n",
            "1/1 [==============================] - 0s 5ms/step - loss: 6.6777 - mae: 6.6777\n",
            "Epoch 27/100\n",
            "1/1 [==============================] - 0s 5ms/step - loss: 6.6412 - mae: 6.6412\n",
            "Epoch 28/100\n",
            "1/1 [==============================] - 0s 4ms/step - loss: 6.6041 - mae: 6.6041\n",
            "Epoch 29/100\n",
            "1/1 [==============================] - 0s 5ms/step - loss: 6.5665 - mae: 6.5665\n",
            "Epoch 30/100\n",
            "1/1 [==============================] - 0s 5ms/step - loss: 6.5283 - mae: 6.5283\n",
            "Epoch 31/100\n",
            "1/1 [==============================] - 0s 5ms/step - loss: 6.5261 - mae: 6.5261\n",
            "Epoch 32/100\n",
            "1/1 [==============================] - 0s 5ms/step - loss: 6.5897 - mae: 6.5897\n",
            "Epoch 33/100\n",
            "1/1 [==============================] - 0s 5ms/step - loss: 6.6581 - mae: 6.6581\n",
            "Epoch 34/100\n",
            "1/1 [==============================] - 0s 5ms/step - loss: 6.4167 - mae: 6.4167\n",
            "Epoch 35/100\n",
            "1/1 [==============================] - 0s 5ms/step - loss: 6.3780 - mae: 6.3780\n",
            "Epoch 36/100\n",
            "1/1 [==============================] - 0s 5ms/step - loss: 6.3387 - mae: 6.3387\n",
            "Epoch 37/100\n",
            "1/1 [==============================] - 0s 5ms/step - loss: 6.2986 - mae: 6.2986\n",
            "Epoch 38/100\n",
            "1/1 [==============================] - 0s 5ms/step - loss: 6.2578 - mae: 6.2578\n",
            "Epoch 39/100\n",
            "1/1 [==============================] - 0s 5ms/step - loss: 6.2162 - mae: 6.2162\n",
            "Epoch 40/100\n",
            "1/1 [==============================] - 0s 5ms/step - loss: 6.1737 - mae: 6.1737\n",
            "Epoch 41/100\n",
            "1/1 [==============================] - 0s 4ms/step - loss: 6.1623 - mae: 6.1623\n",
            "Epoch 42/100\n",
            "1/1 [==============================] - 0s 5ms/step - loss: 6.2606 - mae: 6.2606\n",
            "Epoch 43/100\n",
            "1/1 [==============================] - 0s 5ms/step - loss: 6.3107 - mae: 6.3107\n",
            "Epoch 44/100\n",
            "1/1 [==============================] - 0s 5ms/step - loss: 6.0547 - mae: 6.0547\n",
            "Epoch 45/100\n",
            "1/1 [==============================] - 0s 5ms/step - loss: 6.0105 - mae: 6.0105\n",
            "Epoch 46/100\n",
            "1/1 [==============================] - 0s 5ms/step - loss: 5.9654 - mae: 5.9654\n",
            "Epoch 47/100\n",
            "1/1 [==============================] - 0s 5ms/step - loss: 5.9192 - mae: 5.9192\n",
            "Epoch 48/100\n",
            "1/1 [==============================] - 0s 5ms/step - loss: 5.8720 - mae: 5.8720\n",
            "Epoch 49/100\n",
            "1/1 [==============================] - 0s 5ms/step - loss: 5.8431 - mae: 5.8431\n",
            "Epoch 50/100\n",
            "1/1 [==============================] - 0s 6ms/step - loss: 5.9908 - mae: 5.9908\n",
            "Epoch 51/100\n",
            "1/1 [==============================] - 0s 6ms/step - loss: 6.0021 - mae: 6.0021\n",
            "Epoch 52/100\n",
            "1/1 [==============================] - 0s 14ms/step - loss: 5.7414 - mae: 5.7414\n",
            "Epoch 53/100\n",
            "1/1 [==============================] - 0s 20ms/step - loss: 5.6913 - mae: 5.6913\n",
            "Epoch 54/100\n",
            "1/1 [==============================] - 0s 9ms/step - loss: 5.6399 - mae: 5.6399\n",
            "Epoch 55/100\n",
            "1/1 [==============================] - 0s 5ms/step - loss: 5.5872 - mae: 5.5872\n",
            "Epoch 56/100\n",
            "1/1 [==============================] - 0s 7ms/step - loss: 5.5449 - mae: 5.5449\n",
            "Epoch 57/100\n",
            "1/1 [==============================] - 0s 5ms/step - loss: 5.7333 - mae: 5.7333\n",
            "Epoch 58/100\n",
            "1/1 [==============================] - 0s 5ms/step - loss: 5.7118 - mae: 5.7118\n",
            "Epoch 59/100\n",
            "1/1 [==============================] - 0s 5ms/step - loss: 5.4414 - mae: 5.4414\n",
            "Epoch 60/100\n",
            "1/1 [==============================] - 0s 5ms/step - loss: 5.3846 - mae: 5.3846\n",
            "Epoch 61/100\n",
            "1/1 [==============================] - 0s 8ms/step - loss: 5.3262 - mae: 5.3262\n",
            "Epoch 62/100\n",
            "1/1 [==============================] - 0s 8ms/step - loss: 5.2662 - mae: 5.2662\n",
            "Epoch 63/100\n",
            "1/1 [==============================] - 0s 5ms/step - loss: 5.2730 - mae: 5.2730\n",
            "Epoch 64/100\n",
            "1/1 [==============================] - 0s 5ms/step - loss: 5.3726 - mae: 5.3726\n",
            "Epoch 65/100\n",
            "1/1 [==============================] - 0s 4ms/step - loss: 5.4487 - mae: 5.4487\n",
            "Epoch 66/100\n",
            "1/1 [==============================] - 0s 4ms/step - loss: 5.0984 - mae: 5.0984\n",
            "Epoch 67/100\n",
            "1/1 [==============================] - 0s 4ms/step - loss: 5.0327 - mae: 5.0327\n",
            "Epoch 68/100\n",
            "1/1 [==============================] - 0s 4ms/step - loss: 4.9650 - mae: 4.9650\n",
            "Epoch 69/100\n",
            "1/1 [==============================] - 0s 4ms/step - loss: 4.9804 - mae: 4.9804\n",
            "Epoch 70/100\n",
            "1/1 [==============================] - 0s 4ms/step - loss: 5.0787 - mae: 5.0787\n",
            "Epoch 71/100\n",
            "1/1 [==============================] - 0s 5ms/step - loss: 5.1613 - mae: 5.1613\n",
            "Epoch 72/100\n",
            "1/1 [==============================] - 0s 4ms/step - loss: 4.7726 - mae: 4.7726\n",
            "Epoch 73/100\n",
            "1/1 [==============================] - 0s 4ms/step - loss: 4.6976 - mae: 4.6976\n",
            "Epoch 74/100\n",
            "1/1 [==============================] - 0s 4ms/step - loss: 4.6550 - mae: 4.6550\n",
            "Epoch 75/100\n",
            "1/1 [==============================] - 0s 4ms/step - loss: 4.8945 - mae: 4.8945\n",
            "Epoch 76/100\n",
            "1/1 [==============================] - 0s 4ms/step - loss: 4.8366 - mae: 4.8366\n",
            "Epoch 77/100\n",
            "1/1 [==============================] - 0s 4ms/step - loss: 4.4801 - mae: 4.4801\n",
            "Epoch 78/100\n",
            "1/1 [==============================] - 0s 4ms/step - loss: 4.3962 - mae: 4.3962\n",
            "Epoch 79/100\n",
            "1/1 [==============================] - 0s 4ms/step - loss: 4.3198 - mae: 4.3198\n",
            "Epoch 80/100\n",
            "1/1 [==============================] - 0s 5ms/step - loss: 4.6550 - mae: 4.6550\n",
            "Epoch 81/100\n",
            "1/1 [==============================] - 0s 5ms/step - loss: 4.5023 - mae: 4.5023\n",
            "Epoch 82/100\n",
            "1/1 [==============================] - 0s 4ms/step - loss: 4.1469 - mae: 4.1469\n",
            "Epoch 83/100\n",
            "1/1 [==============================] - 0s 5ms/step - loss: 4.0520 - mae: 4.0520\n",
            "Epoch 84/100\n",
            "1/1 [==============================] - 0s 4ms/step - loss: 3.9606 - mae: 3.9606\n",
            "Epoch 85/100\n",
            "1/1 [==============================] - 0s 5ms/step - loss: 4.3600 - mae: 4.3600\n",
            "Epoch 86/100\n",
            "1/1 [==============================] - 0s 5ms/step - loss: 4.1438 - mae: 4.1438\n",
            "Epoch 87/100\n",
            "1/1 [==============================] - 0s 5ms/step - loss: 3.7627 - mae: 3.7627\n",
            "Epoch 88/100\n",
            "1/1 [==============================] - 0s 4ms/step - loss: 3.6540 - mae: 3.6540\n",
            "Epoch 89/100\n",
            "1/1 [==============================] - 0s 4ms/step - loss: 3.5596 - mae: 3.5596\n",
            "Epoch 90/100\n",
            "1/1 [==============================] - 0s 5ms/step - loss: 4.0094 - mae: 4.0094\n",
            "Epoch 91/100\n",
            "1/1 [==============================] - 0s 6ms/step - loss: 3.7708 - mae: 3.7708\n",
            "Epoch 92/100\n",
            "1/1 [==============================] - 0s 14ms/step - loss: 4.1590 - mae: 4.1590\n",
            "Epoch 93/100\n",
            "1/1 [==============================] - 0s 61ms/step - loss: 3.3926 - mae: 3.3926\n",
            "Epoch 94/100\n",
            "1/1 [==============================] - 0s 21ms/step - loss: 3.4581 - mae: 3.4581\n",
            "Epoch 95/100\n",
            "1/1 [==============================] - 0s 17ms/step - loss: 3.8284 - mae: 3.8284\n",
            "Epoch 96/100\n",
            "1/1 [==============================] - 0s 17ms/step - loss: 3.6142 - mae: 3.6142\n",
            "Epoch 97/100\n",
            "1/1 [==============================] - 0s 16ms/step - loss: 3.2842 - mae: 3.2842\n",
            "Epoch 98/100\n",
            "1/1 [==============================] - 0s 33ms/step - loss: 3.7586 - mae: 3.7586\n",
            "Epoch 99/100\n",
            "1/1 [==============================] - 0s 6ms/step - loss: 2.8096 - mae: 2.8096\n",
            "Epoch 100/100\n",
            "1/1 [==============================] - 0s 56ms/step - loss: 2.9843 - mae: 2.9843\n"
          ]
        },
        {
          "output_type": "execute_result",
          "data": {
            "text/plain": [
              "<keras.callbacks.History at 0x7fb9b1796b50>"
            ]
          },
          "metadata": {},
          "execution_count": 34
        }
      ]
    },
    {
      "cell_type": "code",
      "source": [
        "model.predict([17.0])"
      ],
      "metadata": {
        "colab": {
          "base_uri": "https://localhost:8080/"
        },
        "id": "c9uGoxXLRiAe",
        "outputId": "a2334155-894c-4c7e-f32c-6161974a16c7"
      },
      "execution_count": 35,
      "outputs": [
        {
          "output_type": "execute_result",
          "data": {
            "text/plain": [
              "array([[33.222195]], dtype=float32)"
            ]
          },
          "metadata": {},
          "execution_count": 35
        }
      ]
    },
    {
      "cell_type": "code",
      "source": [
        "## trying the same configuration with different optimizers\n",
        "\n",
        "model = tf.keras.Sequential([\n",
        "    tf.keras.layers.Dense(5),\n",
        "    tf.keras.layers.Dense(3),\n",
        "    tf.keras.layers.Dense(1)\n",
        "])\n",
        "\n",
        "model.compile(loss = tf.keras.losses.mae,\n",
        "              optimizer = tf.keras.optimizers.Adam(learning_rate = 0.0001),\n",
        "              metrics = ['mae']\n",
        "              )\n",
        "\n",
        "model.fit(tf.expand_dims(x,axis=1),y,epochs=100)"
      ],
      "metadata": {
        "colab": {
          "base_uri": "https://localhost:8080/"
        },
        "id": "2AgVGFhcRorD",
        "outputId": "721c9441-9667-4ca3-f394-bfc8e1308595"
      },
      "execution_count": 37,
      "outputs": [
        {
          "output_type": "stream",
          "name": "stdout",
          "text": [
            "Epoch 1/100\n",
            "1/1 [==============================] - 0s 271ms/step - loss: 15.4890 - mae: 15.4890\n",
            "Epoch 2/100\n",
            "1/1 [==============================] - 0s 6ms/step - loss: 15.4828 - mae: 15.4828\n",
            "Epoch 3/100\n",
            "1/1 [==============================] - 0s 7ms/step - loss: 15.4766 - mae: 15.4766\n",
            "Epoch 4/100\n",
            "1/1 [==============================] - 0s 6ms/step - loss: 15.4704 - mae: 15.4704\n",
            "Epoch 5/100\n",
            "1/1 [==============================] - 0s 5ms/step - loss: 15.4642 - mae: 15.4642\n",
            "Epoch 6/100\n",
            "1/1 [==============================] - 0s 4ms/step - loss: 15.4580 - mae: 15.4580\n",
            "Epoch 7/100\n",
            "1/1 [==============================] - 0s 4ms/step - loss: 15.4517 - mae: 15.4517\n",
            "Epoch 8/100\n",
            "1/1 [==============================] - 0s 4ms/step - loss: 15.4455 - mae: 15.4455\n",
            "Epoch 9/100\n",
            "1/1 [==============================] - 0s 4ms/step - loss: 15.4393 - mae: 15.4393\n",
            "Epoch 10/100\n",
            "1/1 [==============================] - 0s 4ms/step - loss: 15.4331 - mae: 15.4331\n",
            "Epoch 11/100\n",
            "1/1 [==============================] - 0s 4ms/step - loss: 15.4269 - mae: 15.4269\n",
            "Epoch 12/100\n",
            "1/1 [==============================] - 0s 4ms/step - loss: 15.4206 - mae: 15.4206\n",
            "Epoch 13/100\n",
            "1/1 [==============================] - 0s 4ms/step - loss: 15.4144 - mae: 15.4144\n",
            "Epoch 14/100\n",
            "1/1 [==============================] - 0s 5ms/step - loss: 15.4082 - mae: 15.4082\n",
            "Epoch 15/100\n",
            "1/1 [==============================] - 0s 4ms/step - loss: 15.4020 - mae: 15.4020\n",
            "Epoch 16/100\n",
            "1/1 [==============================] - 0s 4ms/step - loss: 15.3958 - mae: 15.3958\n",
            "Epoch 17/100\n",
            "1/1 [==============================] - 0s 4ms/step - loss: 15.3896 - mae: 15.3896\n",
            "Epoch 18/100\n",
            "1/1 [==============================] - 0s 4ms/step - loss: 15.3834 - mae: 15.3834\n",
            "Epoch 19/100\n",
            "1/1 [==============================] - 0s 4ms/step - loss: 15.3771 - mae: 15.3771\n",
            "Epoch 20/100\n",
            "1/1 [==============================] - 0s 4ms/step - loss: 15.3709 - mae: 15.3709\n",
            "Epoch 21/100\n",
            "1/1 [==============================] - 0s 4ms/step - loss: 15.3647 - mae: 15.3647\n",
            "Epoch 22/100\n",
            "1/1 [==============================] - 0s 5ms/step - loss: 15.3585 - mae: 15.3585\n",
            "Epoch 23/100\n",
            "1/1 [==============================] - 0s 4ms/step - loss: 15.3523 - mae: 15.3523\n",
            "Epoch 24/100\n",
            "1/1 [==============================] - 0s 4ms/step - loss: 15.3461 - mae: 15.3461\n",
            "Epoch 25/100\n",
            "1/1 [==============================] - 0s 4ms/step - loss: 15.3399 - mae: 15.3399\n",
            "Epoch 26/100\n",
            "1/1 [==============================] - 0s 4ms/step - loss: 15.3336 - mae: 15.3336\n",
            "Epoch 27/100\n",
            "1/1 [==============================] - 0s 4ms/step - loss: 15.3274 - mae: 15.3274\n",
            "Epoch 28/100\n",
            "1/1 [==============================] - 0s 4ms/step - loss: 15.3212 - mae: 15.3212\n",
            "Epoch 29/100\n",
            "1/1 [==============================] - 0s 4ms/step - loss: 15.3150 - mae: 15.3150\n",
            "Epoch 30/100\n",
            "1/1 [==============================] - 0s 4ms/step - loss: 15.3088 - mae: 15.3088\n",
            "Epoch 31/100\n",
            "1/1 [==============================] - 0s 4ms/step - loss: 15.3026 - mae: 15.3026\n",
            "Epoch 32/100\n",
            "1/1 [==============================] - 0s 4ms/step - loss: 15.2964 - mae: 15.2964\n",
            "Epoch 33/100\n",
            "1/1 [==============================] - 0s 5ms/step - loss: 15.2902 - mae: 15.2902\n",
            "Epoch 34/100\n",
            "1/1 [==============================] - 0s 4ms/step - loss: 15.2839 - mae: 15.2839\n",
            "Epoch 35/100\n",
            "1/1 [==============================] - 0s 4ms/step - loss: 15.2777 - mae: 15.2777\n",
            "Epoch 36/100\n",
            "1/1 [==============================] - 0s 4ms/step - loss: 15.2715 - mae: 15.2715\n",
            "Epoch 37/100\n",
            "1/1 [==============================] - 0s 4ms/step - loss: 15.2653 - mae: 15.2653\n",
            "Epoch 38/100\n",
            "1/1 [==============================] - 0s 4ms/step - loss: 15.2591 - mae: 15.2591\n",
            "Epoch 39/100\n",
            "1/1 [==============================] - 0s 4ms/step - loss: 15.2529 - mae: 15.2529\n",
            "Epoch 40/100\n",
            "1/1 [==============================] - 0s 4ms/step - loss: 15.2467 - mae: 15.2467\n",
            "Epoch 41/100\n",
            "1/1 [==============================] - 0s 6ms/step - loss: 15.2405 - mae: 15.2405\n",
            "Epoch 42/100\n",
            "1/1 [==============================] - 0s 4ms/step - loss: 15.2343 - mae: 15.2343\n",
            "Epoch 43/100\n",
            "1/1 [==============================] - 0s 4ms/step - loss: 15.2281 - mae: 15.2281\n",
            "Epoch 44/100\n",
            "1/1 [==============================] - 0s 4ms/step - loss: 15.2218 - mae: 15.2218\n",
            "Epoch 45/100\n",
            "1/1 [==============================] - 0s 4ms/step - loss: 15.2156 - mae: 15.2156\n",
            "Epoch 46/100\n",
            "1/1 [==============================] - 0s 4ms/step - loss: 15.2094 - mae: 15.2094\n",
            "Epoch 47/100\n",
            "1/1 [==============================] - 0s 4ms/step - loss: 15.2032 - mae: 15.2032\n",
            "Epoch 48/100\n",
            "1/1 [==============================] - 0s 4ms/step - loss: 15.1970 - mae: 15.1970\n",
            "Epoch 49/100\n",
            "1/1 [==============================] - 0s 4ms/step - loss: 15.1908 - mae: 15.1908\n",
            "Epoch 50/100\n",
            "1/1 [==============================] - 0s 4ms/step - loss: 15.1846 - mae: 15.1846\n",
            "Epoch 51/100\n",
            "1/1 [==============================] - 0s 4ms/step - loss: 15.1784 - mae: 15.1784\n",
            "Epoch 52/100\n",
            "1/1 [==============================] - 0s 4ms/step - loss: 15.1722 - mae: 15.1722\n",
            "Epoch 53/100\n",
            "1/1 [==============================] - 0s 4ms/step - loss: 15.1660 - mae: 15.1660\n",
            "Epoch 54/100\n",
            "1/1 [==============================] - 0s 4ms/step - loss: 15.1598 - mae: 15.1598\n",
            "Epoch 55/100\n",
            "1/1 [==============================] - 0s 4ms/step - loss: 15.1536 - mae: 15.1536\n",
            "Epoch 56/100\n",
            "1/1 [==============================] - 0s 6ms/step - loss: 15.1474 - mae: 15.1474\n",
            "Epoch 57/100\n",
            "1/1 [==============================] - 0s 6ms/step - loss: 15.1412 - mae: 15.1412\n",
            "Epoch 58/100\n",
            "1/1 [==============================] - 0s 8ms/step - loss: 15.1350 - mae: 15.1350\n",
            "Epoch 59/100\n",
            "1/1 [==============================] - 0s 5ms/step - loss: 15.1287 - mae: 15.1287\n",
            "Epoch 60/100\n",
            "1/1 [==============================] - 0s 5ms/step - loss: 15.1225 - mae: 15.1225\n",
            "Epoch 61/100\n",
            "1/1 [==============================] - 0s 5ms/step - loss: 15.1163 - mae: 15.1163\n",
            "Epoch 62/100\n",
            "1/1 [==============================] - 0s 5ms/step - loss: 15.1101 - mae: 15.1101\n",
            "Epoch 63/100\n",
            "1/1 [==============================] - 0s 6ms/step - loss: 15.1039 - mae: 15.1039\n",
            "Epoch 64/100\n",
            "1/1 [==============================] - 0s 6ms/step - loss: 15.0977 - mae: 15.0977\n",
            "Epoch 65/100\n",
            "1/1 [==============================] - 0s 5ms/step - loss: 15.0915 - mae: 15.0915\n",
            "Epoch 66/100\n",
            "1/1 [==============================] - 0s 5ms/step - loss: 15.0853 - mae: 15.0853\n",
            "Epoch 67/100\n",
            "1/1 [==============================] - 0s 6ms/step - loss: 15.0791 - mae: 15.0791\n",
            "Epoch 68/100\n",
            "1/1 [==============================] - 0s 6ms/step - loss: 15.0729 - mae: 15.0729\n",
            "Epoch 69/100\n",
            "1/1 [==============================] - 0s 5ms/step - loss: 15.0667 - mae: 15.0667\n",
            "Epoch 70/100\n",
            "1/1 [==============================] - 0s 5ms/step - loss: 15.0605 - mae: 15.0605\n",
            "Epoch 71/100\n",
            "1/1 [==============================] - 0s 5ms/step - loss: 15.0543 - mae: 15.0543\n",
            "Epoch 72/100\n",
            "1/1 [==============================] - 0s 5ms/step - loss: 15.0481 - mae: 15.0481\n",
            "Epoch 73/100\n",
            "1/1 [==============================] - 0s 4ms/step - loss: 15.0419 - mae: 15.0419\n",
            "Epoch 74/100\n",
            "1/1 [==============================] - 0s 5ms/step - loss: 15.0357 - mae: 15.0357\n",
            "Epoch 75/100\n",
            "1/1 [==============================] - 0s 4ms/step - loss: 15.0295 - mae: 15.0295\n",
            "Epoch 76/100\n",
            "1/1 [==============================] - 0s 5ms/step - loss: 15.0233 - mae: 15.0233\n",
            "Epoch 77/100\n",
            "1/1 [==============================] - 0s 5ms/step - loss: 15.0171 - mae: 15.0171\n",
            "Epoch 78/100\n",
            "1/1 [==============================] - 0s 5ms/step - loss: 15.0109 - mae: 15.0109\n",
            "Epoch 79/100\n",
            "1/1 [==============================] - 0s 5ms/step - loss: 15.0047 - mae: 15.0047\n",
            "Epoch 80/100\n",
            "1/1 [==============================] - 0s 5ms/step - loss: 14.9985 - mae: 14.9985\n",
            "Epoch 81/100\n",
            "1/1 [==============================] - 0s 5ms/step - loss: 14.9923 - mae: 14.9923\n",
            "Epoch 82/100\n",
            "1/1 [==============================] - 0s 5ms/step - loss: 14.9861 - mae: 14.9861\n",
            "Epoch 83/100\n",
            "1/1 [==============================] - 0s 5ms/step - loss: 14.9799 - mae: 14.9799\n",
            "Epoch 84/100\n",
            "1/1 [==============================] - 0s 5ms/step - loss: 14.9737 - mae: 14.9737\n",
            "Epoch 85/100\n",
            "1/1 [==============================] - 0s 6ms/step - loss: 14.9675 - mae: 14.9675\n",
            "Epoch 86/100\n",
            "1/1 [==============================] - 0s 6ms/step - loss: 14.9613 - mae: 14.9613\n",
            "Epoch 87/100\n",
            "1/1 [==============================] - 0s 8ms/step - loss: 14.9551 - mae: 14.9551\n",
            "Epoch 88/100\n",
            "1/1 [==============================] - 0s 6ms/step - loss: 14.9489 - mae: 14.9489\n",
            "Epoch 89/100\n",
            "1/1 [==============================] - 0s 6ms/step - loss: 14.9427 - mae: 14.9427\n",
            "Epoch 90/100\n",
            "1/1 [==============================] - 0s 6ms/step - loss: 14.9365 - mae: 14.9365\n",
            "Epoch 91/100\n",
            "1/1 [==============================] - 0s 6ms/step - loss: 14.9303 - mae: 14.9303\n",
            "Epoch 92/100\n",
            "1/1 [==============================] - 0s 5ms/step - loss: 14.9244 - mae: 14.9244\n",
            "Epoch 93/100\n",
            "1/1 [==============================] - 0s 6ms/step - loss: 14.9201 - mae: 14.9201\n",
            "Epoch 94/100\n",
            "1/1 [==============================] - 0s 8ms/step - loss: 14.9159 - mae: 14.9159\n",
            "Epoch 95/100\n",
            "1/1 [==============================] - 0s 8ms/step - loss: 14.9118 - mae: 14.9118\n",
            "Epoch 96/100\n",
            "1/1 [==============================] - 0s 6ms/step - loss: 14.9077 - mae: 14.9077\n",
            "Epoch 97/100\n",
            "1/1 [==============================] - 0s 11ms/step - loss: 14.9038 - mae: 14.9038\n",
            "Epoch 98/100\n",
            "1/1 [==============================] - 0s 5ms/step - loss: 14.8998 - mae: 14.8998\n",
            "Epoch 99/100\n",
            "1/1 [==============================] - 0s 5ms/step - loss: 14.8959 - mae: 14.8959\n",
            "Epoch 100/100\n",
            "1/1 [==============================] - 0s 5ms/step - loss: 14.8921 - mae: 14.8921\n"
          ]
        },
        {
          "output_type": "execute_result",
          "data": {
            "text/plain": [
              "<keras.callbacks.History at 0x7fb9b059c0d0>"
            ]
          },
          "metadata": {},
          "execution_count": 37
        }
      ]
    },
    {
      "cell_type": "code",
      "source": [
        "model.predict([17.0])"
      ],
      "metadata": {
        "colab": {
          "base_uri": "https://localhost:8080/"
        },
        "id": "VUqKEwPqSY8U",
        "outputId": "b00b0a1e-550b-4f36-aeed-e791bef5dad6"
      },
      "execution_count": 39,
      "outputs": [
        {
          "output_type": "execute_result",
          "data": {
            "text/plain": [
              "array([[-6.9566054]], dtype=float32)"
            ]
          },
          "metadata": {},
          "execution_count": 39
        }
      ]
    },
    {
      "cell_type": "code",
      "source": [],
      "metadata": {
        "id": "Ghkz8toHUDmJ"
      },
      "execution_count": null,
      "outputs": []
    },
    {
      "cell_type": "markdown",
      "source": [
        "## Looks like ADAM optimizer is not working for us but let's try with other learning rate"
      ],
      "metadata": {
        "id": "pihxcdl3SnaZ"
      }
    },
    {
      "cell_type": "code",
      "source": [
        "## trying the same configuration with different optimizers\n",
        "\n",
        "model = tf.keras.Sequential([\n",
        "    tf.keras.layers.Dense(5),\n",
        "    tf.keras.layers.Dense(3),\n",
        "    tf.keras.layers.Dense(1)\n",
        "])\n",
        "\n",
        "model.compile(loss = tf.keras.losses.mae,\n",
        "              optimizer = tf.keras.optimizers.Adam(learning_rate = 0.01),\n",
        "              metrics = ['mae']\n",
        "              )\n",
        "\n",
        "model.fit(tf.expand_dims(x,axis=1),y,epochs=100)"
      ],
      "metadata": {
        "colab": {
          "base_uri": "https://localhost:8080/"
        },
        "id": "v1QedWamSk6Y",
        "outputId": "01100644-d01e-45e7-e777-80aeff9d4610"
      },
      "execution_count": 40,
      "outputs": [
        {
          "output_type": "stream",
          "name": "stdout",
          "text": [
            "Epoch 1/100\n",
            "1/1 [==============================] - 0s 344ms/step - loss: 13.3176 - mae: 13.3176\n",
            "Epoch 2/100\n",
            "1/1 [==============================] - 0s 10ms/step - loss: 13.0788 - mae: 13.0788\n",
            "Epoch 3/100\n",
            "1/1 [==============================] - 0s 7ms/step - loss: 12.8343 - mae: 12.8343\n",
            "Epoch 4/100\n",
            "1/1 [==============================] - 0s 5ms/step - loss: 12.5838 - mae: 12.5838\n",
            "Epoch 5/100\n",
            "1/1 [==============================] - 0s 6ms/step - loss: 12.3271 - mae: 12.3271\n",
            "Epoch 6/100\n",
            "1/1 [==============================] - 0s 6ms/step - loss: 12.0639 - mae: 12.0639\n",
            "Epoch 7/100\n",
            "1/1 [==============================] - 0s 6ms/step - loss: 11.7939 - mae: 11.7939\n",
            "Epoch 8/100\n",
            "1/1 [==============================] - 0s 4ms/step - loss: 11.5166 - mae: 11.5166\n",
            "Epoch 9/100\n",
            "1/1 [==============================] - 0s 6ms/step - loss: 11.2316 - mae: 11.2316\n",
            "Epoch 10/100\n",
            "1/1 [==============================] - 0s 9ms/step - loss: 10.9381 - mae: 10.9381\n",
            "Epoch 11/100\n",
            "1/1 [==============================] - 0s 7ms/step - loss: 10.6354 - mae: 10.6354\n",
            "Epoch 12/100\n",
            "1/1 [==============================] - 0s 7ms/step - loss: 10.3224 - mae: 10.3224\n",
            "Epoch 13/100\n",
            "1/1 [==============================] - 0s 7ms/step - loss: 9.9981 - mae: 9.9981\n",
            "Epoch 14/100\n",
            "1/1 [==============================] - 0s 8ms/step - loss: 9.6612 - mae: 9.6612\n",
            "Epoch 15/100\n",
            "1/1 [==============================] - 0s 6ms/step - loss: 9.3104 - mae: 9.3104\n",
            "Epoch 16/100\n",
            "1/1 [==============================] - 0s 7ms/step - loss: 8.9446 - mae: 8.9446\n",
            "Epoch 17/100\n",
            "1/1 [==============================] - 0s 6ms/step - loss: 8.5623 - mae: 8.5623\n",
            "Epoch 18/100\n",
            "1/1 [==============================] - 0s 7ms/step - loss: 8.1627 - mae: 8.1627\n",
            "Epoch 19/100\n",
            "1/1 [==============================] - 0s 9ms/step - loss: 7.7447 - mae: 7.7447\n",
            "Epoch 20/100\n",
            "1/1 [==============================] - 0s 9ms/step - loss: 7.3074 - mae: 7.3074\n",
            "Epoch 21/100\n",
            "1/1 [==============================] - 0s 6ms/step - loss: 6.8499 - mae: 6.8499\n",
            "Epoch 22/100\n",
            "1/1 [==============================] - 0s 7ms/step - loss: 6.5771 - mae: 6.5771\n",
            "Epoch 23/100\n",
            "1/1 [==============================] - 0s 6ms/step - loss: 6.5176 - mae: 6.5176\n",
            "Epoch 24/100\n",
            "1/1 [==============================] - 0s 7ms/step - loss: 6.7083 - mae: 6.7083\n",
            "Epoch 25/100\n",
            "1/1 [==============================] - 0s 10ms/step - loss: 6.8435 - mae: 6.8435\n",
            "Epoch 26/100\n",
            "1/1 [==============================] - 0s 10ms/step - loss: 6.9274 - mae: 6.9274\n",
            "Epoch 27/100\n",
            "1/1 [==============================] - 0s 12ms/step - loss: 6.9644 - mae: 6.9644\n",
            "Epoch 28/100\n",
            "1/1 [==============================] - 0s 8ms/step - loss: 6.9597 - mae: 6.9597\n",
            "Epoch 29/100\n",
            "1/1 [==============================] - 0s 7ms/step - loss: 6.9182 - mae: 6.9182\n",
            "Epoch 30/100\n",
            "1/1 [==============================] - 0s 8ms/step - loss: 6.8449 - mae: 6.8449\n",
            "Epoch 31/100\n",
            "1/1 [==============================] - 0s 16ms/step - loss: 6.7443 - mae: 6.7443\n",
            "Epoch 32/100\n",
            "1/1 [==============================] - 0s 13ms/step - loss: 6.6209 - mae: 6.6209\n",
            "Epoch 33/100\n",
            "1/1 [==============================] - 0s 9ms/step - loss: 6.4787 - mae: 6.4787\n",
            "Epoch 34/100\n",
            "1/1 [==============================] - 0s 6ms/step - loss: 6.3212 - mae: 6.3212\n",
            "Epoch 35/100\n",
            "1/1 [==============================] - 0s 6ms/step - loss: 6.1516 - mae: 6.1516\n",
            "Epoch 36/100\n",
            "1/1 [==============================] - 0s 5ms/step - loss: 6.0120 - mae: 6.0120\n",
            "Epoch 37/100\n",
            "1/1 [==============================] - 0s 5ms/step - loss: 5.9895 - mae: 5.9895\n",
            "Epoch 38/100\n",
            "1/1 [==============================] - 0s 5ms/step - loss: 5.9643 - mae: 5.9643\n",
            "Epoch 39/100\n",
            "1/1 [==============================] - 0s 5ms/step - loss: 5.9365 - mae: 5.9365\n",
            "Epoch 40/100\n",
            "1/1 [==============================] - 0s 5ms/step - loss: 5.9768 - mae: 5.9768\n",
            "Epoch 41/100\n",
            "1/1 [==============================] - 0s 5ms/step - loss: 5.9782 - mae: 5.9782\n",
            "Epoch 42/100\n",
            "1/1 [==============================] - 0s 4ms/step - loss: 5.9123 - mae: 5.9123\n",
            "Epoch 43/100\n",
            "1/1 [==============================] - 0s 4ms/step - loss: 5.7868 - mae: 5.7868\n",
            "Epoch 44/100\n",
            "1/1 [==============================] - 0s 5ms/step - loss: 5.7020 - mae: 5.7020\n",
            "Epoch 45/100\n",
            "1/1 [==============================] - 0s 6ms/step - loss: 5.6389 - mae: 5.6389\n",
            "Epoch 46/100\n",
            "1/1 [==============================] - 0s 8ms/step - loss: 5.5747 - mae: 5.5747\n",
            "Epoch 47/100\n",
            "1/1 [==============================] - 0s 7ms/step - loss: 5.5093 - mae: 5.5093\n",
            "Epoch 48/100\n",
            "1/1 [==============================] - 0s 11ms/step - loss: 5.4794 - mae: 5.4794\n",
            "Epoch 49/100\n",
            "1/1 [==============================] - 0s 8ms/step - loss: 5.4725 - mae: 5.4725\n",
            "Epoch 50/100\n",
            "1/1 [==============================] - 0s 11ms/step - loss: 5.4371 - mae: 5.4371\n",
            "Epoch 51/100\n",
            "1/1 [==============================] - 0s 5ms/step - loss: 5.3761 - mae: 5.3761\n",
            "Epoch 52/100\n",
            "1/1 [==============================] - 0s 5ms/step - loss: 5.2922 - mae: 5.2922\n",
            "Epoch 53/100\n",
            "1/1 [==============================] - 0s 11ms/step - loss: 5.1881 - mae: 5.1881\n",
            "Epoch 54/100\n",
            "1/1 [==============================] - 0s 24ms/step - loss: 5.1465 - mae: 5.1465\n",
            "Epoch 55/100\n",
            "1/1 [==============================] - 0s 11ms/step - loss: 5.1040 - mae: 5.1040\n",
            "Epoch 56/100\n",
            "1/1 [==============================] - 0s 14ms/step - loss: 5.0576 - mae: 5.0576\n",
            "Epoch 57/100\n",
            "1/1 [==============================] - 0s 11ms/step - loss: 5.0074 - mae: 5.0074\n",
            "Epoch 58/100\n",
            "1/1 [==============================] - 0s 6ms/step - loss: 4.9535 - mae: 4.9535\n",
            "Epoch 59/100\n",
            "1/1 [==============================] - 0s 8ms/step - loss: 4.8959 - mae: 4.8959\n",
            "Epoch 60/100\n",
            "1/1 [==============================] - 0s 6ms/step - loss: 4.8347 - mae: 4.8347\n",
            "Epoch 61/100\n",
            "1/1 [==============================] - 0s 5ms/step - loss: 4.7698 - mae: 4.7698\n",
            "Epoch 62/100\n",
            "1/1 [==============================] - 0s 5ms/step - loss: 4.7013 - mae: 4.7013\n",
            "Epoch 63/100\n",
            "1/1 [==============================] - 0s 5ms/step - loss: 4.6291 - mae: 4.6291\n",
            "Epoch 64/100\n",
            "1/1 [==============================] - 0s 5ms/step - loss: 4.5532 - mae: 4.5532\n",
            "Epoch 65/100\n",
            "1/1 [==============================] - 0s 4ms/step - loss: 4.4735 - mae: 4.4735\n",
            "Epoch 66/100\n",
            "1/1 [==============================] - 0s 5ms/step - loss: 4.3898 - mae: 4.3898\n",
            "Epoch 67/100\n",
            "1/1 [==============================] - 0s 5ms/step - loss: 4.3022 - mae: 4.3022\n",
            "Epoch 68/100\n",
            "1/1 [==============================] - 0s 5ms/step - loss: 4.2106 - mae: 4.2106\n",
            "Epoch 69/100\n",
            "1/1 [==============================] - 0s 5ms/step - loss: 4.1147 - mae: 4.1147\n",
            "Epoch 70/100\n",
            "1/1 [==============================] - 0s 20ms/step - loss: 4.0144 - mae: 4.0144\n",
            "Epoch 71/100\n",
            "1/1 [==============================] - 0s 9ms/step - loss: 3.9677 - mae: 3.9677\n",
            "Epoch 72/100\n",
            "1/1 [==============================] - 0s 8ms/step - loss: 3.8907 - mae: 3.8907\n",
            "Epoch 73/100\n",
            "1/1 [==============================] - 0s 7ms/step - loss: 3.7816 - mae: 3.7816\n",
            "Epoch 74/100\n",
            "1/1 [==============================] - 0s 9ms/step - loss: 3.6430 - mae: 3.6430\n",
            "Epoch 75/100\n",
            "1/1 [==============================] - 0s 9ms/step - loss: 3.5488 - mae: 3.5488\n",
            "Epoch 76/100\n",
            "1/1 [==============================] - 0s 7ms/step - loss: 3.4583 - mae: 3.4583\n",
            "Epoch 77/100\n",
            "1/1 [==============================] - 0s 5ms/step - loss: 3.3601 - mae: 3.3601\n",
            "Epoch 78/100\n",
            "1/1 [==============================] - 0s 5ms/step - loss: 3.2544 - mae: 3.2544\n",
            "Epoch 79/100\n",
            "1/1 [==============================] - 0s 5ms/step - loss: 3.1633 - mae: 3.1633\n",
            "Epoch 80/100\n",
            "1/1 [==============================] - 0s 5ms/step - loss: 3.0083 - mae: 3.0083\n",
            "Epoch 81/100\n",
            "1/1 [==============================] - 0s 6ms/step - loss: 2.8687 - mae: 2.8687\n",
            "Epoch 82/100\n",
            "1/1 [==============================] - 0s 6ms/step - loss: 2.7223 - mae: 2.7223\n",
            "Epoch 83/100\n",
            "1/1 [==============================] - 0s 8ms/step - loss: 2.5843 - mae: 2.5843\n",
            "Epoch 84/100\n",
            "1/1 [==============================] - 0s 6ms/step - loss: 2.4601 - mae: 2.4601\n",
            "Epoch 85/100\n",
            "1/1 [==============================] - 0s 6ms/step - loss: 2.2942 - mae: 2.2942\n",
            "Epoch 86/100\n",
            "1/1 [==============================] - 0s 6ms/step - loss: 2.1392 - mae: 2.1392\n",
            "Epoch 87/100\n",
            "1/1 [==============================] - 0s 6ms/step - loss: 1.9899 - mae: 1.9899\n",
            "Epoch 88/100\n",
            "1/1 [==============================] - 0s 5ms/step - loss: 1.8325 - mae: 1.8325\n",
            "Epoch 89/100\n",
            "1/1 [==============================] - 0s 7ms/step - loss: 1.6470 - mae: 1.6470\n",
            "Epoch 90/100\n",
            "1/1 [==============================] - 0s 6ms/step - loss: 1.4543 - mae: 1.4543\n",
            "Epoch 91/100\n",
            "1/1 [==============================] - 0s 5ms/step - loss: 1.3202 - mae: 1.3202\n",
            "Epoch 92/100\n",
            "1/1 [==============================] - 0s 5ms/step - loss: 1.1379 - mae: 1.1379\n",
            "Epoch 93/100\n",
            "1/1 [==============================] - 0s 7ms/step - loss: 0.9043 - mae: 0.9043\n",
            "Epoch 94/100\n",
            "1/1 [==============================] - 0s 6ms/step - loss: 0.6683 - mae: 0.6683\n",
            "Epoch 95/100\n",
            "1/1 [==============================] - 0s 5ms/step - loss: 0.5697 - mae: 0.5697\n",
            "Epoch 96/100\n",
            "1/1 [==============================] - 0s 5ms/step - loss: 0.3077 - mae: 0.3077\n",
            "Epoch 97/100\n",
            "1/1 [==============================] - 0s 5ms/step - loss: 0.1400 - mae: 0.1400\n",
            "Epoch 98/100\n",
            "1/1 [==============================] - 0s 6ms/step - loss: 0.2476 - mae: 0.2476\n",
            "Epoch 99/100\n",
            "1/1 [==============================] - 0s 7ms/step - loss: 0.4982 - mae: 0.4982\n",
            "Epoch 100/100\n",
            "1/1 [==============================] - 0s 11ms/step - loss: 0.6193 - mae: 0.6193\n"
          ]
        },
        {
          "output_type": "execute_result",
          "data": {
            "text/plain": [
              "<keras.callbacks.History at 0x7fb9b040be50>"
            ]
          },
          "metadata": {},
          "execution_count": 40
        }
      ]
    },
    {
      "cell_type": "code",
      "source": [
        "model.predict([17.0])"
      ],
      "metadata": {
        "colab": {
          "base_uri": "https://localhost:8080/"
        },
        "id": "88hWkha6UK_w",
        "outputId": "bbaecf2d-2506-4ab9-97ed-8587070f6f84"
      },
      "execution_count": 41,
      "outputs": [
        {
          "output_type": "execute_result",
          "data": {
            "text/plain": [
              "array([[26.469387]], dtype=float32)"
            ]
          },
          "metadata": {},
          "execution_count": 41
        }
      ]
    },
    {
      "cell_type": "code",
      "source": [],
      "metadata": {
        "id": "qMEuH8nxUM3D"
      },
      "execution_count": null,
      "outputs": []
    }
  ]
}