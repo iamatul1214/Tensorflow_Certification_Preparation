{
  "nbformat": 4,
  "nbformat_minor": 0,
  "metadata": {
    "colab": {
      "provenance": [],
      "authorship_tag": "ABX9TyN1yb5FwkHSCN81WHZ9OON4",
      "include_colab_link": true
    },
    "kernelspec": {
      "name": "python3",
      "display_name": "Python 3"
    },
    "language_info": {
      "name": "python"
    }
  },
  "cells": [
    {
      "cell_type": "markdown",
      "metadata": {
        "id": "view-in-github",
        "colab_type": "text"
      },
      "source": [
        "<a href=\"https://colab.research.google.com/github/iamatul1214/Tensorflow_Certification_Preparation/blob/main/01_neural_network_regression.ipynb\" target=\"_parent\"><img src=\"https://colab.research.google.com/assets/colab-badge.svg\" alt=\"Open In Colab\"/></a>"
      ]
    },
    {
      "cell_type": "code",
      "execution_count": 1,
      "metadata": {
        "colab": {
          "base_uri": "https://localhost:8080/"
        },
        "id": "L3FBphyW2j_e",
        "outputId": "58817f26-6729-4301-fbfc-e6b53e544eba"
      },
      "outputs": [
        {
          "output_type": "stream",
          "name": "stdout",
          "text": [
            "2.8.2\n"
          ]
        }
      ],
      "source": [
        "import tensorflow as tf\n",
        "print(tf.__version__)"
      ]
    },
    {
      "cell_type": "markdown",
      "source": [
        "### Let's try to create some synthetic data here\n"
      ],
      "metadata": {
        "id": "-LwwQ63q4EZi"
      }
    },
    {
      "cell_type": "code",
      "source": [
        "import numpy as np\n",
        "import matplotlib.pyplot as plt\n",
        "\n",
        "# creating features\n",
        "x = np.array([-7.0,-4.0,-1.0,2,5,8,11,14])\n",
        "\n",
        "# creating labels\n",
        "y = np.array([3.0,6.0,9.0,12.0,15.0,18.0,21.0,24.0])\n",
        "\n",
        "#visualize it\n",
        "plt.scatter(x,y)"
      ],
      "metadata": {
        "colab": {
          "base_uri": "https://localhost:8080/",
          "height": 286
        },
        "id": "1i4ci54F3oVG",
        "outputId": "745ce4be-176a-4f6b-fcba-c3c6b99859d8"
      },
      "execution_count": 2,
      "outputs": [
        {
          "output_type": "execute_result",
          "data": {
            "text/plain": [
              "<matplotlib.collections.PathCollection at 0x7f0f8cdb5b90>"
            ]
          },
          "metadata": {},
          "execution_count": 2
        },
        {
          "output_type": "display_data",
          "data": {
            "text/plain": [
              "<Figure size 432x288 with 1 Axes>"
            ],
            "image/png": "[encoded data removed]"
          },
          "metadata": {
            "needs_background": "light"
          }
        }
      ]
    },
    {
      "cell_type": "code",
      "source": [
        "## converting the arrays into tensors\n",
        "x_tensor = tf.constant(x)\n",
        "y_tensor = tf.constant(y)\n",
        "x_tensor,y_tensor"
      ],
      "metadata": {
        "colab": {
          "base_uri": "https://localhost:8080/"
        },
        "id": "YEfKCgMl4w7L",
        "outputId": "3bf86f30-a8cb-4c2d-97f7-555d4cd79d6c"
      },
      "execution_count": 3,
      "outputs": [
        {
          "output_type": "execute_result",
          "data": {
            "text/plain": [
              "(<tf.Tensor: shape=(8,), dtype=float64, numpy=array([-7., -4., -1.,  2.,  5.,  8., 11., 14.])>,\n",
              " <tf.Tensor: shape=(8,), dtype=float64, numpy=array([ 3.,  6.,  9., 12., 15., 18., 21., 24.])>)"
            ]
          },
          "metadata": {},
          "execution_count": 3
        }
      ]
    },
    {
      "cell_type": "markdown",
      "source": [
        "### Steps in modeling with tensorflow\n",
        "1. Creating a model- define the input, output and hidden layers.\n",
        "2. Compiling a model- Define the loss function which tells our model how wrong it is. Optimizer tells your model how to improve the pattern it is leaning and evaluation metrics.\n",
        "3. Fitting a model: training the model. "
      ],
      "metadata": {
        "id": "-miZA18R7IJM"
      }
    },
    {
      "cell_type": "code",
      "source": [
        "## set random seed\n",
        "tf.random.set_seed(42)\n",
        "\n",
        "## 1. create a model using sequential API\n",
        "model = tf.keras.Sequential([\n",
        "    tf.keras.layers.Dense(1)   ## as we will only pass 1\n",
        "])\n",
        "\n",
        "## 2. Compile the model\n",
        "model.compile(loss=tf.keras.losses.mae,\n",
        "              optimizer = tf.keras.optimizers.SGD(),\n",
        "              metrics = ['mae'])\n",
        "\n",
        "## 3. Fitting the model\n",
        "model.fit(tf.expand_dims(x,axis=1),y, epochs= 5)  ## expanding the dimensions of input so that it can be converted into batches"
      ],
      "metadata": {
        "colab": {
          "base_uri": "https://localhost:8080/"
        },
        "id": "H09huLEo8Q-V",
        "outputId": "3d30f5d5-6928-4b75-cd66-c55df3ba4aa6"
      },
      "execution_count": 4,
      "outputs": [
        {
          "output_type": "stream",
          "name": "stdout",
          "text": [
            "Epoch 1/5\n",
            "1/1 [==============================] - 1s 566ms/step - loss: 11.5048 - mae: 11.5048\n",
            "Epoch 2/5\n",
            "1/1 [==============================] - 0s 7ms/step - loss: 11.3723 - mae: 11.3723\n",
            "Epoch 3/5\n",
            "1/1 [==============================] - 0s 5ms/step - loss: 11.2398 - mae: 11.2398\n",
            "Epoch 4/5\n",
            "1/1 [==============================] - 0s 7ms/step - loss: 11.1073 - mae: 11.1073\n",
            "Epoch 5/5\n",
            "1/1 [==============================] - 0s 6ms/step - loss: 10.9748 - mae: 10.9748\n"
          ]
        },
        {
          "output_type": "execute_result",
          "data": {
            "text/plain": [
              "<keras.callbacks.History at 0x7f0f88adc650>"
            ]
          },
          "metadata": {},
          "execution_count": 4
        }
      ]
    },
    {
      "cell_type": "markdown",
      "source": [
        "## Above we used loss and metrics to be same and that's why we can see loss: and mae: values to be same for every epoch. Let's try to predict and check ."
      ],
      "metadata": {
        "id": "J1kwPBQsAdrI"
      }
    },
    {
      "cell_type": "code",
      "source": [
        "tf.expand_dims(x,axis=1)"
      ],
      "metadata": {
        "colab": {
          "base_uri": "https://localhost:8080/"
        },
        "id": "kzS9uPobCG9z",
        "outputId": "00e58b15-6b3f-40fa-96cf-eed6a967ed15"
      },
      "execution_count": 5,
      "outputs": [
        {
          "output_type": "execute_result",
          "data": {
            "text/plain": [
              "<tf.Tensor: shape=(8, 1), dtype=float64, numpy=\n",
              "array([[-7.],\n",
              "       [-4.],\n",
              "       [-1.],\n",
              "       [ 2.],\n",
              "       [ 5.],\n",
              "       [ 8.],\n",
              "       [11.],\n",
              "       [14.]])>"
            ]
          },
          "metadata": {},
          "execution_count": 5
        }
      ]
    },
    {
      "cell_type": "code",
      "source": [
        "model.predict([17.0])"
      ],
      "metadata": {
        "colab": {
          "base_uri": "https://localhost:8080/"
        },
        "id": "pfQfF2kfAN-5",
        "outputId": "0b446833-cfa8-45dd-f214-5cebcbd8d7b0"
      },
      "execution_count": 6,
      "outputs": [
        {
          "output_type": "execute_result",
          "data": {
            "text/plain": [
              "array([[12.716021]], dtype=float32)"
            ]
          },
          "metadata": {},
          "execution_count": 6
        }
      ]
    },
    {
      "cell_type": "markdown",
      "source": [
        "## Another way of creating models\n"
      ],
      "metadata": {
        "id": "bIc2xZMCCs5i"
      }
    },
    {
      "cell_type": "code",
      "source": [
        "## set random seed\n",
        "tf.random.set_seed(42)\n",
        "\n",
        "## 1. create a model using sequential API\n",
        "model = tf.keras.Sequential()\n",
        "model.add(tf.keras.layers.Dense(1))\n",
        "\n",
        "## 2. Compile the model\n",
        "model.compile(loss=tf.keras.losses.mae,\n",
        "              optimizer = tf.keras.optimizers.SGD(),\n",
        "              metrics = ['mae'])\n",
        "\n",
        "## 3. Fitting the model\n",
        "model.fit(tf.expand_dims(x,axis=1),y, epochs= 5)  ## expanding the dimensions of input so that it can be converted into batches"
      ],
      "metadata": {
        "colab": {
          "base_uri": "https://localhost:8080/"
        },
        "id": "_vc5k631CsPd",
        "outputId": "e7e2e816-59c5-4d50-9ca5-03b10177f587"
      },
      "execution_count": 7,
      "outputs": [
        {
          "output_type": "stream",
          "name": "stdout",
          "text": [
            "Epoch 1/5\n",
            "1/1 [==============================] - 0s 291ms/step - loss: 11.5048 - mae: 11.5048\n",
            "Epoch 2/5\n",
            "1/1 [==============================] - 0s 7ms/step - loss: 11.3723 - mae: 11.3723\n",
            "Epoch 3/5\n",
            "1/1 [==============================] - 0s 13ms/step - loss: 11.2398 - mae: 11.2398\n",
            "Epoch 4/5\n",
            "1/1 [==============================] - 0s 9ms/step - loss: 11.1073 - mae: 11.1073\n",
            "Epoch 5/5\n",
            "1/1 [==============================] - 0s 14ms/step - loss: 10.9748 - mae: 10.9748\n"
          ]
        },
        {
          "output_type": "execute_result",
          "data": {
            "text/plain": [
              "<keras.callbacks.History at 0x7f0f87214190>"
            ]
          },
          "metadata": {},
          "execution_count": 7
        }
      ]
    },
    {
      "cell_type": "markdown",
      "source": [
        "## As we observed up that prediction is not that good, Let's see now how can we increase the prediction accuracy"
      ],
      "metadata": {
        "id": "L0hvLkD3CEu6"
      }
    },
    {
      "cell_type": "markdown",
      "source": [
        "### Steps we can do to improve our model\n",
        "1. **while creating a model** - We may add more layers, increase the neurons in hidden layers, change the activation function\n",
        "2. **Compiling the model** - Here we can change the optimization function or the **learning rate** of it.\n",
        "3. **Fitting a model** - Here we can fit a model for more epochs, or more data examples to learn"
      ],
      "metadata": {
        "id": "m4ZE9iX8D5VL"
      }
    },
    {
      "cell_type": "code",
      "source": [
        "## creating another version of the model\n",
        "model = tf.keras.Sequential([\n",
        "    tf.keras.layers.Dense(1)\n",
        "])\n",
        "\n",
        "## compiling\n",
        "model.compile(loss = tf.keras.losses.mae,\n",
        "              optimizer = tf.keras.optimizers.SGD(),\n",
        "              metrics = ['mae'])\n",
        "\n",
        "## fitting the model on 100 epochs\n",
        "\n",
        "model.fit(tf.expand_dims(x, axis=1),y, epochs=100)"
      ],
      "metadata": {
        "colab": {
          "base_uri": "https://localhost:8080/"
        },
        "id": "8WLY0sHLB8SK",
        "outputId": "9487d4de-fd05-4873-8e7a-e4ee254acefd"
      },
      "execution_count": 8,
      "outputs": [
        {
          "output_type": "stream",
          "name": "stdout",
          "text": [
            "Epoch 1/100\n",
            "1/1 [==============================] - 0s 272ms/step - loss: 11.2219 - mae: 11.2219\n",
            "Epoch 2/100\n",
            "1/1 [==============================] - 0s 8ms/step - loss: 11.0894 - mae: 11.0894\n",
            "Epoch 3/100\n",
            "1/1 [==============================] - 0s 6ms/step - loss: 10.9569 - mae: 10.9569\n",
            "Epoch 4/100\n",
            "1/1 [==============================] - 0s 8ms/step - loss: 10.8244 - mae: 10.8244\n",
            "Epoch 5/100\n",
            "1/1 [==============================] - 0s 8ms/step - loss: 10.6919 - mae: 10.6919\n",
            "Epoch 6/100\n",
            "1/1 [==============================] - 0s 8ms/step - loss: 10.5594 - mae: 10.5594\n",
            "Epoch 7/100\n",
            "1/1 [==============================] - 0s 8ms/step - loss: 10.4269 - mae: 10.4269\n",
            "Epoch 8/100\n",
            "1/1 [==============================] - 0s 7ms/step - loss: 10.2944 - mae: 10.2944\n",
            "Epoch 9/100\n",
            "1/1 [==============================] - 0s 8ms/step - loss: 10.1619 - mae: 10.1619\n",
            "Epoch 10/100\n",
            "1/1 [==============================] - 0s 7ms/step - loss: 10.0294 - mae: 10.0294\n",
            "Epoch 11/100\n",
            "1/1 [==============================] - 0s 8ms/step - loss: 9.8969 - mae: 9.8969\n",
            "Epoch 12/100\n",
            "1/1 [==============================] - 0s 7ms/step - loss: 9.7644 - mae: 9.7644\n",
            "Epoch 13/100\n",
            "1/1 [==============================] - 0s 17ms/step - loss: 9.6319 - mae: 9.6319\n",
            "Epoch 14/100\n",
            "1/1 [==============================] - 0s 10ms/step - loss: 9.4994 - mae: 9.4994\n",
            "Epoch 15/100\n",
            "1/1 [==============================] - 0s 7ms/step - loss: 9.3669 - mae: 9.3669\n",
            "Epoch 16/100\n",
            "1/1 [==============================] - 0s 7ms/step - loss: 9.2344 - mae: 9.2344\n",
            "Epoch 17/100\n",
            "1/1 [==============================] - 0s 9ms/step - loss: 9.1019 - mae: 9.1019\n",
            "Epoch 18/100\n",
            "1/1 [==============================] - 0s 7ms/step - loss: 8.9694 - mae: 8.9694\n",
            "Epoch 19/100\n",
            "1/1 [==============================] - 0s 7ms/step - loss: 8.8369 - mae: 8.8369\n",
            "Epoch 20/100\n",
            "1/1 [==============================] - 0s 7ms/step - loss: 8.7044 - mae: 8.7044\n",
            "Epoch 21/100\n",
            "1/1 [==============================] - 0s 7ms/step - loss: 8.5719 - mae: 8.5719\n",
            "Epoch 22/100\n",
            "1/1 [==============================] - 0s 7ms/step - loss: 8.4394 - mae: 8.4394\n",
            "Epoch 23/100\n",
            "1/1 [==============================] - 0s 7ms/step - loss: 8.3069 - mae: 8.3069\n",
            "Epoch 24/100\n",
            "1/1 [==============================] - 0s 8ms/step - loss: 8.1744 - mae: 8.1744\n",
            "Epoch 25/100\n",
            "1/1 [==============================] - 0s 7ms/step - loss: 8.0419 - mae: 8.0419\n",
            "Epoch 26/100\n",
            "1/1 [==============================] - 0s 6ms/step - loss: 7.9094 - mae: 7.9094\n",
            "Epoch 27/100\n",
            "1/1 [==============================] - 0s 6ms/step - loss: 7.7769 - mae: 7.7769\n",
            "Epoch 28/100\n",
            "1/1 [==============================] - 0s 7ms/step - loss: 7.6444 - mae: 7.6444\n",
            "Epoch 29/100\n",
            "1/1 [==============================] - 0s 6ms/step - loss: 7.5119 - mae: 7.5119\n",
            "Epoch 30/100\n",
            "1/1 [==============================] - 0s 8ms/step - loss: 7.3794 - mae: 7.3794\n",
            "Epoch 31/100\n",
            "1/1 [==============================] - 0s 13ms/step - loss: 7.2750 - mae: 7.2750\n",
            "Epoch 32/100\n",
            "1/1 [==============================] - 0s 10ms/step - loss: 7.2694 - mae: 7.2694\n",
            "Epoch 33/100\n",
            "1/1 [==============================] - 0s 11ms/step - loss: 7.2638 - mae: 7.2638\n",
            "Epoch 34/100\n",
            "1/1 [==============================] - 0s 6ms/step - loss: 7.2581 - mae: 7.2581\n",
            "Epoch 35/100\n",
            "1/1 [==============================] - 0s 6ms/step - loss: 7.2525 - mae: 7.2525\n",
            "Epoch 36/100\n",
            "1/1 [==============================] - 0s 6ms/step - loss: 7.2469 - mae: 7.2469\n",
            "Epoch 37/100\n",
            "1/1 [==============================] - 0s 6ms/step - loss: 7.2412 - mae: 7.2412\n",
            "Epoch 38/100\n",
            "1/1 [==============================] - 0s 7ms/step - loss: 7.2356 - mae: 7.2356\n",
            "Epoch 39/100\n",
            "1/1 [==============================] - 0s 9ms/step - loss: 7.2300 - mae: 7.2300\n",
            "Epoch 40/100\n",
            "1/1 [==============================] - 0s 6ms/step - loss: 7.2244 - mae: 7.2244\n",
            "Epoch 41/100\n",
            "1/1 [==============================] - 0s 6ms/step - loss: 7.2188 - mae: 7.2188\n",
            "Epoch 42/100\n",
            "1/1 [==============================] - 0s 6ms/step - loss: 7.2131 - mae: 7.2131\n",
            "Epoch 43/100\n",
            "1/1 [==============================] - 0s 7ms/step - loss: 7.2075 - mae: 7.2075\n",
            "Epoch 44/100\n",
            "1/1 [==============================] - 0s 7ms/step - loss: 7.2019 - mae: 7.2019\n",
            "Epoch 45/100\n",
            "1/1 [==============================] - 0s 9ms/step - loss: 7.1962 - mae: 7.1962\n",
            "Epoch 46/100\n",
            "1/1 [==============================] - 0s 6ms/step - loss: 7.1906 - mae: 7.1906\n",
            "Epoch 47/100\n",
            "1/1 [==============================] - 0s 9ms/step - loss: 7.1850 - mae: 7.1850\n",
            "Epoch 48/100\n",
            "1/1 [==============================] - 0s 7ms/step - loss: 7.1794 - mae: 7.1794\n",
            "Epoch 49/100\n",
            "1/1 [==============================] - 0s 5ms/step - loss: 7.1737 - mae: 7.1737\n",
            "Epoch 50/100\n",
            "1/1 [==============================] - 0s 6ms/step - loss: 7.1681 - mae: 7.1681\n",
            "Epoch 51/100\n",
            "1/1 [==============================] - 0s 9ms/step - loss: 7.1625 - mae: 7.1625\n",
            "Epoch 52/100\n",
            "1/1 [==============================] - 0s 7ms/step - loss: 7.1569 - mae: 7.1569\n",
            "Epoch 53/100\n",
            "1/1 [==============================] - 0s 6ms/step - loss: 7.1512 - mae: 7.1512\n",
            "Epoch 54/100\n",
            "1/1 [==============================] - 0s 10ms/step - loss: 7.1456 - mae: 7.1456\n",
            "Epoch 55/100\n",
            "1/1 [==============================] - 0s 6ms/step - loss: 7.1400 - mae: 7.1400\n",
            "Epoch 56/100\n",
            "1/1 [==============================] - 0s 6ms/step - loss: 7.1344 - mae: 7.1344\n",
            "Epoch 57/100\n",
            "1/1 [==============================] - 0s 7ms/step - loss: 7.1287 - mae: 7.1287\n",
            "Epoch 58/100\n",
            "1/1 [==============================] - 0s 7ms/step - loss: 7.1231 - mae: 7.1231\n",
            "Epoch 59/100\n",
            "1/1 [==============================] - 0s 7ms/step - loss: 7.1175 - mae: 7.1175\n",
            "Epoch 60/100\n",
            "1/1 [==============================] - 0s 6ms/step - loss: 7.1119 - mae: 7.1119\n",
            "Epoch 61/100\n",
            "1/1 [==============================] - 0s 7ms/step - loss: 7.1062 - mae: 7.1062\n",
            "Epoch 62/100\n",
            "1/1 [==============================] - 0s 7ms/step - loss: 7.1006 - mae: 7.1006\n",
            "Epoch 63/100\n",
            "1/1 [==============================] - 0s 7ms/step - loss: 7.0950 - mae: 7.0950\n",
            "Epoch 64/100\n",
            "1/1 [==============================] - 0s 8ms/step - loss: 7.0894 - mae: 7.0894\n",
            "Epoch 65/100\n",
            "1/1 [==============================] - 0s 7ms/step - loss: 7.0838 - mae: 7.0838\n",
            "Epoch 66/100\n",
            "1/1 [==============================] - 0s 9ms/step - loss: 7.0781 - mae: 7.0781\n",
            "Epoch 67/100\n",
            "1/1 [==============================] - 0s 7ms/step - loss: 7.0725 - mae: 7.0725\n",
            "Epoch 68/100\n",
            "1/1 [==============================] - 0s 7ms/step - loss: 7.0669 - mae: 7.0669\n",
            "Epoch 69/100\n",
            "1/1 [==============================] - 0s 6ms/step - loss: 7.0613 - mae: 7.0613\n",
            "Epoch 70/100\n",
            "1/1 [==============================] - 0s 9ms/step - loss: 7.0556 - mae: 7.0556\n",
            "Epoch 71/100\n",
            "1/1 [==============================] - 0s 10ms/step - loss: 7.0500 - mae: 7.0500\n",
            "Epoch 72/100\n",
            "1/1 [==============================] - 0s 11ms/step - loss: 7.0444 - mae: 7.0444\n",
            "Epoch 73/100\n",
            "1/1 [==============================] - 0s 8ms/step - loss: 7.0388 - mae: 7.0388\n",
            "Epoch 74/100\n",
            "1/1 [==============================] - 0s 9ms/step - loss: 7.0331 - mae: 7.0331\n",
            "Epoch 75/100\n",
            "1/1 [==============================] - 0s 9ms/step - loss: 7.0275 - mae: 7.0275\n",
            "Epoch 76/100\n",
            "1/1 [==============================] - 0s 9ms/step - loss: 7.0219 - mae: 7.0219\n",
            "Epoch 77/100\n",
            "1/1 [==============================] - 0s 9ms/step - loss: 7.0163 - mae: 7.0163\n",
            "Epoch 78/100\n",
            "1/1 [==============================] - 0s 9ms/step - loss: 7.0106 - mae: 7.0106\n",
            "Epoch 79/100\n",
            "1/1 [==============================] - 0s 9ms/step - loss: 7.0050 - mae: 7.0050\n",
            "Epoch 80/100\n",
            "1/1 [==============================] - 0s 8ms/step - loss: 6.9994 - mae: 6.9994\n",
            "Epoch 81/100\n",
            "1/1 [==============================] - 0s 10ms/step - loss: 6.9938 - mae: 6.9938\n",
            "Epoch 82/100\n",
            "1/1 [==============================] - 0s 7ms/step - loss: 6.9881 - mae: 6.9881\n",
            "Epoch 83/100\n",
            "1/1 [==============================] - 0s 9ms/step - loss: 6.9825 - mae: 6.9825\n",
            "Epoch 84/100\n",
            "1/1 [==============================] - 0s 11ms/step - loss: 6.9769 - mae: 6.9769\n",
            "Epoch 85/100\n",
            "1/1 [==============================] - 0s 18ms/step - loss: 6.9713 - mae: 6.9713\n",
            "Epoch 86/100\n",
            "1/1 [==============================] - 0s 8ms/step - loss: 6.9656 - mae: 6.9656\n",
            "Epoch 87/100\n",
            "1/1 [==============================] - 0s 8ms/step - loss: 6.9600 - mae: 6.9600\n",
            "Epoch 88/100\n",
            "1/1 [==============================] - 0s 11ms/step - loss: 6.9544 - mae: 6.9544\n",
            "Epoch 89/100\n",
            "1/1 [==============================] - 0s 10ms/step - loss: 6.9488 - mae: 6.9488\n",
            "Epoch 90/100\n",
            "1/1 [==============================] - 0s 9ms/step - loss: 6.9431 - mae: 6.9431\n",
            "Epoch 91/100\n",
            "1/1 [==============================] - 0s 8ms/step - loss: 6.9375 - mae: 6.9375\n",
            "Epoch 92/100\n",
            "1/1 [==============================] - 0s 10ms/step - loss: 6.9319 - mae: 6.9319\n",
            "Epoch 93/100\n",
            "1/1 [==============================] - 0s 8ms/step - loss: 6.9263 - mae: 6.9263\n",
            "Epoch 94/100\n",
            "1/1 [==============================] - 0s 14ms/step - loss: 6.9206 - mae: 6.9206\n",
            "Epoch 95/100\n",
            "1/1 [==============================] - 0s 9ms/step - loss: 6.9150 - mae: 6.9150\n",
            "Epoch 96/100\n",
            "1/1 [==============================] - 0s 10ms/step - loss: 6.9094 - mae: 6.9094\n",
            "Epoch 97/100\n",
            "1/1 [==============================] - 0s 8ms/step - loss: 6.9038 - mae: 6.9038\n",
            "Epoch 98/100\n",
            "1/1 [==============================] - 0s 21ms/step - loss: 6.8981 - mae: 6.8981\n",
            "Epoch 99/100\n",
            "1/1 [==============================] - 0s 11ms/step - loss: 6.8925 - mae: 6.8925\n",
            "Epoch 100/100\n",
            "1/1 [==============================] - 0s 14ms/step - loss: 6.8869 - mae: 6.8869\n"
          ]
        },
        {
          "output_type": "execute_result",
          "data": {
            "text/plain": [
              "<keras.callbacks.History at 0x7f0f8817f2d0>"
            ]
          },
          "metadata": {},
          "execution_count": 8
        }
      ]
    },
    {
      "cell_type": "code",
      "source": [
        "model.predict([17.0]) ## we can see that the output is somewhat closer than what we expect"
      ],
      "metadata": {
        "colab": {
          "base_uri": "https://localhost:8080/"
        },
        "id": "Y1w1DUv9BWGG",
        "outputId": "ee3748ac-b7d1-4130-8bf4-491228714d05"
      },
      "execution_count": 9,
      "outputs": [
        {
          "output_type": "execute_result",
          "data": {
            "text/plain": [
              "array([[29.739855]], dtype=float32)"
            ]
          },
          "metadata": {},
          "execution_count": 9
        }
      ]
    },
    {
      "cell_type": "code",
      "source": [
        "## Let's create another set of model with different configurations\n",
        "model = tf.keras.Sequential([\n",
        "    tf.keras.layers.Dense(5),\n",
        "    tf.keras.layers.Dense(3),\n",
        "    tf.keras.layers.Dense(1)\n",
        "])\n",
        "\n",
        "model.compile(loss=tf.keras.losses.mae,\n",
        "              optimizer = tf.keras.optimizers.SGD(),\n",
        "              metrics = ['mae'])\n",
        "\n",
        "model.fit(tf.expand_dims(x, axis=1),y, epochs=100)"
      ],
      "metadata": {
        "colab": {
          "base_uri": "https://localhost:8080/"
        },
        "id": "nOvhP7umPS77",
        "outputId": "03b11de8-0371-4068-f06d-1902dcf04242"
      },
      "execution_count": 10,
      "outputs": [
        {
          "output_type": "stream",
          "name": "stdout",
          "text": [
            "Epoch 1/100\n",
            "1/1 [==============================] - 1s 548ms/step - loss: 14.6059 - mae: 14.6059\n",
            "Epoch 2/100\n",
            "1/1 [==============================] - 0s 14ms/step - loss: 14.3084 - mae: 14.3084\n",
            "Epoch 3/100\n",
            "1/1 [==============================] - 0s 9ms/step - loss: 14.0240 - mae: 14.0240\n",
            "Epoch 4/100\n",
            "1/1 [==============================] - 0s 7ms/step - loss: 13.7479 - mae: 13.7479\n",
            "Epoch 5/100\n",
            "1/1 [==============================] - 0s 11ms/step - loss: 13.4755 - mae: 13.4755\n",
            "Epoch 6/100\n",
            "1/1 [==============================] - 0s 12ms/step - loss: 13.2026 - mae: 13.2026\n",
            "Epoch 7/100\n",
            "1/1 [==============================] - 0s 8ms/step - loss: 12.9247 - mae: 12.9247\n",
            "Epoch 8/100\n",
            "1/1 [==============================] - 0s 7ms/step - loss: 12.6375 - mae: 12.6375\n",
            "Epoch 9/100\n",
            "1/1 [==============================] - 0s 7ms/step - loss: 12.3363 - mae: 12.3363\n",
            "Epoch 10/100\n",
            "1/1 [==============================] - 0s 15ms/step - loss: 12.0160 - mae: 12.0160\n",
            "Epoch 11/100\n",
            "1/1 [==============================] - 0s 10ms/step - loss: 11.6711 - mae: 11.6711\n",
            "Epoch 12/100\n",
            "1/1 [==============================] - 0s 15ms/step - loss: 11.2950 - mae: 11.2950\n",
            "Epoch 13/100\n",
            "1/1 [==============================] - 0s 9ms/step - loss: 10.8804 - mae: 10.8804\n",
            "Epoch 14/100\n",
            "1/1 [==============================] - 0s 13ms/step - loss: 10.4185 - mae: 10.4185\n",
            "Epoch 15/100\n",
            "1/1 [==============================] - 0s 13ms/step - loss: 9.8988 - mae: 9.8988\n",
            "Epoch 16/100\n",
            "1/1 [==============================] - 0s 10ms/step - loss: 9.3087 - mae: 9.3087\n",
            "Epoch 17/100\n",
            "1/1 [==============================] - 0s 9ms/step - loss: 8.6325 - mae: 8.6325\n",
            "Epoch 18/100\n",
            "1/1 [==============================] - 0s 9ms/step - loss: 7.8509 - mae: 7.8509\n",
            "Epoch 19/100\n",
            "1/1 [==============================] - 0s 7ms/step - loss: 7.0501 - mae: 7.0501\n",
            "Epoch 20/100\n",
            "1/1 [==============================] - 0s 8ms/step - loss: 7.0224 - mae: 7.0224\n",
            "Epoch 21/100\n",
            "1/1 [==============================] - 0s 7ms/step - loss: 6.9943 - mae: 6.9943\n",
            "Epoch 22/100\n",
            "1/1 [==============================] - 0s 31ms/step - loss: 6.9660 - mae: 6.9660\n",
            "Epoch 23/100\n",
            "1/1 [==============================] - 0s 11ms/step - loss: 6.9373 - mae: 6.9373\n",
            "Epoch 24/100\n",
            "1/1 [==============================] - 0s 12ms/step - loss: 6.9083 - mae: 6.9083\n",
            "Epoch 25/100\n",
            "1/1 [==============================] - 0s 15ms/step - loss: 6.8789 - mae: 6.8789\n",
            "Epoch 26/100\n",
            "1/1 [==============================] - 0s 14ms/step - loss: 6.8491 - mae: 6.8491\n",
            "Epoch 27/100\n",
            "1/1 [==============================] - 0s 17ms/step - loss: 6.8190 - mae: 6.8190\n",
            "Epoch 28/100\n",
            "1/1 [==============================] - 0s 11ms/step - loss: 6.7883 - mae: 6.7883\n",
            "Epoch 29/100\n",
            "1/1 [==============================] - 0s 12ms/step - loss: 6.7573 - mae: 6.7573\n",
            "Epoch 30/100\n",
            "1/1 [==============================] - 0s 12ms/step - loss: 6.7257 - mae: 6.7257\n",
            "Epoch 31/100\n",
            "1/1 [==============================] - 0s 16ms/step - loss: 6.6937 - mae: 6.6937\n",
            "Epoch 32/100\n",
            "1/1 [==============================] - 0s 12ms/step - loss: 6.6625 - mae: 6.6625\n",
            "Epoch 33/100\n",
            "1/1 [==============================] - 0s 10ms/step - loss: 6.8066 - mae: 6.8066\n",
            "Epoch 34/100\n",
            "1/1 [==============================] - 0s 13ms/step - loss: 6.8003 - mae: 6.8003\n",
            "Epoch 35/100\n",
            "1/1 [==============================] - 0s 14ms/step - loss: 6.6025 - mae: 6.6025\n",
            "Epoch 36/100\n",
            "1/1 [==============================] - 0s 12ms/step - loss: 6.5701 - mae: 6.5701\n",
            "Epoch 37/100\n",
            "1/1 [==============================] - 0s 12ms/step - loss: 6.5370 - mae: 6.5370\n",
            "Epoch 38/100\n",
            "1/1 [==============================] - 0s 19ms/step - loss: 6.5032 - mae: 6.5032\n",
            "Epoch 39/100\n",
            "1/1 [==============================] - 0s 9ms/step - loss: 6.4688 - mae: 6.4688\n",
            "Epoch 40/100\n",
            "1/1 [==============================] - 0s 10ms/step - loss: 6.4336 - mae: 6.4336\n",
            "Epoch 41/100\n",
            "1/1 [==============================] - 0s 7ms/step - loss: 6.3977 - mae: 6.3977\n",
            "Epoch 42/100\n",
            "1/1 [==============================] - 0s 8ms/step - loss: 6.3610 - mae: 6.3610\n",
            "Epoch 43/100\n",
            "1/1 [==============================] - 0s 15ms/step - loss: 6.3235 - mae: 6.3235\n",
            "Epoch 44/100\n",
            "1/1 [==============================] - 0s 12ms/step - loss: 6.3349 - mae: 6.3349\n",
            "Epoch 45/100\n",
            "1/1 [==============================] - 0s 12ms/step - loss: 6.4121 - mae: 6.4121\n",
            "Epoch 46/100\n",
            "1/1 [==============================] - 0s 13ms/step - loss: 6.4939 - mae: 6.4939\n",
            "Epoch 47/100\n",
            "1/1 [==============================] - 0s 7ms/step - loss: 6.2221 - mae: 6.2221\n",
            "Epoch 48/100\n",
            "1/1 [==============================] - 0s 6ms/step - loss: 6.1828 - mae: 6.1828\n",
            "Epoch 49/100\n",
            "1/1 [==============================] - 0s 19ms/step - loss: 6.1426 - mae: 6.1426\n",
            "Epoch 50/100\n",
            "1/1 [==============================] - 0s 19ms/step - loss: 6.1013 - mae: 6.1013\n",
            "Epoch 51/100\n",
            "1/1 [==============================] - 0s 12ms/step - loss: 6.0590 - mae: 6.0590\n",
            "Epoch 52/100\n",
            "1/1 [==============================] - 0s 13ms/step - loss: 6.0156 - mae: 6.0156\n",
            "Epoch 53/100\n",
            "1/1 [==============================] - 0s 14ms/step - loss: 6.0337 - mae: 6.0337\n",
            "Epoch 54/100\n",
            "1/1 [==============================] - 0s 12ms/step - loss: 6.1183 - mae: 6.1183\n",
            "Epoch 55/100\n",
            "1/1 [==============================] - 0s 12ms/step - loss: 6.2063 - mae: 6.2063\n",
            "Epoch 56/100\n",
            "1/1 [==============================] - 0s 9ms/step - loss: 5.8990 - mae: 5.8990\n",
            "Epoch 57/100\n",
            "1/1 [==============================] - 0s 13ms/step - loss: 5.8525 - mae: 5.8525\n",
            "Epoch 58/100\n",
            "1/1 [==============================] - 0s 10ms/step - loss: 5.8047 - mae: 5.8047\n",
            "Epoch 59/100\n",
            "1/1 [==============================] - 0s 16ms/step - loss: 5.7556 - mae: 5.7556\n",
            "Epoch 60/100\n",
            "1/1 [==============================] - 0s 7ms/step - loss: 5.7169 - mae: 5.7169\n",
            "Epoch 61/100\n",
            "1/1 [==============================] - 0s 11ms/step - loss: 5.9434 - mae: 5.9434\n",
            "Epoch 62/100\n",
            "1/1 [==============================] - 0s 6ms/step - loss: 5.8971 - mae: 5.8971\n",
            "Epoch 63/100\n",
            "1/1 [==============================] - 0s 10ms/step - loss: 5.6220 - mae: 5.6220\n",
            "Epoch 64/100\n",
            "1/1 [==============================] - 0s 12ms/step - loss: 5.5686 - mae: 5.5686\n",
            "Epoch 65/100\n",
            "1/1 [==============================] - 0s 12ms/step - loss: 5.5134 - mae: 5.5134\n",
            "Epoch 66/100\n",
            "1/1 [==============================] - 0s 9ms/step - loss: 5.4566 - mae: 5.4566\n",
            "Epoch 67/100\n",
            "1/1 [==============================] - 0s 11ms/step - loss: 5.4138 - mae: 5.4138\n",
            "Epoch 68/100\n",
            "1/1 [==============================] - 0s 11ms/step - loss: 5.6775 - mae: 5.6775\n",
            "Epoch 69/100\n",
            "1/1 [==============================] - 0s 8ms/step - loss: 5.6026 - mae: 5.6026\n",
            "Epoch 70/100\n",
            "1/1 [==============================] - 0s 14ms/step - loss: 5.2989 - mae: 5.2989\n",
            "Epoch 71/100\n",
            "1/1 [==============================] - 0s 22ms/step - loss: 5.2361 - mae: 5.2361\n",
            "Epoch 72/100\n",
            "1/1 [==============================] - 0s 13ms/step - loss: 5.1712 - mae: 5.1712\n",
            "Epoch 73/100\n",
            "1/1 [==============================] - 0s 10ms/step - loss: 5.1042 - mae: 5.1042\n",
            "Epoch 74/100\n",
            "1/1 [==============================] - 0s 11ms/step - loss: 5.1051 - mae: 5.1051\n",
            "Epoch 75/100\n",
            "1/1 [==============================] - 0s 14ms/step - loss: 5.3145 - mae: 5.3145\n",
            "Epoch 76/100\n",
            "1/1 [==============================] - 0s 40ms/step - loss: 5.3039 - mae: 5.3039\n",
            "Epoch 77/100\n",
            "1/1 [==============================] - 0s 13ms/step - loss: 4.9130 - mae: 4.9130\n",
            "Epoch 78/100\n",
            "1/1 [==============================] - 0s 49ms/step - loss: 4.8378 - mae: 4.8378\n",
            "Epoch 79/100\n",
            "1/1 [==============================] - 0s 20ms/step - loss: 4.7599 - mae: 4.7599\n",
            "Epoch 80/100\n",
            "1/1 [==============================] - 0s 27ms/step - loss: 4.7403 - mae: 4.7403\n",
            "Epoch 81/100\n",
            "1/1 [==============================] - 0s 13ms/step - loss: 5.0377 - mae: 5.0377\n",
            "Epoch 82/100\n",
            "1/1 [==============================] - 0s 11ms/step - loss: 4.9451 - mae: 4.9451\n",
            "Epoch 83/100\n",
            "1/1 [==============================] - 0s 17ms/step - loss: 4.5310 - mae: 4.5310\n",
            "Epoch 84/100\n",
            "1/1 [==============================] - 0s 19ms/step - loss: 4.4425 - mae: 4.4425\n",
            "Epoch 85/100\n",
            "1/1 [==============================] - 0s 9ms/step - loss: 4.3506 - mae: 4.3506\n",
            "Epoch 86/100\n",
            "1/1 [==============================] - 0s 12ms/step - loss: 4.3323 - mae: 4.3323\n",
            "Epoch 87/100\n",
            "1/1 [==============================] - 0s 10ms/step - loss: 4.6866 - mae: 4.6866\n",
            "Epoch 88/100\n",
            "1/1 [==============================] - 0s 13ms/step - loss: 4.5439 - mae: 4.5439\n",
            "Epoch 89/100\n",
            "1/1 [==============================] - 0s 9ms/step - loss: 4.0717 - mae: 4.0717\n",
            "Epoch 90/100\n",
            "1/1 [==============================] - 0s 9ms/step - loss: 3.9658 - mae: 3.9658\n",
            "Epoch 91/100\n",
            "1/1 [==============================] - 0s 14ms/step - loss: 3.8556 - mae: 3.8556\n",
            "Epoch 92/100\n",
            "1/1 [==============================] - 0s 10ms/step - loss: 3.8515 - mae: 3.8515\n",
            "Epoch 93/100\n",
            "1/1 [==============================] - 0s 11ms/step - loss: 4.2568 - mae: 4.2568\n",
            "Epoch 94/100\n",
            "1/1 [==============================] - 0s 15ms/step - loss: 4.1740 - mae: 4.1740\n",
            "Epoch 95/100\n",
            "1/1 [==============================] - 0s 11ms/step - loss: 4.5065 - mae: 4.5065\n",
            "Epoch 96/100\n",
            "1/1 [==============================] - 0s 14ms/step - loss: 3.6418 - mae: 3.6418\n",
            "Epoch 97/100\n",
            "1/1 [==============================] - 0s 40ms/step - loss: 3.7677 - mae: 3.7677\n",
            "Epoch 98/100\n",
            "1/1 [==============================] - 0s 19ms/step - loss: 4.1624 - mae: 4.1624\n",
            "Epoch 99/100\n",
            "1/1 [==============================] - 0s 17ms/step - loss: 4.0290 - mae: 4.0290\n",
            "Epoch 100/100\n",
            "1/1 [==============================] - 0s 10ms/step - loss: 3.4751 - mae: 3.4751\n"
          ]
        },
        {
          "output_type": "execute_result",
          "data": {
            "text/plain": [
              "<keras.callbacks.History at 0x7f0f8cd38610>"
            ]
          },
          "metadata": {},
          "execution_count": 10
        }
      ]
    },
    {
      "cell_type": "code",
      "source": [
        "model.predict([17.0])"
      ],
      "metadata": {
        "colab": {
          "base_uri": "https://localhost:8080/"
        },
        "id": "c9uGoxXLRiAe",
        "outputId": "1e8c81c0-6048-4bc2-faa7-d0db561b54b3"
      },
      "execution_count": 11,
      "outputs": [
        {
          "output_type": "execute_result",
          "data": {
            "text/plain": [
              "array([[21.965601]], dtype=float32)"
            ]
          },
          "metadata": {},
          "execution_count": 11
        }
      ]
    },
    {
      "cell_type": "code",
      "source": [
        "## trying the same configuration with different optimizers\n",
        "\n",
        "model = tf.keras.Sequential([\n",
        "    tf.keras.layers.Dense(5),\n",
        "    tf.keras.layers.Dense(3),\n",
        "    tf.keras.layers.Dense(1)\n",
        "])\n",
        "\n",
        "model.compile(loss = tf.keras.losses.mae,\n",
        "              optimizer = tf.keras.optimizers.Adam(learning_rate = 0.0001),\n",
        "              metrics = ['mae']\n",
        "              )\n",
        "\n",
        "model.fit(tf.expand_dims(x,axis=1),y,epochs=100)"
      ],
      "metadata": {
        "colab": {
          "base_uri": "https://localhost:8080/"
        },
        "id": "2AgVGFhcRorD",
        "outputId": "c05157c1-5513-4a5c-9ee9-4682e895110e"
      },
      "execution_count": 12,
      "outputs": [
        {
          "output_type": "stream",
          "name": "stdout",
          "text": [
            "Epoch 1/100\n",
            "1/1 [==============================] - 1s 776ms/step - loss: 19.5326 - mae: 19.5326\n",
            "Epoch 2/100\n",
            "1/1 [==============================] - 0s 11ms/step - loss: 19.5274 - mae: 19.5274\n",
            "Epoch 3/100\n",
            "1/1 [==============================] - 0s 19ms/step - loss: 19.5222 - mae: 19.5222\n",
            "Epoch 4/100\n",
            "1/1 [==============================] - 0s 9ms/step - loss: 19.5169 - mae: 19.5169\n",
            "Epoch 5/100\n",
            "1/1 [==============================] - 0s 9ms/step - loss: 19.5117 - mae: 19.5117\n",
            "Epoch 6/100\n",
            "1/1 [==============================] - 0s 23ms/step - loss: 19.5064 - mae: 19.5064\n",
            "Epoch 7/100\n",
            "1/1 [==============================] - 0s 13ms/step - loss: 19.5012 - mae: 19.5012\n",
            "Epoch 8/100\n",
            "1/1 [==============================] - 0s 17ms/step - loss: 19.4960 - mae: 19.4960\n",
            "Epoch 9/100\n",
            "1/1 [==============================] - 0s 10ms/step - loss: 19.4908 - mae: 19.4908\n",
            "Epoch 10/100\n",
            "1/1 [==============================] - 0s 10ms/step - loss: 19.4855 - mae: 19.4855\n",
            "Epoch 11/100\n",
            "1/1 [==============================] - 0s 11ms/step - loss: 19.4803 - mae: 19.4803\n",
            "Epoch 12/100\n",
            "1/1 [==============================] - 0s 10ms/step - loss: 19.4751 - mae: 19.4751\n",
            "Epoch 13/100\n",
            "1/1 [==============================] - 0s 18ms/step - loss: 19.4699 - mae: 19.4699\n",
            "Epoch 14/100\n",
            "1/1 [==============================] - 0s 14ms/step - loss: 19.4646 - mae: 19.4646\n",
            "Epoch 15/100\n",
            "1/1 [==============================] - 0s 27ms/step - loss: 19.4594 - mae: 19.4594\n",
            "Epoch 16/100\n",
            "1/1 [==============================] - 0s 15ms/step - loss: 19.4542 - mae: 19.4542\n",
            "Epoch 17/100\n",
            "1/1 [==============================] - 0s 19ms/step - loss: 19.4490 - mae: 19.4490\n",
            "Epoch 18/100\n",
            "1/1 [==============================] - 0s 19ms/step - loss: 19.4438 - mae: 19.4438\n",
            "Epoch 19/100\n",
            "1/1 [==============================] - 0s 15ms/step - loss: 19.4386 - mae: 19.4386\n",
            "Epoch 20/100\n",
            "1/1 [==============================] - 0s 15ms/step - loss: 19.4334 - mae: 19.4334\n",
            "Epoch 21/100\n",
            "1/1 [==============================] - 0s 16ms/step - loss: 19.4282 - mae: 19.4282\n",
            "Epoch 22/100\n",
            "1/1 [==============================] - 0s 19ms/step - loss: 19.4230 - mae: 19.4230\n",
            "Epoch 23/100\n",
            "1/1 [==============================] - 0s 13ms/step - loss: 19.4178 - mae: 19.4178\n",
            "Epoch 24/100\n",
            "1/1 [==============================] - 0s 12ms/step - loss: 19.4126 - mae: 19.4126\n",
            "Epoch 25/100\n",
            "1/1 [==============================] - 0s 13ms/step - loss: 19.4074 - mae: 19.4074\n",
            "Epoch 26/100\n",
            "1/1 [==============================] - 0s 10ms/step - loss: 19.4022 - mae: 19.4022\n",
            "Epoch 27/100\n",
            "1/1 [==============================] - 0s 9ms/step - loss: 19.3970 - mae: 19.3970\n",
            "Epoch 28/100\n",
            "1/1 [==============================] - 0s 8ms/step - loss: 19.3918 - mae: 19.3918\n",
            "Epoch 29/100\n",
            "1/1 [==============================] - 0s 8ms/step - loss: 19.3866 - mae: 19.3866\n",
            "Epoch 30/100\n",
            "1/1 [==============================] - 0s 17ms/step - loss: 19.3814 - mae: 19.3814\n",
            "Epoch 31/100\n",
            "1/1 [==============================] - 0s 44ms/step - loss: 19.3762 - mae: 19.3762\n",
            "Epoch 32/100\n",
            "1/1 [==============================] - 0s 13ms/step - loss: 19.3710 - mae: 19.3710\n",
            "Epoch 33/100\n",
            "1/1 [==============================] - 0s 17ms/step - loss: 19.3658 - mae: 19.3658\n",
            "Epoch 34/100\n",
            "1/1 [==============================] - 0s 19ms/step - loss: 19.3607 - mae: 19.3607\n",
            "Epoch 35/100\n",
            "1/1 [==============================] - 0s 18ms/step - loss: 19.3555 - mae: 19.3555\n",
            "Epoch 36/100\n",
            "1/1 [==============================] - 0s 16ms/step - loss: 19.3503 - mae: 19.3503\n",
            "Epoch 37/100\n",
            "1/1 [==============================] - 0s 23ms/step - loss: 19.3451 - mae: 19.3451\n",
            "Epoch 38/100\n",
            "1/1 [==============================] - 0s 18ms/step - loss: 19.3400 - mae: 19.3400\n",
            "Epoch 39/100\n",
            "1/1 [==============================] - 0s 20ms/step - loss: 19.3348 - mae: 19.3348\n",
            "Epoch 40/100\n",
            "1/1 [==============================] - 0s 34ms/step - loss: 19.3296 - mae: 19.3296\n",
            "Epoch 41/100\n",
            "1/1 [==============================] - 0s 49ms/step - loss: 19.3245 - mae: 19.3245\n",
            "Epoch 42/100\n",
            "1/1 [==============================] - 0s 25ms/step - loss: 19.3193 - mae: 19.3193\n",
            "Epoch 43/100\n",
            "1/1 [==============================] - 0s 29ms/step - loss: 19.3142 - mae: 19.3142\n",
            "Epoch 44/100\n",
            "1/1 [==============================] - 0s 25ms/step - loss: 19.3090 - mae: 19.3090\n",
            "Epoch 45/100\n",
            "1/1 [==============================] - 0s 16ms/step - loss: 19.3039 - mae: 19.3039\n",
            "Epoch 46/100\n",
            "1/1 [==============================] - 0s 26ms/step - loss: 19.2987 - mae: 19.2987\n",
            "Epoch 47/100\n",
            "1/1 [==============================] - 0s 10ms/step - loss: 19.2935 - mae: 19.2935\n",
            "Epoch 48/100\n",
            "1/1 [==============================] - 0s 15ms/step - loss: 19.2884 - mae: 19.2884\n",
            "Epoch 49/100\n",
            "1/1 [==============================] - 0s 13ms/step - loss: 19.2833 - mae: 19.2833\n",
            "Epoch 50/100\n",
            "1/1 [==============================] - 0s 13ms/step - loss: 19.2781 - mae: 19.2781\n",
            "Epoch 51/100\n",
            "1/1 [==============================] - 0s 13ms/step - loss: 19.2730 - mae: 19.2730\n",
            "Epoch 52/100\n",
            "1/1 [==============================] - 0s 13ms/step - loss: 19.2678 - mae: 19.2678\n",
            "Epoch 53/100\n",
            "1/1 [==============================] - 0s 16ms/step - loss: 19.2627 - mae: 19.2627\n",
            "Epoch 54/100\n",
            "1/1 [==============================] - 0s 14ms/step - loss: 19.2576 - mae: 19.2576\n",
            "Epoch 55/100\n",
            "1/1 [==============================] - 0s 14ms/step - loss: 19.2524 - mae: 19.2524\n",
            "Epoch 56/100\n",
            "1/1 [==============================] - 0s 25ms/step - loss: 19.2473 - mae: 19.2473\n",
            "Epoch 57/100\n",
            "1/1 [==============================] - 0s 13ms/step - loss: 19.2422 - mae: 19.2422\n",
            "Epoch 58/100\n",
            "1/1 [==============================] - 0s 12ms/step - loss: 19.2370 - mae: 19.2370\n",
            "Epoch 59/100\n",
            "1/1 [==============================] - 0s 11ms/step - loss: 19.2319 - mae: 19.2319\n",
            "Epoch 60/100\n",
            "1/1 [==============================] - 0s 12ms/step - loss: 19.2268 - mae: 19.2268\n",
            "Epoch 61/100\n",
            "1/1 [==============================] - 0s 13ms/step - loss: 19.2217 - mae: 19.2217\n",
            "Epoch 62/100\n",
            "1/1 [==============================] - 0s 14ms/step - loss: 19.2166 - mae: 19.2166\n",
            "Epoch 63/100\n",
            "1/1 [==============================] - 0s 49ms/step - loss: 19.2115 - mae: 19.2115\n",
            "Epoch 64/100\n",
            "1/1 [==============================] - 0s 23ms/step - loss: 19.2063 - mae: 19.2063\n",
            "Epoch 65/100\n",
            "1/1 [==============================] - 0s 22ms/step - loss: 19.2012 - mae: 19.2012\n",
            "Epoch 66/100\n",
            "1/1 [==============================] - 0s 16ms/step - loss: 19.1961 - mae: 19.1961\n",
            "Epoch 67/100\n",
            "1/1 [==============================] - 0s 13ms/step - loss: 19.1910 - mae: 19.1910\n",
            "Epoch 68/100\n",
            "1/1 [==============================] - 0s 19ms/step - loss: 19.1859 - mae: 19.1859\n",
            "Epoch 69/100\n",
            "1/1 [==============================] - 0s 16ms/step - loss: 19.1808 - mae: 19.1808\n",
            "Epoch 70/100\n",
            "1/1 [==============================] - 0s 20ms/step - loss: 19.1757 - mae: 19.1757\n",
            "Epoch 71/100\n",
            "1/1 [==============================] - 0s 14ms/step - loss: 19.1706 - mae: 19.1706\n",
            "Epoch 72/100\n",
            "1/1 [==============================] - 0s 26ms/step - loss: 19.1655 - mae: 19.1655\n",
            "Epoch 73/100\n",
            "1/1 [==============================] - 0s 10ms/step - loss: 19.1604 - mae: 19.1604\n",
            "Epoch 74/100\n",
            "1/1 [==============================] - 0s 21ms/step - loss: 19.1553 - mae: 19.1553\n",
            "Epoch 75/100\n",
            "1/1 [==============================] - 0s 12ms/step - loss: 19.1503 - mae: 19.1503\n",
            "Epoch 76/100\n",
            "1/1 [==============================] - 0s 25ms/step - loss: 19.1452 - mae: 19.1452\n",
            "Epoch 77/100\n",
            "1/1 [==============================] - 0s 19ms/step - loss: 19.1401 - mae: 19.1401\n",
            "Epoch 78/100\n",
            "1/1 [==============================] - 0s 14ms/step - loss: 19.1350 - mae: 19.1350\n",
            "Epoch 79/100\n",
            "1/1 [==============================] - 0s 13ms/step - loss: 19.1299 - mae: 19.1299\n",
            "Epoch 80/100\n",
            "1/1 [==============================] - 0s 13ms/step - loss: 19.1248 - mae: 19.1248\n",
            "Epoch 81/100\n",
            "1/1 [==============================] - 0s 15ms/step - loss: 19.1198 - mae: 19.1198\n",
            "Epoch 82/100\n",
            "1/1 [==============================] - 0s 14ms/step - loss: 19.1147 - mae: 19.1147\n",
            "Epoch 83/100\n",
            "1/1 [==============================] - 0s 13ms/step - loss: 19.1096 - mae: 19.1096\n",
            "Epoch 84/100\n",
            "1/1 [==============================] - 0s 19ms/step - loss: 19.1046 - mae: 19.1046\n",
            "Epoch 85/100\n",
            "1/1 [==============================] - 0s 12ms/step - loss: 19.0995 - mae: 19.0995\n",
            "Epoch 86/100\n",
            "1/1 [==============================] - 0s 12ms/step - loss: 19.0944 - mae: 19.0944\n",
            "Epoch 87/100\n",
            "1/1 [==============================] - 0s 11ms/step - loss: 19.0894 - mae: 19.0894\n",
            "Epoch 88/100\n",
            "1/1 [==============================] - 0s 23ms/step - loss: 19.0843 - mae: 19.0843\n",
            "Epoch 89/100\n",
            "1/1 [==============================] - 0s 24ms/step - loss: 19.0793 - mae: 19.0793\n",
            "Epoch 90/100\n",
            "1/1 [==============================] - 0s 16ms/step - loss: 19.0742 - mae: 19.0742\n",
            "Epoch 91/100\n",
            "1/1 [==============================] - 0s 16ms/step - loss: 19.0691 - mae: 19.0691\n",
            "Epoch 92/100\n",
            "1/1 [==============================] - 0s 18ms/step - loss: 19.0641 - mae: 19.0641\n",
            "Epoch 93/100\n",
            "1/1 [==============================] - 0s 15ms/step - loss: 19.0590 - mae: 19.0590\n",
            "Epoch 94/100\n",
            "1/1 [==============================] - 0s 16ms/step - loss: 19.0540 - mae: 19.0540\n",
            "Epoch 95/100\n",
            "1/1 [==============================] - 0s 26ms/step - loss: 19.0490 - mae: 19.0490\n",
            "Epoch 96/100\n",
            "1/1 [==============================] - 0s 11ms/step - loss: 19.0439 - mae: 19.0439\n",
            "Epoch 97/100\n",
            "1/1 [==============================] - 0s 9ms/step - loss: 19.0389 - mae: 19.0389\n",
            "Epoch 98/100\n",
            "1/1 [==============================] - 0s 8ms/step - loss: 19.0338 - mae: 19.0338\n",
            "Epoch 99/100\n",
            "1/1 [==============================] - 0s 10ms/step - loss: 19.0288 - mae: 19.0288\n",
            "Epoch 100/100\n",
            "1/1 [==============================] - 0s 12ms/step - loss: 19.0238 - mae: 19.0238\n"
          ]
        },
        {
          "output_type": "execute_result",
          "data": {
            "text/plain": [
              "<keras.callbacks.History at 0x7f0f88192210>"
            ]
          },
          "metadata": {},
          "execution_count": 12
        }
      ]
    },
    {
      "cell_type": "code",
      "source": [
        "model.predict([17.0])"
      ],
      "metadata": {
        "colab": {
          "base_uri": "https://localhost:8080/"
        },
        "id": "VUqKEwPqSY8U",
        "outputId": "17fd2c81-9ffa-465b-8457-bac1e8c3e4d3"
      },
      "execution_count": 13,
      "outputs": [
        {
          "output_type": "execute_result",
          "data": {
            "text/plain": [
              "array([[-20.367725]], dtype=float32)"
            ]
          },
          "metadata": {},
          "execution_count": 13
        }
      ]
    },
    {
      "cell_type": "code",
      "source": [],
      "metadata": {
        "id": "Ghkz8toHUDmJ"
      },
      "execution_count": 13,
      "outputs": []
    },
    {
      "cell_type": "markdown",
      "source": [
        "## Looks like ADAM optimizer is not working for us but let's try with other learning rate"
      ],
      "metadata": {
        "id": "pihxcdl3SnaZ"
      }
    },
    {
      "cell_type": "code",
      "source": [
        "## trying the same configuration with different optimizers\n",
        "\n",
        "model = tf.keras.Sequential([\n",
        "    tf.keras.layers.Dense(5),\n",
        "    tf.keras.layers.Dense(3),\n",
        "    tf.keras.layers.Dense(1)\n",
        "])\n",
        "\n",
        "model.compile(loss = tf.keras.losses.mae,\n",
        "              optimizer = tf.keras.optimizers.Adam(learning_rate = 0.01),\n",
        "              metrics = ['mae']\n",
        "              )\n",
        "\n",
        "model.fit(tf.expand_dims(x,axis=1),y,epochs=100)"
      ],
      "metadata": {
        "colab": {
          "base_uri": "https://localhost:8080/"
        },
        "id": "v1QedWamSk6Y",
        "outputId": "27f21ce5-b042-4d53-e888-fa9900cb4291"
      },
      "execution_count": 14,
      "outputs": [
        {
          "output_type": "stream",
          "name": "stdout",
          "text": [
            "Epoch 1/100\n",
            "1/1 [==============================] - 1s 732ms/step - loss: 12.7997 - mae: 12.7997\n",
            "Epoch 2/100\n",
            "1/1 [==============================] - 0s 12ms/step - loss: 12.5182 - mae: 12.5182\n",
            "Epoch 3/100\n",
            "1/1 [==============================] - 0s 9ms/step - loss: 12.2424 - mae: 12.2424\n",
            "Epoch 4/100\n",
            "1/1 [==============================] - 0s 9ms/step - loss: 11.9697 - mae: 11.9697\n",
            "Epoch 5/100\n",
            "1/1 [==============================] - 0s 11ms/step - loss: 11.6988 - mae: 11.6988\n",
            "Epoch 6/100\n",
            "1/1 [==============================] - 0s 10ms/step - loss: 11.4275 - mae: 11.4275\n",
            "Epoch 7/100\n",
            "1/1 [==============================] - 0s 11ms/step - loss: 11.1529 - mae: 11.1529\n",
            "Epoch 8/100\n",
            "1/1 [==============================] - 0s 13ms/step - loss: 10.8723 - mae: 10.8723\n",
            "Epoch 9/100\n",
            "1/1 [==============================] - 0s 11ms/step - loss: 10.5838 - mae: 10.5838\n",
            "Epoch 10/100\n",
            "1/1 [==============================] - 0s 11ms/step - loss: 10.2859 - mae: 10.2859\n",
            "Epoch 11/100\n",
            "1/1 [==============================] - 0s 12ms/step - loss: 9.9776 - mae: 9.9776\n",
            "Epoch 12/100\n",
            "1/1 [==============================] - 0s 12ms/step - loss: 9.6577 - mae: 9.6577\n",
            "Epoch 13/100\n",
            "1/1 [==============================] - 0s 15ms/step - loss: 9.3249 - mae: 9.3249\n",
            "Epoch 14/100\n",
            "1/1 [==============================] - 0s 10ms/step - loss: 8.9779 - mae: 8.9779\n",
            "Epoch 15/100\n",
            "1/1 [==============================] - 0s 10ms/step - loss: 8.6155 - mae: 8.6155\n",
            "Epoch 16/100\n",
            "1/1 [==============================] - 0s 8ms/step - loss: 8.2361 - mae: 8.2361\n",
            "Epoch 17/100\n",
            "1/1 [==============================] - 0s 22ms/step - loss: 7.8381 - mae: 7.8381\n",
            "Epoch 18/100\n",
            "1/1 [==============================] - 0s 11ms/step - loss: 7.4201 - mae: 7.4201\n",
            "Epoch 19/100\n",
            "1/1 [==============================] - 0s 12ms/step - loss: 6.9807 - mae: 6.9807\n",
            "Epoch 20/100\n",
            "1/1 [==============================] - 0s 21ms/step - loss: 6.7490 - mae: 6.7490\n",
            "Epoch 21/100\n",
            "1/1 [==============================] - 0s 22ms/step - loss: 6.6941 - mae: 6.6941\n",
            "Epoch 22/100\n",
            "1/1 [==============================] - 0s 12ms/step - loss: 6.8798 - mae: 6.8798\n",
            "Epoch 23/100\n",
            "1/1 [==============================] - 0s 14ms/step - loss: 7.0084 - mae: 7.0084\n",
            "Epoch 24/100\n",
            "1/1 [==============================] - 0s 19ms/step - loss: 7.0842 - mae: 7.0842\n",
            "Epoch 25/100\n",
            "1/1 [==============================] - 0s 17ms/step - loss: 7.1124 - mae: 7.1124\n",
            "Epoch 26/100\n",
            "1/1 [==============================] - 0s 18ms/step - loss: 7.0984 - mae: 7.0984\n",
            "Epoch 27/100\n",
            "1/1 [==============================] - 0s 14ms/step - loss: 7.0479 - mae: 7.0479\n",
            "Epoch 28/100\n",
            "1/1 [==============================] - 0s 12ms/step - loss: 6.9662 - mae: 6.9662\n",
            "Epoch 29/100\n",
            "1/1 [==============================] - 0s 14ms/step - loss: 6.8583 - mae: 6.8583\n",
            "Epoch 30/100\n",
            "1/1 [==============================] - 0s 15ms/step - loss: 6.7289 - mae: 6.7289\n",
            "Epoch 31/100\n",
            "1/1 [==============================] - 0s 8ms/step - loss: 6.5822 - mae: 6.5822\n",
            "Epoch 32/100\n",
            "1/1 [==============================] - 0s 7ms/step - loss: 6.4220 - mae: 6.4220\n",
            "Epoch 33/100\n",
            "1/1 [==============================] - 0s 12ms/step - loss: 6.2517 - mae: 6.2517\n",
            "Epoch 34/100\n",
            "1/1 [==============================] - 0s 33ms/step - loss: 6.2209 - mae: 6.2209\n",
            "Epoch 35/100\n",
            "1/1 [==============================] - 0s 22ms/step - loss: 6.2010 - mae: 6.2010\n",
            "Epoch 36/100\n",
            "1/1 [==============================] - 0s 11ms/step - loss: 6.1787 - mae: 6.1787\n",
            "Epoch 37/100\n",
            "1/1 [==============================] - 0s 14ms/step - loss: 6.2325 - mae: 6.2325\n",
            "Epoch 38/100\n",
            "1/1 [==============================] - 0s 15ms/step - loss: 6.2592 - mae: 6.2592\n",
            "Epoch 39/100\n",
            "1/1 [==============================] - 0s 13ms/step - loss: 6.2195 - mae: 6.2195\n",
            "Epoch 40/100\n",
            "1/1 [==============================] - 0s 16ms/step - loss: 6.1217 - mae: 6.1217\n",
            "Epoch 41/100\n",
            "1/1 [==============================] - 0s 14ms/step - loss: 5.9775 - mae: 5.9775\n",
            "Epoch 42/100\n",
            "1/1 [==============================] - 0s 22ms/step - loss: 5.9220 - mae: 5.9220\n",
            "Epoch 43/100\n",
            "1/1 [==============================] - 0s 11ms/step - loss: 5.8656 - mae: 5.8656\n",
            "Epoch 44/100\n",
            "1/1 [==============================] - 0s 14ms/step - loss: 5.8083 - mae: 5.8083\n",
            "Epoch 45/100\n",
            "1/1 [==============================] - 0s 15ms/step - loss: 5.7499 - mae: 5.7499\n",
            "Epoch 46/100\n",
            "1/1 [==============================] - 0s 17ms/step - loss: 5.6904 - mae: 5.6904\n",
            "Epoch 47/100\n",
            "1/1 [==============================] - 0s 15ms/step - loss: 5.6741 - mae: 5.6741\n",
            "Epoch 48/100\n",
            "1/1 [==============================] - 0s 14ms/step - loss: 5.6626 - mae: 5.6626\n",
            "Epoch 49/100\n",
            "1/1 [==============================] - 0s 14ms/step - loss: 5.6247 - mae: 5.6247\n",
            "Epoch 50/100\n",
            "1/1 [==============================] - 0s 27ms/step - loss: 5.5633 - mae: 5.5633\n",
            "Epoch 51/100\n",
            "1/1 [==============================] - 0s 19ms/step - loss: 5.4812 - mae: 5.4812\n",
            "Epoch 52/100\n",
            "1/1 [==============================] - 0s 24ms/step - loss: 5.4094 - mae: 5.4094\n",
            "Epoch 53/100\n",
            "1/1 [==============================] - 0s 25ms/step - loss: 5.3720 - mae: 5.3720\n",
            "Epoch 54/100\n",
            "1/1 [==============================] - 0s 23ms/step - loss: 5.3313 - mae: 5.3313\n",
            "Epoch 55/100\n",
            "1/1 [==============================] - 0s 21ms/step - loss: 5.2874 - mae: 5.2874\n",
            "Epoch 56/100\n",
            "1/1 [==============================] - 0s 22ms/step - loss: 5.2404 - mae: 5.2404\n",
            "Epoch 57/100\n",
            "1/1 [==============================] - 0s 22ms/step - loss: 5.1903 - mae: 5.1903\n",
            "Epoch 58/100\n",
            "1/1 [==============================] - 0s 20ms/step - loss: 5.1371 - mae: 5.1371\n",
            "Epoch 59/100\n",
            "1/1 [==============================] - 0s 33ms/step - loss: 5.0809 - mae: 5.0809\n",
            "Epoch 60/100\n",
            "1/1 [==============================] - 0s 21ms/step - loss: 5.0216 - mae: 5.0216\n",
            "Epoch 61/100\n",
            "1/1 [==============================] - 0s 25ms/step - loss: 4.9593 - mae: 4.9593\n",
            "Epoch 62/100\n",
            "1/1 [==============================] - 0s 23ms/step - loss: 4.8938 - mae: 4.8938\n",
            "Epoch 63/100\n",
            "1/1 [==============================] - 0s 18ms/step - loss: 4.8252 - mae: 4.8252\n",
            "Epoch 64/100\n",
            "1/1 [==============================] - 0s 19ms/step - loss: 4.7572 - mae: 4.7572\n",
            "Epoch 65/100\n",
            "1/1 [==============================] - 0s 32ms/step - loss: 4.7044 - mae: 4.7044\n",
            "Epoch 66/100\n",
            "1/1 [==============================] - 0s 32ms/step - loss: 4.6306 - mae: 4.6306\n",
            "Epoch 67/100\n",
            "1/1 [==============================] - 0s 22ms/step - loss: 4.5679 - mae: 4.5679\n",
            "Epoch 68/100\n",
            "1/1 [==============================] - 0s 17ms/step - loss: 4.5005 - mae: 4.5005\n",
            "Epoch 69/100\n",
            "1/1 [==============================] - 0s 23ms/step - loss: 4.4374 - mae: 4.4374\n",
            "Epoch 70/100\n",
            "1/1 [==============================] - 0s 28ms/step - loss: 4.3635 - mae: 4.3635\n",
            "Epoch 71/100\n",
            "1/1 [==============================] - 0s 15ms/step - loss: 4.2931 - mae: 4.2931\n",
            "Epoch 72/100\n",
            "1/1 [==============================] - 0s 19ms/step - loss: 4.2174 - mae: 4.2174\n",
            "Epoch 73/100\n",
            "1/1 [==============================] - 0s 16ms/step - loss: 4.1470 - mae: 4.1470\n",
            "Epoch 74/100\n",
            "1/1 [==============================] - 0s 11ms/step - loss: 4.0625 - mae: 4.0625\n",
            "Epoch 75/100\n",
            "1/1 [==============================] - 0s 20ms/step - loss: 3.9825 - mae: 3.9825\n",
            "Epoch 76/100\n",
            "1/1 [==============================] - 0s 42ms/step - loss: 3.8966 - mae: 3.8966\n",
            "Epoch 77/100\n",
            "1/1 [==============================] - 0s 18ms/step - loss: 3.8174 - mae: 3.8174\n",
            "Epoch 78/100\n",
            "1/1 [==============================] - 0s 28ms/step - loss: 3.7314 - mae: 3.7314\n",
            "Epoch 79/100\n",
            "1/1 [==============================] - 0s 23ms/step - loss: 3.6385 - mae: 3.6385\n",
            "Epoch 80/100\n",
            "1/1 [==============================] - 0s 15ms/step - loss: 3.5387 - mae: 3.5387\n",
            "Epoch 81/100\n",
            "1/1 [==============================] - 0s 9ms/step - loss: 3.4403 - mae: 3.4403\n",
            "Epoch 82/100\n",
            "1/1 [==============================] - 0s 15ms/step - loss: 3.3328 - mae: 3.3328\n",
            "Epoch 83/100\n",
            "1/1 [==============================] - 0s 13ms/step - loss: 3.2256 - mae: 3.2256\n",
            "Epoch 84/100\n",
            "1/1 [==============================] - 0s 9ms/step - loss: 3.1227 - mae: 3.1227\n",
            "Epoch 85/100\n",
            "1/1 [==============================] - 0s 39ms/step - loss: 3.0025 - mae: 3.0025\n",
            "Epoch 86/100\n",
            "1/1 [==============================] - 0s 23ms/step - loss: 2.8855 - mae: 2.8855\n",
            "Epoch 87/100\n",
            "1/1 [==============================] - 0s 21ms/step - loss: 2.7595 - mae: 2.7595\n",
            "Epoch 88/100\n",
            "1/1 [==============================] - 0s 9ms/step - loss: 2.6249 - mae: 2.6249\n",
            "Epoch 89/100\n",
            "1/1 [==============================] - 0s 10ms/step - loss: 2.4965 - mae: 2.4965\n",
            "Epoch 90/100\n",
            "1/1 [==============================] - 0s 11ms/step - loss: 2.3584 - mae: 2.3584\n",
            "Epoch 91/100\n",
            "1/1 [==============================] - 0s 9ms/step - loss: 2.2099 - mae: 2.2099\n",
            "Epoch 92/100\n",
            "1/1 [==============================] - 0s 7ms/step - loss: 2.0513 - mae: 2.0513\n",
            "Epoch 93/100\n",
            "1/1 [==============================] - 0s 7ms/step - loss: 1.9075 - mae: 1.9075\n",
            "Epoch 94/100\n",
            "1/1 [==============================] - 0s 9ms/step - loss: 1.7263 - mae: 1.7263\n",
            "Epoch 95/100\n",
            "1/1 [==============================] - 0s 10ms/step - loss: 1.5643 - mae: 1.5643\n",
            "Epoch 96/100\n",
            "1/1 [==============================] - 0s 10ms/step - loss: 1.4076 - mae: 1.4076\n",
            "Epoch 97/100\n",
            "1/1 [==============================] - 0s 11ms/step - loss: 1.1952 - mae: 1.1952\n",
            "Epoch 98/100\n",
            "1/1 [==============================] - 0s 18ms/step - loss: 1.0161 - mae: 1.0161\n",
            "Epoch 99/100\n",
            "1/1 [==============================] - 0s 8ms/step - loss: 0.8268 - mae: 0.8268\n",
            "Epoch 100/100\n",
            "1/1 [==============================] - 0s 12ms/step - loss: 0.5864 - mae: 0.5864\n"
          ]
        },
        {
          "output_type": "execute_result",
          "data": {
            "text/plain": [
              "<keras.callbacks.History at 0x7f0f8889fb50>"
            ]
          },
          "metadata": {},
          "execution_count": 14
        }
      ]
    },
    {
      "cell_type": "code",
      "source": [
        "model.predict([17.0])"
      ],
      "metadata": {
        "colab": {
          "base_uri": "https://localhost:8080/"
        },
        "id": "88hWkha6UK_w",
        "outputId": "f3c3267a-b9b6-46cf-eebc-5ca175c40d1c"
      },
      "execution_count": 15,
      "outputs": [
        {
          "output_type": "stream",
          "name": "stderr",
          "text": [
            "WARNING:tensorflow:5 out of the last 5 calls to <function Model.make_predict_function.<locals>.predict_function at 0x7f0f8816d170> triggered tf.function retracing. Tracing is expensive and the excessive number of tracings could be due to (1) creating @tf.function repeatedly in a loop, (2) passing tensors with different shapes, (3) passing Python objects instead of tensors. For (1), please define your @tf.function outside of the loop. For (2), @tf.function has experimental_relax_shapes=True option that relaxes argument shapes that can avoid unnecessary retracing. For (3), please refer to https://www.tensorflow.org/guide/function#controlling_retracing and https://www.tensorflow.org/api_docs/python/tf/function for  more details.\n"
          ]
        },
        {
          "output_type": "execute_result",
          "data": {
            "text/plain": [
              "array([[26.73691]], dtype=float32)"
            ]
          },
          "metadata": {},
          "execution_count": 15
        }
      ]
    },
    {
      "cell_type": "markdown",
      "source": [
        "### In practice we always follow this workflow:\n",
        "```\n",
        "Build a model -> fill it -> evaluate it -> tweak a model -> fit it -> evaluate it -> tweat a model -> fit it -> evaluate it...\n",
        "```"
      ],
      "metadata": {
        "id": "_aCtelTQLEg4"
      }
    },
    {
      "cell_type": "markdown",
      "source": [
        "### When it comes to evaluation we should always remember:\n",
        "> \"visualize, visualize, visualize\"\n",
        "\n",
        "It's a good idea to visulize:\n",
        "* The data - what data we are working with? what does it look like?\n",
        "* The model itself - What does our model look like ?\n",
        "* The training of a model - how does model perform while it learns?\n",
        "* The predictions of the model - How do predicitons of a model look like when lined up against the ground truth"
      ],
      "metadata": {
        "id": "wFJv98dDMQBA"
      }
    },
    {
      "cell_type": "code",
      "source": [
        "## Let's make a bigger dataset\n",
        "X = tf.range(-100, 100, 4)\n",
        "X"
      ],
      "metadata": {
        "colab": {
          "base_uri": "https://localhost:8080/"
        },
        "id": "qMEuH8nxUM3D",
        "outputId": "66aecd1c-c279-4475-e6f2-c7288b6a68da"
      },
      "execution_count": 16,
      "outputs": [
        {
          "output_type": "execute_result",
          "data": {
            "text/plain": [
              "<tf.Tensor: shape=(50,), dtype=int32, numpy=\n",
              "array([-100,  -96,  -92,  -88,  -84,  -80,  -76,  -72,  -68,  -64,  -60,\n",
              "        -56,  -52,  -48,  -44,  -40,  -36,  -32,  -28,  -24,  -20,  -16,\n",
              "        -12,   -8,   -4,    0,    4,    8,   12,   16,   20,   24,   28,\n",
              "         32,   36,   40,   44,   48,   52,   56,   60,   64,   68,   72,\n",
              "         76,   80,   84,   88,   92,   96], dtype=int32)>"
            ]
          },
          "metadata": {},
          "execution_count": 16
        }
      ]
    },
    {
      "cell_type": "code",
      "source": [
        "## making labels for our dataset\n",
        "y = X + 10\n",
        "y"
      ],
      "metadata": {
        "colab": {
          "base_uri": "https://localhost:8080/"
        },
        "id": "qIT-CTEDNCMt",
        "outputId": "a3f92033-98b8-4679-d5a4-631013a20f93"
      },
      "execution_count": 17,
      "outputs": [
        {
          "output_type": "execute_result",
          "data": {
            "text/plain": [
              "<tf.Tensor: shape=(50,), dtype=int32, numpy=\n",
              "array([-90, -86, -82, -78, -74, -70, -66, -62, -58, -54, -50, -46, -42,\n",
              "       -38, -34, -30, -26, -22, -18, -14, -10,  -6,  -2,   2,   6,  10,\n",
              "        14,  18,  22,  26,  30,  34,  38,  42,  46,  50,  54,  58,  62,\n",
              "        66,  70,  74,  78,  82,  86,  90,  94,  98, 102, 106], dtype=int32)>"
            ]
          },
          "metadata": {},
          "execution_count": 17
        }
      ]
    },
    {
      "cell_type": "code",
      "source": [
        "## Let's visualize the data\n",
        "import matplotlib.pyplot as plt\n",
        "plt.plot(X,y)"
      ],
      "metadata": {
        "colab": {
          "base_uri": "https://localhost:8080/",
          "height": 282
        },
        "id": "8T146TZrNG4P",
        "outputId": "9edaa6ba-d9ba-4210-ec25-bdcf93dea4bc"
      },
      "execution_count": 18,
      "outputs": [
        {
          "output_type": "execute_result",
          "data": {
            "text/plain": [
              "[<matplotlib.lines.Line2D at 0x7f0f8010d490>]"
            ]
          },
          "metadata": {},
          "execution_count": 18
        },
        {
          "output_type": "display_data",
          "data": {
            "text/plain": [
              "<Figure size 432x288 with 1 Axes>"
            ],
            "image/png": "[encoded data removed]"
          },
          "metadata": {
            "needs_background": "light"
          }
        }
      ]
    },
    {
      "cell_type": "code",
      "source": [
        "plt.scatter(X,y)"
      ],
      "metadata": {
        "colab": {
          "base_uri": "https://localhost:8080/",
          "height": 282
        },
        "id": "sN9lBMRRNRaz",
        "outputId": "9721ff11-f1ea-4c07-f63b-cf681c5e51b3"
      },
      "execution_count": 19,
      "outputs": [
        {
          "output_type": "execute_result",
          "data": {
            "text/plain": [
              "<matplotlib.collections.PathCollection at 0x7f0f800b9cd0>"
            ]
          },
          "metadata": {},
          "execution_count": 19
        },
        {
          "output_type": "display_data",
          "data": {
            "text/plain": [
              "<Figure size 432x288 with 1 Axes>"
            ],
            "image/png": "[encoded data removed]"
          },
          "metadata": {
            "needs_background": "light"
          }
        }
      ]
    },
    {
      "cell_type": "markdown",
      "source": [
        "### The 3 sets\n",
        "* **Training set** The training set is the data on which the model is trained, it is typically 70% to 80% of the full dataset.\n",
        "* **Validation set** The validation set is the data by validation on whose we tweak the model. It is 10% to 15% of the total dataset.\n",
        "* **Test set** The test set is the final test through which model is evaluated. It is also 10% to 15% of the total dataset.\n"
      ],
      "metadata": {
        "id": "8WtA4yE1N6ah"
      }
    },
    {
      "cell_type": "code",
      "source": [
        "## Here we will only split into train and test splits because of smaller set\n",
        "x_train = X[:40]  ## first 40 for training around 80%\n",
        "y_train = y[:40]\n",
        "x_test = X[40:] ## last 10 for testing around 20%\n",
        "y_test = y[40:]\n",
        "\n",
        "len(x_train), len(x_test), len(y_train), len(y_test)"
      ],
      "metadata": {
        "colab": {
          "base_uri": "https://localhost:8080/"
        },
        "id": "iZiA2oMdNVm8",
        "outputId": "2ab5bf10-ecbc-40ee-8803-00175c85558e"
      },
      "execution_count": 20,
      "outputs": [
        {
          "output_type": "execute_result",
          "data": {
            "text/plain": [
              "(40, 10, 40, 10)"
            ]
          },
          "metadata": {},
          "execution_count": 20
        }
      ]
    },
    {
      "cell_type": "code",
      "source": [
        "## Let's visualize our training and testing set\n",
        "plt.figure(figsize=(10,7))\n",
        "## training data in green\n",
        "plt.scatter(x_train,y_train, c=\"g\", label=\"Training data\")\n",
        "## testing data in red\n",
        "plt.scatter(x_test,y_test, c=\"R\", label=\"Testing data\")\n",
        "plt.legend()\n",
        "plt.plot()"
      ],
      "metadata": {
        "colab": {
          "base_uri": "https://localhost:8080/",
          "height": 445
        },
        "id": "XMKgwD7HQCbg",
        "outputId": "982d376d-85ee-4722-8efc-11f4a6484186"
      },
      "execution_count": 25,
      "outputs": [
        {
          "output_type": "execute_result",
          "data": {
            "text/plain": [
              "[]"
            ]
          },
          "metadata": {},
          "execution_count": 25
        },
        {
          "output_type": "display_data",
          "data": {
            "text/plain": [
              "<Figure size 720x504 with 1 Axes>"
            ],
            "image/png": "[encoded data removed]"
          },
          "metadata": {
            "needs_background": "light"
          }
        }
      ]
    },
    {
      "cell_type": "code",
      "source": [
        "## Creating a basic model and visualizing it\n",
        "\n",
        "## creating \n",
        "model = tf.keras.Sequential([\n",
        "    tf.keras.layers.Dense(1)\n",
        "])\n",
        "\n",
        "## compiling\n",
        "model.compile(loss = tf.keras.losses.mae,\n",
        "              optimizer = tf.keras.optimizers.SGD(),\n",
        "              metrics = ['mae'])\n",
        "\n",
        "## let's not fit it right now"
      ],
      "metadata": {
        "id": "4yNZzo_NQaoB"
      },
      "execution_count": 26,
      "outputs": []
    },
    {
      "cell_type": "code",
      "source": [
        "try:\n",
        "  model.summary()\n",
        "except Exception as e:\n",
        "  print(e)"
      ],
      "metadata": {
        "colab": {
          "base_uri": "https://localhost:8080/"
        },
        "id": "r4UEnbCIUbZe",
        "outputId": "3dc8ce9b-63d5-470d-f120-4de29c5d41c9"
      },
      "execution_count": 29,
      "outputs": [
        {
          "output_type": "stream",
          "name": "stdout",
          "text": [
            "This model has not yet been built. Build the model first by calling `build()` or by calling the model on a batch of data.\n"
          ]
        }
      ]
    },
    {
      "cell_type": "markdown",
      "source": [
        "### Now the above error came because the model has not defined with any input shape, so tf can automatically define the input shape when we run the model for training. But in order to check the model architecture or summary we need to either build the model first with training data or include input shape argument while creating the model."
      ],
      "metadata": {
        "id": "8tBhF2Y6VBNh"
      }
    },
    {
      "cell_type": "code",
      "source": [
        "## creating another model from scratch with input shape\n",
        "model = tf.keras.Sequential([\n",
        "    tf.keras.layers.Dense(1, input_shape=[1])\n",
        "])\n",
        "\n",
        "model.compile(loss = tf.keras.losses.mae,\n",
        "              optimizer = tf.keras.optimizers.SGD(),\n",
        "              metrics = ['mae'])\n",
        "\n",
        "# model.fit(tf.expand_dims(x_train), y_train, epochs = 100)"
      ],
      "metadata": {
        "id": "HKpKNVL0UhPK"
      },
      "execution_count": 87,
      "outputs": []
    },
    {
      "cell_type": "code",
      "source": [
        "model.summary()"
      ],
      "metadata": {
        "colab": {
          "base_uri": "https://localhost:8080/"
        },
        "id": "j_g3BAh9VZAJ",
        "outputId": "373e2f02-981a-4e6f-c242-e8fbc04bbbd8"
      },
      "execution_count": 88,
      "outputs": [
        {
          "output_type": "stream",
          "name": "stdout",
          "text": [
            "Model: \"sequential_18\"\n",
            "_________________________________________________________________\n",
            " Layer (type)                Output Shape              Param #   \n",
            "=================================================================\n",
            " dense_58 (Dense)            (None, 1)                 2         \n",
            "                                                                 \n",
            "=================================================================\n",
            "Total params: 2\n",
            "Trainable params: 2\n",
            "Non-trainable params: 0\n",
            "_________________________________________________________________\n"
          ]
        }
      ]
    },
    {
      "cell_type": "markdown",
      "source": [
        "As we know once neuron has one weight and one bias hence overall two trainable parameters."
      ],
      "metadata": {
        "id": "UONZGotiVfzw"
      }
    },
    {
      "cell_type": "markdown",
      "source": [
        "* **Total params** = Total number of paramters in the model\n",
        "* **Trainable parameters** = These are the paramters model will update when it trains.\n",
        "* **Non-trainable parameters** = These paramters aren't updated during training these are used when we use transfer learning and don't retrain the pretrained layers."
      ],
      "metadata": {
        "id": "R0lmNf6zVniv"
      }
    },
    {
      "cell_type": "code",
      "source": [
        "model.fit(tf.expand_dims(x_train, axis=1), y_train, epochs = 100)"
      ],
      "metadata": {
        "colab": {
          "base_uri": "https://localhost:8080/"
        },
        "id": "LfQ_N1rQWbMT",
        "outputId": "81f99981-a229-493d-dbb6-af5df498c319"
      },
      "execution_count": 34,
      "outputs": [
        {
          "output_type": "stream",
          "name": "stdout",
          "text": [
            "Epoch 1/100\n",
            "2/2 [==============================] - 0s 9ms/step - loss: 21.5127 - mae: 21.5127\n",
            "Epoch 2/100\n",
            "2/2 [==============================] - 0s 6ms/step - loss: 9.8784 - mae: 9.8784\n",
            "Epoch 3/100\n",
            "2/2 [==============================] - 0s 7ms/step - loss: 11.3224 - mae: 11.3224\n",
            "Epoch 4/100\n",
            "2/2 [==============================] - 0s 9ms/step - loss: 9.5330 - mae: 9.5330\n",
            "Epoch 5/100\n",
            "2/2 [==============================] - 0s 6ms/step - loss: 10.4384 - mae: 10.4384\n",
            "Epoch 6/100\n",
            "2/2 [==============================] - 0s 5ms/step - loss: 9.6676 - mae: 9.6676\n",
            "Epoch 7/100\n",
            "2/2 [==============================] - 0s 3ms/step - loss: 8.7680 - mae: 8.7680\n",
            "Epoch 8/100\n",
            "2/2 [==============================] - 0s 4ms/step - loss: 9.0557 - mae: 9.0557\n",
            "Epoch 9/100\n",
            "2/2 [==============================] - 0s 4ms/step - loss: 19.2566 - mae: 19.2566\n",
            "Epoch 10/100\n",
            "2/2 [==============================] - 0s 4ms/step - loss: 10.3912 - mae: 10.3912\n",
            "Epoch 11/100\n",
            "2/2 [==============================] - 0s 9ms/step - loss: 8.5026 - mae: 8.5026\n",
            "Epoch 12/100\n",
            "2/2 [==============================] - 0s 4ms/step - loss: 10.8845 - mae: 10.8845\n",
            "Epoch 13/100\n",
            "2/2 [==============================] - 0s 6ms/step - loss: 9.9247 - mae: 9.9247\n",
            "Epoch 14/100\n",
            "2/2 [==============================] - 0s 4ms/step - loss: 9.4792 - mae: 9.4792\n",
            "Epoch 15/100\n",
            "2/2 [==============================] - 0s 8ms/step - loss: 13.7110 - mae: 13.7110\n",
            "Epoch 16/100\n",
            "2/2 [==============================] - 0s 4ms/step - loss: 8.9451 - mae: 8.9451\n",
            "Epoch 17/100\n",
            "2/2 [==============================] - 0s 5ms/step - loss: 12.8611 - mae: 12.8611\n",
            "Epoch 18/100\n",
            "2/2 [==============================] - 0s 6ms/step - loss: 10.4980 - mae: 10.4980\n",
            "Epoch 19/100\n",
            "2/2 [==============================] - 0s 4ms/step - loss: 19.1946 - mae: 19.1946\n",
            "Epoch 20/100\n",
            "2/2 [==============================] - 0s 4ms/step - loss: 15.8609 - mae: 15.8609\n",
            "Epoch 21/100\n",
            "2/2 [==============================] - 0s 9ms/step - loss: 11.6957 - mae: 11.6957\n",
            "Epoch 22/100\n",
            "2/2 [==============================] - 0s 4ms/step - loss: 8.8936 - mae: 8.8936\n",
            "Epoch 23/100\n",
            "2/2 [==============================] - 0s 4ms/step - loss: 10.0799 - mae: 10.0799\n",
            "Epoch 24/100\n",
            "2/2 [==============================] - 0s 4ms/step - loss: 15.5873 - mae: 15.5873\n",
            "Epoch 25/100\n",
            "2/2 [==============================] - 0s 4ms/step - loss: 12.0659 - mae: 12.0659\n",
            "Epoch 26/100\n",
            "2/2 [==============================] - 0s 4ms/step - loss: 13.1700 - mae: 13.1700\n",
            "Epoch 27/100\n",
            "2/2 [==============================] - 0s 9ms/step - loss: 10.6462 - mae: 10.6462\n",
            "Epoch 28/100\n",
            "2/2 [==============================] - 0s 4ms/step - loss: 12.8600 - mae: 12.8600\n",
            "Epoch 29/100\n",
            "2/2 [==============================] - 0s 4ms/step - loss: 9.4986 - mae: 9.4986\n",
            "Epoch 30/100\n",
            "2/2 [==============================] - 0s 5ms/step - loss: 16.3753 - mae: 16.3753\n",
            "Epoch 31/100\n",
            "2/2 [==============================] - 0s 5ms/step - loss: 23.6059 - mae: 23.6059\n",
            "Epoch 32/100\n",
            "2/2 [==============================] - 0s 6ms/step - loss: 7.6064 - mae: 7.6064\n",
            "Epoch 33/100\n",
            "2/2 [==============================] - 0s 4ms/step - loss: 9.3053 - mae: 9.3053\n",
            "Epoch 34/100\n",
            "2/2 [==============================] - 0s 4ms/step - loss: 13.6971 - mae: 13.6971\n",
            "Epoch 35/100\n",
            "2/2 [==============================] - 0s 10ms/step - loss: 11.1346 - mae: 11.1346\n",
            "Epoch 36/100\n",
            "2/2 [==============================] - 0s 4ms/step - loss: 13.3465 - mae: 13.3465\n",
            "Epoch 37/100\n",
            "2/2 [==============================] - 0s 4ms/step - loss: 9.4552 - mae: 9.4552\n",
            "Epoch 38/100\n",
            "2/2 [==============================] - 0s 4ms/step - loss: 10.1114 - mae: 10.1114\n",
            "Epoch 39/100\n",
            "2/2 [==============================] - 0s 4ms/step - loss: 10.1864 - mae: 10.1864\n",
            "Epoch 40/100\n",
            "2/2 [==============================] - 0s 4ms/step - loss: 10.9275 - mae: 10.9275\n",
            "Epoch 41/100\n",
            "2/2 [==============================] - 0s 4ms/step - loss: 7.9144 - mae: 7.9144\n",
            "Epoch 42/100\n",
            "2/2 [==============================] - 0s 6ms/step - loss: 10.0676 - mae: 10.0676\n",
            "Epoch 43/100\n",
            "2/2 [==============================] - 0s 4ms/step - loss: 8.6853 - mae: 8.6853\n",
            "Epoch 44/100\n",
            "2/2 [==============================] - 0s 8ms/step - loss: 12.1703 - mae: 12.1703\n",
            "Epoch 45/100\n",
            "2/2 [==============================] - 0s 4ms/step - loss: 13.8162 - mae: 13.8162\n",
            "Epoch 46/100\n",
            "2/2 [==============================] - 0s 5ms/step - loss: 8.4776 - mae: 8.4776\n",
            "Epoch 47/100\n",
            "2/2 [==============================] - 0s 4ms/step - loss: 9.1117 - mae: 9.1117\n",
            "Epoch 48/100\n",
            "2/2 [==============================] - 0s 4ms/step - loss: 10.5912 - mae: 10.5912\n",
            "Epoch 49/100\n",
            "2/2 [==============================] - 0s 9ms/step - loss: 7.7309 - mae: 7.7309\n",
            "Epoch 50/100\n",
            "2/2 [==============================] - 0s 4ms/step - loss: 9.5149 - mae: 9.5149\n",
            "Epoch 51/100\n",
            "2/2 [==============================] - 0s 4ms/step - loss: 9.1456 - mae: 9.1456\n",
            "Epoch 52/100\n",
            "2/2 [==============================] - 0s 6ms/step - loss: 16.3238 - mae: 16.3238\n",
            "Epoch 53/100\n",
            "2/2 [==============================] - 0s 5ms/step - loss: 14.1389 - mae: 14.1389\n",
            "Epoch 54/100\n",
            "2/2 [==============================] - 0s 4ms/step - loss: 21.1603 - mae: 21.1603\n",
            "Epoch 55/100\n",
            "2/2 [==============================] - 0s 4ms/step - loss: 16.3585 - mae: 16.3585\n",
            "Epoch 56/100\n",
            "2/2 [==============================] - 0s 8ms/step - loss: 9.9993 - mae: 9.9993\n",
            "Epoch 57/100\n",
            "2/2 [==============================] - 0s 4ms/step - loss: 9.9361 - mae: 9.9361\n",
            "Epoch 58/100\n",
            "2/2 [==============================] - 0s 4ms/step - loss: 9.1982 - mae: 9.1982\n",
            "Epoch 59/100\n",
            "2/2 [==============================] - 0s 5ms/step - loss: 8.4026 - mae: 8.4026\n",
            "Epoch 60/100\n",
            "2/2 [==============================] - 0s 6ms/step - loss: 9.4674 - mae: 9.4674\n",
            "Epoch 61/100\n",
            "2/2 [==============================] - 0s 4ms/step - loss: 11.4042 - mae: 11.4042\n",
            "Epoch 62/100\n",
            "2/2 [==============================] - 0s 14ms/step - loss: 11.7065 - mae: 11.7065\n",
            "Epoch 63/100\n",
            "2/2 [==============================] - 0s 9ms/step - loss: 7.0664 - mae: 7.0664\n",
            "Epoch 64/100\n",
            "2/2 [==============================] - 0s 10ms/step - loss: 16.9884 - mae: 16.9884\n",
            "Epoch 65/100\n",
            "2/2 [==============================] - 0s 5ms/step - loss: 12.4722 - mae: 12.4722\n",
            "Epoch 66/100\n",
            "2/2 [==============================] - 0s 5ms/step - loss: 13.0373 - mae: 13.0373\n",
            "Epoch 67/100\n",
            "2/2 [==============================] - 0s 6ms/step - loss: 8.0607 - mae: 8.0607\n",
            "Epoch 68/100\n",
            "2/2 [==============================] - 0s 4ms/step - loss: 10.1967 - mae: 10.1967\n",
            "Epoch 69/100\n",
            "2/2 [==============================] - 0s 5ms/step - loss: 12.3837 - mae: 12.3837\n",
            "Epoch 70/100\n",
            "2/2 [==============================] - 0s 5ms/step - loss: 9.0293 - mae: 9.0293\n",
            "Epoch 71/100\n",
            "2/2 [==============================] - 0s 5ms/step - loss: 10.0142 - mae: 10.0142\n",
            "Epoch 72/100\n",
            "2/2 [==============================] - 0s 4ms/step - loss: 10.0315 - mae: 10.0315\n",
            "Epoch 73/100\n",
            "2/2 [==============================] - 0s 5ms/step - loss: 12.5824 - mae: 12.5824\n",
            "Epoch 74/100\n",
            "2/2 [==============================] - 0s 4ms/step - loss: 10.4012 - mae: 10.4012\n",
            "Epoch 75/100\n",
            "2/2 [==============================] - 0s 5ms/step - loss: 9.7014 - mae: 9.7014\n",
            "Epoch 76/100\n",
            "2/2 [==============================] - 0s 5ms/step - loss: 11.1981 - mae: 11.1981\n",
            "Epoch 77/100\n",
            "2/2 [==============================] - 0s 7ms/step - loss: 8.3442 - mae: 8.3442\n",
            "Epoch 78/100\n",
            "2/2 [==============================] - 0s 4ms/step - loss: 9.0962 - mae: 9.0962\n",
            "Epoch 79/100\n",
            "2/2 [==============================] - 0s 4ms/step - loss: 19.5372 - mae: 19.5372\n",
            "Epoch 80/100\n",
            "2/2 [==============================] - 0s 6ms/step - loss: 14.8584 - mae: 14.8584\n",
            "Epoch 81/100\n",
            "2/2 [==============================] - 0s 10ms/step - loss: 9.0265 - mae: 9.0265\n",
            "Epoch 82/100\n",
            "2/2 [==============================] - 0s 5ms/step - loss: 12.9889 - mae: 12.9889\n",
            "Epoch 83/100\n",
            "2/2 [==============================] - 0s 4ms/step - loss: 7.9043 - mae: 7.9043\n",
            "Epoch 84/100\n",
            "2/2 [==============================] - 0s 4ms/step - loss: 7.6866 - mae: 7.6866\n",
            "Epoch 85/100\n",
            "2/2 [==============================] - 0s 4ms/step - loss: 10.0437 - mae: 10.0437\n",
            "Epoch 86/100\n",
            "2/2 [==============================] - 0s 7ms/step - loss: 9.2475 - mae: 9.2475\n",
            "Epoch 87/100\n",
            "2/2 [==============================] - 0s 5ms/step - loss: 12.0363 - mae: 12.0363\n",
            "Epoch 88/100\n",
            "2/2 [==============================] - 0s 6ms/step - loss: 10.6547 - mae: 10.6547\n",
            "Epoch 89/100\n",
            "2/2 [==============================] - 0s 5ms/step - loss: 7.2596 - mae: 7.2596\n",
            "Epoch 90/100\n",
            "2/2 [==============================] - 0s 8ms/step - loss: 12.7973 - mae: 12.7973\n",
            "Epoch 91/100\n",
            "2/2 [==============================] - 0s 5ms/step - loss: 7.4718 - mae: 7.4718\n",
            "Epoch 92/100\n",
            "2/2 [==============================] - 0s 4ms/step - loss: 6.7431 - mae: 6.7431\n",
            "Epoch 93/100\n",
            "2/2 [==============================] - 0s 4ms/step - loss: 11.9467 - mae: 11.9467\n",
            "Epoch 94/100\n",
            "2/2 [==============================] - 0s 4ms/step - loss: 8.8764 - mae: 8.8764\n",
            "Epoch 95/100\n",
            "2/2 [==============================] - 0s 4ms/step - loss: 7.7137 - mae: 7.7137\n",
            "Epoch 96/100\n",
            "2/2 [==============================] - 0s 8ms/step - loss: 6.7422 - mae: 6.7422\n",
            "Epoch 97/100\n",
            "2/2 [==============================] - 0s 6ms/step - loss: 8.6285 - mae: 8.6285\n",
            "Epoch 98/100\n",
            "2/2 [==============================] - 0s 13ms/step - loss: 9.3819 - mae: 9.3819\n",
            "Epoch 99/100\n",
            "2/2 [==============================] - 0s 8ms/step - loss: 9.1183 - mae: 9.1183\n",
            "Epoch 100/100\n",
            "2/2 [==============================] - 0s 4ms/step - loss: 10.4737 - mae: 10.4737\n"
          ]
        },
        {
          "output_type": "execute_result",
          "data": {
            "text/plain": [
              "<keras.callbacks.History at 0x7f0f7e8b3890>"
            ]
          },
          "metadata": {},
          "execution_count": 34
        }
      ]
    },
    {
      "cell_type": "code",
      "source": [
        "## creating different model and checking its paramter but not executing\n",
        "model = tf.keras.Sequential([\n",
        "    tf.keras.layers.Dense(100, input_shape=[1]),\n",
        "    tf.keras.layers.Dense(50),\n",
        "    tf.keras.layers.Dense(1)\n",
        "])\n",
        "\n",
        "## compiling\n",
        "model.compile(loss = tf.keras.losses.mae,\n",
        "              optimizer = tf.keras.optimizers.SGD(),\n",
        "              metrics = ['mae'])\n"
      ],
      "metadata": {
        "id": "6gu4SuHcVeTt"
      },
      "execution_count": 79,
      "outputs": []
    },
    {
      "cell_type": "code",
      "source": [
        "model.summary()"
      ],
      "metadata": {
        "colab": {
          "base_uri": "https://localhost:8080/"
        },
        "id": "7msw_m43XTP8",
        "outputId": "6f5cddcb-77ad-4589-8b7f-0e3b1efdd750"
      },
      "execution_count": 80,
      "outputs": [
        {
          "output_type": "stream",
          "name": "stdout",
          "text": [
            "Model: \"sequential_17\"\n",
            "_________________________________________________________________\n",
            " Layer (type)                Output Shape              Param #   \n",
            "=================================================================\n",
            " dense_55 (Dense)            (None, 100)               200       \n",
            "                                                                 \n",
            " dense_56 (Dense)            (None, 50)                5050      \n",
            "                                                                 \n",
            " dense_57 (Dense)            (None, 1)                 51        \n",
            "                                                                 \n",
            "=================================================================\n",
            "Total params: 5,301\n",
            "Trainable params: 5,301\n",
            "Non-trainable params: 0\n",
            "_________________________________________________________________\n"
          ]
        }
      ]
    },
    {
      "cell_type": "markdown",
      "source": [
        "### Simple explaination of the parameters--\n",
        "> layer 1 =  100 neurons = 100 weights + 100 biases = 200 params\n",
        "> layers 2 = 50 neurons = each neuron from layer 1 multiplying to each neuron of layer 2. Hence, 100 * 50 = 5000 weights of layer 2 + 50 bias of each 50 neurons on layer 2.\n",
        "> layer 3 =  1 neuron = each neuron from layer 2 multiplying to each neuron of layer 3. Hence, 50 * 1= 50 weights of layer 3 and 1 bias of 1 neuron on layer 3."
      ],
      "metadata": {
        "id": "IRvhSoS7YeVa"
      }
    },
    {
      "cell_type": "code",
      "source": [
        "model.fit(tf.expand_dims(x_train, axis=1), y_train, epochs = 100)"
      ],
      "metadata": {
        "colab": {
          "base_uri": "https://localhost:8080/"
        },
        "id": "gO0PQD5kXomg",
        "outputId": "31906d8c-175e-4a0e-a21f-701282714485"
      },
      "execution_count": 82,
      "outputs": [
        {
          "output_type": "stream",
          "name": "stdout",
          "text": [
            "Epoch 1/100\n",
            "2/2 [==============================] - 0s 7ms/step - loss: 33.9098 - mae: 33.9098\n",
            "Epoch 2/100\n",
            "2/2 [==============================] - 0s 6ms/step - loss: 19.2417 - mae: 19.2417\n",
            "Epoch 3/100\n",
            "2/2 [==============================] - 0s 5ms/step - loss: 27.4141 - mae: 27.4141\n",
            "Epoch 4/100\n",
            "2/2 [==============================] - 0s 7ms/step - loss: 20.4886 - mae: 20.4886\n",
            "Epoch 5/100\n",
            "2/2 [==============================] - 0s 9ms/step - loss: 17.2452 - mae: 17.2452\n",
            "Epoch 6/100\n",
            "2/2 [==============================] - 0s 9ms/step - loss: 17.7249 - mae: 17.7249\n",
            "Epoch 7/100\n",
            "2/2 [==============================] - 0s 6ms/step - loss: 23.1197 - mae: 23.1197\n",
            "Epoch 8/100\n",
            "2/2 [==============================] - 0s 7ms/step - loss: 24.3025 - mae: 24.3025\n",
            "Epoch 9/100\n",
            "2/2 [==============================] - 0s 7ms/step - loss: 8.6351 - mae: 8.6351\n",
            "Epoch 10/100\n",
            "2/2 [==============================] - 0s 7ms/step - loss: 32.3971 - mae: 32.3971\n",
            "Epoch 11/100\n",
            "2/2 [==============================] - 0s 4ms/step - loss: 17.6705 - mae: 17.6705\n",
            "Epoch 12/100\n",
            "2/2 [==============================] - 0s 4ms/step - loss: 34.1978 - mae: 34.1978\n",
            "Epoch 13/100\n",
            "2/2 [==============================] - 0s 9ms/step - loss: 16.4622 - mae: 16.4622\n",
            "Epoch 14/100\n",
            "2/2 [==============================] - 0s 4ms/step - loss: 26.6684 - mae: 26.6684\n",
            "Epoch 15/100\n",
            "2/2 [==============================] - 0s 6ms/step - loss: 23.9927 - mae: 23.9927\n",
            "Epoch 16/100\n",
            "2/2 [==============================] - 0s 4ms/step - loss: 20.4877 - mae: 20.4877\n",
            "Epoch 17/100\n",
            "2/2 [==============================] - 0s 4ms/step - loss: 13.8339 - mae: 13.8339\n",
            "Epoch 18/100\n",
            "2/2 [==============================] - 0s 5ms/step - loss: 34.4108 - mae: 34.4108\n",
            "Epoch 19/100\n",
            "2/2 [==============================] - 0s 7ms/step - loss: 20.3941 - mae: 20.3941\n",
            "Epoch 20/100\n",
            "2/2 [==============================] - 0s 9ms/step - loss: 27.0599 - mae: 27.0599\n",
            "Epoch 21/100\n",
            "2/2 [==============================] - 0s 6ms/step - loss: 23.0046 - mae: 23.0046\n",
            "Epoch 22/100\n",
            "2/2 [==============================] - 0s 6ms/step - loss: 17.6163 - mae: 17.6163\n",
            "Epoch 23/100\n",
            "2/2 [==============================] - 0s 19ms/step - loss: 19.7779 - mae: 19.7779\n",
            "Epoch 24/100\n",
            "2/2 [==============================] - 0s 6ms/step - loss: 22.6683 - mae: 22.6683\n",
            "Epoch 25/100\n",
            "2/2 [==============================] - 0s 18ms/step - loss: 40.4986 - mae: 40.4986\n",
            "Epoch 26/100\n",
            "2/2 [==============================] - 0s 9ms/step - loss: 17.6427 - mae: 17.6427\n",
            "Epoch 27/100\n",
            "2/2 [==============================] - 0s 8ms/step - loss: 25.9817 - mae: 25.9817\n",
            "Epoch 28/100\n",
            "2/2 [==============================] - 0s 9ms/step - loss: 31.8978 - mae: 31.8978\n",
            "Epoch 29/100\n",
            "2/2 [==============================] - 0s 8ms/step - loss: 19.9780 - mae: 19.9780\n",
            "Epoch 30/100\n",
            "2/2 [==============================] - 0s 7ms/step - loss: 67.6246 - mae: 67.6246\n",
            "Epoch 31/100\n",
            "2/2 [==============================] - 0s 7ms/step - loss: 13.8186 - mae: 13.8186\n",
            "Epoch 32/100\n",
            "2/2 [==============================] - 0s 5ms/step - loss: 7.1997 - mae: 7.1997\n",
            "Epoch 33/100\n",
            "2/2 [==============================] - 0s 6ms/step - loss: 27.3559 - mae: 27.3559\n",
            "Epoch 34/100\n",
            "2/2 [==============================] - 0s 8ms/step - loss: 20.3836 - mae: 20.3836\n",
            "Epoch 35/100\n",
            "2/2 [==============================] - 0s 8ms/step - loss: 22.2438 - mae: 22.2438\n",
            "Epoch 36/100\n",
            "2/2 [==============================] - 0s 9ms/step - loss: 31.8094 - mae: 31.8094\n",
            "Epoch 37/100\n",
            "2/2 [==============================] - 0s 5ms/step - loss: 27.4786 - mae: 27.4786\n",
            "Epoch 38/100\n",
            "2/2 [==============================] - 0s 6ms/step - loss: 18.7366 - mae: 18.7366\n",
            "Epoch 39/100\n",
            "2/2 [==============================] - 0s 10ms/step - loss: 19.6728 - mae: 19.6728\n",
            "Epoch 40/100\n",
            "2/2 [==============================] - 0s 7ms/step - loss: 24.5813 - mae: 24.5813\n",
            "Epoch 41/100\n",
            "2/2 [==============================] - 0s 9ms/step - loss: 33.8204 - mae: 33.8204\n",
            "Epoch 42/100\n",
            "2/2 [==============================] - 0s 9ms/step - loss: 21.9048 - mae: 21.9048\n",
            "Epoch 43/100\n",
            "2/2 [==============================] - 0s 9ms/step - loss: 9.9397 - mae: 9.9397\n",
            "Epoch 44/100\n",
            "2/2 [==============================] - 0s 6ms/step - loss: 39.1817 - mae: 39.1817\n",
            "Epoch 45/100\n",
            "2/2 [==============================] - 0s 8ms/step - loss: 20.7507 - mae: 20.7507\n",
            "Epoch 46/100\n",
            "2/2 [==============================] - 0s 10ms/step - loss: 19.8623 - mae: 19.8623\n",
            "Epoch 47/100\n",
            "2/2 [==============================] - 0s 9ms/step - loss: 11.3174 - mae: 11.3174\n",
            "Epoch 48/100\n",
            "2/2 [==============================] - 0s 9ms/step - loss: 25.7073 - mae: 25.7073\n",
            "Epoch 49/100\n",
            "2/2 [==============================] - 0s 7ms/step - loss: 13.0243 - mae: 13.0243\n",
            "Epoch 50/100\n",
            "2/2 [==============================] - 0s 5ms/step - loss: 14.7304 - mae: 14.7304\n",
            "Epoch 51/100\n",
            "2/2 [==============================] - 0s 7ms/step - loss: 23.0056 - mae: 23.0056\n",
            "Epoch 52/100\n",
            "2/2 [==============================] - 0s 7ms/step - loss: 52.1018 - mae: 52.1018\n",
            "Epoch 53/100\n",
            "2/2 [==============================] - 0s 7ms/step - loss: 17.7683 - mae: 17.7683\n",
            "Epoch 54/100\n",
            "2/2 [==============================] - 0s 7ms/step - loss: 36.5851 - mae: 36.5851\n",
            "Epoch 55/100\n",
            "2/2 [==============================] - 0s 8ms/step - loss: 24.7126 - mae: 24.7126\n",
            "Epoch 56/100\n",
            "2/2 [==============================] - 0s 8ms/step - loss: 31.7060 - mae: 31.7060\n",
            "Epoch 57/100\n",
            "2/2 [==============================] - 0s 6ms/step - loss: 20.8467 - mae: 20.8467\n",
            "Epoch 58/100\n",
            "2/2 [==============================] - 0s 9ms/step - loss: 6.1147 - mae: 6.1147\n",
            "Epoch 59/100\n",
            "2/2 [==============================] - 0s 4ms/step - loss: 16.2285 - mae: 16.2285\n",
            "Epoch 60/100\n",
            "2/2 [==============================] - 0s 7ms/step - loss: 19.3060 - mae: 19.3060\n",
            "Epoch 61/100\n",
            "2/2 [==============================] - 0s 4ms/step - loss: 19.8730 - mae: 19.8730\n",
            "Epoch 62/100\n",
            "2/2 [==============================] - 0s 6ms/step - loss: 18.6407 - mae: 18.6407\n",
            "Epoch 63/100\n",
            "2/2 [==============================] - 0s 7ms/step - loss: 24.8603 - mae: 24.8603\n",
            "Epoch 64/100\n",
            "2/2 [==============================] - 0s 8ms/step - loss: 31.6310 - mae: 31.6310\n",
            "Epoch 65/100\n",
            "2/2 [==============================] - 0s 7ms/step - loss: 19.5702 - mae: 19.5702\n",
            "Epoch 66/100\n",
            "2/2 [==============================] - 0s 7ms/step - loss: 28.8039 - mae: 28.8039\n",
            "Epoch 67/100\n",
            "2/2 [==============================] - 0s 6ms/step - loss: 14.2200 - mae: 14.2200\n",
            "Epoch 68/100\n",
            "2/2 [==============================] - 0s 8ms/step - loss: 17.1030 - mae: 17.1030\n",
            "Epoch 69/100\n",
            "2/2 [==============================] - 0s 6ms/step - loss: 28.0840 - mae: 28.0840\n",
            "Epoch 70/100\n",
            "2/2 [==============================] - 0s 9ms/step - loss: 13.5025 - mae: 13.5025\n",
            "Epoch 71/100\n",
            "2/2 [==============================] - 0s 9ms/step - loss: 12.9162 - mae: 12.9162\n",
            "Epoch 72/100\n",
            "2/2 [==============================] - 0s 7ms/step - loss: 12.3260 - mae: 12.3260\n",
            "Epoch 73/100\n",
            "2/2 [==============================] - 0s 7ms/step - loss: 15.0310 - mae: 15.0310\n",
            "Epoch 74/100\n",
            "2/2 [==============================] - 0s 6ms/step - loss: 22.0160 - mae: 22.0160\n",
            "Epoch 75/100\n",
            "2/2 [==============================] - 0s 8ms/step - loss: 20.7588 - mae: 20.7588\n",
            "Epoch 76/100\n",
            "2/2 [==============================] - 0s 8ms/step - loss: 27.6719 - mae: 27.6719\n",
            "Epoch 77/100\n",
            "2/2 [==============================] - 0s 5ms/step - loss: 19.0597 - mae: 19.0597\n",
            "Epoch 78/100\n",
            "2/2 [==============================] - 0s 6ms/step - loss: 17.8858 - mae: 17.8858\n",
            "Epoch 79/100\n",
            "2/2 [==============================] - 0s 7ms/step - loss: 35.9411 - mae: 35.9411\n",
            "Epoch 80/100\n",
            "2/2 [==============================] - 0s 7ms/step - loss: 20.6817 - mae: 20.6817\n",
            "Epoch 81/100\n",
            "2/2 [==============================] - 0s 5ms/step - loss: 32.6734 - mae: 32.6734\n",
            "Epoch 82/100\n",
            "2/2 [==============================] - 0s 6ms/step - loss: 33.3631 - mae: 33.3631\n",
            "Epoch 83/100\n",
            "2/2 [==============================] - 0s 5ms/step - loss: 18.5003 - mae: 18.5003\n",
            "Epoch 84/100\n",
            "2/2 [==============================] - 0s 12ms/step - loss: 16.0495 - mae: 16.0495\n",
            "Epoch 85/100\n",
            "2/2 [==============================] - 0s 9ms/step - loss: 37.3972 - mae: 37.3972\n",
            "Epoch 86/100\n",
            "2/2 [==============================] - 0s 8ms/step - loss: 29.2114 - mae: 29.2114\n",
            "Epoch 87/100\n",
            "2/2 [==============================] - 0s 7ms/step - loss: 12.3129 - mae: 12.3129\n",
            "Epoch 88/100\n",
            "2/2 [==============================] - 0s 7ms/step - loss: 31.0118 - mae: 31.0118\n",
            "Epoch 89/100\n",
            "2/2 [==============================] - 0s 15ms/step - loss: 22.7946 - mae: 22.7946\n",
            "Epoch 90/100\n",
            "2/2 [==============================] - 0s 9ms/step - loss: 46.9532 - mae: 46.9532\n",
            "Epoch 91/100\n",
            "2/2 [==============================] - 0s 8ms/step - loss: 21.3701 - mae: 21.3701\n",
            "Epoch 92/100\n",
            "2/2 [==============================] - 0s 6ms/step - loss: 60.9038 - mae: 60.9038\n",
            "Epoch 93/100\n",
            "2/2 [==============================] - 0s 6ms/step - loss: 25.2652 - mae: 25.2652\n",
            "Epoch 94/100\n",
            "2/2 [==============================] - 0s 4ms/step - loss: 28.3403 - mae: 28.3403\n",
            "Epoch 95/100\n",
            "2/2 [==============================] - 0s 5ms/step - loss: 18.7854 - mae: 18.7854\n",
            "Epoch 96/100\n",
            "2/2 [==============================] - 0s 6ms/step - loss: 22.6281 - mae: 22.6281\n",
            "Epoch 97/100\n",
            "2/2 [==============================] - 0s 6ms/step - loss: 50.1150 - mae: 50.1150\n",
            "Epoch 98/100\n",
            "2/2 [==============================] - 0s 5ms/step - loss: 25.3290 - mae: 25.3290\n",
            "Epoch 99/100\n",
            "2/2 [==============================] - 0s 5ms/step - loss: 30.3244 - mae: 30.3244\n",
            "Epoch 100/100\n",
            "2/2 [==============================] - 0s 5ms/step - loss: 17.1626 - mae: 17.1626\n"
          ]
        },
        {
          "output_type": "execute_result",
          "data": {
            "text/plain": [
              "<keras.callbacks.History at 0x7f0f80892150>"
            ]
          },
          "metadata": {},
          "execution_count": 82
        }
      ]
    },
    {
      "cell_type": "code",
      "source": [
        "## Let's create one more model and more neurons and some complex structure and check\n",
        "model = tf.keras.Sequential([\n",
        "    tf.keras.layers.Dense(50, input_shape=[1]),\n",
        "    tf.keras.layers.Dense(30),\n",
        "    tf.keras.layers.Dense(15),\n",
        "    tf.keras.layers.Dense(8),\n",
        "    tf.keras.layers.Dense(1)\n",
        "])\n",
        "\n",
        "model.compile(loss = tf.keras.losses.mae,\n",
        "              optimizer = tf.keras.optimizers.SGD(),\n",
        "              metrics = ['mae'])\n"
      ],
      "metadata": {
        "id": "Lzvd6bAeXqTh"
      },
      "execution_count": 64,
      "outputs": []
    },
    {
      "cell_type": "code",
      "source": [
        "model.summary()"
      ],
      "metadata": {
        "colab": {
          "base_uri": "https://localhost:8080/"
        },
        "id": "GfkIekfBaD7K",
        "outputId": "5ac4f72c-19df-4340-b2af-84a9754a4302"
      },
      "execution_count": 65,
      "outputs": [
        {
          "output_type": "stream",
          "name": "stdout",
          "text": [
            "Model: \"sequential_16\"\n",
            "_________________________________________________________________\n",
            " Layer (type)                Output Shape              Param #   \n",
            "=================================================================\n",
            " dense_50 (Dense)            (None, 50)                100       \n",
            "                                                                 \n",
            " dense_51 (Dense)            (None, 30)                1530      \n",
            "                                                                 \n",
            " dense_52 (Dense)            (None, 15)                465       \n",
            "                                                                 \n",
            " dense_53 (Dense)            (None, 8)                 128       \n",
            "                                                                 \n",
            " dense_54 (Dense)            (None, 1)                 9         \n",
            "                                                                 \n",
            "=================================================================\n",
            "Total params: 2,232\n",
            "Trainable params: 2,232\n",
            "Non-trainable params: 0\n",
            "_________________________________________________________________\n"
          ]
        }
      ]
    },
    {
      "cell_type": "code",
      "source": [
        "model.fit(tf.expand_dims(x_train,axis=1),y_train,epochs=100, verbose=1)"
      ],
      "metadata": {
        "colab": {
          "base_uri": "https://localhost:8080/"
        },
        "id": "cC0bE3cKaN6S",
        "outputId": "5b652d71-beaa-443b-d0af-96da820faf9c"
      },
      "execution_count": 89,
      "outputs": [
        {
          "output_type": "stream",
          "name": "stdout",
          "text": [
            "Epoch 1/100\n",
            "2/2 [==============================] - 0s 5ms/step - loss: 61.2952 - mae: 61.2952\n",
            "Epoch 2/100\n",
            "2/2 [==============================] - 0s 5ms/step - loss: 26.4702 - mae: 26.4702\n",
            "Epoch 3/100\n",
            "2/2 [==============================] - 0s 5ms/step - loss: 10.4860 - mae: 10.4860\n",
            "Epoch 4/100\n",
            "2/2 [==============================] - 0s 4ms/step - loss: 12.9684 - mae: 12.9684\n",
            "Epoch 5/100\n",
            "2/2 [==============================] - 0s 7ms/step - loss: 12.0133 - mae: 12.0133\n",
            "Epoch 6/100\n",
            "2/2 [==============================] - 0s 4ms/step - loss: 9.2972 - mae: 9.2972\n",
            "Epoch 7/100\n",
            "2/2 [==============================] - 0s 4ms/step - loss: 8.4612 - mae: 8.4612\n",
            "Epoch 8/100\n",
            "2/2 [==============================] - 0s 4ms/step - loss: 9.0497 - mae: 9.0497\n",
            "Epoch 9/100\n",
            "2/2 [==============================] - 0s 4ms/step - loss: 18.4496 - mae: 18.4496\n",
            "Epoch 10/100\n",
            "2/2 [==============================] - 0s 4ms/step - loss: 9.9572 - mae: 9.9572\n",
            "Epoch 11/100\n",
            "2/2 [==============================] - 0s 4ms/step - loss: 8.3462 - mae: 8.3462\n",
            "Epoch 12/100\n",
            "2/2 [==============================] - 0s 6ms/step - loss: 10.5412 - mae: 10.5412\n",
            "Epoch 13/100\n",
            "2/2 [==============================] - 0s 5ms/step - loss: 9.7584 - mae: 9.7584\n",
            "Epoch 14/100\n",
            "2/2 [==============================] - 0s 5ms/step - loss: 15.6863 - mae: 15.6863\n",
            "Epoch 15/100\n",
            "2/2 [==============================] - 0s 5ms/step - loss: 11.6802 - mae: 11.6802\n",
            "Epoch 16/100\n",
            "2/2 [==============================] - 0s 9ms/step - loss: 8.4760 - mae: 8.4760\n",
            "Epoch 17/100\n",
            "2/2 [==============================] - 0s 5ms/step - loss: 13.4715 - mae: 13.4715\n",
            "Epoch 18/100\n",
            "2/2 [==============================] - 0s 11ms/step - loss: 11.2548 - mae: 11.2548\n",
            "Epoch 19/100\n",
            "2/2 [==============================] - 0s 17ms/step - loss: 18.2917 - mae: 18.2917\n",
            "Epoch 20/100\n",
            "2/2 [==============================] - 0s 6ms/step - loss: 14.9991 - mae: 14.9991\n",
            "Epoch 21/100\n",
            "2/2 [==============================] - 0s 5ms/step - loss: 10.8768 - mae: 10.8768\n",
            "Epoch 22/100\n",
            "2/2 [==============================] - 0s 4ms/step - loss: 8.6304 - mae: 8.6304\n",
            "Epoch 23/100\n",
            "2/2 [==============================] - 0s 4ms/step - loss: 9.7097 - mae: 9.7097\n",
            "Epoch 24/100\n",
            "2/2 [==============================] - 0s 4ms/step - loss: 8.5989 - mae: 8.5989\n",
            "Epoch 25/100\n",
            "2/2 [==============================] - 0s 4ms/step - loss: 11.6175 - mae: 11.6175\n",
            "Epoch 26/100\n",
            "2/2 [==============================] - 0s 5ms/step - loss: 15.1357 - mae: 15.1357\n",
            "Epoch 27/100\n",
            "2/2 [==============================] - 0s 5ms/step - loss: 11.8856 - mae: 11.8856\n",
            "Epoch 28/100\n",
            "2/2 [==============================] - 0s 4ms/step - loss: 13.9268 - mae: 13.9268\n",
            "Epoch 29/100\n",
            "2/2 [==============================] - 0s 5ms/step - loss: 9.6193 - mae: 9.6193\n",
            "Epoch 30/100\n",
            "2/2 [==============================] - 0s 4ms/step - loss: 17.1777 - mae: 17.1777\n",
            "Epoch 31/100\n",
            "2/2 [==============================] - 0s 4ms/step - loss: 22.8938 - mae: 22.8938\n",
            "Epoch 32/100\n",
            "2/2 [==============================] - 0s 8ms/step - loss: 7.9298 - mae: 7.9298\n",
            "Epoch 33/100\n",
            "2/2 [==============================] - 0s 5ms/step - loss: 14.1338 - mae: 14.1338\n",
            "Epoch 34/100\n",
            "2/2 [==============================] - 0s 4ms/step - loss: 12.3777 - mae: 12.3777\n",
            "Epoch 35/100\n",
            "2/2 [==============================] - 0s 5ms/step - loss: 8.2778 - mae: 8.2778\n",
            "Epoch 36/100\n",
            "2/2 [==============================] - 0s 5ms/step - loss: 10.5011 - mae: 10.5011\n",
            "Epoch 37/100\n",
            "2/2 [==============================] - 0s 12ms/step - loss: 10.1449 - mae: 10.1449\n",
            "Epoch 38/100\n",
            "2/2 [==============================] - 0s 4ms/step - loss: 11.3429 - mae: 11.3429\n",
            "Epoch 39/100\n",
            "2/2 [==============================] - 0s 4ms/step - loss: 14.7572 - mae: 14.7572\n",
            "Epoch 40/100\n",
            "2/2 [==============================] - 0s 4ms/step - loss: 12.8875 - mae: 12.8875\n",
            "Epoch 41/100\n",
            "2/2 [==============================] - 0s 5ms/step - loss: 9.2769 - mae: 9.2769\n",
            "Epoch 42/100\n",
            "2/2 [==============================] - 0s 4ms/step - loss: 11.0227 - mae: 11.0227\n",
            "Epoch 43/100\n",
            "2/2 [==============================] - 0s 4ms/step - loss: 8.3477 - mae: 8.3477\n",
            "Epoch 44/100\n",
            "2/2 [==============================] - 0s 4ms/step - loss: 13.0668 - mae: 13.0668\n",
            "Epoch 45/100\n",
            "2/2 [==============================] - 0s 5ms/step - loss: 13.6767 - mae: 13.6767\n",
            "Epoch 46/100\n",
            "2/2 [==============================] - 0s 8ms/step - loss: 8.2938 - mae: 8.2938\n",
            "Epoch 47/100\n",
            "2/2 [==============================] - 0s 5ms/step - loss: 8.7412 - mae: 8.7412\n",
            "Epoch 48/100\n",
            "2/2 [==============================] - 0s 5ms/step - loss: 10.0426 - mae: 10.0426\n",
            "Epoch 49/100\n",
            "2/2 [==============================] - 0s 4ms/step - loss: 8.5262 - mae: 8.5262\n",
            "Epoch 50/100\n",
            "2/2 [==============================] - 0s 5ms/step - loss: 9.0318 - mae: 9.0318\n",
            "Epoch 51/100\n",
            "2/2 [==============================] - 0s 4ms/step - loss: 9.3885 - mae: 9.3885\n",
            "Epoch 52/100\n",
            "2/2 [==============================] - 0s 5ms/step - loss: 14.1871 - mae: 14.1871\n",
            "Epoch 53/100\n",
            "2/2 [==============================] - 0s 5ms/step - loss: 14.8891 - mae: 14.8891\n",
            "Epoch 54/100\n",
            "2/2 [==============================] - 0s 4ms/step - loss: 14.8267 - mae: 14.8267\n",
            "Epoch 55/100\n",
            "2/2 [==============================] - 0s 4ms/step - loss: 12.6090 - mae: 12.6090\n",
            "Epoch 56/100\n",
            "2/2 [==============================] - 0s 5ms/step - loss: 7.6036 - mae: 7.6036\n",
            "Epoch 57/100\n",
            "2/2 [==============================] - 0s 9ms/step - loss: 8.8075 - mae: 8.8075\n",
            "Epoch 58/100\n",
            "2/2 [==============================] - 0s 5ms/step - loss: 8.3944 - mae: 8.3944\n",
            "Epoch 59/100\n",
            "2/2 [==============================] - 0s 5ms/step - loss: 9.1915 - mae: 9.1915\n",
            "Epoch 60/100\n",
            "2/2 [==============================] - 0s 9ms/step - loss: 9.1335 - mae: 9.1335\n",
            "Epoch 61/100\n",
            "2/2 [==============================] - 0s 5ms/step - loss: 10.6747 - mae: 10.6747\n",
            "Epoch 62/100\n",
            "2/2 [==============================] - 0s 5ms/step - loss: 7.4485 - mae: 7.4485\n",
            "Epoch 63/100\n",
            "2/2 [==============================] - 0s 4ms/step - loss: 10.5371 - mae: 10.5371\n",
            "Epoch 64/100\n",
            "2/2 [==============================] - 0s 8ms/step - loss: 12.1414 - mae: 12.1414\n",
            "Epoch 65/100\n",
            "2/2 [==============================] - 0s 14ms/step - loss: 9.4687 - mae: 9.4687\n",
            "Epoch 66/100\n",
            "2/2 [==============================] - 0s 10ms/step - loss: 11.5468 - mae: 11.5468\n",
            "Epoch 67/100\n",
            "2/2 [==============================] - 0s 10ms/step - loss: 8.0387 - mae: 8.0387\n",
            "Epoch 68/100\n",
            "2/2 [==============================] - 0s 15ms/step - loss: 8.5711 - mae: 8.5711\n",
            "Epoch 69/100\n",
            "2/2 [==============================] - 0s 15ms/step - loss: 12.2433 - mae: 12.2433\n",
            "Epoch 70/100\n",
            "2/2 [==============================] - 0s 8ms/step - loss: 8.9569 - mae: 8.9569\n",
            "Epoch 71/100\n",
            "2/2 [==============================] - 0s 8ms/step - loss: 9.9304 - mae: 9.9304\n",
            "Epoch 72/100\n",
            "2/2 [==============================] - 0s 8ms/step - loss: 9.9723 - mae: 9.9723\n",
            "Epoch 73/100\n",
            "2/2 [==============================] - 0s 9ms/step - loss: 12.4272 - mae: 12.4272\n",
            "Epoch 74/100\n",
            "2/2 [==============================] - 0s 8ms/step - loss: 10.6077 - mae: 10.6077\n",
            "Epoch 75/100\n",
            "2/2 [==============================] - 0s 7ms/step - loss: 9.6294 - mae: 9.6294\n",
            "Epoch 76/100\n",
            "2/2 [==============================] - 0s 8ms/step - loss: 11.0912 - mae: 11.0912\n",
            "Epoch 77/100\n",
            "2/2 [==============================] - 0s 7ms/step - loss: 8.2782 - mae: 8.2782\n",
            "Epoch 78/100\n",
            "2/2 [==============================] - 0s 4ms/step - loss: 8.9605 - mae: 8.9605\n",
            "Epoch 79/100\n",
            "2/2 [==============================] - 0s 8ms/step - loss: 19.8296 - mae: 19.8296\n",
            "Epoch 80/100\n",
            "2/2 [==============================] - 0s 10ms/step - loss: 17.7951 - mae: 17.7951\n",
            "Epoch 81/100\n",
            "2/2 [==============================] - 0s 9ms/step - loss: 7.1030 - mae: 7.1030\n",
            "Epoch 82/100\n",
            "2/2 [==============================] - 0s 5ms/step - loss: 10.4050 - mae: 10.4050\n",
            "Epoch 83/100\n",
            "2/2 [==============================] - 0s 7ms/step - loss: 9.8251 - mae: 9.8251\n",
            "Epoch 84/100\n",
            "2/2 [==============================] - 0s 6ms/step - loss: 7.9566 - mae: 7.9566\n",
            "Epoch 85/100\n",
            "2/2 [==============================] - 0s 4ms/step - loss: 9.4706 - mae: 9.4706\n",
            "Epoch 86/100\n",
            "2/2 [==============================] - 0s 5ms/step - loss: 9.5128 - mae: 9.5128\n",
            "Epoch 87/100\n",
            "2/2 [==============================] - 0s 9ms/step - loss: 11.4620 - mae: 11.4620\n",
            "Epoch 88/100\n",
            "2/2 [==============================] - 0s 7ms/step - loss: 9.9614 - mae: 9.9614\n",
            "Epoch 89/100\n",
            "2/2 [==============================] - 0s 10ms/step - loss: 7.2648 - mae: 7.2648\n",
            "Epoch 90/100\n",
            "2/2 [==============================] - 0s 8ms/step - loss: 12.7243 - mae: 12.7243\n",
            "Epoch 91/100\n",
            "2/2 [==============================] - 0s 7ms/step - loss: 7.3300 - mae: 7.3300\n",
            "Epoch 92/100\n",
            "2/2 [==============================] - 0s 4ms/step - loss: 7.6952 - mae: 7.6952\n",
            "Epoch 93/100\n",
            "2/2 [==============================] - 0s 4ms/step - loss: 7.1292 - mae: 7.1292\n",
            "Epoch 94/100\n",
            "2/2 [==============================] - 0s 6ms/step - loss: 12.5703 - mae: 12.5703\n",
            "Epoch 95/100\n",
            "2/2 [==============================] - 0s 8ms/step - loss: 9.9467 - mae: 9.9467\n",
            "Epoch 96/100\n",
            "2/2 [==============================] - 0s 6ms/step - loss: 9.1440 - mae: 9.1440\n",
            "Epoch 97/100\n",
            "2/2 [==============================] - 0s 8ms/step - loss: 12.0773 - mae: 12.0773\n",
            "Epoch 98/100\n",
            "2/2 [==============================] - 0s 5ms/step - loss: 9.0922 - mae: 9.0922\n",
            "Epoch 99/100\n",
            "2/2 [==============================] - 0s 6ms/step - loss: 8.5035 - mae: 8.5035\n",
            "Epoch 100/100\n",
            "2/2 [==============================] - 0s 3ms/step - loss: 14.4432 - mae: 14.4432\n"
          ]
        },
        {
          "output_type": "execute_result",
          "data": {
            "text/plain": [
              "<keras.callbacks.History at 0x7f0f80c68110>"
            ]
          },
          "metadata": {},
          "execution_count": 89
        }
      ]
    },
    {
      "cell_type": "code",
      "source": [
        "\n",
        "## creating a more custom model with custom names of model and layers\n",
        "\n",
        "model = tf.keras.Sequential([\n",
        "    tf.keras.layers.Dense(50, input_shape=[1], name=\"First_hidden_layer\"),\n",
        "    tf.keras.layers.Dense(25, name=\"Second_hidden_layer\"),\n",
        "    tf.keras.layers.Dense(5,name=\"Third_hidden_layer\"),\n",
        "    tf.keras.layers.Dense(1, name=\"output_layer\")\n",
        "], name=\"My_Custom_model\")\n",
        "\n",
        "model.compile(loss = tf.keras.losses.mae,\n",
        "              optimizer = tf.keras.optimizers.SGD(),\n",
        "              metrics = ['mae'])\n"
      ],
      "metadata": {
        "id": "J_vfUPoZagCK"
      },
      "execution_count": 59,
      "outputs": []
    },
    {
      "cell_type": "code",
      "source": [
        "model.summary()"
      ],
      "metadata": {
        "colab": {
          "base_uri": "https://localhost:8080/"
        },
        "id": "ncZ7fW7ddFaV",
        "outputId": "0dfa211d-45b2-43e2-dc20-40f2c6b49cf7"
      },
      "execution_count": 60,
      "outputs": [
        {
          "output_type": "stream",
          "name": "stdout",
          "text": [
            "Model: \"My_Custom_model\"\n",
            "_________________________________________________________________\n",
            " Layer (type)                Output Shape              Param #   \n",
            "=================================================================\n",
            " First_hidden_layer (Dense)  (None, 50)                100       \n",
            "                                                                 \n",
            " Second_hidden_layer (Dense)  (None, 25)               1275      \n",
            "                                                                 \n",
            " Third_hidden_layer (Dense)  (None, 5)                 130       \n",
            "                                                                 \n",
            " output_layer (Dense)        (None, 1)                 6         \n",
            "                                                                 \n",
            "=================================================================\n",
            "Total params: 1,511\n",
            "Trainable params: 1,511\n",
            "Non-trainable params: 0\n",
            "_________________________________________________________________\n"
          ]
        }
      ]
    },
    {
      "cell_type": "code",
      "source": [
        "from tensorflow.keras.utils import plot_model\n",
        "\n",
        "plot_model(model=model)"
      ],
      "metadata": {
        "colab": {
          "base_uri": "https://localhost:8080/",
          "height": 466
        },
        "id": "nerpHy_ddG3i",
        "outputId": "788ed7c9-30cc-44c6-d00f-daafaabb5fce"
      },
      "execution_count": 61,
      "outputs": [
        {
          "output_type": "execute_result",
          "data": {
            "image/png": "[encoded data removed]",
            "text/plain": [
              "<IPython.core.display.Image object>"
            ]
          },
          "metadata": {},
          "execution_count": 61
        }
      ]
    },
    {
      "cell_type": "code",
      "source": [
        "plot_model(model=model, show_shapes=True)"
      ],
      "metadata": {
        "colab": {
          "base_uri": "https://localhost:8080/",
          "height": 533
        },
        "id": "Uixx1xEldSwd",
        "outputId": "6a6b2f7f-d0e7-4cee-90bb-cd7a7e2e48f5"
      },
      "execution_count": 63,
      "outputs": [
        {
          "output_type": "execute_result",
          "data": {
            "image/png": "[encoded data removed]",
            "text/plain": [
              "<IPython.core.display.Image object>"
            ]
          },
          "metadata": {},
          "execution_count": 63
        }
      ]
    },
    {
      "cell_type": "markdown",
      "source": [
        "## Let's give it a try to visualize our predictions, so let's predict on x_test and compare it with y_testm with a beautifull visualization"
      ],
      "metadata": {
        "id": "vzOh3rNofAXK"
      }
    },
    {
      "cell_type": "code",
      "source": [
        "## prediting first\n",
        "y_pred = model.predict(x_test)\n",
        "y_pred"
      ],
      "metadata": {
        "colab": {
          "base_uri": "https://localhost:8080/"
        },
        "id": "CQhqh0cJdarY",
        "outputId": "22f62ec1-7ec2-45f1-c867-c1be93727a42"
      },
      "execution_count": 90,
      "outputs": [
        {
          "output_type": "execute_result",
          "data": {
            "text/plain": [
              "array([[44.387936],\n",
              "       [47.261463],\n",
              "       [50.13499 ],\n",
              "       [53.008522],\n",
              "       [55.88205 ],\n",
              "       [58.75558 ],\n",
              "       [61.62911 ],\n",
              "       [64.50263 ],\n",
              "       [67.37616 ],\n",
              "       [70.24969 ]], dtype=float32)"
            ]
          },
          "metadata": {},
          "execution_count": 90
        }
      ]
    },
    {
      "cell_type": "code",
      "source": [
        "## Let's convert the y_pred into the tensors\n",
        "y_pred = tf.constant(y_pred)\n",
        "y_pred,y_test"
      ],
      "metadata": {
        "colab": {
          "base_uri": "https://localhost:8080/"
        },
        "id": "lUQrUJClfkNl",
        "outputId": "84a7b3f5-e6ad-4e37-868c-2f663a5fbaf4"
      },
      "execution_count": 91,
      "outputs": [
        {
          "output_type": "execute_result",
          "data": {
            "text/plain": [
              "(<tf.Tensor: shape=(10, 1), dtype=float32, numpy=\n",
              " array([[44.387936],\n",
              "        [47.261463],\n",
              "        [50.13499 ],\n",
              "        [53.008522],\n",
              "        [55.88205 ],\n",
              "        [58.75558 ],\n",
              "        [61.62911 ],\n",
              "        [64.50263 ],\n",
              "        [67.37616 ],\n",
              "        [70.24969 ]], dtype=float32)>,\n",
              " <tf.Tensor: shape=(10,), dtype=int32, numpy=array([ 70,  74,  78,  82,  86,  90,  94,  98, 102, 106], dtype=int32)>)"
            ]
          },
          "metadata": {},
          "execution_count": 91
        }
      ]
    },
    {
      "cell_type": "code",
      "source": [
        "## Let's create a function to plot \n",
        "\n",
        "def plot_evaluation(train_data = x_train, train_label=y_train, test_data=x_test, test_label=y_test, prediction = y_pred):\n",
        "  plt.figure(figsize=(10,7))\n",
        "  ## plotting the train set\n",
        "  plt.scatter(train_data, train_label, c=\"g\")\n",
        "  ## plotting the test set\n",
        "  plt.scatter(test_data,test_label, c=\"b\")\n",
        "  ## plotting the predictions w.r.t to test labels\n",
        "  plt.scatter(prediction,test_label, c=\"r\")\n",
        "  plt.legend()\n",
        "  plt.plot()"
      ],
      "metadata": {
        "id": "JLIYYws6frtB"
      },
      "execution_count": 94,
      "outputs": []
    },
    {
      "cell_type": "code",
      "source": [
        "plot_evaluation()"
      ],
      "metadata": {
        "colab": {
          "base_uri": "https://localhost:8080/",
          "height": 445
        },
        "id": "Ot2iw64Fgz2E",
        "outputId": "d1b53e6c-b2ae-4536-9149-3f5c5970ef73"
      },
      "execution_count": 95,
      "outputs": [
        {
          "output_type": "stream",
          "name": "stderr",
          "text": [
            "WARNING:matplotlib.legend:No handles with labels found to put in legend.\n"
          ]
        },
        {
          "output_type": "display_data",
          "data": {
            "text/plain": [
              "<Figure size 720x504 with 1 Axes>"
            ],
            "image/png": "[encoded data removed]"
          },
          "metadata": {
            "needs_background": "light"
          }
        }
      ]
    },
    {
      "cell_type": "code",
      "source": [
        "## Let's evaluate the model\n",
        "model.evaluate(x_test,y_test)   ## It will show mae because we chose mae as loss and mae as metrics while creating model"
      ],
      "metadata": {
        "colab": {
          "base_uri": "https://localhost:8080/"
        },
        "id": "f8wDFJPqg1wT",
        "outputId": "c19e834d-6a78-46ff-99aa-5c2d17261109"
      },
      "execution_count": 107,
      "outputs": [
        {
          "output_type": "stream",
          "name": "stdout",
          "text": [
            "1/1 [==============================] - 0s 167ms/step - loss: 30.6812 - mae: 30.6812\n"
          ]
        },
        {
          "output_type": "execute_result",
          "data": {
            "text/plain": [
              "[30.68118667602539, 30.68118667602539]"
            ]
          },
          "metadata": {},
          "execution_count": 107
        }
      ]
    },
    {
      "cell_type": "code",
      "source": [
        "## calculating the mean absoulte error \n",
        "mae = tf.metrics.mean_absolute_error(y_test,y_pred)\n",
        "mae"
      ],
      "metadata": {
        "colab": {
          "base_uri": "https://localhost:8080/"
        },
        "id": "PLz_LYZvkMvn",
        "outputId": "23dd5b54-88d1-4241-b073-48384f425517"
      },
      "execution_count": 100,
      "outputs": [
        {
          "output_type": "execute_result",
          "data": {
            "text/plain": [
              "<tf.Tensor: shape=(10,), dtype=float32, numpy=\n",
              "array([43.612064, 40.738537, 37.86501 , 34.991478, 32.11795 , 29.24442 ,\n",
              "       26.370892, 23.497368, 20.62384 , 17.800251], dtype=float32)>"
            ]
          },
          "metadata": {},
          "execution_count": 100
        }
      ]
    },
    {
      "cell_type": "markdown",
      "source": [
        "### Our mae is not as same as model.evaluate() output that is because the y_pred has different shape than the y_test. So let's decrese the dimension of the y_pred"
      ],
      "metadata": {
        "id": "LC9Jgl_MmjrO"
      }
    },
    {
      "cell_type": "code",
      "source": [
        "y_pred = tf.squeeze(y_pred)\n",
        "y_pred"
      ],
      "metadata": {
        "colab": {
          "base_uri": "https://localhost:8080/"
        },
        "id": "7VN8ag21maFY",
        "outputId": "a8e50a2a-32c5-40b2-d4ae-f5213ee82358"
      },
      "execution_count": 102,
      "outputs": [
        {
          "output_type": "execute_result",
          "data": {
            "text/plain": [
              "<tf.Tensor: shape=(10,), dtype=float32, numpy=\n",
              "array([44.387936, 47.261463, 50.13499 , 53.008522, 55.88205 , 58.75558 ,\n",
              "       61.62911 , 64.50263 , 67.37616 , 70.24969 ], dtype=float32)>"
            ]
          },
          "metadata": {},
          "execution_count": 102
        }
      ]
    },
    {
      "cell_type": "code",
      "source": [
        "mae = tf.metrics.mean_absolute_error(y_true=y_test, y_pred=y_pred)\n",
        "mae"
      ],
      "metadata": {
        "colab": {
          "base_uri": "https://localhost:8080/"
        },
        "id": "0IoBLMaUm1Jj",
        "outputId": "2164243b-083d-4fbd-d81b-a24ea94260b6"
      },
      "execution_count": 108,
      "outputs": [
        {
          "output_type": "execute_result",
          "data": {
            "text/plain": [
              "<tf.Tensor: shape=(), dtype=float32, numpy=30.681187>"
            ]
          },
          "metadata": {},
          "execution_count": 108
        }
      ]
    },
    {
      "cell_type": "markdown",
      "source": [
        "## Now the mae is same as the model.evaluate()"
      ],
      "metadata": {
        "id": "brryEXZOnZuI"
      }
    },
    {
      "cell_type": "code",
      "source": [
        "## Let's calculate the mean squared error\n",
        "mse = tf.metrics.mean_squared_error(y_true=y_test, y_pred=y_pred)\n",
        "mse"
      ],
      "metadata": {
        "colab": {
          "base_uri": "https://localhost:8080/"
        },
        "id": "9B_IzlZfnFxP",
        "outputId": "03b6de6b-214c-4035-fef8-7a269a2f7d8f"
      },
      "execution_count": 109,
      "outputs": [
        {
          "output_type": "execute_result",
          "data": {
            "text/plain": [
              "<tf.Tensor: shape=(), dtype=float32, numpy=951.8039>"
            ]
          },
          "metadata": {},
          "execution_count": 109
        }
      ]
    },
    {
      "cell_type": "code",
      "source": [
        "## Make some functions for mae and mse\n",
        "def mae(true,pred):\n",
        "  return tf.metrics.mean_absolute_error(true,pred)\n",
        "\n",
        "def mse(true,pred):\n",
        "  return tf.metrics.mean_squared_error(true,pred)\n",
        "  "
      ],
      "metadata": {
        "id": "vXr-RRFjnpkS"
      },
      "execution_count": 110,
      "outputs": []
    },
    {
      "cell_type": "code",
      "source": [],
      "metadata": {
        "id": "293x63D0oLrF"
      },
      "execution_count": null,
      "outputs": []
    }
  ]
}