{
  "nbformat": 4,
  "nbformat_minor": 0,
  "metadata": {
    "colab": {
      "provenance": [],
      "mount_file_id": "1S0EXa65crrcml4mAHG0ejjF4dzQvnWHL",
      "authorship_tag": "ABX9TyO+A3f8LfapyJV4yYzz+gPx",
      "include_colab_link": true
    },
    "kernelspec": {
      "name": "python3",
      "display_name": "Python 3"
    },
    "language_info": {
      "name": "python"
    }
  },
  "cells": [
    {
      "cell_type": "markdown",
      "metadata": {
        "id": "view-in-github",
        "colab_type": "text"
      },
      "source": [
        "<a href=\"https://colab.research.google.com/github/iamatul1214/Tensorflow_Certification_Preparation/blob/main/01_neural_network_regression.ipynb\" target=\"_parent\"><img src=\"https://colab.research.google.com/assets/colab-badge.svg\" alt=\"Open In Colab\"/></a>"
      ]
    },
    {
      "cell_type": "code",
      "execution_count": 1,
      "metadata": {
        "colab": {
          "base_uri": "https://localhost:8080/"
        },
        "id": "L3FBphyW2j_e",
        "outputId": "d57bbbac-e871-4631-969e-5dd5d8865b96"
      },
      "outputs": [
        {
          "output_type": "stream",
          "name": "stdout",
          "text": [
            "2.8.2\n"
          ]
        }
      ],
      "source": [
        "import tensorflow as tf\n",
        "print(tf.__version__)"
      ]
    },
    {
      "cell_type": "markdown",
      "source": [
        "### Let's try to create some synthetic data here\n"
      ],
      "metadata": {
        "id": "-LwwQ63q4EZi"
      }
    },
    {
      "cell_type": "code",
      "source": [
        "import numpy as np\n",
        "import matplotlib.pyplot as plt\n",
        "\n",
        "# creating features\n",
        "x = np.array([-7.0,-4.0,-1.0,2,5,8,11,14])\n",
        "\n",
        "# creating labels\n",
        "y = np.array([3.0,6.0,9.0,12.0,15.0,18.0,21.0,24.0])\n",
        "\n",
        "#visualize it\n",
        "plt.scatter(x,y)"
      ],
      "metadata": {
        "colab": {
          "base_uri": "https://localhost:8080/",
          "height": 286
        },
        "id": "1i4ci54F3oVG",
        "outputId": "8dea81db-f82f-4c73-998c-13309b8152a1"
      },
      "execution_count": 2,
      "outputs": [
        {
          "output_type": "execute_result",
          "data": {
            "text/plain": [
              "<matplotlib.collections.PathCollection at 0x7fa3b15f7d90>"
            ]
          },
          "metadata": {},
          "execution_count": 2
        },
        {
          "output_type": "display_data",
          "data": {
            "text/plain": [
              "<Figure size 432x288 with 1 Axes>"
            ],
            "image/png": "[encoded data removed]"
          },
          "metadata": {
            "needs_background": "light"
          }
        }
      ]
    },
    {
      "cell_type": "code",
      "source": [
        "## converting the arrays into tensors\n",
        "x_tensor = tf.constant(x)\n",
        "y_tensor = tf.constant(y)\n",
        "x_tensor,y_tensor"
      ],
      "metadata": {
        "colab": {
          "base_uri": "https://localhost:8080/"
        },
        "id": "YEfKCgMl4w7L",
        "outputId": "f0de1779-cfd5-409a-c9d1-0d90b481b167"
      },
      "execution_count": 3,
      "outputs": [
        {
          "output_type": "execute_result",
          "data": {
            "text/plain": [
              "(<tf.Tensor: shape=(8,), dtype=float64, numpy=array([-7., -4., -1.,  2.,  5.,  8., 11., 14.])>,\n",
              " <tf.Tensor: shape=(8,), dtype=float64, numpy=array([ 3.,  6.,  9., 12., 15., 18., 21., 24.])>)"
            ]
          },
          "metadata": {},
          "execution_count": 3
        }
      ]
    },
    {
      "cell_type": "markdown",
      "source": [
        "### Steps in modeling with tensorflow\n",
        "1. Creating a model- define the input, output and hidden layers.\n",
        "2. Compiling a model- Define the loss function which tells our model how wrong it is. Optimizer tells your model how to improve the pattern it is leaning and evaluation metrics.\n",
        "3. Fitting a model: training the model. "
      ],
      "metadata": {
        "id": "-miZA18R7IJM"
      }
    },
    {
      "cell_type": "code",
      "source": [
        "## set random seed\n",
        "tf.random.set_seed(42)\n",
        "\n",
        "## 1. create a model using sequential API\n",
        "model = tf.keras.Sequential([\n",
        "    tf.keras.layers.Dense(1)   ## as we will only pass 1\n",
        "])\n",
        "\n",
        "## 2. Compile the model\n",
        "model.compile(loss=tf.keras.losses.mae,\n",
        "              optimizer = tf.keras.optimizers.SGD(),\n",
        "              metrics = ['mae'])\n",
        "\n",
        "## 3. Fitting the model\n",
        "model.fit(tf.expand_dims(x,axis=1),y, epochs= 5)  ## expanding the dimensions of input so that it can be converted into batches"
      ],
      "metadata": {
        "colab": {
          "base_uri": "https://localhost:8080/"
        },
        "id": "H09huLEo8Q-V",
        "outputId": "d1642c3d-d90d-423b-98de-280ab5378f47"
      },
      "execution_count": 4,
      "outputs": [
        {
          "output_type": "stream",
          "name": "stdout",
          "text": [
            "Epoch 1/5\n",
            "1/1 [==============================] - 1s 515ms/step - loss: 11.5048 - mae: 11.5048\n",
            "Epoch 2/5\n",
            "1/1 [==============================] - 0s 8ms/step - loss: 11.3723 - mae: 11.3723\n",
            "Epoch 3/5\n",
            "1/1 [==============================] - 0s 8ms/step - loss: 11.2398 - mae: 11.2398\n",
            "Epoch 4/5\n",
            "1/1 [==============================] - 0s 8ms/step - loss: 11.1073 - mae: 11.1073\n",
            "Epoch 5/5\n",
            "1/1 [==============================] - 0s 7ms/step - loss: 10.9748 - mae: 10.9748\n"
          ]
        },
        {
          "output_type": "execute_result",
          "data": {
            "text/plain": [
              "<keras.callbacks.History at 0x7fa3ad3352d0>"
            ]
          },
          "metadata": {},
          "execution_count": 4
        }
      ]
    },
    {
      "cell_type": "markdown",
      "source": [
        "## Above we used loss and metrics to be same and that's why we can see loss: and mae: values to be same for every epoch. Let's try to predict and check ."
      ],
      "metadata": {
        "id": "J1kwPBQsAdrI"
      }
    },
    {
      "cell_type": "code",
      "source": [
        "tf.expand_dims(x,axis=1)"
      ],
      "metadata": {
        "colab": {
          "base_uri": "https://localhost:8080/"
        },
        "id": "kzS9uPobCG9z",
        "outputId": "7016e401-a8b6-4c5c-a548-baaf7c996409"
      },
      "execution_count": 5,
      "outputs": [
        {
          "output_type": "execute_result",
          "data": {
            "text/plain": [
              "<tf.Tensor: shape=(8, 1), dtype=float64, numpy=\n",
              "array([[-7.],\n",
              "       [-4.],\n",
              "       [-1.],\n",
              "       [ 2.],\n",
              "       [ 5.],\n",
              "       [ 8.],\n",
              "       [11.],\n",
              "       [14.]])>"
            ]
          },
          "metadata": {},
          "execution_count": 5
        }
      ]
    },
    {
      "cell_type": "code",
      "source": [
        "model.predict([17.0])"
      ],
      "metadata": {
        "colab": {
          "base_uri": "https://localhost:8080/"
        },
        "id": "pfQfF2kfAN-5",
        "outputId": "10d047db-ac56-4c8e-8753-811db74dd0ce"
      },
      "execution_count": 6,
      "outputs": [
        {
          "output_type": "execute_result",
          "data": {
            "text/plain": [
              "array([[12.716021]], dtype=float32)"
            ]
          },
          "metadata": {},
          "execution_count": 6
        }
      ]
    },
    {
      "cell_type": "markdown",
      "source": [
        "## Another way of creating models\n"
      ],
      "metadata": {
        "id": "bIc2xZMCCs5i"
      }
    },
    {
      "cell_type": "code",
      "source": [
        "## set random seed\n",
        "tf.random.set_seed(42)\n",
        "\n",
        "## 1. create a model using sequential API\n",
        "model = tf.keras.Sequential()\n",
        "model.add(tf.keras.layers.Dense(1))\n",
        "\n",
        "## 2. Compile the model\n",
        "model.compile(loss=tf.keras.losses.mae,\n",
        "              optimizer = tf.keras.optimizers.SGD(),\n",
        "              metrics = ['mae'])\n",
        "\n",
        "## 3. Fitting the model\n",
        "model.fit(tf.expand_dims(x,axis=1),y, epochs= 5)  ## expanding the dimensions of input so that it can be converted into batches"
      ],
      "metadata": {
        "colab": {
          "base_uri": "https://localhost:8080/"
        },
        "id": "_vc5k631CsPd",
        "outputId": "01f92d2a-23e0-47c8-fbcd-b4acd7d6d858"
      },
      "execution_count": 7,
      "outputs": [
        {
          "output_type": "stream",
          "name": "stdout",
          "text": [
            "Epoch 1/5\n",
            "1/1 [==============================] - 0s 288ms/step - loss: 11.5048 - mae: 11.5048\n",
            "Epoch 2/5\n",
            "1/1 [==============================] - 0s 16ms/step - loss: 11.3723 - mae: 11.3723\n",
            "Epoch 3/5\n",
            "1/1 [==============================] - 0s 10ms/step - loss: 11.2398 - mae: 11.2398\n",
            "Epoch 4/5\n",
            "1/1 [==============================] - 0s 8ms/step - loss: 11.1073 - mae: 11.1073\n",
            "Epoch 5/5\n",
            "1/1 [==============================] - 0s 7ms/step - loss: 10.9748 - mae: 10.9748\n"
          ]
        },
        {
          "output_type": "execute_result",
          "data": {
            "text/plain": [
              "<keras.callbacks.History at 0x7fa3aba7c7d0>"
            ]
          },
          "metadata": {},
          "execution_count": 7
        }
      ]
    },
    {
      "cell_type": "markdown",
      "source": [
        "## As we observed up that prediction is not that good, Let's see now how can we increase the prediction accuracy"
      ],
      "metadata": {
        "id": "L0hvLkD3CEu6"
      }
    },
    {
      "cell_type": "markdown",
      "source": [
        "### Steps we can do to improve our model\n",
        "1. **while creating a model** - We may add more layers, increase the neurons in hidden layers, change the activation function\n",
        "2. **Compiling the model** - Here we can change the optimization function or the **learning rate** of it.\n",
        "3. **Fitting a model** - Here we can fit a model for more epochs, or more data examples to learn"
      ],
      "metadata": {
        "id": "m4ZE9iX8D5VL"
      }
    },
    {
      "cell_type": "code",
      "source": [
        "## creating another version of the model\n",
        "model = tf.keras.Sequential([\n",
        "    tf.keras.layers.Dense(1)\n",
        "])\n",
        "\n",
        "## compiling\n",
        "model.compile(loss = tf.keras.losses.mae,\n",
        "              optimizer = tf.keras.optimizers.SGD(),\n",
        "              metrics = ['mae'])\n",
        "\n",
        "## fitting the model on 100 epochs\n",
        "\n",
        "model.fit(tf.expand_dims(x, axis=1),y, epochs=100)"
      ],
      "metadata": {
        "colab": {
          "base_uri": "https://localhost:8080/"
        },
        "id": "8WLY0sHLB8SK",
        "outputId": "83040882-7b51-47ce-bab0-cb6732323b29"
      },
      "execution_count": 8,
      "outputs": [
        {
          "output_type": "stream",
          "name": "stdout",
          "text": [
            "Epoch 1/100\n",
            "1/1 [==============================] - 0s 292ms/step - loss: 11.2219 - mae: 11.2219\n",
            "Epoch 2/100\n",
            "1/1 [==============================] - 0s 12ms/step - loss: 11.0894 - mae: 11.0894\n",
            "Epoch 3/100\n",
            "1/1 [==============================] - 0s 9ms/step - loss: 10.9569 - mae: 10.9569\n",
            "Epoch 4/100\n",
            "1/1 [==============================] - 0s 18ms/step - loss: 10.8244 - mae: 10.8244\n",
            "Epoch 5/100\n",
            "1/1 [==============================] - 0s 25ms/step - loss: 10.6919 - mae: 10.6919\n",
            "Epoch 6/100\n",
            "1/1 [==============================] - 0s 15ms/step - loss: 10.5594 - mae: 10.5594\n",
            "Epoch 7/100\n",
            "1/1 [==============================] - 0s 10ms/step - loss: 10.4269 - mae: 10.4269\n",
            "Epoch 8/100\n",
            "1/1 [==============================] - 0s 14ms/step - loss: 10.2944 - mae: 10.2944\n",
            "Epoch 9/100\n",
            "1/1 [==============================] - 0s 9ms/step - loss: 10.1619 - mae: 10.1619\n",
            "Epoch 10/100\n",
            "1/1 [==============================] - 0s 7ms/step - loss: 10.0294 - mae: 10.0294\n",
            "Epoch 11/100\n",
            "1/1 [==============================] - 0s 7ms/step - loss: 9.8969 - mae: 9.8969\n",
            "Epoch 12/100\n",
            "1/1 [==============================] - 0s 6ms/step - loss: 9.7644 - mae: 9.7644\n",
            "Epoch 13/100\n",
            "1/1 [==============================] - 0s 7ms/step - loss: 9.6319 - mae: 9.6319\n",
            "Epoch 14/100\n",
            "1/1 [==============================] - 0s 7ms/step - loss: 9.4994 - mae: 9.4994\n",
            "Epoch 15/100\n",
            "1/1 [==============================] - 0s 7ms/step - loss: 9.3669 - mae: 9.3669\n",
            "Epoch 16/100\n",
            "1/1 [==============================] - 0s 7ms/step - loss: 9.2344 - mae: 9.2344\n",
            "Epoch 17/100\n",
            "1/1 [==============================] - 0s 8ms/step - loss: 9.1019 - mae: 9.1019\n",
            "Epoch 18/100\n",
            "1/1 [==============================] - 0s 7ms/step - loss: 8.9694 - mae: 8.9694\n",
            "Epoch 19/100\n",
            "1/1 [==============================] - 0s 8ms/step - loss: 8.8369 - mae: 8.8369\n",
            "Epoch 20/100\n",
            "1/1 [==============================] - 0s 7ms/step - loss: 8.7044 - mae: 8.7044\n",
            "Epoch 21/100\n",
            "1/1 [==============================] - 0s 9ms/step - loss: 8.5719 - mae: 8.5719\n",
            "Epoch 22/100\n",
            "1/1 [==============================] - 0s 7ms/step - loss: 8.4394 - mae: 8.4394\n",
            "Epoch 23/100\n",
            "1/1 [==============================] - 0s 7ms/step - loss: 8.3069 - mae: 8.3069\n",
            "Epoch 24/100\n",
            "1/1 [==============================] - 0s 7ms/step - loss: 8.1744 - mae: 8.1744\n",
            "Epoch 25/100\n",
            "1/1 [==============================] - 0s 7ms/step - loss: 8.0419 - mae: 8.0419\n",
            "Epoch 26/100\n",
            "1/1 [==============================] - 0s 7ms/step - loss: 7.9094 - mae: 7.9094\n",
            "Epoch 27/100\n",
            "1/1 [==============================] - 0s 7ms/step - loss: 7.7769 - mae: 7.7769\n",
            "Epoch 28/100\n",
            "1/1 [==============================] - 0s 9ms/step - loss: 7.6444 - mae: 7.6444\n",
            "Epoch 29/100\n",
            "1/1 [==============================] - 0s 7ms/step - loss: 7.5119 - mae: 7.5119\n",
            "Epoch 30/100\n",
            "1/1 [==============================] - 0s 7ms/step - loss: 7.3794 - mae: 7.3794\n",
            "Epoch 31/100\n",
            "1/1 [==============================] - 0s 7ms/step - loss: 7.2750 - mae: 7.2750\n",
            "Epoch 32/100\n",
            "1/1 [==============================] - 0s 7ms/step - loss: 7.2694 - mae: 7.2694\n",
            "Epoch 33/100\n",
            "1/1 [==============================] - 0s 14ms/step - loss: 7.2638 - mae: 7.2638\n",
            "Epoch 34/100\n",
            "1/1 [==============================] - 0s 11ms/step - loss: 7.2581 - mae: 7.2581\n",
            "Epoch 35/100\n",
            "1/1 [==============================] - 0s 9ms/step - loss: 7.2525 - mae: 7.2525\n",
            "Epoch 36/100\n",
            "1/1 [==============================] - 0s 7ms/step - loss: 7.2469 - mae: 7.2469\n",
            "Epoch 37/100\n",
            "1/1 [==============================] - 0s 35ms/step - loss: 7.2412 - mae: 7.2412\n",
            "Epoch 38/100\n",
            "1/1 [==============================] - 0s 7ms/step - loss: 7.2356 - mae: 7.2356\n",
            "Epoch 39/100\n",
            "1/1 [==============================] - 0s 7ms/step - loss: 7.2300 - mae: 7.2300\n",
            "Epoch 40/100\n",
            "1/1 [==============================] - 0s 6ms/step - loss: 7.2244 - mae: 7.2244\n",
            "Epoch 41/100\n",
            "1/1 [==============================] - 0s 7ms/step - loss: 7.2188 - mae: 7.2188\n",
            "Epoch 42/100\n",
            "1/1 [==============================] - 0s 11ms/step - loss: 7.2131 - mae: 7.2131\n",
            "Epoch 43/100\n",
            "1/1 [==============================] - 0s 7ms/step - loss: 7.2075 - mae: 7.2075\n",
            "Epoch 44/100\n",
            "1/1 [==============================] - 0s 7ms/step - loss: 7.2019 - mae: 7.2019\n",
            "Epoch 45/100\n",
            "1/1 [==============================] - 0s 8ms/step - loss: 7.1962 - mae: 7.1962\n",
            "Epoch 46/100\n",
            "1/1 [==============================] - 0s 7ms/step - loss: 7.1906 - mae: 7.1906\n",
            "Epoch 47/100\n",
            "1/1 [==============================] - 0s 7ms/step - loss: 7.1850 - mae: 7.1850\n",
            "Epoch 48/100\n",
            "1/1 [==============================] - 0s 7ms/step - loss: 7.1794 - mae: 7.1794\n",
            "Epoch 49/100\n",
            "1/1 [==============================] - 0s 7ms/step - loss: 7.1737 - mae: 7.1737\n",
            "Epoch 50/100\n",
            "1/1 [==============================] - 0s 7ms/step - loss: 7.1681 - mae: 7.1681\n",
            "Epoch 51/100\n",
            "1/1 [==============================] - 0s 7ms/step - loss: 7.1625 - mae: 7.1625\n",
            "Epoch 52/100\n",
            "1/1 [==============================] - 0s 7ms/step - loss: 7.1569 - mae: 7.1569\n",
            "Epoch 53/100\n",
            "1/1 [==============================] - 0s 8ms/step - loss: 7.1512 - mae: 7.1512\n",
            "Epoch 54/100\n",
            "1/1 [==============================] - 0s 7ms/step - loss: 7.1456 - mae: 7.1456\n",
            "Epoch 55/100\n",
            "1/1 [==============================] - 0s 7ms/step - loss: 7.1400 - mae: 7.1400\n",
            "Epoch 56/100\n",
            "1/1 [==============================] - 0s 8ms/step - loss: 7.1344 - mae: 7.1344\n",
            "Epoch 57/100\n",
            "1/1 [==============================] - 0s 15ms/step - loss: 7.1287 - mae: 7.1287\n",
            "Epoch 58/100\n",
            "1/1 [==============================] - 0s 8ms/step - loss: 7.1231 - mae: 7.1231\n",
            "Epoch 59/100\n",
            "1/1 [==============================] - 0s 7ms/step - loss: 7.1175 - mae: 7.1175\n",
            "Epoch 60/100\n",
            "1/1 [==============================] - 0s 8ms/step - loss: 7.1119 - mae: 7.1119\n",
            "Epoch 61/100\n",
            "1/1 [==============================] - 0s 8ms/step - loss: 7.1062 - mae: 7.1062\n",
            "Epoch 62/100\n",
            "1/1 [==============================] - 0s 10ms/step - loss: 7.1006 - mae: 7.1006\n",
            "Epoch 63/100\n",
            "1/1 [==============================] - 0s 7ms/step - loss: 7.0950 - mae: 7.0950\n",
            "Epoch 64/100\n",
            "1/1 [==============================] - 0s 10ms/step - loss: 7.0894 - mae: 7.0894\n",
            "Epoch 65/100\n",
            "1/1 [==============================] - 0s 7ms/step - loss: 7.0838 - mae: 7.0838\n",
            "Epoch 66/100\n",
            "1/1 [==============================] - 0s 10ms/step - loss: 7.0781 - mae: 7.0781\n",
            "Epoch 67/100\n",
            "1/1 [==============================] - 0s 8ms/step - loss: 7.0725 - mae: 7.0725\n",
            "Epoch 68/100\n",
            "1/1 [==============================] - 0s 15ms/step - loss: 7.0669 - mae: 7.0669\n",
            "Epoch 69/100\n",
            "1/1 [==============================] - 0s 9ms/step - loss: 7.0613 - mae: 7.0613\n",
            "Epoch 70/100\n",
            "1/1 [==============================] - 0s 11ms/step - loss: 7.0556 - mae: 7.0556\n",
            "Epoch 71/100\n",
            "1/1 [==============================] - 0s 9ms/step - loss: 7.0500 - mae: 7.0500\n",
            "Epoch 72/100\n",
            "1/1 [==============================] - 0s 8ms/step - loss: 7.0444 - mae: 7.0444\n",
            "Epoch 73/100\n",
            "1/1 [==============================] - 0s 10ms/step - loss: 7.0388 - mae: 7.0388\n",
            "Epoch 74/100\n",
            "1/1 [==============================] - 0s 9ms/step - loss: 7.0331 - mae: 7.0331\n",
            "Epoch 75/100\n",
            "1/1 [==============================] - 0s 8ms/step - loss: 7.0275 - mae: 7.0275\n",
            "Epoch 76/100\n",
            "1/1 [==============================] - 0s 10ms/step - loss: 7.0219 - mae: 7.0219\n",
            "Epoch 77/100\n",
            "1/1 [==============================] - 0s 8ms/step - loss: 7.0163 - mae: 7.0163\n",
            "Epoch 78/100\n",
            "1/1 [==============================] - 0s 8ms/step - loss: 7.0106 - mae: 7.0106\n",
            "Epoch 79/100\n",
            "1/1 [==============================] - 0s 7ms/step - loss: 7.0050 - mae: 7.0050\n",
            "Epoch 80/100\n",
            "1/1 [==============================] - 0s 8ms/step - loss: 6.9994 - mae: 6.9994\n",
            "Epoch 81/100\n",
            "1/1 [==============================] - 0s 17ms/step - loss: 6.9938 - mae: 6.9938\n",
            "Epoch 82/100\n",
            "1/1 [==============================] - 0s 11ms/step - loss: 6.9881 - mae: 6.9881\n",
            "Epoch 83/100\n",
            "1/1 [==============================] - 0s 8ms/step - loss: 6.9825 - mae: 6.9825\n",
            "Epoch 84/100\n",
            "1/1 [==============================] - 0s 13ms/step - loss: 6.9769 - mae: 6.9769\n",
            "Epoch 85/100\n",
            "1/1 [==============================] - 0s 5ms/step - loss: 6.9713 - mae: 6.9713\n",
            "Epoch 86/100\n",
            "1/1 [==============================] - 0s 6ms/step - loss: 6.9656 - mae: 6.9656\n",
            "Epoch 87/100\n",
            "1/1 [==============================] - 0s 6ms/step - loss: 6.9600 - mae: 6.9600\n",
            "Epoch 88/100\n",
            "1/1 [==============================] - 0s 6ms/step - loss: 6.9544 - mae: 6.9544\n",
            "Epoch 89/100\n",
            "1/1 [==============================] - 0s 6ms/step - loss: 6.9488 - mae: 6.9488\n",
            "Epoch 90/100\n",
            "1/1 [==============================] - 0s 6ms/step - loss: 6.9431 - mae: 6.9431\n",
            "Epoch 91/100\n",
            "1/1 [==============================] - 0s 6ms/step - loss: 6.9375 - mae: 6.9375\n",
            "Epoch 92/100\n",
            "1/1 [==============================] - 0s 6ms/step - loss: 6.9319 - mae: 6.9319\n",
            "Epoch 93/100\n",
            "1/1 [==============================] - 0s 6ms/step - loss: 6.9263 - mae: 6.9263\n",
            "Epoch 94/100\n",
            "1/1 [==============================] - 0s 6ms/step - loss: 6.9206 - mae: 6.9206\n",
            "Epoch 95/100\n",
            "1/1 [==============================] - 0s 8ms/step - loss: 6.9150 - mae: 6.9150\n",
            "Epoch 96/100\n",
            "1/1 [==============================] - 0s 6ms/step - loss: 6.9094 - mae: 6.9094\n",
            "Epoch 97/100\n",
            "1/1 [==============================] - 0s 6ms/step - loss: 6.9038 - mae: 6.9038\n",
            "Epoch 98/100\n",
            "1/1 [==============================] - 0s 6ms/step - loss: 6.8981 - mae: 6.8981\n",
            "Epoch 99/100\n",
            "1/1 [==============================] - 0s 6ms/step - loss: 6.8925 - mae: 6.8925\n",
            "Epoch 100/100\n",
            "1/1 [==============================] - 0s 6ms/step - loss: 6.8869 - mae: 6.8869\n"
          ]
        },
        {
          "output_type": "execute_result",
          "data": {
            "text/plain": [
              "<keras.callbacks.History at 0x7fa3ad1d4bd0>"
            ]
          },
          "metadata": {},
          "execution_count": 8
        }
      ]
    },
    {
      "cell_type": "code",
      "source": [
        "model.predict([17.0]) ## we can see that the output is somewhat closer than what we expect"
      ],
      "metadata": {
        "colab": {
          "base_uri": "https://localhost:8080/"
        },
        "id": "Y1w1DUv9BWGG",
        "outputId": "803b1d57-acc0-4458-d9c8-35b69d98a0c0"
      },
      "execution_count": 9,
      "outputs": [
        {
          "output_type": "execute_result",
          "data": {
            "text/plain": [
              "array([[29.739855]], dtype=float32)"
            ]
          },
          "metadata": {},
          "execution_count": 9
        }
      ]
    },
    {
      "cell_type": "code",
      "source": [
        "## Let's create another set of model with different configurations\n",
        "model = tf.keras.Sequential([\n",
        "    tf.keras.layers.Dense(5),\n",
        "    tf.keras.layers.Dense(3),\n",
        "    tf.keras.layers.Dense(1)\n",
        "])\n",
        "\n",
        "model.compile(loss=tf.keras.losses.mae,\n",
        "              optimizer = tf.keras.optimizers.SGD(),\n",
        "              metrics = ['mae'])\n",
        "\n",
        "model.fit(tf.expand_dims(x, axis=1),y, epochs=100)"
      ],
      "metadata": {
        "colab": {
          "base_uri": "https://localhost:8080/"
        },
        "id": "nOvhP7umPS77",
        "outputId": "7048141a-d1c4-42ab-be60-d471adb2638f"
      },
      "execution_count": 10,
      "outputs": [
        {
          "output_type": "stream",
          "name": "stdout",
          "text": [
            "Epoch 1/100\n",
            "1/1 [==============================] - 0s 393ms/step - loss: 14.6059 - mae: 14.6059\n",
            "Epoch 2/100\n",
            "1/1 [==============================] - 0s 11ms/step - loss: 14.3084 - mae: 14.3084\n",
            "Epoch 3/100\n",
            "1/1 [==============================] - 0s 15ms/step - loss: 14.0240 - mae: 14.0240\n",
            "Epoch 4/100\n",
            "1/1 [==============================] - 0s 9ms/step - loss: 13.7479 - mae: 13.7479\n",
            "Epoch 5/100\n",
            "1/1 [==============================] - 0s 11ms/step - loss: 13.4755 - mae: 13.4755\n",
            "Epoch 6/100\n",
            "1/1 [==============================] - 0s 10ms/step - loss: 13.2026 - mae: 13.2026\n",
            "Epoch 7/100\n",
            "1/1 [==============================] - 0s 14ms/step - loss: 12.9247 - mae: 12.9247\n",
            "Epoch 8/100\n",
            "1/1 [==============================] - 0s 11ms/step - loss: 12.6375 - mae: 12.6375\n",
            "Epoch 9/100\n",
            "1/1 [==============================] - 0s 12ms/step - loss: 12.3363 - mae: 12.3363\n",
            "Epoch 10/100\n",
            "1/1 [==============================] - 0s 10ms/step - loss: 12.0160 - mae: 12.0160\n",
            "Epoch 11/100\n",
            "1/1 [==============================] - 0s 6ms/step - loss: 11.6711 - mae: 11.6711\n",
            "Epoch 12/100\n",
            "1/1 [==============================] - 0s 6ms/step - loss: 11.2950 - mae: 11.2950\n",
            "Epoch 13/100\n",
            "1/1 [==============================] - 0s 6ms/step - loss: 10.8804 - mae: 10.8804\n",
            "Epoch 14/100\n",
            "1/1 [==============================] - 0s 6ms/step - loss: 10.4185 - mae: 10.4185\n",
            "Epoch 15/100\n",
            "1/1 [==============================] - 0s 7ms/step - loss: 9.8988 - mae: 9.8988\n",
            "Epoch 16/100\n",
            "1/1 [==============================] - 0s 6ms/step - loss: 9.3087 - mae: 9.3087\n",
            "Epoch 17/100\n",
            "1/1 [==============================] - 0s 6ms/step - loss: 8.6325 - mae: 8.6325\n",
            "Epoch 18/100\n",
            "1/1 [==============================] - 0s 6ms/step - loss: 7.8509 - mae: 7.8509\n",
            "Epoch 19/100\n",
            "1/1 [==============================] - 0s 6ms/step - loss: 7.0501 - mae: 7.0501\n",
            "Epoch 20/100\n",
            "1/1 [==============================] - 0s 6ms/step - loss: 7.0224 - mae: 7.0224\n",
            "Epoch 21/100\n",
            "1/1 [==============================] - 0s 10ms/step - loss: 6.9943 - mae: 6.9943\n",
            "Epoch 22/100\n",
            "1/1 [==============================] - 0s 6ms/step - loss: 6.9660 - mae: 6.9660\n",
            "Epoch 23/100\n",
            "1/1 [==============================] - 0s 10ms/step - loss: 6.9373 - mae: 6.9373\n",
            "Epoch 24/100\n",
            "1/1 [==============================] - 0s 6ms/step - loss: 6.9083 - mae: 6.9083\n",
            "Epoch 25/100\n",
            "1/1 [==============================] - 0s 6ms/step - loss: 6.8789 - mae: 6.8789\n",
            "Epoch 26/100\n",
            "1/1 [==============================] - 0s 6ms/step - loss: 6.8491 - mae: 6.8491\n",
            "Epoch 27/100\n",
            "1/1 [==============================] - 0s 7ms/step - loss: 6.8190 - mae: 6.8190\n",
            "Epoch 28/100\n",
            "1/1 [==============================] - 0s 7ms/step - loss: 6.7883 - mae: 6.7883\n",
            "Epoch 29/100\n",
            "1/1 [==============================] - 0s 6ms/step - loss: 6.7573 - mae: 6.7573\n",
            "Epoch 30/100\n",
            "1/1 [==============================] - 0s 6ms/step - loss: 6.7257 - mae: 6.7257\n",
            "Epoch 31/100\n",
            "1/1 [==============================] - 0s 6ms/step - loss: 6.6937 - mae: 6.6937\n",
            "Epoch 32/100\n",
            "1/1 [==============================] - 0s 6ms/step - loss: 6.6625 - mae: 6.6625\n",
            "Epoch 33/100\n",
            "1/1 [==============================] - 0s 13ms/step - loss: 6.8066 - mae: 6.8066\n",
            "Epoch 34/100\n",
            "1/1 [==============================] - 0s 13ms/step - loss: 6.8003 - mae: 6.8003\n",
            "Epoch 35/100\n",
            "1/1 [==============================] - 0s 9ms/step - loss: 6.6025 - mae: 6.6025\n",
            "Epoch 36/100\n",
            "1/1 [==============================] - 0s 7ms/step - loss: 6.5701 - mae: 6.5701\n",
            "Epoch 37/100\n",
            "1/1 [==============================] - 0s 11ms/step - loss: 6.5370 - mae: 6.5370\n",
            "Epoch 38/100\n",
            "1/1 [==============================] - 0s 7ms/step - loss: 6.5032 - mae: 6.5032\n",
            "Epoch 39/100\n",
            "1/1 [==============================] - 0s 6ms/step - loss: 6.4688 - mae: 6.4688\n",
            "Epoch 40/100\n",
            "1/1 [==============================] - 0s 7ms/step - loss: 6.4336 - mae: 6.4336\n",
            "Epoch 41/100\n",
            "1/1 [==============================] - 0s 6ms/step - loss: 6.3977 - mae: 6.3977\n",
            "Epoch 42/100\n",
            "1/1 [==============================] - 0s 7ms/step - loss: 6.3610 - mae: 6.3610\n",
            "Epoch 43/100\n",
            "1/1 [==============================] - 0s 6ms/step - loss: 6.3235 - mae: 6.3235\n",
            "Epoch 44/100\n",
            "1/1 [==============================] - 0s 7ms/step - loss: 6.3349 - mae: 6.3349\n",
            "Epoch 45/100\n",
            "1/1 [==============================] - 0s 7ms/step - loss: 6.4121 - mae: 6.4121\n",
            "Epoch 46/100\n",
            "1/1 [==============================] - 0s 6ms/step - loss: 6.4939 - mae: 6.4939\n",
            "Epoch 47/100\n",
            "1/1 [==============================] - 0s 7ms/step - loss: 6.2221 - mae: 6.2221\n",
            "Epoch 48/100\n",
            "1/1 [==============================] - 0s 6ms/step - loss: 6.1828 - mae: 6.1828\n",
            "Epoch 49/100\n",
            "1/1 [==============================] - 0s 17ms/step - loss: 6.1426 - mae: 6.1426\n",
            "Epoch 50/100\n",
            "1/1 [==============================] - 0s 9ms/step - loss: 6.1013 - mae: 6.1013\n",
            "Epoch 51/100\n",
            "1/1 [==============================] - 0s 11ms/step - loss: 6.0590 - mae: 6.0590\n",
            "Epoch 52/100\n",
            "1/1 [==============================] - 0s 12ms/step - loss: 6.0156 - mae: 6.0156\n",
            "Epoch 53/100\n",
            "1/1 [==============================] - 0s 11ms/step - loss: 6.0337 - mae: 6.0337\n",
            "Epoch 54/100\n",
            "1/1 [==============================] - 0s 11ms/step - loss: 6.1183 - mae: 6.1183\n",
            "Epoch 55/100\n",
            "1/1 [==============================] - 0s 6ms/step - loss: 6.2063 - mae: 6.2063\n",
            "Epoch 56/100\n",
            "1/1 [==============================] - 0s 6ms/step - loss: 5.8990 - mae: 5.8990\n",
            "Epoch 57/100\n",
            "1/1 [==============================] - 0s 6ms/step - loss: 5.8525 - mae: 5.8525\n",
            "Epoch 58/100\n",
            "1/1 [==============================] - 0s 7ms/step - loss: 5.8047 - mae: 5.8047\n",
            "Epoch 59/100\n",
            "1/1 [==============================] - 0s 7ms/step - loss: 5.7556 - mae: 5.7556\n",
            "Epoch 60/100\n",
            "1/1 [==============================] - 0s 6ms/step - loss: 5.7169 - mae: 5.7169\n",
            "Epoch 61/100\n",
            "1/1 [==============================] - 0s 6ms/step - loss: 5.9434 - mae: 5.9434\n",
            "Epoch 62/100\n",
            "1/1 [==============================] - 0s 7ms/step - loss: 5.8971 - mae: 5.8971\n",
            "Epoch 63/100\n",
            "1/1 [==============================] - 0s 6ms/step - loss: 5.6220 - mae: 5.6220\n",
            "Epoch 64/100\n",
            "1/1 [==============================] - 0s 6ms/step - loss: 5.5686 - mae: 5.5686\n",
            "Epoch 65/100\n",
            "1/1 [==============================] - 0s 6ms/step - loss: 5.5134 - mae: 5.5134\n",
            "Epoch 66/100\n",
            "1/1 [==============================] - 0s 6ms/step - loss: 5.4566 - mae: 5.4566\n",
            "Epoch 67/100\n",
            "1/1 [==============================] - 0s 7ms/step - loss: 5.4138 - mae: 5.4138\n",
            "Epoch 68/100\n",
            "1/1 [==============================] - 0s 7ms/step - loss: 5.6775 - mae: 5.6775\n",
            "Epoch 69/100\n",
            "1/1 [==============================] - 0s 7ms/step - loss: 5.6026 - mae: 5.6026\n",
            "Epoch 70/100\n",
            "1/1 [==============================] - 0s 7ms/step - loss: 5.2989 - mae: 5.2989\n",
            "Epoch 71/100\n",
            "1/1 [==============================] - 0s 7ms/step - loss: 5.2361 - mae: 5.2361\n",
            "Epoch 72/100\n",
            "1/1 [==============================] - 0s 6ms/step - loss: 5.1712 - mae: 5.1712\n",
            "Epoch 73/100\n",
            "1/1 [==============================] - 0s 7ms/step - loss: 5.1042 - mae: 5.1042\n",
            "Epoch 74/100\n",
            "1/1 [==============================] - 0s 6ms/step - loss: 5.1051 - mae: 5.1051\n",
            "Epoch 75/100\n",
            "1/1 [==============================] - 0s 7ms/step - loss: 5.3145 - mae: 5.3145\n",
            "Epoch 76/100\n",
            "1/1 [==============================] - 0s 7ms/step - loss: 5.3039 - mae: 5.3039\n",
            "Epoch 77/100\n",
            "1/1 [==============================] - 0s 7ms/step - loss: 4.9130 - mae: 4.9130\n",
            "Epoch 78/100\n",
            "1/1 [==============================] - 0s 6ms/step - loss: 4.8378 - mae: 4.8378\n",
            "Epoch 79/100\n",
            "1/1 [==============================] - 0s 6ms/step - loss: 4.7599 - mae: 4.7599\n",
            "Epoch 80/100\n",
            "1/1 [==============================] - 0s 7ms/step - loss: 4.7403 - mae: 4.7403\n",
            "Epoch 81/100\n",
            "1/1 [==============================] - 0s 6ms/step - loss: 5.0377 - mae: 5.0377\n",
            "Epoch 82/100\n",
            "1/1 [==============================] - 0s 6ms/step - loss: 4.9451 - mae: 4.9451\n",
            "Epoch 83/100\n",
            "1/1 [==============================] - 0s 6ms/step - loss: 4.5310 - mae: 4.5310\n",
            "Epoch 84/100\n",
            "1/1 [==============================] - 0s 6ms/step - loss: 4.4425 - mae: 4.4425\n",
            "Epoch 85/100\n",
            "1/1 [==============================] - 0s 10ms/step - loss: 4.3506 - mae: 4.3506\n",
            "Epoch 86/100\n",
            "1/1 [==============================] - 0s 10ms/step - loss: 4.3323 - mae: 4.3323\n",
            "Epoch 87/100\n",
            "1/1 [==============================] - 0s 8ms/step - loss: 4.6866 - mae: 4.6866\n",
            "Epoch 88/100\n",
            "1/1 [==============================] - 0s 8ms/step - loss: 4.5439 - mae: 4.5439\n",
            "Epoch 89/100\n",
            "1/1 [==============================] - 0s 8ms/step - loss: 4.0717 - mae: 4.0717\n",
            "Epoch 90/100\n",
            "1/1 [==============================] - 0s 8ms/step - loss: 3.9658 - mae: 3.9658\n",
            "Epoch 91/100\n",
            "1/1 [==============================] - 0s 9ms/step - loss: 3.8556 - mae: 3.8556\n",
            "Epoch 92/100\n",
            "1/1 [==============================] - 0s 8ms/step - loss: 3.8515 - mae: 3.8515\n",
            "Epoch 93/100\n",
            "1/1 [==============================] - 0s 8ms/step - loss: 4.2568 - mae: 4.2568\n",
            "Epoch 94/100\n",
            "1/1 [==============================] - 0s 9ms/step - loss: 4.1740 - mae: 4.1740\n",
            "Epoch 95/100\n",
            "1/1 [==============================] - 0s 17ms/step - loss: 4.5065 - mae: 4.5065\n",
            "Epoch 96/100\n",
            "1/1 [==============================] - 0s 8ms/step - loss: 3.6418 - mae: 3.6418\n",
            "Epoch 97/100\n",
            "1/1 [==============================] - 0s 13ms/step - loss: 3.7677 - mae: 3.7677\n",
            "Epoch 98/100\n",
            "1/1 [==============================] - 0s 9ms/step - loss: 4.1624 - mae: 4.1624\n",
            "Epoch 99/100\n",
            "1/1 [==============================] - 0s 10ms/step - loss: 4.0290 - mae: 4.0290\n",
            "Epoch 100/100\n",
            "1/1 [==============================] - 0s 12ms/step - loss: 3.4751 - mae: 3.4751\n"
          ]
        },
        {
          "output_type": "execute_result",
          "data": {
            "text/plain": [
              "<keras.callbacks.History at 0x7fa3ad1daad0>"
            ]
          },
          "metadata": {},
          "execution_count": 10
        }
      ]
    },
    {
      "cell_type": "code",
      "source": [
        "model.predict([17.0])"
      ],
      "metadata": {
        "colab": {
          "base_uri": "https://localhost:8080/"
        },
        "id": "c9uGoxXLRiAe",
        "outputId": "facebbea-9aaf-4aea-9abd-54a775640458"
      },
      "execution_count": 11,
      "outputs": [
        {
          "output_type": "execute_result",
          "data": {
            "text/plain": [
              "array([[21.965601]], dtype=float32)"
            ]
          },
          "metadata": {},
          "execution_count": 11
        }
      ]
    },
    {
      "cell_type": "code",
      "source": [
        "## trying the same configuration with different optimizers\n",
        "\n",
        "model = tf.keras.Sequential([\n",
        "    tf.keras.layers.Dense(5),\n",
        "    tf.keras.layers.Dense(3),\n",
        "    tf.keras.layers.Dense(1)\n",
        "])\n",
        "\n",
        "model.compile(loss = tf.keras.losses.mae,\n",
        "              optimizer = tf.keras.optimizers.Adam(learning_rate = 0.0001),\n",
        "              metrics = ['mae']\n",
        "              )\n",
        "\n",
        "model.fit(tf.expand_dims(x,axis=1),y,epochs=100)"
      ],
      "metadata": {
        "colab": {
          "base_uri": "https://localhost:8080/"
        },
        "id": "2AgVGFhcRorD",
        "outputId": "424a1eef-e990-4712-e706-3b7c2f598de6"
      },
      "execution_count": 12,
      "outputs": [
        {
          "output_type": "stream",
          "name": "stdout",
          "text": [
            "Epoch 1/100\n",
            "1/1 [==============================] - 0s 416ms/step - loss: 19.5326 - mae: 19.5326\n",
            "Epoch 2/100\n",
            "1/1 [==============================] - 0s 10ms/step - loss: 19.5274 - mae: 19.5274\n",
            "Epoch 3/100\n",
            "1/1 [==============================] - 0s 8ms/step - loss: 19.5222 - mae: 19.5222\n",
            "Epoch 4/100\n",
            "1/1 [==============================] - 0s 7ms/step - loss: 19.5169 - mae: 19.5169\n",
            "Epoch 5/100\n",
            "1/1 [==============================] - 0s 7ms/step - loss: 19.5117 - mae: 19.5117\n",
            "Epoch 6/100\n",
            "1/1 [==============================] - 0s 7ms/step - loss: 19.5064 - mae: 19.5064\n",
            "Epoch 7/100\n",
            "1/1 [==============================] - 0s 6ms/step - loss: 19.5012 - mae: 19.5012\n",
            "Epoch 8/100\n",
            "1/1 [==============================] - 0s 13ms/step - loss: 19.4960 - mae: 19.4960\n",
            "Epoch 9/100\n",
            "1/1 [==============================] - 0s 7ms/step - loss: 19.4908 - mae: 19.4908\n",
            "Epoch 10/100\n",
            "1/1 [==============================] - 0s 8ms/step - loss: 19.4855 - mae: 19.4855\n",
            "Epoch 11/100\n",
            "1/1 [==============================] - 0s 7ms/step - loss: 19.4803 - mae: 19.4803\n",
            "Epoch 12/100\n",
            "1/1 [==============================] - 0s 8ms/step - loss: 19.4751 - mae: 19.4751\n",
            "Epoch 13/100\n",
            "1/1 [==============================] - 0s 6ms/step - loss: 19.4699 - mae: 19.4699\n",
            "Epoch 14/100\n",
            "1/1 [==============================] - 0s 7ms/step - loss: 19.4646 - mae: 19.4646\n",
            "Epoch 15/100\n",
            "1/1 [==============================] - 0s 7ms/step - loss: 19.4594 - mae: 19.4594\n",
            "Epoch 16/100\n",
            "1/1 [==============================] - 0s 7ms/step - loss: 19.4542 - mae: 19.4542\n",
            "Epoch 17/100\n",
            "1/1 [==============================] - 0s 8ms/step - loss: 19.4490 - mae: 19.4490\n",
            "Epoch 18/100\n",
            "1/1 [==============================] - 0s 8ms/step - loss: 19.4438 - mae: 19.4438\n",
            "Epoch 19/100\n",
            "1/1 [==============================] - 0s 10ms/step - loss: 19.4386 - mae: 19.4386\n",
            "Epoch 20/100\n",
            "1/1 [==============================] - 0s 9ms/step - loss: 19.4334 - mae: 19.4334\n",
            "Epoch 21/100\n",
            "1/1 [==============================] - 0s 9ms/step - loss: 19.4282 - mae: 19.4282\n",
            "Epoch 22/100\n",
            "1/1 [==============================] - 0s 9ms/step - loss: 19.4230 - mae: 19.4230\n",
            "Epoch 23/100\n",
            "1/1 [==============================] - 0s 7ms/step - loss: 19.4178 - mae: 19.4178\n",
            "Epoch 24/100\n",
            "1/1 [==============================] - 0s 8ms/step - loss: 19.4126 - mae: 19.4126\n",
            "Epoch 25/100\n",
            "1/1 [==============================] - 0s 9ms/step - loss: 19.4074 - mae: 19.4074\n",
            "Epoch 26/100\n",
            "1/1 [==============================] - 0s 7ms/step - loss: 19.4022 - mae: 19.4022\n",
            "Epoch 27/100\n",
            "1/1 [==============================] - 0s 8ms/step - loss: 19.3970 - mae: 19.3970\n",
            "Epoch 28/100\n",
            "1/1 [==============================] - 0s 8ms/step - loss: 19.3918 - mae: 19.3918\n",
            "Epoch 29/100\n",
            "1/1 [==============================] - 0s 9ms/step - loss: 19.3866 - mae: 19.3866\n",
            "Epoch 30/100\n",
            "1/1 [==============================] - 0s 7ms/step - loss: 19.3814 - mae: 19.3814\n",
            "Epoch 31/100\n",
            "1/1 [==============================] - 0s 9ms/step - loss: 19.3762 - mae: 19.3762\n",
            "Epoch 32/100\n",
            "1/1 [==============================] - 0s 7ms/step - loss: 19.3710 - mae: 19.3710\n",
            "Epoch 33/100\n",
            "1/1 [==============================] - 0s 9ms/step - loss: 19.3658 - mae: 19.3658\n",
            "Epoch 34/100\n",
            "1/1 [==============================] - 0s 7ms/step - loss: 19.3607 - mae: 19.3607\n",
            "Epoch 35/100\n",
            "1/1 [==============================] - 0s 7ms/step - loss: 19.3555 - mae: 19.3555\n",
            "Epoch 36/100\n",
            "1/1 [==============================] - 0s 12ms/step - loss: 19.3503 - mae: 19.3503\n",
            "Epoch 37/100\n",
            "1/1 [==============================] - 0s 8ms/step - loss: 19.3451 - mae: 19.3451\n",
            "Epoch 38/100\n",
            "1/1 [==============================] - 0s 8ms/step - loss: 19.3400 - mae: 19.3400\n",
            "Epoch 39/100\n",
            "1/1 [==============================] - 0s 7ms/step - loss: 19.3348 - mae: 19.3348\n",
            "Epoch 40/100\n",
            "1/1 [==============================] - 0s 7ms/step - loss: 19.3296 - mae: 19.3296\n",
            "Epoch 41/100\n",
            "1/1 [==============================] - 0s 10ms/step - loss: 19.3245 - mae: 19.3245\n",
            "Epoch 42/100\n",
            "1/1 [==============================] - 0s 7ms/step - loss: 19.3193 - mae: 19.3193\n",
            "Epoch 43/100\n",
            "1/1 [==============================] - 0s 7ms/step - loss: 19.3142 - mae: 19.3142\n",
            "Epoch 44/100\n",
            "1/1 [==============================] - 0s 8ms/step - loss: 19.3090 - mae: 19.3090\n",
            "Epoch 45/100\n",
            "1/1 [==============================] - 0s 7ms/step - loss: 19.3039 - mae: 19.3039\n",
            "Epoch 46/100\n",
            "1/1 [==============================] - 0s 16ms/step - loss: 19.2987 - mae: 19.2987\n",
            "Epoch 47/100\n",
            "1/1 [==============================] - 0s 11ms/step - loss: 19.2935 - mae: 19.2935\n",
            "Epoch 48/100\n",
            "1/1 [==============================] - 0s 10ms/step - loss: 19.2884 - mae: 19.2884\n",
            "Epoch 49/100\n",
            "1/1 [==============================] - 0s 6ms/step - loss: 19.2833 - mae: 19.2833\n",
            "Epoch 50/100\n",
            "1/1 [==============================] - 0s 6ms/step - loss: 19.2781 - mae: 19.2781\n",
            "Epoch 51/100\n",
            "1/1 [==============================] - 0s 7ms/step - loss: 19.2730 - mae: 19.2730\n",
            "Epoch 52/100\n",
            "1/1 [==============================] - 0s 7ms/step - loss: 19.2678 - mae: 19.2678\n",
            "Epoch 53/100\n",
            "1/1 [==============================] - 0s 7ms/step - loss: 19.2627 - mae: 19.2627\n",
            "Epoch 54/100\n",
            "1/1 [==============================] - 0s 7ms/step - loss: 19.2576 - mae: 19.2576\n",
            "Epoch 55/100\n",
            "1/1 [==============================] - 0s 7ms/step - loss: 19.2524 - mae: 19.2524\n",
            "Epoch 56/100\n",
            "1/1 [==============================] - 0s 8ms/step - loss: 19.2473 - mae: 19.2473\n",
            "Epoch 57/100\n",
            "1/1 [==============================] - 0s 8ms/step - loss: 19.2422 - mae: 19.2422\n",
            "Epoch 58/100\n",
            "1/1 [==============================] - 0s 9ms/step - loss: 19.2370 - mae: 19.2370\n",
            "Epoch 59/100\n",
            "1/1 [==============================] - 0s 8ms/step - loss: 19.2319 - mae: 19.2319\n",
            "Epoch 60/100\n",
            "1/1 [==============================] - 0s 9ms/step - loss: 19.2268 - mae: 19.2268\n",
            "Epoch 61/100\n",
            "1/1 [==============================] - 0s 8ms/step - loss: 19.2217 - mae: 19.2217\n",
            "Epoch 62/100\n",
            "1/1 [==============================] - 0s 7ms/step - loss: 19.2166 - mae: 19.2166\n",
            "Epoch 63/100\n",
            "1/1 [==============================] - 0s 6ms/step - loss: 19.2115 - mae: 19.2115\n",
            "Epoch 64/100\n",
            "1/1 [==============================] - 0s 20ms/step - loss: 19.2063 - mae: 19.2063\n",
            "Epoch 65/100\n",
            "1/1 [==============================] - 0s 7ms/step - loss: 19.2012 - mae: 19.2012\n",
            "Epoch 66/100\n",
            "1/1 [==============================] - 0s 8ms/step - loss: 19.1961 - mae: 19.1961\n",
            "Epoch 67/100\n",
            "1/1 [==============================] - 0s 8ms/step - loss: 19.1910 - mae: 19.1910\n",
            "Epoch 68/100\n",
            "1/1 [==============================] - 0s 9ms/step - loss: 19.1859 - mae: 19.1859\n",
            "Epoch 69/100\n",
            "1/1 [==============================] - 0s 8ms/step - loss: 19.1808 - mae: 19.1808\n",
            "Epoch 70/100\n",
            "1/1 [==============================] - 0s 9ms/step - loss: 19.1757 - mae: 19.1757\n",
            "Epoch 71/100\n",
            "1/1 [==============================] - 0s 7ms/step - loss: 19.1706 - mae: 19.1706\n",
            "Epoch 72/100\n",
            "1/1 [==============================] - 0s 8ms/step - loss: 19.1655 - mae: 19.1655\n",
            "Epoch 73/100\n",
            "1/1 [==============================] - 0s 8ms/step - loss: 19.1604 - mae: 19.1604\n",
            "Epoch 74/100\n",
            "1/1 [==============================] - 0s 7ms/step - loss: 19.1553 - mae: 19.1553\n",
            "Epoch 75/100\n",
            "1/1 [==============================] - 0s 7ms/step - loss: 19.1503 - mae: 19.1503\n",
            "Epoch 76/100\n",
            "1/1 [==============================] - 0s 8ms/step - loss: 19.1452 - mae: 19.1452\n",
            "Epoch 77/100\n",
            "1/1 [==============================] - 0s 8ms/step - loss: 19.1401 - mae: 19.1401\n",
            "Epoch 78/100\n",
            "1/1 [==============================] - 0s 9ms/step - loss: 19.1350 - mae: 19.1350\n",
            "Epoch 79/100\n",
            "1/1 [==============================] - 0s 9ms/step - loss: 19.1299 - mae: 19.1299\n",
            "Epoch 80/100\n",
            "1/1 [==============================] - 0s 8ms/step - loss: 19.1248 - mae: 19.1248\n",
            "Epoch 81/100\n",
            "1/1 [==============================] - 0s 9ms/step - loss: 19.1198 - mae: 19.1198\n",
            "Epoch 82/100\n",
            "1/1 [==============================] - 0s 8ms/step - loss: 19.1147 - mae: 19.1147\n",
            "Epoch 83/100\n",
            "1/1 [==============================] - 0s 9ms/step - loss: 19.1096 - mae: 19.1096\n",
            "Epoch 84/100\n",
            "1/1 [==============================] - 0s 11ms/step - loss: 19.1046 - mae: 19.1046\n",
            "Epoch 85/100\n",
            "1/1 [==============================] - 0s 12ms/step - loss: 19.0995 - mae: 19.0995\n",
            "Epoch 86/100\n",
            "1/1 [==============================] - 0s 12ms/step - loss: 19.0944 - mae: 19.0944\n",
            "Epoch 87/100\n",
            "1/1 [==============================] - 0s 9ms/step - loss: 19.0894 - mae: 19.0894\n",
            "Epoch 88/100\n",
            "1/1 [==============================] - 0s 8ms/step - loss: 19.0843 - mae: 19.0843\n",
            "Epoch 89/100\n",
            "1/1 [==============================] - 0s 7ms/step - loss: 19.0793 - mae: 19.0793\n",
            "Epoch 90/100\n",
            "1/1 [==============================] - 0s 7ms/step - loss: 19.0742 - mae: 19.0742\n",
            "Epoch 91/100\n",
            "1/1 [==============================] - 0s 14ms/step - loss: 19.0691 - mae: 19.0691\n",
            "Epoch 92/100\n",
            "1/1 [==============================] - 0s 13ms/step - loss: 19.0641 - mae: 19.0641\n",
            "Epoch 93/100\n",
            "1/1 [==============================] - 0s 8ms/step - loss: 19.0590 - mae: 19.0590\n",
            "Epoch 94/100\n",
            "1/1 [==============================] - 0s 7ms/step - loss: 19.0540 - mae: 19.0540\n",
            "Epoch 95/100\n",
            "1/1 [==============================] - 0s 8ms/step - loss: 19.0490 - mae: 19.0490\n",
            "Epoch 96/100\n",
            "1/1 [==============================] - 0s 8ms/step - loss: 19.0439 - mae: 19.0439\n",
            "Epoch 97/100\n",
            "1/1 [==============================] - 0s 19ms/step - loss: 19.0389 - mae: 19.0389\n",
            "Epoch 98/100\n",
            "1/1 [==============================] - 0s 9ms/step - loss: 19.0338 - mae: 19.0338\n",
            "Epoch 99/100\n",
            "1/1 [==============================] - 0s 9ms/step - loss: 19.0288 - mae: 19.0288\n",
            "Epoch 100/100\n",
            "1/1 [==============================] - 0s 6ms/step - loss: 19.0238 - mae: 19.0238\n"
          ]
        },
        {
          "output_type": "execute_result",
          "data": {
            "text/plain": [
              "<keras.callbacks.History at 0x7fa3ac0cc190>"
            ]
          },
          "metadata": {},
          "execution_count": 12
        }
      ]
    },
    {
      "cell_type": "code",
      "source": [
        "model.predict([17.0])"
      ],
      "metadata": {
        "colab": {
          "base_uri": "https://localhost:8080/"
        },
        "id": "VUqKEwPqSY8U",
        "outputId": "295d6e43-db3e-4b17-ba0d-c2a425d1c3d9"
      },
      "execution_count": 13,
      "outputs": [
        {
          "output_type": "execute_result",
          "data": {
            "text/plain": [
              "array([[-20.367725]], dtype=float32)"
            ]
          },
          "metadata": {},
          "execution_count": 13
        }
      ]
    },
    {
      "cell_type": "code",
      "source": [],
      "metadata": {
        "id": "Ghkz8toHUDmJ"
      },
      "execution_count": 13,
      "outputs": []
    },
    {
      "cell_type": "markdown",
      "source": [
        "## Looks like ADAM optimizer is not working for us but let's try with other learning rate"
      ],
      "metadata": {
        "id": "pihxcdl3SnaZ"
      }
    },
    {
      "cell_type": "code",
      "source": [
        "## trying the same configuration with different optimizers\n",
        "\n",
        "model = tf.keras.Sequential([\n",
        "    tf.keras.layers.Dense(5),\n",
        "    tf.keras.layers.Dense(3),\n",
        "    tf.keras.layers.Dense(1)\n",
        "])\n",
        "\n",
        "model.compile(loss = tf.keras.losses.mae,\n",
        "              optimizer = tf.keras.optimizers.Adam(learning_rate = 0.01),\n",
        "              metrics = ['mae']\n",
        "              )\n",
        "\n",
        "model.fit(tf.expand_dims(x,axis=1),y,epochs=100)"
      ],
      "metadata": {
        "colab": {
          "base_uri": "https://localhost:8080/"
        },
        "id": "v1QedWamSk6Y",
        "outputId": "e383e8e5-310c-4063-c79f-77b8caaa257e"
      },
      "execution_count": 14,
      "outputs": [
        {
          "output_type": "stream",
          "name": "stdout",
          "text": [
            "Epoch 1/100\n",
            "1/1 [==============================] - 1s 933ms/step - loss: 12.7997 - mae: 12.7997\n",
            "Epoch 2/100\n",
            "1/1 [==============================] - 0s 16ms/step - loss: 12.5182 - mae: 12.5182\n",
            "Epoch 3/100\n",
            "1/1 [==============================] - 0s 12ms/step - loss: 12.2424 - mae: 12.2424\n",
            "Epoch 4/100\n",
            "1/1 [==============================] - 0s 8ms/step - loss: 11.9697 - mae: 11.9697\n",
            "Epoch 5/100\n",
            "1/1 [==============================] - 0s 7ms/step - loss: 11.6988 - mae: 11.6988\n",
            "Epoch 6/100\n",
            "1/1 [==============================] - 0s 7ms/step - loss: 11.4275 - mae: 11.4275\n",
            "Epoch 7/100\n",
            "1/1 [==============================] - 0s 9ms/step - loss: 11.1529 - mae: 11.1529\n",
            "Epoch 8/100\n",
            "1/1 [==============================] - 0s 32ms/step - loss: 10.8723 - mae: 10.8723\n",
            "Epoch 9/100\n",
            "1/1 [==============================] - 0s 14ms/step - loss: 10.5838 - mae: 10.5838\n",
            "Epoch 10/100\n",
            "1/1 [==============================] - 0s 16ms/step - loss: 10.2859 - mae: 10.2859\n",
            "Epoch 11/100\n",
            "1/1 [==============================] - 0s 18ms/step - loss: 9.9776 - mae: 9.9776\n",
            "Epoch 12/100\n",
            "1/1 [==============================] - 0s 9ms/step - loss: 9.6577 - mae: 9.6577\n",
            "Epoch 13/100\n",
            "1/1 [==============================] - 0s 18ms/step - loss: 9.3249 - mae: 9.3249\n",
            "Epoch 14/100\n",
            "1/1 [==============================] - 0s 8ms/step - loss: 8.9779 - mae: 8.9779\n",
            "Epoch 15/100\n",
            "1/1 [==============================] - 0s 9ms/step - loss: 8.6155 - mae: 8.6155\n",
            "Epoch 16/100\n",
            "1/1 [==============================] - 0s 16ms/step - loss: 8.2361 - mae: 8.2361\n",
            "Epoch 17/100\n",
            "1/1 [==============================] - 0s 22ms/step - loss: 7.8381 - mae: 7.8381\n",
            "Epoch 18/100\n",
            "1/1 [==============================] - 0s 28ms/step - loss: 7.4201 - mae: 7.4201\n",
            "Epoch 19/100\n",
            "1/1 [==============================] - 0s 16ms/step - loss: 6.9807 - mae: 6.9807\n",
            "Epoch 20/100\n",
            "1/1 [==============================] - 0s 13ms/step - loss: 6.7490 - mae: 6.7490\n",
            "Epoch 21/100\n",
            "1/1 [==============================] - 0s 17ms/step - loss: 6.6941 - mae: 6.6941\n",
            "Epoch 22/100\n",
            "1/1 [==============================] - 0s 22ms/step - loss: 6.8798 - mae: 6.8798\n",
            "Epoch 23/100\n",
            "1/1 [==============================] - 0s 16ms/step - loss: 7.0084 - mae: 7.0084\n",
            "Epoch 24/100\n",
            "1/1 [==============================] - 0s 22ms/step - loss: 7.0842 - mae: 7.0842\n",
            "Epoch 25/100\n",
            "1/1 [==============================] - 0s 14ms/step - loss: 7.1124 - mae: 7.1124\n",
            "Epoch 26/100\n",
            "1/1 [==============================] - 0s 12ms/step - loss: 7.0984 - mae: 7.0984\n",
            "Epoch 27/100\n",
            "1/1 [==============================] - 0s 13ms/step - loss: 7.0479 - mae: 7.0479\n",
            "Epoch 28/100\n",
            "1/1 [==============================] - 0s 16ms/step - loss: 6.9662 - mae: 6.9662\n",
            "Epoch 29/100\n",
            "1/1 [==============================] - 0s 22ms/step - loss: 6.8583 - mae: 6.8583\n",
            "Epoch 30/100\n",
            "1/1 [==============================] - 0s 17ms/step - loss: 6.7289 - mae: 6.7289\n",
            "Epoch 31/100\n",
            "1/1 [==============================] - 0s 31ms/step - loss: 6.5822 - mae: 6.5822\n",
            "Epoch 32/100\n",
            "1/1 [==============================] - 0s 18ms/step - loss: 6.4220 - mae: 6.4220\n",
            "Epoch 33/100\n",
            "1/1 [==============================] - 0s 13ms/step - loss: 6.2517 - mae: 6.2517\n",
            "Epoch 34/100\n",
            "1/1 [==============================] - 0s 12ms/step - loss: 6.2209 - mae: 6.2209\n",
            "Epoch 35/100\n",
            "1/1 [==============================] - 0s 12ms/step - loss: 6.2010 - mae: 6.2010\n",
            "Epoch 36/100\n",
            "1/1 [==============================] - 0s 13ms/step - loss: 6.1787 - mae: 6.1787\n",
            "Epoch 37/100\n",
            "1/1 [==============================] - 0s 13ms/step - loss: 6.2325 - mae: 6.2325\n",
            "Epoch 38/100\n",
            "1/1 [==============================] - 0s 13ms/step - loss: 6.2592 - mae: 6.2592\n",
            "Epoch 39/100\n",
            "1/1 [==============================] - 0s 16ms/step - loss: 6.2195 - mae: 6.2195\n",
            "Epoch 40/100\n",
            "1/1 [==============================] - 0s 15ms/step - loss: 6.1217 - mae: 6.1217\n",
            "Epoch 41/100\n",
            "1/1 [==============================] - 0s 13ms/step - loss: 5.9775 - mae: 5.9775\n",
            "Epoch 42/100\n",
            "1/1 [==============================] - 0s 13ms/step - loss: 5.9220 - mae: 5.9220\n",
            "Epoch 43/100\n",
            "1/1 [==============================] - 0s 22ms/step - loss: 5.8656 - mae: 5.8656\n",
            "Epoch 44/100\n",
            "1/1 [==============================] - 0s 11ms/step - loss: 5.8083 - mae: 5.8083\n",
            "Epoch 45/100\n",
            "1/1 [==============================] - 0s 21ms/step - loss: 5.7499 - mae: 5.7499\n",
            "Epoch 46/100\n",
            "1/1 [==============================] - 0s 10ms/step - loss: 5.6904 - mae: 5.6904\n",
            "Epoch 47/100\n",
            "1/1 [==============================] - 0s 13ms/step - loss: 5.6741 - mae: 5.6741\n",
            "Epoch 48/100\n",
            "1/1 [==============================] - 0s 13ms/step - loss: 5.6626 - mae: 5.6626\n",
            "Epoch 49/100\n",
            "1/1 [==============================] - 0s 16ms/step - loss: 5.6247 - mae: 5.6247\n",
            "Epoch 50/100\n",
            "1/1 [==============================] - 0s 11ms/step - loss: 5.5633 - mae: 5.5633\n",
            "Epoch 51/100\n",
            "1/1 [==============================] - 0s 10ms/step - loss: 5.4812 - mae: 5.4812\n",
            "Epoch 52/100\n",
            "1/1 [==============================] - 0s 20ms/step - loss: 5.4094 - mae: 5.4094\n",
            "Epoch 53/100\n",
            "1/1 [==============================] - 0s 11ms/step - loss: 5.3720 - mae: 5.3720\n",
            "Epoch 54/100\n",
            "1/1 [==============================] - 0s 12ms/step - loss: 5.3313 - mae: 5.3313\n",
            "Epoch 55/100\n",
            "1/1 [==============================] - 0s 35ms/step - loss: 5.2874 - mae: 5.2874\n",
            "Epoch 56/100\n",
            "1/1 [==============================] - 0s 21ms/step - loss: 5.2404 - mae: 5.2404\n",
            "Epoch 57/100\n",
            "1/1 [==============================] - 0s 9ms/step - loss: 5.1903 - mae: 5.1903\n",
            "Epoch 58/100\n",
            "1/1 [==============================] - 0s 11ms/step - loss: 5.1371 - mae: 5.1371\n",
            "Epoch 59/100\n",
            "1/1 [==============================] - 0s 12ms/step - loss: 5.0809 - mae: 5.0809\n",
            "Epoch 60/100\n",
            "1/1 [==============================] - 0s 8ms/step - loss: 5.0216 - mae: 5.0216\n",
            "Epoch 61/100\n",
            "1/1 [==============================] - 0s 9ms/step - loss: 4.9593 - mae: 4.9593\n",
            "Epoch 62/100\n",
            "1/1 [==============================] - 0s 8ms/step - loss: 4.8938 - mae: 4.8938\n",
            "Epoch 63/100\n",
            "1/1 [==============================] - 0s 25ms/step - loss: 4.8252 - mae: 4.8252\n",
            "Epoch 64/100\n",
            "1/1 [==============================] - 0s 9ms/step - loss: 4.7572 - mae: 4.7572\n",
            "Epoch 65/100\n",
            "1/1 [==============================] - 0s 7ms/step - loss: 4.7044 - mae: 4.7044\n",
            "Epoch 66/100\n",
            "1/1 [==============================] - 0s 9ms/step - loss: 4.6306 - mae: 4.6306\n",
            "Epoch 67/100\n",
            "1/1 [==============================] - 0s 9ms/step - loss: 4.5679 - mae: 4.5679\n",
            "Epoch 68/100\n",
            "1/1 [==============================] - 0s 36ms/step - loss: 4.5005 - mae: 4.5005\n",
            "Epoch 69/100\n",
            "1/1 [==============================] - 0s 56ms/step - loss: 4.4374 - mae: 4.4374\n",
            "Epoch 70/100\n",
            "1/1 [==============================] - 0s 26ms/step - loss: 4.3635 - mae: 4.3635\n",
            "Epoch 71/100\n",
            "1/1 [==============================] - 0s 26ms/step - loss: 4.2931 - mae: 4.2931\n",
            "Epoch 72/100\n",
            "1/1 [==============================] - 0s 16ms/step - loss: 4.2174 - mae: 4.2174\n",
            "Epoch 73/100\n",
            "1/1 [==============================] - 0s 14ms/step - loss: 4.1470 - mae: 4.1470\n",
            "Epoch 74/100\n",
            "1/1 [==============================] - 0s 35ms/step - loss: 4.0625 - mae: 4.0625\n",
            "Epoch 75/100\n",
            "1/1 [==============================] - 0s 15ms/step - loss: 3.9825 - mae: 3.9825\n",
            "Epoch 76/100\n",
            "1/1 [==============================] - 0s 12ms/step - loss: 3.8966 - mae: 3.8966\n",
            "Epoch 77/100\n",
            "1/1 [==============================] - 0s 11ms/step - loss: 3.8174 - mae: 3.8174\n",
            "Epoch 78/100\n",
            "1/1 [==============================] - 0s 19ms/step - loss: 3.7314 - mae: 3.7314\n",
            "Epoch 79/100\n",
            "1/1 [==============================] - 0s 19ms/step - loss: 3.6385 - mae: 3.6385\n",
            "Epoch 80/100\n",
            "1/1 [==============================] - 0s 19ms/step - loss: 3.5387 - mae: 3.5387\n",
            "Epoch 81/100\n",
            "1/1 [==============================] - 0s 17ms/step - loss: 3.4403 - mae: 3.4403\n",
            "Epoch 82/100\n",
            "1/1 [==============================] - 0s 16ms/step - loss: 3.3328 - mae: 3.3328\n",
            "Epoch 83/100\n",
            "1/1 [==============================] - 0s 22ms/step - loss: 3.2256 - mae: 3.2256\n",
            "Epoch 84/100\n",
            "1/1 [==============================] - 0s 14ms/step - loss: 3.1227 - mae: 3.1227\n",
            "Epoch 85/100\n",
            "1/1 [==============================] - 0s 16ms/step - loss: 3.0025 - mae: 3.0025\n",
            "Epoch 86/100\n",
            "1/1 [==============================] - 0s 6ms/step - loss: 2.8855 - mae: 2.8855\n",
            "Epoch 87/100\n",
            "1/1 [==============================] - 0s 10ms/step - loss: 2.7595 - mae: 2.7595\n",
            "Epoch 88/100\n",
            "1/1 [==============================] - 0s 12ms/step - loss: 2.6249 - mae: 2.6249\n",
            "Epoch 89/100\n",
            "1/1 [==============================] - 0s 15ms/step - loss: 2.4965 - mae: 2.4965\n",
            "Epoch 90/100\n",
            "1/1 [==============================] - 0s 20ms/step - loss: 2.3584 - mae: 2.3584\n",
            "Epoch 91/100\n",
            "1/1 [==============================] - 0s 12ms/step - loss: 2.2099 - mae: 2.2099\n",
            "Epoch 92/100\n",
            "1/1 [==============================] - 0s 10ms/step - loss: 2.0513 - mae: 2.0513\n",
            "Epoch 93/100\n",
            "1/1 [==============================] - 0s 7ms/step - loss: 1.9075 - mae: 1.9075\n",
            "Epoch 94/100\n",
            "1/1 [==============================] - 0s 10ms/step - loss: 1.7263 - mae: 1.7263\n",
            "Epoch 95/100\n",
            "1/1 [==============================] - 0s 7ms/step - loss: 1.5643 - mae: 1.5643\n",
            "Epoch 96/100\n",
            "1/1 [==============================] - 0s 12ms/step - loss: 1.4076 - mae: 1.4076\n",
            "Epoch 97/100\n",
            "1/1 [==============================] - 0s 21ms/step - loss: 1.1952 - mae: 1.1952\n",
            "Epoch 98/100\n",
            "1/1 [==============================] - 0s 14ms/step - loss: 1.0161 - mae: 1.0161\n",
            "Epoch 99/100\n",
            "1/1 [==============================] - 0s 13ms/step - loss: 0.8268 - mae: 0.8268\n",
            "Epoch 100/100\n",
            "1/1 [==============================] - 0s 19ms/step - loss: 0.5864 - mae: 0.5864\n"
          ]
        },
        {
          "output_type": "execute_result",
          "data": {
            "text/plain": [
              "<keras.callbacks.History at 0x7fa3ad0bad90>"
            ]
          },
          "metadata": {},
          "execution_count": 14
        }
      ]
    },
    {
      "cell_type": "code",
      "source": [
        "model.predict([17.0])"
      ],
      "metadata": {
        "colab": {
          "base_uri": "https://localhost:8080/"
        },
        "id": "88hWkha6UK_w",
        "outputId": "911513c7-c59e-4926-acf8-090e2edb0171"
      },
      "execution_count": 15,
      "outputs": [
        {
          "output_type": "stream",
          "name": "stderr",
          "text": [
            "WARNING:tensorflow:5 out of the last 5 calls to <function Model.make_predict_function.<locals>.predict_function at 0x7fa3acf94b00> triggered tf.function retracing. Tracing is expensive and the excessive number of tracings could be due to (1) creating @tf.function repeatedly in a loop, (2) passing tensors with different shapes, (3) passing Python objects instead of tensors. For (1), please define your @tf.function outside of the loop. For (2), @tf.function has experimental_relax_shapes=True option that relaxes argument shapes that can avoid unnecessary retracing. For (3), please refer to https://www.tensorflow.org/guide/function#controlling_retracing and https://www.tensorflow.org/api_docs/python/tf/function for  more details.\n"
          ]
        },
        {
          "output_type": "execute_result",
          "data": {
            "text/plain": [
              "array([[26.73691]], dtype=float32)"
            ]
          },
          "metadata": {},
          "execution_count": 15
        }
      ]
    },
    {
      "cell_type": "markdown",
      "source": [
        "### In practice we always follow this workflow:\n",
        "```\n",
        "Build a model -> fill it -> evaluate it -> tweak a model -> fit it -> evaluate it -> tweat a model -> fit it -> evaluate it...\n",
        "```"
      ],
      "metadata": {
        "id": "_aCtelTQLEg4"
      }
    },
    {
      "cell_type": "markdown",
      "source": [
        "### When it comes to evaluation we should always remember:\n",
        "> \"visualize, visualize, visualize\"\n",
        "\n",
        "It's a good idea to visulize:\n",
        "* The data - what data we are working with? what does it look like?\n",
        "* The model itself - What does our model look like ?\n",
        "* The training of a model - how does model perform while it learns?\n",
        "* The predictions of the model - How do predicitons of a model look like when lined up against the ground truth"
      ],
      "metadata": {
        "id": "wFJv98dDMQBA"
      }
    },
    {
      "cell_type": "code",
      "source": [
        "## Let's make a bigger dataset\n",
        "X = tf.range(-100, 100, 4)\n",
        "X"
      ],
      "metadata": {
        "colab": {
          "base_uri": "https://localhost:8080/"
        },
        "id": "qMEuH8nxUM3D",
        "outputId": "619cfe4b-906d-44e9-c64c-282214c3e30e"
      },
      "execution_count": 16,
      "outputs": [
        {
          "output_type": "execute_result",
          "data": {
            "text/plain": [
              "<tf.Tensor: shape=(50,), dtype=int32, numpy=\n",
              "array([-100,  -96,  -92,  -88,  -84,  -80,  -76,  -72,  -68,  -64,  -60,\n",
              "        -56,  -52,  -48,  -44,  -40,  -36,  -32,  -28,  -24,  -20,  -16,\n",
              "        -12,   -8,   -4,    0,    4,    8,   12,   16,   20,   24,   28,\n",
              "         32,   36,   40,   44,   48,   52,   56,   60,   64,   68,   72,\n",
              "         76,   80,   84,   88,   92,   96], dtype=int32)>"
            ]
          },
          "metadata": {},
          "execution_count": 16
        }
      ]
    },
    {
      "cell_type": "code",
      "source": [
        "## making labels for our dataset\n",
        "y = X + 10\n",
        "y"
      ],
      "metadata": {
        "colab": {
          "base_uri": "https://localhost:8080/"
        },
        "id": "qIT-CTEDNCMt",
        "outputId": "1ea3d06d-d2a2-43e0-c785-6990bc3e14c4"
      },
      "execution_count": 17,
      "outputs": [
        {
          "output_type": "execute_result",
          "data": {
            "text/plain": [
              "<tf.Tensor: shape=(50,), dtype=int32, numpy=\n",
              "array([-90, -86, -82, -78, -74, -70, -66, -62, -58, -54, -50, -46, -42,\n",
              "       -38, -34, -30, -26, -22, -18, -14, -10,  -6,  -2,   2,   6,  10,\n",
              "        14,  18,  22,  26,  30,  34,  38,  42,  46,  50,  54,  58,  62,\n",
              "        66,  70,  74,  78,  82,  86,  90,  94,  98, 102, 106], dtype=int32)>"
            ]
          },
          "metadata": {},
          "execution_count": 17
        }
      ]
    },
    {
      "cell_type": "code",
      "source": [
        "## Let's visualize the data\n",
        "import matplotlib.pyplot as plt\n",
        "plt.plot(X,y)"
      ],
      "metadata": {
        "colab": {
          "base_uri": "https://localhost:8080/",
          "height": 282
        },
        "id": "8T146TZrNG4P",
        "outputId": "f8daf441-483f-4c91-fcba-588380dcf24d"
      },
      "execution_count": 18,
      "outputs": [
        {
          "output_type": "execute_result",
          "data": {
            "text/plain": [
              "[<matplotlib.lines.Line2D at 0x7fa3acf9a4d0>]"
            ]
          },
          "metadata": {},
          "execution_count": 18
        },
        {
          "output_type": "display_data",
          "data": {
            "text/plain": [
              "<Figure size 432x288 with 1 Axes>"
            ],
            "image/png": "[encoded data removed]"
          },
          "metadata": {
            "needs_background": "light"
          }
        }
      ]
    },
    {
      "cell_type": "code",
      "source": [
        "plt.scatter(X,y)"
      ],
      "metadata": {
        "colab": {
          "base_uri": "https://localhost:8080/",
          "height": 282
        },
        "id": "sN9lBMRRNRaz",
        "outputId": "1a087322-5b20-4eac-bdeb-71b45a804d70"
      },
      "execution_count": 19,
      "outputs": [
        {
          "output_type": "execute_result",
          "data": {
            "text/plain": [
              "<matplotlib.collections.PathCollection at 0x7fa3acf00ad0>"
            ]
          },
          "metadata": {},
          "execution_count": 19
        },
        {
          "output_type": "display_data",
          "data": {
            "text/plain": [
              "<Figure size 432x288 with 1 Axes>"
            ],
            "image/png": "[encoded data removed]"
          },
          "metadata": {
            "needs_background": "light"
          }
        }
      ]
    },
    {
      "cell_type": "markdown",
      "source": [
        "### The 3 sets\n",
        "* **Training set** The training set is the data on which the model is trained, it is typically 70% to 80% of the full dataset.\n",
        "* **Validation set** The validation set is the data by validation on whose we tweak the model. It is 10% to 15% of the total dataset.\n",
        "* **Test set** The test set is the final test through which model is evaluated. It is also 10% to 15% of the total dataset.\n"
      ],
      "metadata": {
        "id": "8WtA4yE1N6ah"
      }
    },
    {
      "cell_type": "code",
      "source": [
        "## Here we will only split into train and test splits because of smaller set\n",
        "x_train = X[:40]  ## first 40 for training around 80%\n",
        "y_train = y[:40]\n",
        "x_test = X[40:] ## last 10 for testing around 20%\n",
        "y_test = y[40:]\n",
        "\n",
        "len(x_train), len(x_test), len(y_train), len(y_test)"
      ],
      "metadata": {
        "colab": {
          "base_uri": "https://localhost:8080/"
        },
        "id": "iZiA2oMdNVm8",
        "outputId": "293d1697-d7d7-4f51-84c1-71a4937468fd"
      },
      "execution_count": 20,
      "outputs": [
        {
          "output_type": "execute_result",
          "data": {
            "text/plain": [
              "(40, 10, 40, 10)"
            ]
          },
          "metadata": {},
          "execution_count": 20
        }
      ]
    },
    {
      "cell_type": "code",
      "source": [
        "## Let's visualize our training and testing set\n",
        "plt.figure(figsize=(10,7))\n",
        "## training data in green\n",
        "plt.scatter(x_train,y_train, c=\"g\", label=\"Training data\")\n",
        "## testing data in red\n",
        "plt.scatter(x_test,y_test, c=\"R\", label=\"Testing data\")\n",
        "plt.legend()\n",
        "plt.plot()"
      ],
      "metadata": {
        "colab": {
          "base_uri": "https://localhost:8080/",
          "height": 0
        },
        "id": "XMKgwD7HQCbg",
        "outputId": "d20456f0-1264-4cd3-b01b-67ffeacda3b9"
      },
      "execution_count": 21,
      "outputs": [
        {
          "output_type": "stream",
          "name": "stderr",
          "text": [
            "/usr/local/lib/python3.7/dist-packages/ipykernel_launcher.py:6: MatplotlibDeprecationWarning: Support for uppercase single-letter colors is deprecated since Matplotlib 3.1 and will be removed in 3.3; please use lowercase instead.\n",
            "  \n"
          ]
        },
        {
          "output_type": "execute_result",
          "data": {
            "text/plain": [
              "[]"
            ]
          },
          "metadata": {},
          "execution_count": 21
        },
        {
          "output_type": "display_data",
          "data": {
            "text/plain": [
              "<Figure size 720x504 with 1 Axes>"
            ],
            "image/png": "[encoded data removed]"
          },
          "metadata": {
            "needs_background": "light"
          }
        }
      ]
    },
    {
      "cell_type": "code",
      "source": [
        "## Creating a basic model and visualizing it\n",
        "\n",
        "## creating \n",
        "model = tf.keras.Sequential([\n",
        "    tf.keras.layers.Dense(1)\n",
        "])\n",
        "\n",
        "## compiling\n",
        "model.compile(loss = tf.keras.losses.mae,\n",
        "              optimizer = tf.keras.optimizers.SGD(),\n",
        "              metrics = ['mae'])\n",
        "\n",
        "## let's not fit it right now"
      ],
      "metadata": {
        "id": "4yNZzo_NQaoB"
      },
      "execution_count": 22,
      "outputs": []
    },
    {
      "cell_type": "code",
      "source": [
        "try:\n",
        "  model.summary()\n",
        "except Exception as e:\n",
        "  print(e)"
      ],
      "metadata": {
        "colab": {
          "base_uri": "https://localhost:8080/"
        },
        "id": "r4UEnbCIUbZe",
        "outputId": "334cac12-9e5a-433f-c062-7397e01db292"
      },
      "execution_count": 23,
      "outputs": [
        {
          "output_type": "stream",
          "name": "stdout",
          "text": [
            "This model has not yet been built. Build the model first by calling `build()` or by calling the model on a batch of data.\n"
          ]
        }
      ]
    },
    {
      "cell_type": "markdown",
      "source": [
        "### Now the above error came because the model has not defined with any input shape, so tf can automatically define the input shape when we run the model for training. But in order to check the model architecture or summary we need to either build the model first with training data or include input shape argument while creating the model."
      ],
      "metadata": {
        "id": "8tBhF2Y6VBNh"
      }
    },
    {
      "cell_type": "code",
      "source": [
        "## creating another model from scratch with input shape\n",
        "model = tf.keras.Sequential([\n",
        "    tf.keras.layers.Dense(1, input_shape=[1])\n",
        "])\n",
        "\n",
        "model.compile(loss = tf.keras.losses.mae,\n",
        "              optimizer = tf.keras.optimizers.SGD(),\n",
        "              metrics = ['mae'])\n",
        "\n",
        "# model.fit(tf.expand_dims(x_train), y_train, epochs = 100)"
      ],
      "metadata": {
        "id": "HKpKNVL0UhPK"
      },
      "execution_count": 24,
      "outputs": []
    },
    {
      "cell_type": "code",
      "source": [
        "model.summary()"
      ],
      "metadata": {
        "colab": {
          "base_uri": "https://localhost:8080/"
        },
        "id": "j_g3BAh9VZAJ",
        "outputId": "6635e15b-1f34-4e60-da0f-a7576bdc8a98"
      },
      "execution_count": 25,
      "outputs": [
        {
          "output_type": "stream",
          "name": "stdout",
          "text": [
            "Model: \"sequential_7\"\n",
            "_________________________________________________________________\n",
            " Layer (type)                Output Shape              Param #   \n",
            "=================================================================\n",
            " dense_13 (Dense)            (None, 1)                 2         \n",
            "                                                                 \n",
            "=================================================================\n",
            "Total params: 2\n",
            "Trainable params: 2\n",
            "Non-trainable params: 0\n",
            "_________________________________________________________________\n"
          ]
        }
      ]
    },
    {
      "cell_type": "markdown",
      "source": [
        "As we know once neuron has one weight and one bias hence overall two trainable parameters."
      ],
      "metadata": {
        "id": "UONZGotiVfzw"
      }
    },
    {
      "cell_type": "markdown",
      "source": [
        "* **Total params** = Total number of paramters in the model\n",
        "* **Trainable parameters** = These are the paramters model will update when it trains.\n",
        "* **Non-trainable parameters** = These paramters aren't updated during training these are used when we use transfer learning and don't retrain the pretrained layers."
      ],
      "metadata": {
        "id": "R0lmNf6zVniv"
      }
    },
    {
      "cell_type": "code",
      "source": [
        "model.fit(tf.expand_dims(x_train, axis=1), y_train, epochs = 100)"
      ],
      "metadata": {
        "colab": {
          "base_uri": "https://localhost:8080/"
        },
        "id": "LfQ_N1rQWbMT",
        "outputId": "dcad17c5-dfee-4033-dc8f-67916cacd69a"
      },
      "execution_count": 26,
      "outputs": [
        {
          "output_type": "stream",
          "name": "stdout",
          "text": [
            "Epoch 1/100\n",
            "2/2 [==============================] - 1s 13ms/step - loss: 21.5127 - mae: 21.5127\n",
            "Epoch 2/100\n",
            "2/2 [==============================] - 0s 12ms/step - loss: 9.8784 - mae: 9.8784\n",
            "Epoch 3/100\n",
            "2/2 [==============================] - 0s 5ms/step - loss: 11.3224 - mae: 11.3224\n",
            "Epoch 4/100\n",
            "2/2 [==============================] - 0s 10ms/step - loss: 9.5330 - mae: 9.5330\n",
            "Epoch 5/100\n",
            "2/2 [==============================] - 0s 21ms/step - loss: 10.4384 - mae: 10.4384\n",
            "Epoch 6/100\n",
            "2/2 [==============================] - 0s 12ms/step - loss: 9.6676 - mae: 9.6676\n",
            "Epoch 7/100\n",
            "2/2 [==============================] - 0s 12ms/step - loss: 8.7680 - mae: 8.7680\n",
            "Epoch 8/100\n",
            "2/2 [==============================] - 0s 7ms/step - loss: 9.0557 - mae: 9.0557\n",
            "Epoch 9/100\n",
            "2/2 [==============================] - 0s 12ms/step - loss: 19.2566 - mae: 19.2566\n",
            "Epoch 10/100\n",
            "2/2 [==============================] - 0s 8ms/step - loss: 10.3912 - mae: 10.3912\n",
            "Epoch 11/100\n",
            "2/2 [==============================] - 0s 10ms/step - loss: 8.5026 - mae: 8.5026\n",
            "Epoch 12/100\n",
            "2/2 [==============================] - 0s 9ms/step - loss: 10.8845 - mae: 10.8845\n",
            "Epoch 13/100\n",
            "2/2 [==============================] - 0s 9ms/step - loss: 9.9247 - mae: 9.9247\n",
            "Epoch 14/100\n",
            "2/2 [==============================] - 0s 9ms/step - loss: 9.4792 - mae: 9.4792\n",
            "Epoch 15/100\n",
            "2/2 [==============================] - 0s 9ms/step - loss: 13.7110 - mae: 13.7110\n",
            "Epoch 16/100\n",
            "2/2 [==============================] - 0s 9ms/step - loss: 8.9451 - mae: 8.9451\n",
            "Epoch 17/100\n",
            "2/2 [==============================] - 0s 11ms/step - loss: 12.8611 - mae: 12.8611\n",
            "Epoch 18/100\n",
            "2/2 [==============================] - 0s 20ms/step - loss: 10.4980 - mae: 10.4980\n",
            "Epoch 19/100\n",
            "2/2 [==============================] - 0s 17ms/step - loss: 19.1946 - mae: 19.1946\n",
            "Epoch 20/100\n",
            "2/2 [==============================] - 0s 14ms/step - loss: 15.8609 - mae: 15.8609\n",
            "Epoch 21/100\n",
            "2/2 [==============================] - 0s 14ms/step - loss: 11.6957 - mae: 11.6957\n",
            "Epoch 22/100\n",
            "2/2 [==============================] - 0s 16ms/step - loss: 8.8936 - mae: 8.8936\n",
            "Epoch 23/100\n",
            "2/2 [==============================] - 0s 7ms/step - loss: 10.0799 - mae: 10.0799\n",
            "Epoch 24/100\n",
            "2/2 [==============================] - 0s 8ms/step - loss: 15.5873 - mae: 15.5873\n",
            "Epoch 25/100\n",
            "2/2 [==============================] - 0s 13ms/step - loss: 12.0659 - mae: 12.0659\n",
            "Epoch 26/100\n",
            "2/2 [==============================] - 0s 16ms/step - loss: 13.1700 - mae: 13.1700\n",
            "Epoch 27/100\n",
            "2/2 [==============================] - 0s 13ms/step - loss: 10.6462 - mae: 10.6462\n",
            "Epoch 28/100\n",
            "2/2 [==============================] - 0s 27ms/step - loss: 12.8600 - mae: 12.8600\n",
            "Epoch 29/100\n",
            "2/2 [==============================] - 0s 11ms/step - loss: 9.4986 - mae: 9.4986\n",
            "Epoch 30/100\n",
            "2/2 [==============================] - 0s 9ms/step - loss: 16.3753 - mae: 16.3753\n",
            "Epoch 31/100\n",
            "2/2 [==============================] - 0s 14ms/step - loss: 23.6059 - mae: 23.6059\n",
            "Epoch 32/100\n",
            "2/2 [==============================] - 0s 10ms/step - loss: 7.6064 - mae: 7.6064\n",
            "Epoch 33/100\n",
            "2/2 [==============================] - 0s 16ms/step - loss: 9.3053 - mae: 9.3053\n",
            "Epoch 34/100\n",
            "2/2 [==============================] - 0s 18ms/step - loss: 13.6971 - mae: 13.6971\n",
            "Epoch 35/100\n",
            "2/2 [==============================] - 0s 10ms/step - loss: 11.1346 - mae: 11.1346\n",
            "Epoch 36/100\n",
            "2/2 [==============================] - 0s 11ms/step - loss: 13.3465 - mae: 13.3465\n",
            "Epoch 37/100\n",
            "2/2 [==============================] - 0s 21ms/step - loss: 9.4552 - mae: 9.4552\n",
            "Epoch 38/100\n",
            "2/2 [==============================] - 0s 16ms/step - loss: 10.1114 - mae: 10.1114\n",
            "Epoch 39/100\n",
            "2/2 [==============================] - 0s 9ms/step - loss: 10.1864 - mae: 10.1864\n",
            "Epoch 40/100\n",
            "2/2 [==============================] - 0s 9ms/step - loss: 10.9275 - mae: 10.9275\n",
            "Epoch 41/100\n",
            "2/2 [==============================] - 0s 4ms/step - loss: 7.9144 - mae: 7.9144\n",
            "Epoch 42/100\n",
            "2/2 [==============================] - 0s 8ms/step - loss: 10.0676 - mae: 10.0676\n",
            "Epoch 43/100\n",
            "2/2 [==============================] - 0s 17ms/step - loss: 8.6853 - mae: 8.6853\n",
            "Epoch 44/100\n",
            "2/2 [==============================] - 0s 12ms/step - loss: 12.1703 - mae: 12.1703\n",
            "Epoch 45/100\n",
            "2/2 [==============================] - 0s 10ms/step - loss: 13.8162 - mae: 13.8162\n",
            "Epoch 46/100\n",
            "2/2 [==============================] - 0s 6ms/step - loss: 8.4776 - mae: 8.4776\n",
            "Epoch 47/100\n",
            "2/2 [==============================] - 0s 8ms/step - loss: 9.1117 - mae: 9.1117\n",
            "Epoch 48/100\n",
            "2/2 [==============================] - 0s 10ms/step - loss: 10.5912 - mae: 10.5912\n",
            "Epoch 49/100\n",
            "2/2 [==============================] - 0s 19ms/step - loss: 7.7309 - mae: 7.7309\n",
            "Epoch 50/100\n",
            "2/2 [==============================] - 0s 15ms/step - loss: 9.5149 - mae: 9.5149\n",
            "Epoch 51/100\n",
            "2/2 [==============================] - 0s 6ms/step - loss: 9.1456 - mae: 9.1456\n",
            "Epoch 52/100\n",
            "2/2 [==============================] - 0s 6ms/step - loss: 16.3238 - mae: 16.3238\n",
            "Epoch 53/100\n",
            "2/2 [==============================] - 0s 10ms/step - loss: 14.1389 - mae: 14.1389\n",
            "Epoch 54/100\n",
            "2/2 [==============================] - 0s 5ms/step - loss: 21.1603 - mae: 21.1603\n",
            "Epoch 55/100\n",
            "2/2 [==============================] - 0s 10ms/step - loss: 16.3585 - mae: 16.3585\n",
            "Epoch 56/100\n",
            "2/2 [==============================] - 0s 6ms/step - loss: 9.9993 - mae: 9.9993\n",
            "Epoch 57/100\n",
            "2/2 [==============================] - 0s 9ms/step - loss: 9.9361 - mae: 9.9361\n",
            "Epoch 58/100\n",
            "2/2 [==============================] - 0s 10ms/step - loss: 9.1982 - mae: 9.1982\n",
            "Epoch 59/100\n",
            "2/2 [==============================] - 0s 7ms/step - loss: 8.4026 - mae: 8.4026\n",
            "Epoch 60/100\n",
            "2/2 [==============================] - 0s 7ms/step - loss: 9.4674 - mae: 9.4674\n",
            "Epoch 61/100\n",
            "2/2 [==============================] - 0s 7ms/step - loss: 11.4042 - mae: 11.4042\n",
            "Epoch 62/100\n",
            "2/2 [==============================] - 0s 7ms/step - loss: 11.7065 - mae: 11.7065\n",
            "Epoch 63/100\n",
            "2/2 [==============================] - 0s 7ms/step - loss: 7.0664 - mae: 7.0664\n",
            "Epoch 64/100\n",
            "2/2 [==============================] - 0s 7ms/step - loss: 16.9884 - mae: 16.9884\n",
            "Epoch 65/100\n",
            "2/2 [==============================] - 0s 7ms/step - loss: 12.4722 - mae: 12.4722\n",
            "Epoch 66/100\n",
            "2/2 [==============================] - 0s 7ms/step - loss: 13.0373 - mae: 13.0373\n",
            "Epoch 67/100\n",
            "2/2 [==============================] - 0s 8ms/step - loss: 8.0607 - mae: 8.0607\n",
            "Epoch 68/100\n",
            "2/2 [==============================] - 0s 6ms/step - loss: 10.1967 - mae: 10.1967\n",
            "Epoch 69/100\n",
            "2/2 [==============================] - 0s 4ms/step - loss: 12.3837 - mae: 12.3837\n",
            "Epoch 70/100\n",
            "2/2 [==============================] - 0s 7ms/step - loss: 9.0293 - mae: 9.0293\n",
            "Epoch 71/100\n",
            "2/2 [==============================] - 0s 6ms/step - loss: 10.0142 - mae: 10.0142\n",
            "Epoch 72/100\n",
            "2/2 [==============================] - 0s 10ms/step - loss: 10.0315 - mae: 10.0315\n",
            "Epoch 73/100\n",
            "2/2 [==============================] - 0s 9ms/step - loss: 12.5824 - mae: 12.5824\n",
            "Epoch 74/100\n",
            "2/2 [==============================] - 0s 7ms/step - loss: 10.4012 - mae: 10.4012\n",
            "Epoch 75/100\n",
            "2/2 [==============================] - 0s 16ms/step - loss: 9.7014 - mae: 9.7014\n",
            "Epoch 76/100\n",
            "2/2 [==============================] - 0s 7ms/step - loss: 11.1981 - mae: 11.1981\n",
            "Epoch 77/100\n",
            "2/2 [==============================] - 0s 14ms/step - loss: 8.3442 - mae: 8.3442\n",
            "Epoch 78/100\n",
            "2/2 [==============================] - 0s 6ms/step - loss: 9.0962 - mae: 9.0962\n",
            "Epoch 79/100\n",
            "2/2 [==============================] - 0s 12ms/step - loss: 19.5372 - mae: 19.5372\n",
            "Epoch 80/100\n",
            "2/2 [==============================] - 0s 12ms/step - loss: 14.8584 - mae: 14.8584\n",
            "Epoch 81/100\n",
            "2/2 [==============================] - 0s 10ms/step - loss: 9.0265 - mae: 9.0265\n",
            "Epoch 82/100\n",
            "2/2 [==============================] - 0s 6ms/step - loss: 12.9889 - mae: 12.9889\n",
            "Epoch 83/100\n",
            "2/2 [==============================] - 0s 7ms/step - loss: 7.9043 - mae: 7.9043\n",
            "Epoch 84/100\n",
            "2/2 [==============================] - 0s 6ms/step - loss: 7.6866 - mae: 7.6866\n",
            "Epoch 85/100\n",
            "2/2 [==============================] - 0s 6ms/step - loss: 10.0437 - mae: 10.0437\n",
            "Epoch 86/100\n",
            "2/2 [==============================] - 0s 8ms/step - loss: 9.2475 - mae: 9.2475\n",
            "Epoch 87/100\n",
            "2/2 [==============================] - 0s 9ms/step - loss: 12.0363 - mae: 12.0363\n",
            "Epoch 88/100\n",
            "2/2 [==============================] - 0s 11ms/step - loss: 10.6547 - mae: 10.6547\n",
            "Epoch 89/100\n",
            "2/2 [==============================] - 0s 17ms/step - loss: 7.2596 - mae: 7.2596\n",
            "Epoch 90/100\n",
            "2/2 [==============================] - 0s 13ms/step - loss: 12.7973 - mae: 12.7973\n",
            "Epoch 91/100\n",
            "2/2 [==============================] - 0s 12ms/step - loss: 7.4718 - mae: 7.4718\n",
            "Epoch 92/100\n",
            "2/2 [==============================] - 0s 18ms/step - loss: 6.7431 - mae: 6.7431\n",
            "Epoch 93/100\n",
            "2/2 [==============================] - 0s 5ms/step - loss: 11.9467 - mae: 11.9467\n",
            "Epoch 94/100\n",
            "2/2 [==============================] - 0s 8ms/step - loss: 8.8764 - mae: 8.8764\n",
            "Epoch 95/100\n",
            "2/2 [==============================] - 0s 25ms/step - loss: 7.7137 - mae: 7.7137\n",
            "Epoch 96/100\n",
            "2/2 [==============================] - 0s 15ms/step - loss: 6.7422 - mae: 6.7422\n",
            "Epoch 97/100\n",
            "2/2 [==============================] - 0s 7ms/step - loss: 8.6285 - mae: 8.6285\n",
            "Epoch 98/100\n",
            "2/2 [==============================] - 0s 6ms/step - loss: 9.3819 - mae: 9.3819\n",
            "Epoch 99/100\n",
            "2/2 [==============================] - 0s 11ms/step - loss: 9.1183 - mae: 9.1183\n",
            "Epoch 100/100\n",
            "2/2 [==============================] - 0s 19ms/step - loss: 10.4737 - mae: 10.4737\n"
          ]
        },
        {
          "output_type": "execute_result",
          "data": {
            "text/plain": [
              "<keras.callbacks.History at 0x7fa3acdf8090>"
            ]
          },
          "metadata": {},
          "execution_count": 26
        }
      ]
    },
    {
      "cell_type": "code",
      "source": [
        "## creating different model and checking its paramter but not executing\n",
        "model = tf.keras.Sequential([\n",
        "    tf.keras.layers.Dense(100, input_shape=[1]),\n",
        "    tf.keras.layers.Dense(50),\n",
        "    tf.keras.layers.Dense(1)\n",
        "])\n",
        "\n",
        "## compiling\n",
        "model.compile(loss = tf.keras.losses.mae,\n",
        "              optimizer = tf.keras.optimizers.SGD(),\n",
        "              metrics = ['mae'])\n"
      ],
      "metadata": {
        "id": "6gu4SuHcVeTt"
      },
      "execution_count": 27,
      "outputs": []
    },
    {
      "cell_type": "code",
      "source": [
        "model.summary()"
      ],
      "metadata": {
        "colab": {
          "base_uri": "https://localhost:8080/"
        },
        "id": "7msw_m43XTP8",
        "outputId": "06ca53be-2d25-4fef-e167-63bb2b526c79"
      },
      "execution_count": 28,
      "outputs": [
        {
          "output_type": "stream",
          "name": "stdout",
          "text": [
            "Model: \"sequential_8\"\n",
            "_________________________________________________________________\n",
            " Layer (type)                Output Shape              Param #   \n",
            "=================================================================\n",
            " dense_14 (Dense)            (None, 100)               200       \n",
            "                                                                 \n",
            " dense_15 (Dense)            (None, 50)                5050      \n",
            "                                                                 \n",
            " dense_16 (Dense)            (None, 1)                 51        \n",
            "                                                                 \n",
            "=================================================================\n",
            "Total params: 5,301\n",
            "Trainable params: 5,301\n",
            "Non-trainable params: 0\n",
            "_________________________________________________________________\n"
          ]
        }
      ]
    },
    {
      "cell_type": "markdown",
      "source": [
        "### Simple explaination of the parameters--\n",
        "> layer 1 =  100 neurons = 100 weights + 100 biases = 200 params\n",
        "> layers 2 = 50 neurons = each neuron from layer 1 multiplying to each neuron of layer 2. Hence, 100 * 50 = 5000 weights of layer 2 + 50 bias of each 50 neurons on layer 2.\n",
        "> layer 3 =  1 neuron = each neuron from layer 2 multiplying to each neuron of layer 3. Hence, 50 * 1= 50 weights of layer 3 and 1 bias of 1 neuron on layer 3."
      ],
      "metadata": {
        "id": "IRvhSoS7YeVa"
      }
    },
    {
      "cell_type": "code",
      "source": [
        "model.fit(tf.expand_dims(x_train, axis=1), y_train, epochs = 100)"
      ],
      "metadata": {
        "colab": {
          "base_uri": "https://localhost:8080/"
        },
        "id": "gO0PQD5kXomg",
        "outputId": "0d253f7e-cdfd-4471-a797-e5bfb0822268"
      },
      "execution_count": 29,
      "outputs": [
        {
          "output_type": "stream",
          "name": "stdout",
          "text": [
            "Epoch 1/100\n",
            "2/2 [==============================] - 1s 9ms/step - loss: 50.8430 - mae: 50.8430\n",
            "Epoch 2/100\n",
            "2/2 [==============================] - 0s 9ms/step - loss: 32.8333 - mae: 32.8333\n",
            "Epoch 3/100\n",
            "2/2 [==============================] - 0s 21ms/step - loss: 18.5013 - mae: 18.5013\n",
            "Epoch 4/100\n",
            "2/2 [==============================] - 0s 10ms/step - loss: 17.1915 - mae: 17.1915\n",
            "Epoch 5/100\n",
            "2/2 [==============================] - 0s 15ms/step - loss: 33.3424 - mae: 33.3424\n",
            "Epoch 6/100\n",
            "2/2 [==============================] - 0s 10ms/step - loss: 17.2292 - mae: 17.2292\n",
            "Epoch 7/100\n",
            "2/2 [==============================] - 0s 12ms/step - loss: 23.2570 - mae: 23.2570\n",
            "Epoch 8/100\n",
            "2/2 [==============================] - 0s 6ms/step - loss: 14.9495 - mae: 14.9495\n",
            "Epoch 9/100\n",
            "2/2 [==============================] - 0s 30ms/step - loss: 33.8715 - mae: 33.8715\n",
            "Epoch 10/100\n",
            "2/2 [==============================] - 0s 5ms/step - loss: 17.1566 - mae: 17.1566\n",
            "Epoch 11/100\n",
            "2/2 [==============================] - 0s 9ms/step - loss: 14.2966 - mae: 14.2966\n",
            "Epoch 12/100\n",
            "2/2 [==============================] - 0s 13ms/step - loss: 34.5199 - mae: 34.5199\n",
            "Epoch 13/100\n",
            "2/2 [==============================] - 0s 12ms/step - loss: 17.1566 - mae: 17.1566\n",
            "Epoch 14/100\n",
            "2/2 [==============================] - 0s 21ms/step - loss: 27.5283 - mae: 27.5283\n",
            "Epoch 15/100\n",
            "2/2 [==============================] - 0s 19ms/step - loss: 20.6605 - mae: 20.6605\n",
            "Epoch 16/100\n",
            "2/2 [==============================] - 0s 15ms/step - loss: 19.3764 - mae: 19.3764\n",
            "Epoch 17/100\n",
            "2/2 [==============================] - 0s 15ms/step - loss: 20.6326 - mae: 20.6326\n",
            "Epoch 18/100\n",
            "2/2 [==============================] - 0s 18ms/step - loss: 29.9753 - mae: 29.9753\n",
            "Epoch 19/100\n",
            "2/2 [==============================] - 0s 29ms/step - loss: 21.0311 - mae: 21.0311\n",
            "Epoch 20/100\n",
            "2/2 [==============================] - 0s 22ms/step - loss: 27.7166 - mae: 27.7166\n",
            "Epoch 21/100\n",
            "2/2 [==============================] - 0s 10ms/step - loss: 20.1061 - mae: 20.1061\n",
            "Epoch 22/100\n",
            "2/2 [==============================] - 0s 6ms/step - loss: 15.2412 - mae: 15.2412\n",
            "Epoch 23/100\n",
            "2/2 [==============================] - 0s 6ms/step - loss: 21.5167 - mae: 21.5167\n",
            "Epoch 24/100\n",
            "2/2 [==============================] - 0s 6ms/step - loss: 24.9709 - mae: 24.9709\n",
            "Epoch 25/100\n",
            "2/2 [==============================] - 0s 8ms/step - loss: 29.2725 - mae: 29.2725\n",
            "Epoch 26/100\n",
            "2/2 [==============================] - 0s 7ms/step - loss: 17.2150 - mae: 17.2150\n",
            "Epoch 27/100\n",
            "2/2 [==============================] - 0s 15ms/step - loss: 31.8100 - mae: 31.8100\n",
            "Epoch 28/100\n",
            "2/2 [==============================] - 0s 6ms/step - loss: 13.3423 - mae: 13.3423\n",
            "Epoch 29/100\n",
            "2/2 [==============================] - 0s 7ms/step - loss: 26.0035 - mae: 26.0035\n",
            "Epoch 30/100\n",
            "2/2 [==============================] - 0s 6ms/step - loss: 33.5436 - mae: 33.5436\n",
            "Epoch 31/100\n",
            "2/2 [==============================] - 0s 5ms/step - loss: 14.9048 - mae: 14.9048\n",
            "Epoch 32/100\n",
            "2/2 [==============================] - 0s 5ms/step - loss: 13.3874 - mae: 13.3874\n",
            "Epoch 33/100\n",
            "2/2 [==============================] - 0s 6ms/step - loss: 30.6178 - mae: 30.6178\n",
            "Epoch 34/100\n",
            "2/2 [==============================] - 0s 6ms/step - loss: 8.8790 - mae: 8.8790\n",
            "Epoch 35/100\n",
            "2/2 [==============================] - 0s 7ms/step - loss: 9.9391 - mae: 9.9391\n",
            "Epoch 36/100\n",
            "2/2 [==============================] - 0s 10ms/step - loss: 29.6288 - mae: 29.6288\n",
            "Epoch 37/100\n",
            "2/2 [==============================] - 0s 11ms/step - loss: 27.5343 - mae: 27.5343\n",
            "Epoch 38/100\n",
            "2/2 [==============================] - 0s 17ms/step - loss: 18.0140 - mae: 18.0140\n",
            "Epoch 39/100\n",
            "2/2 [==============================] - 0s 7ms/step - loss: 18.4601 - mae: 18.4601\n",
            "Epoch 40/100\n",
            "2/2 [==============================] - 0s 7ms/step - loss: 31.1302 - mae: 31.1302\n",
            "Epoch 41/100\n",
            "2/2 [==============================] - 0s 8ms/step - loss: 10.1347 - mae: 10.1347\n",
            "Epoch 42/100\n",
            "2/2 [==============================] - 0s 8ms/step - loss: 27.1587 - mae: 27.1587\n",
            "Epoch 43/100\n",
            "2/2 [==============================] - 0s 7ms/step - loss: 15.4259 - mae: 15.4259\n",
            "Epoch 44/100\n",
            "2/2 [==============================] - 0s 8ms/step - loss: 21.3984 - mae: 21.3984\n",
            "Epoch 45/100\n",
            "2/2 [==============================] - 0s 9ms/step - loss: 18.0315 - mae: 18.0315\n",
            "Epoch 46/100\n",
            "2/2 [==============================] - 0s 10ms/step - loss: 16.5825 - mae: 16.5825\n",
            "Epoch 47/100\n",
            "2/2 [==============================] - 0s 13ms/step - loss: 9.9380 - mae: 9.9380\n",
            "Epoch 48/100\n",
            "2/2 [==============================] - 0s 9ms/step - loss: 26.4795 - mae: 26.4795\n",
            "Epoch 49/100\n",
            "2/2 [==============================] - 0s 11ms/step - loss: 11.4375 - mae: 11.4375\n",
            "Epoch 50/100\n",
            "2/2 [==============================] - 0s 13ms/step - loss: 14.3582 - mae: 14.3582\n",
            "Epoch 51/100\n",
            "2/2 [==============================] - 0s 9ms/step - loss: 13.2636 - mae: 13.2636\n",
            "Epoch 52/100\n",
            "2/2 [==============================] - 0s 9ms/step - loss: 38.6399 - mae: 38.6399\n",
            "Epoch 53/100\n",
            "2/2 [==============================] - 0s 10ms/step - loss: 34.4625 - mae: 34.4625\n",
            "Epoch 54/100\n",
            "2/2 [==============================] - 0s 16ms/step - loss: 17.2673 - mae: 17.2673\n",
            "Epoch 55/100\n",
            "2/2 [==============================] - 0s 10ms/step - loss: 32.9784 - mae: 32.9784\n",
            "Epoch 56/100\n",
            "2/2 [==============================] - 0s 12ms/step - loss: 15.9436 - mae: 15.9436\n",
            "Epoch 57/100\n",
            "2/2 [==============================] - 0s 24ms/step - loss: 29.3530 - mae: 29.3530\n",
            "Epoch 58/100\n",
            "2/2 [==============================] - 0s 13ms/step - loss: 9.6877 - mae: 9.6877\n",
            "Epoch 59/100\n",
            "2/2 [==============================] - 0s 10ms/step - loss: 11.2765 - mae: 11.2765\n",
            "Epoch 60/100\n",
            "2/2 [==============================] - 0s 10ms/step - loss: 10.0278 - mae: 10.0278\n",
            "Epoch 61/100\n",
            "2/2 [==============================] - 0s 11ms/step - loss: 12.5520 - mae: 12.5520\n",
            "Epoch 62/100\n",
            "2/2 [==============================] - 0s 7ms/step - loss: 13.2191 - mae: 13.2191\n",
            "Epoch 63/100\n",
            "2/2 [==============================] - 0s 14ms/step - loss: 14.2286 - mae: 14.2286\n",
            "Epoch 64/100\n",
            "2/2 [==============================] - 0s 11ms/step - loss: 11.0886 - mae: 11.0886\n",
            "Epoch 65/100\n",
            "2/2 [==============================] - 0s 20ms/step - loss: 12.0393 - mae: 12.0393\n",
            "Epoch 66/100\n",
            "2/2 [==============================] - 0s 10ms/step - loss: 30.7322 - mae: 30.7322\n",
            "Epoch 67/100\n",
            "2/2 [==============================] - 0s 6ms/step - loss: 19.7655 - mae: 19.7655\n",
            "Epoch 68/100\n",
            "2/2 [==============================] - 0s 9ms/step - loss: 20.3800 - mae: 20.3800\n",
            "Epoch 69/100\n",
            "2/2 [==============================] - 0s 9ms/step - loss: 30.0708 - mae: 30.0708\n",
            "Epoch 70/100\n",
            "2/2 [==============================] - 0s 5ms/step - loss: 8.0602 - mae: 8.0602\n",
            "Epoch 71/100\n",
            "2/2 [==============================] - 0s 10ms/step - loss: 31.5689 - mae: 31.5689\n",
            "Epoch 72/100\n",
            "2/2 [==============================] - 0s 12ms/step - loss: 19.5033 - mae: 19.5033\n",
            "Epoch 73/100\n",
            "2/2 [==============================] - 0s 6ms/step - loss: 15.0597 - mae: 15.0597\n",
            "Epoch 74/100\n",
            "2/2 [==============================] - 0s 7ms/step - loss: 32.3039 - mae: 32.3039\n",
            "Epoch 75/100\n",
            "2/2 [==============================] - 0s 5ms/step - loss: 16.3304 - mae: 16.3304\n",
            "Epoch 76/100\n",
            "2/2 [==============================] - 0s 5ms/step - loss: 33.3724 - mae: 33.3724\n",
            "Epoch 77/100\n",
            "2/2 [==============================] - 0s 11ms/step - loss: 17.8325 - mae: 17.8325\n",
            "Epoch 78/100\n",
            "2/2 [==============================] - 0s 18ms/step - loss: 31.5286 - mae: 31.5286\n",
            "Epoch 79/100\n",
            "2/2 [==============================] - 0s 5ms/step - loss: 11.1525 - mae: 11.1525\n",
            "Epoch 80/100\n",
            "2/2 [==============================] - 0s 5ms/step - loss: 37.3068 - mae: 37.3068\n",
            "Epoch 81/100\n",
            "2/2 [==============================] - 0s 10ms/step - loss: 30.7041 - mae: 30.7041\n",
            "Epoch 82/100\n",
            "2/2 [==============================] - 0s 7ms/step - loss: 16.3769 - mae: 16.3769\n",
            "Epoch 83/100\n",
            "2/2 [==============================] - 0s 8ms/step - loss: 25.9580 - mae: 25.9580\n",
            "Epoch 84/100\n",
            "2/2 [==============================] - 0s 5ms/step - loss: 14.4467 - mae: 14.4467\n",
            "Epoch 85/100\n",
            "2/2 [==============================] - 0s 14ms/step - loss: 31.9139 - mae: 31.9139\n",
            "Epoch 86/100\n",
            "2/2 [==============================] - 0s 6ms/step - loss: 18.6828 - mae: 18.6828\n",
            "Epoch 87/100\n",
            "2/2 [==============================] - 0s 5ms/step - loss: 29.6203 - mae: 29.6203\n",
            "Epoch 88/100\n",
            "2/2 [==============================] - 0s 7ms/step - loss: 13.0647 - mae: 13.0647\n",
            "Epoch 89/100\n",
            "2/2 [==============================] - 0s 8ms/step - loss: 13.1334 - mae: 13.1334\n",
            "Epoch 90/100\n",
            "2/2 [==============================] - 0s 5ms/step - loss: 29.1952 - mae: 29.1952\n",
            "Epoch 91/100\n",
            "2/2 [==============================] - 0s 8ms/step - loss: 18.7433 - mae: 18.7433\n",
            "Epoch 92/100\n",
            "2/2 [==============================] - 0s 7ms/step - loss: 17.1575 - mae: 17.1575\n",
            "Epoch 93/100\n",
            "2/2 [==============================] - 0s 4ms/step - loss: 23.3451 - mae: 23.3451\n",
            "Epoch 94/100\n",
            "2/2 [==============================] - 0s 9ms/step - loss: 20.9065 - mae: 20.9065\n",
            "Epoch 95/100\n",
            "2/2 [==============================] - 0s 13ms/step - loss: 17.1712 - mae: 17.1712\n",
            "Epoch 96/100\n",
            "2/2 [==============================] - 0s 16ms/step - loss: 20.9269 - mae: 20.9269\n",
            "Epoch 97/100\n",
            "2/2 [==============================] - 0s 9ms/step - loss: 60.9422 - mae: 60.9422\n",
            "Epoch 98/100\n",
            "2/2 [==============================] - 0s 16ms/step - loss: 26.4109 - mae: 26.4109\n",
            "Epoch 99/100\n",
            "2/2 [==============================] - 0s 17ms/step - loss: 25.0906 - mae: 25.0906\n",
            "Epoch 100/100\n",
            "2/2 [==============================] - 0s 12ms/step - loss: 16.9356 - mae: 16.9356\n"
          ]
        },
        {
          "output_type": "execute_result",
          "data": {
            "text/plain": [
              "<keras.callbacks.History at 0x7fa3accdadd0>"
            ]
          },
          "metadata": {},
          "execution_count": 29
        }
      ]
    },
    {
      "cell_type": "code",
      "source": [
        "## Let's create one more model and more neurons and some complex structure and check\n",
        "model = tf.keras.Sequential([\n",
        "    tf.keras.layers.Dense(50, input_shape=[1]),\n",
        "    tf.keras.layers.Dense(30),\n",
        "    tf.keras.layers.Dense(15),\n",
        "    tf.keras.layers.Dense(8),\n",
        "    tf.keras.layers.Dense(1)\n",
        "])\n",
        "\n",
        "model.compile(loss = tf.keras.losses.mae,\n",
        "              optimizer = tf.keras.optimizers.SGD(),\n",
        "              metrics = ['mae'])\n"
      ],
      "metadata": {
        "id": "Lzvd6bAeXqTh"
      },
      "execution_count": 30,
      "outputs": []
    },
    {
      "cell_type": "code",
      "source": [
        "model.summary()"
      ],
      "metadata": {
        "colab": {
          "base_uri": "https://localhost:8080/"
        },
        "id": "GfkIekfBaD7K",
        "outputId": "7e730329-be23-41f0-a475-d9bb9a0af81e"
      },
      "execution_count": 31,
      "outputs": [
        {
          "output_type": "stream",
          "name": "stdout",
          "text": [
            "Model: \"sequential_9\"\n",
            "_________________________________________________________________\n",
            " Layer (type)                Output Shape              Param #   \n",
            "=================================================================\n",
            " dense_17 (Dense)            (None, 50)                100       \n",
            "                                                                 \n",
            " dense_18 (Dense)            (None, 30)                1530      \n",
            "                                                                 \n",
            " dense_19 (Dense)            (None, 15)                465       \n",
            "                                                                 \n",
            " dense_20 (Dense)            (None, 8)                 128       \n",
            "                                                                 \n",
            " dense_21 (Dense)            (None, 1)                 9         \n",
            "                                                                 \n",
            "=================================================================\n",
            "Total params: 2,232\n",
            "Trainable params: 2,232\n",
            "Non-trainable params: 0\n",
            "_________________________________________________________________\n"
          ]
        }
      ]
    },
    {
      "cell_type": "code",
      "source": [
        "model.fit(tf.expand_dims(x_train,axis=1),y_train,epochs=100, verbose=1)"
      ],
      "metadata": {
        "colab": {
          "base_uri": "https://localhost:8080/"
        },
        "id": "cC0bE3cKaN6S",
        "outputId": "a27ff6c3-b3fa-4644-899e-8954bf54be09"
      },
      "execution_count": 32,
      "outputs": [
        {
          "output_type": "stream",
          "name": "stdout",
          "text": [
            "Epoch 1/100\n",
            "2/2 [==============================] - 1s 14ms/step - loss: 83.8398 - mae: 83.8398\n",
            "Epoch 2/100\n",
            "2/2 [==============================] - 0s 6ms/step - loss: 64.0369 - mae: 64.0369\n",
            "Epoch 3/100\n",
            "2/2 [==============================] - 0s 5ms/step - loss: 59.0906 - mae: 59.0906\n",
            "Epoch 4/100\n",
            "2/2 [==============================] - 0s 9ms/step - loss: 79.3087 - mae: 79.3087\n",
            "Epoch 5/100\n",
            "2/2 [==============================] - 0s 16ms/step - loss: 47.8964 - mae: 47.8964\n",
            "Epoch 6/100\n",
            "2/2 [==============================] - 0s 7ms/step - loss: 10003.8496 - mae: 10003.8496\n",
            "Epoch 7/100\n",
            "2/2 [==============================] - 0s 7ms/step - loss: inf - mae: inf                        \n",
            "Epoch 8/100\n",
            "2/2 [==============================] - 0s 14ms/step - loss: nan - mae: nan\n",
            "Epoch 9/100\n",
            "2/2 [==============================] - 0s 36ms/step - loss: nan - mae: nan\n",
            "Epoch 10/100\n",
            "2/2 [==============================] - 0s 25ms/step - loss: nan - mae: nan\n",
            "Epoch 11/100\n",
            "2/2 [==============================] - 0s 15ms/step - loss: nan - mae: nan\n",
            "Epoch 12/100\n",
            "2/2 [==============================] - 0s 15ms/step - loss: nan - mae: nan\n",
            "Epoch 13/100\n",
            "2/2 [==============================] - 0s 5ms/step - loss: nan - mae: nan\n",
            "Epoch 14/100\n",
            "2/2 [==============================] - 0s 8ms/step - loss: nan - mae: nan\n",
            "Epoch 15/100\n",
            "2/2 [==============================] - 0s 9ms/step - loss: nan - mae: nan\n",
            "Epoch 16/100\n",
            "2/2 [==============================] - 0s 12ms/step - loss: nan - mae: nan\n",
            "Epoch 17/100\n",
            "2/2 [==============================] - 0s 13ms/step - loss: nan - mae: nan\n",
            "Epoch 18/100\n",
            "2/2 [==============================] - 0s 10ms/step - loss: nan - mae: nan\n",
            "Epoch 19/100\n",
            "2/2 [==============================] - 0s 20ms/step - loss: nan - mae: nan\n",
            "Epoch 20/100\n",
            "2/2 [==============================] - 0s 14ms/step - loss: nan - mae: nan\n",
            "Epoch 21/100\n",
            "2/2 [==============================] - 0s 17ms/step - loss: nan - mae: nan\n",
            "Epoch 22/100\n",
            "2/2 [==============================] - 0s 10ms/step - loss: nan - mae: nan\n",
            "Epoch 23/100\n",
            "2/2 [==============================] - 0s 4ms/step - loss: nan - mae: nan\n",
            "Epoch 24/100\n",
            "2/2 [==============================] - 0s 9ms/step - loss: nan - mae: nan\n",
            "Epoch 25/100\n",
            "2/2 [==============================] - 0s 10ms/step - loss: nan - mae: nan\n",
            "Epoch 26/100\n",
            "2/2 [==============================] - 0s 22ms/step - loss: nan - mae: nan\n",
            "Epoch 27/100\n",
            "2/2 [==============================] - 0s 13ms/step - loss: nan - mae: nan\n",
            "Epoch 28/100\n",
            "2/2 [==============================] - 0s 16ms/step - loss: nan - mae: nan\n",
            "Epoch 29/100\n",
            "2/2 [==============================] - 0s 5ms/step - loss: nan - mae: nan\n",
            "Epoch 30/100\n",
            "2/2 [==============================] - 0s 5ms/step - loss: nan - mae: nan\n",
            "Epoch 31/100\n",
            "2/2 [==============================] - 0s 5ms/step - loss: nan - mae: nan\n",
            "Epoch 32/100\n",
            "2/2 [==============================] - 0s 4ms/step - loss: nan - mae: nan\n",
            "Epoch 33/100\n",
            "2/2 [==============================] - 0s 5ms/step - loss: nan - mae: nan\n",
            "Epoch 34/100\n",
            "2/2 [==============================] - 0s 4ms/step - loss: nan - mae: nan\n",
            "Epoch 35/100\n",
            "2/2 [==============================] - 0s 4ms/step - loss: nan - mae: nan\n",
            "Epoch 36/100\n",
            "2/2 [==============================] - 0s 13ms/step - loss: nan - mae: nan\n",
            "Epoch 37/100\n",
            "2/2 [==============================] - 0s 10ms/step - loss: nan - mae: nan\n",
            "Epoch 38/100\n",
            "2/2 [==============================] - 0s 5ms/step - loss: nan - mae: nan\n",
            "Epoch 39/100\n",
            "2/2 [==============================] - 0s 8ms/step - loss: nan - mae: nan\n",
            "Epoch 40/100\n",
            "2/2 [==============================] - 0s 17ms/step - loss: nan - mae: nan\n",
            "Epoch 41/100\n",
            "2/2 [==============================] - 0s 9ms/step - loss: nan - mae: nan\n",
            "Epoch 42/100\n",
            "2/2 [==============================] - 0s 15ms/step - loss: nan - mae: nan\n",
            "Epoch 43/100\n",
            "2/2 [==============================] - 0s 5ms/step - loss: nan - mae: nan\n",
            "Epoch 44/100\n",
            "2/2 [==============================] - 0s 4ms/step - loss: nan - mae: nan\n",
            "Epoch 45/100\n",
            "2/2 [==============================] - 0s 12ms/step - loss: nan - mae: nan\n",
            "Epoch 46/100\n",
            "2/2 [==============================] - 0s 9ms/step - loss: nan - mae: nan\n",
            "Epoch 47/100\n",
            "2/2 [==============================] - 0s 5ms/step - loss: nan - mae: nan\n",
            "Epoch 48/100\n",
            "2/2 [==============================] - 0s 4ms/step - loss: nan - mae: nan\n",
            "Epoch 49/100\n",
            "2/2 [==============================] - 0s 5ms/step - loss: nan - mae: nan\n",
            "Epoch 50/100\n",
            "2/2 [==============================] - 0s 9ms/step - loss: nan - mae: nan\n",
            "Epoch 51/100\n",
            "2/2 [==============================] - 0s 8ms/step - loss: nan - mae: nan\n",
            "Epoch 52/100\n",
            "2/2 [==============================] - 0s 13ms/step - loss: nan - mae: nan\n",
            "Epoch 53/100\n",
            "2/2 [==============================] - 0s 19ms/step - loss: nan - mae: nan\n",
            "Epoch 54/100\n",
            "2/2 [==============================] - 0s 10ms/step - loss: nan - mae: nan\n",
            "Epoch 55/100\n",
            "2/2 [==============================] - 0s 9ms/step - loss: nan - mae: nan\n",
            "Epoch 56/100\n",
            "2/2 [==============================] - 0s 10ms/step - loss: nan - mae: nan\n",
            "Epoch 57/100\n",
            "2/2 [==============================] - 0s 10ms/step - loss: nan - mae: nan\n",
            "Epoch 58/100\n",
            "2/2 [==============================] - 0s 6ms/step - loss: nan - mae: nan\n",
            "Epoch 59/100\n",
            "2/2 [==============================] - 0s 7ms/step - loss: nan - mae: nan\n",
            "Epoch 60/100\n",
            "2/2 [==============================] - 0s 5ms/step - loss: nan - mae: nan\n",
            "Epoch 61/100\n",
            "2/2 [==============================] - 0s 11ms/step - loss: nan - mae: nan\n",
            "Epoch 62/100\n",
            "2/2 [==============================] - 0s 5ms/step - loss: nan - mae: nan\n",
            "Epoch 63/100\n",
            "2/2 [==============================] - 0s 11ms/step - loss: nan - mae: nan\n",
            "Epoch 64/100\n",
            "2/2 [==============================] - 0s 11ms/step - loss: nan - mae: nan\n",
            "Epoch 65/100\n",
            "2/2 [==============================] - 0s 5ms/step - loss: nan - mae: nan\n",
            "Epoch 66/100\n",
            "2/2 [==============================] - 0s 5ms/step - loss: nan - mae: nan\n",
            "Epoch 67/100\n",
            "2/2 [==============================] - 0s 7ms/step - loss: nan - mae: nan\n",
            "Epoch 68/100\n",
            "2/2 [==============================] - 0s 25ms/step - loss: nan - mae: nan\n",
            "Epoch 69/100\n",
            "2/2 [==============================] - 0s 9ms/step - loss: nan - mae: nan\n",
            "Epoch 70/100\n",
            "2/2 [==============================] - 0s 9ms/step - loss: nan - mae: nan\n",
            "Epoch 71/100\n",
            "2/2 [==============================] - 0s 9ms/step - loss: nan - mae: nan\n",
            "Epoch 72/100\n",
            "2/2 [==============================] - 0s 20ms/step - loss: nan - mae: nan\n",
            "Epoch 73/100\n",
            "2/2 [==============================] - 0s 9ms/step - loss: nan - mae: nan\n",
            "Epoch 74/100\n",
            "2/2 [==============================] - 0s 9ms/step - loss: nan - mae: nan\n",
            "Epoch 75/100\n",
            "2/2 [==============================] - 0s 19ms/step - loss: nan - mae: nan\n",
            "Epoch 76/100\n",
            "2/2 [==============================] - 0s 9ms/step - loss: nan - mae: nan\n",
            "Epoch 77/100\n",
            "2/2 [==============================] - 0s 9ms/step - loss: nan - mae: nan\n",
            "Epoch 78/100\n",
            "2/2 [==============================] - 0s 10ms/step - loss: nan - mae: nan\n",
            "Epoch 79/100\n",
            "2/2 [==============================] - 0s 10ms/step - loss: nan - mae: nan\n",
            "Epoch 80/100\n",
            "2/2 [==============================] - 0s 10ms/step - loss: nan - mae: nan\n",
            "Epoch 81/100\n",
            "2/2 [==============================] - 0s 8ms/step - loss: nan - mae: nan\n",
            "Epoch 82/100\n",
            "2/2 [==============================] - 0s 7ms/step - loss: nan - mae: nan\n",
            "Epoch 83/100\n",
            "2/2 [==============================] - 0s 19ms/step - loss: nan - mae: nan\n",
            "Epoch 84/100\n",
            "2/2 [==============================] - 0s 5ms/step - loss: nan - mae: nan\n",
            "Epoch 85/100\n",
            "2/2 [==============================] - 0s 14ms/step - loss: nan - mae: nan\n",
            "Epoch 86/100\n",
            "2/2 [==============================] - 0s 11ms/step - loss: nan - mae: nan\n",
            "Epoch 87/100\n",
            "2/2 [==============================] - 0s 16ms/step - loss: nan - mae: nan\n",
            "Epoch 88/100\n",
            "2/2 [==============================] - 0s 14ms/step - loss: nan - mae: nan\n",
            "Epoch 89/100\n",
            "2/2 [==============================] - 0s 6ms/step - loss: nan - mae: nan\n",
            "Epoch 90/100\n",
            "2/2 [==============================] - 0s 13ms/step - loss: nan - mae: nan\n",
            "Epoch 91/100\n",
            "2/2 [==============================] - 0s 24ms/step - loss: nan - mae: nan\n",
            "Epoch 92/100\n",
            "2/2 [==============================] - 0s 8ms/step - loss: nan - mae: nan\n",
            "Epoch 93/100\n",
            "2/2 [==============================] - 0s 12ms/step - loss: nan - mae: nan\n",
            "Epoch 94/100\n",
            "2/2 [==============================] - 0s 17ms/step - loss: nan - mae: nan\n",
            "Epoch 95/100\n",
            "2/2 [==============================] - 0s 7ms/step - loss: nan - mae: nan\n",
            "Epoch 96/100\n",
            "2/2 [==============================] - 0s 7ms/step - loss: nan - mae: nan\n",
            "Epoch 97/100\n",
            "2/2 [==============================] - 0s 14ms/step - loss: nan - mae: nan\n",
            "Epoch 98/100\n",
            "2/2 [==============================] - 0s 16ms/step - loss: nan - mae: nan\n",
            "Epoch 99/100\n",
            "2/2 [==============================] - 0s 20ms/step - loss: nan - mae: nan\n",
            "Epoch 100/100\n",
            "2/2 [==============================] - 0s 10ms/step - loss: nan - mae: nan\n"
          ]
        },
        {
          "output_type": "execute_result",
          "data": {
            "text/plain": [
              "<keras.callbacks.History at 0x7fa3acc5b550>"
            ]
          },
          "metadata": {},
          "execution_count": 32
        }
      ]
    },
    {
      "cell_type": "code",
      "source": [
        "\n",
        "## creating a more custom model with custom names of model and layers\n",
        "\n",
        "model = tf.keras.Sequential([\n",
        "    tf.keras.layers.Dense(50, input_shape=[1], name=\"First_hidden_layer\"),\n",
        "    tf.keras.layers.Dense(25, name=\"Second_hidden_layer\"),\n",
        "    tf.keras.layers.Dense(5,name=\"Third_hidden_layer\"),\n",
        "    tf.keras.layers.Dense(1, name=\"output_layer\")\n",
        "], name=\"My_Custom_model\")\n",
        "\n",
        "model.compile(loss = tf.keras.losses.mae,\n",
        "              optimizer = tf.keras.optimizers.SGD(),\n",
        "              metrics = ['mae'])\n"
      ],
      "metadata": {
        "id": "J_vfUPoZagCK"
      },
      "execution_count": 33,
      "outputs": []
    },
    {
      "cell_type": "code",
      "source": [
        "model.summary()"
      ],
      "metadata": {
        "colab": {
          "base_uri": "https://localhost:8080/"
        },
        "id": "ncZ7fW7ddFaV",
        "outputId": "58f9621f-b2d7-474d-e9b0-603c21dd085b"
      },
      "execution_count": 34,
      "outputs": [
        {
          "output_type": "stream",
          "name": "stdout",
          "text": [
            "Model: \"My_Custom_model\"\n",
            "_________________________________________________________________\n",
            " Layer (type)                Output Shape              Param #   \n",
            "=================================================================\n",
            " First_hidden_layer (Dense)  (None, 50)                100       \n",
            "                                                                 \n",
            " Second_hidden_layer (Dense)  (None, 25)               1275      \n",
            "                                                                 \n",
            " Third_hidden_layer (Dense)  (None, 5)                 130       \n",
            "                                                                 \n",
            " output_layer (Dense)        (None, 1)                 6         \n",
            "                                                                 \n",
            "=================================================================\n",
            "Total params: 1,511\n",
            "Trainable params: 1,511\n",
            "Non-trainable params: 0\n",
            "_________________________________________________________________\n"
          ]
        }
      ]
    },
    {
      "cell_type": "code",
      "source": [
        "from tensorflow.keras.utils import plot_model\n",
        "\n",
        "plot_model(model=model)"
      ],
      "metadata": {
        "colab": {
          "base_uri": "https://localhost:8080/",
          "height": 466
        },
        "id": "nerpHy_ddG3i",
        "outputId": "daf0bfac-37eb-4c0b-f660-6a764564a1cf"
      },
      "execution_count": 35,
      "outputs": [
        {
          "output_type": "execute_result",
          "data": {
            "image/png": "[encoded data removed]",
            "text/plain": [
              "<IPython.core.display.Image object>"
            ]
          },
          "metadata": {},
          "execution_count": 35
        }
      ]
    },
    {
      "cell_type": "code",
      "source": [
        "plot_model(model=model, show_shapes=True)"
      ],
      "metadata": {
        "colab": {
          "base_uri": "https://localhost:8080/",
          "height": 533
        },
        "id": "Uixx1xEldSwd",
        "outputId": "3673c9e2-fc08-44f0-96b5-59f8fc5d1fe4"
      },
      "execution_count": 36,
      "outputs": [
        {
          "output_type": "execute_result",
          "data": {
            "image/png": "[encoded data removed]",
            "text/plain": [
              "<IPython.core.display.Image object>"
            ]
          },
          "metadata": {},
          "execution_count": 36
        }
      ]
    },
    {
      "cell_type": "markdown",
      "source": [
        "## Let's give it a try to visualize our predictions, so let's predict on x_test and compare it with y_testm with a beautifull visualization"
      ],
      "metadata": {
        "id": "vzOh3rNofAXK"
      }
    },
    {
      "cell_type": "code",
      "source": [
        "## prediting first\n",
        "y_pred = model.predict(x_test)\n",
        "y_pred"
      ],
      "metadata": {
        "colab": {
          "base_uri": "https://localhost:8080/"
        },
        "id": "CQhqh0cJdarY",
        "outputId": "d8ede1a3-08d7-46f5-cb54-706579e3b7a8"
      },
      "execution_count": 37,
      "outputs": [
        {
          "output_type": "stream",
          "name": "stderr",
          "text": [
            "WARNING:tensorflow:6 out of the last 6 calls to <function Model.make_predict_function.<locals>.predict_function at 0x7fa3acb464d0> triggered tf.function retracing. Tracing is expensive and the excessive number of tracings could be due to (1) creating @tf.function repeatedly in a loop, (2) passing tensors with different shapes, (3) passing Python objects instead of tensors. For (1), please define your @tf.function outside of the loop. For (2), @tf.function has experimental_relax_shapes=True option that relaxes argument shapes that can avoid unnecessary retracing. For (3), please refer to https://www.tensorflow.org/guide/function#controlling_retracing and https://www.tensorflow.org/api_docs/python/tf/function for  more details.\n"
          ]
        },
        {
          "output_type": "execute_result",
          "data": {
            "text/plain": [
              "array([[-17.849314],\n",
              "       [-19.039263],\n",
              "       [-20.229223],\n",
              "       [-21.419174],\n",
              "       [-22.609129],\n",
              "       [-23.799082],\n",
              "       [-24.98904 ],\n",
              "       [-26.178986],\n",
              "       [-27.36895 ],\n",
              "       [-28.558899]], dtype=float32)"
            ]
          },
          "metadata": {},
          "execution_count": 37
        }
      ]
    },
    {
      "cell_type": "code",
      "source": [
        "## Let's convert the y_pred into the tensors\n",
        "y_pred = tf.constant(y_pred)\n",
        "y_pred,y_test"
      ],
      "metadata": {
        "colab": {
          "base_uri": "https://localhost:8080/"
        },
        "id": "lUQrUJClfkNl",
        "outputId": "b5e87743-ae1a-473e-e262-62576319e3ee"
      },
      "execution_count": 38,
      "outputs": [
        {
          "output_type": "execute_result",
          "data": {
            "text/plain": [
              "(<tf.Tensor: shape=(10, 1), dtype=float32, numpy=\n",
              " array([[-17.849314],\n",
              "        [-19.039263],\n",
              "        [-20.229223],\n",
              "        [-21.419174],\n",
              "        [-22.609129],\n",
              "        [-23.799082],\n",
              "        [-24.98904 ],\n",
              "        [-26.178986],\n",
              "        [-27.36895 ],\n",
              "        [-28.558899]], dtype=float32)>,\n",
              " <tf.Tensor: shape=(10,), dtype=int32, numpy=array([ 70,  74,  78,  82,  86,  90,  94,  98, 102, 106], dtype=int32)>)"
            ]
          },
          "metadata": {},
          "execution_count": 38
        }
      ]
    },
    {
      "cell_type": "code",
      "source": [
        "## Let's create a function to plot \n",
        "\n",
        "def plot_evaluation(train_data = x_train, train_label=y_train, test_data=x_test, test_label=y_test, prediction = y_pred):\n",
        "  plt.figure(figsize=(10,7))\n",
        "  ## plotting the train set\n",
        "  plt.scatter(train_data, train_label, c=\"g\", label=\"training data\")\n",
        "  ## plotting the test set\n",
        "  plt.scatter(test_data,test_label, c=\"b\",label=\"testing data\")\n",
        "  ## plotting the predictions w.r.t to test labels\n",
        "  plt.scatter(prediction,test_label, c=\"r\", label=\"prediction data\")\n",
        "  plt.legend()\n",
        "  plt.plot()"
      ],
      "metadata": {
        "id": "JLIYYws6frtB"
      },
      "execution_count": 39,
      "outputs": []
    },
    {
      "cell_type": "code",
      "source": [
        "plot_evaluation()"
      ],
      "metadata": {
        "colab": {
          "base_uri": "https://localhost:8080/",
          "height": 428
        },
        "id": "Ot2iw64Fgz2E",
        "outputId": "551eed67-e4ab-4f11-b99e-0405c6a983fc"
      },
      "execution_count": 40,
      "outputs": [
        {
          "output_type": "display_data",
          "data": {
            "text/plain": [
              "<Figure size 720x504 with 1 Axes>"
            ],
            "image/png": "[encoded data removed]"
          },
          "metadata": {
            "needs_background": "light"
          }
        }
      ]
    },
    {
      "cell_type": "code",
      "source": [
        "## Let's evaluate the model\n",
        "model.evaluate(x_test,y_test)   ## It will show mae because we chose mae as loss and mae as metrics while creating model"
      ],
      "metadata": {
        "colab": {
          "base_uri": "https://localhost:8080/"
        },
        "id": "f8wDFJPqg1wT",
        "outputId": "5efab126-e72a-44b5-f24b-08a8750f00d8"
      },
      "execution_count": 41,
      "outputs": [
        {
          "output_type": "stream",
          "name": "stdout",
          "text": [
            "1/1 [==============================] - 0s 430ms/step - loss: 111.2041 - mae: 111.2041\n"
          ]
        },
        {
          "output_type": "execute_result",
          "data": {
            "text/plain": [
              "[111.2041015625, 111.2041015625]"
            ]
          },
          "metadata": {},
          "execution_count": 41
        }
      ]
    },
    {
      "cell_type": "code",
      "source": [
        "## calculating the mean absoulte error \n",
        "mae = tf.metrics.mean_absolute_error(y_test,y_pred)\n",
        "mae"
      ],
      "metadata": {
        "colab": {
          "base_uri": "https://localhost:8080/"
        },
        "id": "PLz_LYZvkMvn",
        "outputId": "0911e128-7cd3-4d43-b6a7-c2ccced5f871"
      },
      "execution_count": 42,
      "outputs": [
        {
          "output_type": "execute_result",
          "data": {
            "text/plain": [
              "<tf.Tensor: shape=(10,), dtype=float32, numpy=\n",
              "array([105.84932 , 107.03926 , 108.229225, 109.419174, 110.60913 ,\n",
              "       111.79909 , 112.98904 , 114.17898 , 115.36894 , 116.5589  ],\n",
              "      dtype=float32)>"
            ]
          },
          "metadata": {},
          "execution_count": 42
        }
      ]
    },
    {
      "cell_type": "markdown",
      "source": [
        "### Our mae is not as same as model.evaluate() output that is because the y_pred has different shape than the y_test. So let's decrese the dimension of the y_pred"
      ],
      "metadata": {
        "id": "LC9Jgl_MmjrO"
      }
    },
    {
      "cell_type": "code",
      "source": [
        "y_pred = tf.squeeze(y_pred)\n",
        "y_pred"
      ],
      "metadata": {
        "colab": {
          "base_uri": "https://localhost:8080/"
        },
        "id": "7VN8ag21maFY",
        "outputId": "5a15c925-4014-435a-c954-b8a2c39c5b9f"
      },
      "execution_count": 43,
      "outputs": [
        {
          "output_type": "execute_result",
          "data": {
            "text/plain": [
              "<tf.Tensor: shape=(10,), dtype=float32, numpy=\n",
              "array([-17.849314, -19.039263, -20.229223, -21.419174, -22.609129,\n",
              "       -23.799082, -24.98904 , -26.178986, -27.36895 , -28.558899],\n",
              "      dtype=float32)>"
            ]
          },
          "metadata": {},
          "execution_count": 43
        }
      ]
    },
    {
      "cell_type": "code",
      "source": [
        "mae = tf.metrics.mean_absolute_error(y_true=y_test, y_pred=y_pred)\n",
        "mae"
      ],
      "metadata": {
        "colab": {
          "base_uri": "https://localhost:8080/"
        },
        "id": "0IoBLMaUm1Jj",
        "outputId": "daabf4f6-2d32-4b87-dc17-581a42127e17"
      },
      "execution_count": 44,
      "outputs": [
        {
          "output_type": "execute_result",
          "data": {
            "text/plain": [
              "<tf.Tensor: shape=(), dtype=float32, numpy=111.2041>"
            ]
          },
          "metadata": {},
          "execution_count": 44
        }
      ]
    },
    {
      "cell_type": "markdown",
      "source": [
        "## Now the mae is same as the model.evaluate()"
      ],
      "metadata": {
        "id": "brryEXZOnZuI"
      }
    },
    {
      "cell_type": "code",
      "source": [
        "## Let's calculate the mean squared error\n",
        "mse = tf.metrics.mean_squared_error(y_true=y_test, y_pred=y_pred)\n",
        "mse"
      ],
      "metadata": {
        "colab": {
          "base_uri": "https://localhost:8080/"
        },
        "id": "9B_IzlZfnFxP",
        "outputId": "93f34f2e-7656-4c1e-9e60-6cc9ac2bd2dc"
      },
      "execution_count": 45,
      "outputs": [
        {
          "output_type": "execute_result",
          "data": {
            "text/plain": [
              "<tf.Tensor: shape=(), dtype=float32, numpy=12588.572>"
            ]
          },
          "metadata": {},
          "execution_count": 45
        }
      ]
    },
    {
      "cell_type": "code",
      "source": [
        "## Make some functions for mae and mse\n",
        "def mae(true,pred):\n",
        "  return tf.metrics.mean_absolute_error(true,tf.squeeze(pred))\n",
        "\n",
        "def mse(true,pred):\n",
        "  return tf.metrics.mean_squared_error(true,tf.squeeze(pred))\n",
        "  "
      ],
      "metadata": {
        "id": "vXr-RRFjnpkS"
      },
      "execution_count": 46,
      "outputs": []
    },
    {
      "cell_type": "markdown",
      "source": [
        "### Running experiments to build our model\n",
        "\n",
        "```\n",
        "Build a model-> fit it -> evaluate it-> tweal it -> fit it -> evaluate it -> tweak it -> fit it -> evaluate it ...\n",
        "```\n",
        "\n",
        "1. Get more data - get some more examples for model to train more opportunity to learn patterns.\n",
        "2. Make the model larger or complex by increasing layers and hidden units.\n",
        "3. Train for longer- give model more of a chance to find patterns in data.\n",
        "\n",
        "Let's do 3 modelling experiments:\n",
        "1. `model 1` same as original model, 1 layer, trained for 100 epochs.\n",
        "2. `model 2` keep the epochs same and increase layer.\n",
        "3. `model 3` same layers epochs=500\n"
      ],
      "metadata": {
        "id": "m2qGfvVtBIl4"
      }
    },
    {
      "cell_type": "markdown",
      "source": [
        "**Build model 1**"
      ],
      "metadata": {
        "id": "SedNF5l7CMN9"
      }
    },
    {
      "cell_type": "code",
      "source": [
        "## creating the model 1\n",
        "\n",
        "## set random seed\n",
        "tf.random.set_seed(43)\n",
        "\n",
        "model_1 = tf.keras.Sequential([\n",
        "    tf.keras.layers.Dense(1)\n",
        "])\n",
        "\n",
        "## compiling the mode\n",
        "model_1.compile(loss = tf.keras.losses.mae,\n",
        "                optimizer = tf.keras.optimizers.SGD(),\n",
        "                metrics = ['mae'])\n",
        "\n",
        "## fitting the model\n",
        "model_1.fit(tf.expand_dims(x_train, axis=1),y_train,epochs=100)"
      ],
      "metadata": {
        "id": "293x63D0oLrF",
        "colab": {
          "base_uri": "https://localhost:8080/"
        },
        "outputId": "6fd3a92b-e9db-46ce-e85b-dfc2f7e729a5"
      },
      "execution_count": 47,
      "outputs": [
        {
          "output_type": "stream",
          "name": "stdout",
          "text": [
            "Epoch 1/100\n",
            "2/2 [==============================] - 1s 10ms/step - loss: 70.5773 - mae: 70.5773\n",
            "Epoch 2/100\n",
            "2/2 [==============================] - 0s 9ms/step - loss: 33.1996 - mae: 33.1996\n",
            "Epoch 3/100\n",
            "2/2 [==============================] - 0s 6ms/step - loss: 8.4768 - mae: 8.4768\n",
            "Epoch 4/100\n",
            "2/2 [==============================] - 0s 5ms/step - loss: 10.1766 - mae: 10.1766\n",
            "Epoch 5/100\n",
            "2/2 [==============================] - 0s 8ms/step - loss: 10.6269 - mae: 10.6269\n",
            "Epoch 6/100\n",
            "2/2 [==============================] - 0s 8ms/step - loss: 8.9302 - mae: 8.9302\n",
            "Epoch 7/100\n",
            "2/2 [==============================] - 0s 15ms/step - loss: 10.0449 - mae: 10.0449\n",
            "Epoch 8/100\n",
            "2/2 [==============================] - 0s 9ms/step - loss: 9.7556 - mae: 9.7556\n",
            "Epoch 9/100\n",
            "2/2 [==============================] - 0s 11ms/step - loss: 8.8736 - mae: 8.8736\n",
            "Epoch 10/100\n",
            "2/2 [==============================] - 0s 12ms/step - loss: 9.0464 - mae: 9.0464\n",
            "Epoch 11/100\n",
            "2/2 [==============================] - 0s 11ms/step - loss: 11.3595 - mae: 11.3595\n",
            "Epoch 12/100\n",
            "2/2 [==============================] - 0s 39ms/step - loss: 14.2709 - mae: 14.2709\n",
            "Epoch 13/100\n",
            "2/2 [==============================] - 0s 11ms/step - loss: 15.2989 - mae: 15.2989\n",
            "Epoch 14/100\n",
            "2/2 [==============================] - 0s 14ms/step - loss: 9.3478 - mae: 9.3478\n",
            "Epoch 15/100\n",
            "2/2 [==============================] - 0s 4ms/step - loss: 7.9813 - mae: 7.9813\n",
            "Epoch 16/100\n",
            "2/2 [==============================] - 0s 12ms/step - loss: 9.9514 - mae: 9.9514\n",
            "Epoch 17/100\n",
            "2/2 [==============================] - 0s 10ms/step - loss: 7.9120 - mae: 7.9120\n",
            "Epoch 18/100\n",
            "2/2 [==============================] - 0s 13ms/step - loss: 10.2787 - mae: 10.2787\n",
            "Epoch 19/100\n",
            "2/2 [==============================] - 0s 13ms/step - loss: 8.7708 - mae: 8.7708\n",
            "Epoch 20/100\n",
            "2/2 [==============================] - 0s 13ms/step - loss: 11.2420 - mae: 11.2420\n",
            "Epoch 21/100\n",
            "2/2 [==============================] - 0s 15ms/step - loss: 16.7223 - mae: 16.7223\n",
            "Epoch 22/100\n",
            "2/2 [==============================] - 0s 13ms/step - loss: 14.1593 - mae: 14.1593\n",
            "Epoch 23/100\n",
            "2/2 [==============================] - 0s 14ms/step - loss: 11.1957 - mae: 11.1957\n",
            "Epoch 24/100\n",
            "2/2 [==============================] - 0s 20ms/step - loss: 8.6898 - mae: 8.6898\n",
            "Epoch 25/100\n",
            "2/2 [==============================] - 0s 12ms/step - loss: 10.2924 - mae: 10.2924\n",
            "Epoch 26/100\n",
            "2/2 [==============================] - 0s 19ms/step - loss: 9.5068 - mae: 9.5068\n",
            "Epoch 27/100\n",
            "2/2 [==============================] - 0s 10ms/step - loss: 10.8965 - mae: 10.8965\n",
            "Epoch 28/100\n",
            "2/2 [==============================] - 0s 8ms/step - loss: 11.5601 - mae: 11.5601\n",
            "Epoch 29/100\n",
            "2/2 [==============================] - 0s 17ms/step - loss: 12.2691 - mae: 12.2691\n",
            "Epoch 30/100\n",
            "2/2 [==============================] - 0s 13ms/step - loss: 10.3527 - mae: 10.3527\n",
            "Epoch 31/100\n",
            "2/2 [==============================] - 0s 9ms/step - loss: 7.6188 - mae: 7.6188\n",
            "Epoch 32/100\n",
            "2/2 [==============================] - 0s 13ms/step - loss: 15.5966 - mae: 15.5966\n",
            "Epoch 33/100\n",
            "2/2 [==============================] - 0s 21ms/step - loss: 17.4699 - mae: 17.4699\n",
            "Epoch 34/100\n",
            "2/2 [==============================] - 0s 15ms/step - loss: 7.9396 - mae: 7.9396\n",
            "Epoch 35/100\n",
            "2/2 [==============================] - 0s 14ms/step - loss: 9.0886 - mae: 9.0886\n",
            "Epoch 36/100\n",
            "2/2 [==============================] - 0s 25ms/step - loss: 10.0621 - mae: 10.0621\n",
            "Epoch 37/100\n",
            "2/2 [==============================] - 0s 10ms/step - loss: 9.3191 - mae: 9.3191\n",
            "Epoch 38/100\n",
            "2/2 [==============================] - 0s 9ms/step - loss: 13.7449 - mae: 13.7449\n",
            "Epoch 39/100\n",
            "2/2 [==============================] - 0s 11ms/step - loss: 9.9888 - mae: 9.9888\n",
            "Epoch 40/100\n",
            "2/2 [==============================] - 0s 13ms/step - loss: 7.8461 - mae: 7.8461\n",
            "Epoch 41/100\n",
            "2/2 [==============================] - 0s 14ms/step - loss: 8.6422 - mae: 8.6422\n",
            "Epoch 42/100\n",
            "2/2 [==============================] - 0s 10ms/step - loss: 10.3428 - mae: 10.3428\n",
            "Epoch 43/100\n",
            "2/2 [==============================] - 0s 14ms/step - loss: 9.8620 - mae: 9.8620\n",
            "Epoch 44/100\n",
            "2/2 [==============================] - 0s 11ms/step - loss: 9.0024 - mae: 9.0024\n",
            "Epoch 45/100\n",
            "2/2 [==============================] - 0s 10ms/step - loss: 9.1783 - mae: 9.1783\n",
            "Epoch 46/100\n",
            "2/2 [==============================] - 0s 4ms/step - loss: 17.9639 - mae: 17.9639\n",
            "Epoch 47/100\n",
            "2/2 [==============================] - 0s 9ms/step - loss: 7.9517 - mae: 7.9517\n",
            "Epoch 48/100\n",
            "2/2 [==============================] - 0s 14ms/step - loss: 14.6038 - mae: 14.6038\n",
            "Epoch 49/100\n",
            "2/2 [==============================] - 0s 9ms/step - loss: 9.6439 - mae: 9.6439\n",
            "Epoch 50/100\n",
            "2/2 [==============================] - 0s 4ms/step - loss: 8.0213 - mae: 8.0213\n",
            "Epoch 51/100\n",
            "2/2 [==============================] - 0s 10ms/step - loss: 8.3249 - mae: 8.3249\n",
            "Epoch 52/100\n",
            "2/2 [==============================] - 0s 8ms/step - loss: 12.4291 - mae: 12.4291\n",
            "Epoch 53/100\n",
            "2/2 [==============================] - 0s 6ms/step - loss: 11.5241 - mae: 11.5241\n",
            "Epoch 54/100\n",
            "2/2 [==============================] - 0s 6ms/step - loss: 11.2020 - mae: 11.2020\n",
            "Epoch 55/100\n",
            "2/2 [==============================] - 0s 5ms/step - loss: 16.6064 - mae: 16.6064\n",
            "Epoch 56/100\n",
            "2/2 [==============================] - 0s 12ms/step - loss: 17.9203 - mae: 17.9203\n",
            "Epoch 57/100\n",
            "2/2 [==============================] - 0s 9ms/step - loss: 14.5972 - mae: 14.5972\n",
            "Epoch 58/100\n",
            "2/2 [==============================] - 0s 9ms/step - loss: 11.5632 - mae: 11.5632\n",
            "Epoch 59/100\n",
            "2/2 [==============================] - 0s 10ms/step - loss: 9.0011 - mae: 9.0011\n",
            "Epoch 60/100\n",
            "2/2 [==============================] - 0s 6ms/step - loss: 14.8541 - mae: 14.8541\n",
            "Epoch 61/100\n",
            "2/2 [==============================] - 0s 4ms/step - loss: 8.2198 - mae: 8.2198\n",
            "Epoch 62/100\n",
            "2/2 [==============================] - 0s 6ms/step - loss: 12.2595 - mae: 12.2595\n",
            "Epoch 63/100\n",
            "2/2 [==============================] - 0s 21ms/step - loss: 8.9475 - mae: 8.9475\n",
            "Epoch 64/100\n",
            "2/2 [==============================] - 0s 5ms/step - loss: 14.5120 - mae: 14.5120\n",
            "Epoch 65/100\n",
            "2/2 [==============================] - 0s 13ms/step - loss: 9.6621 - mae: 9.6621\n",
            "Epoch 66/100\n",
            "2/2 [==============================] - 0s 5ms/step - loss: 15.8511 - mae: 15.8511\n",
            "Epoch 67/100\n",
            "2/2 [==============================] - 0s 8ms/step - loss: 16.1490 - mae: 16.1490\n",
            "Epoch 68/100\n",
            "2/2 [==============================] - 0s 14ms/step - loss: 9.5301 - mae: 9.5301\n",
            "Epoch 69/100\n",
            "2/2 [==============================] - 0s 5ms/step - loss: 9.3768 - mae: 9.3768\n",
            "Epoch 70/100\n",
            "2/2 [==============================] - 0s 5ms/step - loss: 6.9436 - mae: 6.9436\n",
            "Epoch 71/100\n",
            "2/2 [==============================] - 0s 6ms/step - loss: 10.3789 - mae: 10.3789\n",
            "Epoch 72/100\n",
            "2/2 [==============================] - 0s 6ms/step - loss: 14.3747 - mae: 14.3747\n",
            "Epoch 73/100\n",
            "2/2 [==============================] - 0s 6ms/step - loss: 8.5455 - mae: 8.5455\n",
            "Epoch 74/100\n",
            "2/2 [==============================] - 0s 27ms/step - loss: 13.9072 - mae: 13.9072\n",
            "Epoch 75/100\n",
            "2/2 [==============================] - 0s 5ms/step - loss: 20.1000 - mae: 20.1000\n",
            "Epoch 76/100\n",
            "2/2 [==============================] - 0s 7ms/step - loss: 9.5138 - mae: 9.5138\n",
            "Epoch 77/100\n",
            "2/2 [==============================] - 0s 5ms/step - loss: 11.1572 - mae: 11.1572\n",
            "Epoch 78/100\n",
            "2/2 [==============================] - 0s 6ms/step - loss: 10.6716 - mae: 10.6716\n",
            "Epoch 79/100\n",
            "2/2 [==============================] - 0s 6ms/step - loss: 10.6207 - mae: 10.6207\n",
            "Epoch 80/100\n",
            "2/2 [==============================] - 0s 10ms/step - loss: 14.1028 - mae: 14.1028\n",
            "Epoch 81/100\n",
            "2/2 [==============================] - 0s 5ms/step - loss: 8.2620 - mae: 8.2620\n",
            "Epoch 82/100\n",
            "2/2 [==============================] - 0s 6ms/step - loss: 8.9211 - mae: 8.9211\n",
            "Epoch 83/100\n",
            "2/2 [==============================] - 0s 8ms/step - loss: 11.1400 - mae: 11.1400\n",
            "Epoch 84/100\n",
            "2/2 [==============================] - 0s 15ms/step - loss: 7.7888 - mae: 7.7888\n",
            "Epoch 85/100\n",
            "2/2 [==============================] - 0s 7ms/step - loss: 10.7758 - mae: 10.7758\n",
            "Epoch 86/100\n",
            "2/2 [==============================] - 0s 8ms/step - loss: 10.8552 - mae: 10.8552\n",
            "Epoch 87/100\n",
            "2/2 [==============================] - 0s 7ms/step - loss: 7.7547 - mae: 7.7547\n",
            "Epoch 88/100\n",
            "2/2 [==============================] - 0s 6ms/step - loss: 12.1167 - mae: 12.1167\n",
            "Epoch 89/100\n",
            "2/2 [==============================] - 0s 5ms/step - loss: 8.9252 - mae: 8.9252\n",
            "Epoch 90/100\n",
            "2/2 [==============================] - 0s 10ms/step - loss: 10.6232 - mae: 10.6232\n",
            "Epoch 91/100\n",
            "2/2 [==============================] - 0s 5ms/step - loss: 12.3069 - mae: 12.3069\n",
            "Epoch 92/100\n",
            "2/2 [==============================] - 0s 7ms/step - loss: 8.3440 - mae: 8.3440\n",
            "Epoch 93/100\n",
            "2/2 [==============================] - 0s 5ms/step - loss: 8.1845 - mae: 8.1845\n",
            "Epoch 94/100\n",
            "2/2 [==============================] - 0s 7ms/step - loss: 13.8068 - mae: 13.8068\n",
            "Epoch 95/100\n",
            "2/2 [==============================] - 0s 4ms/step - loss: 7.5841 - mae: 7.5841\n",
            "Epoch 96/100\n",
            "2/2 [==============================] - 0s 7ms/step - loss: 9.5700 - mae: 9.5700\n",
            "Epoch 97/100\n",
            "2/2 [==============================] - 0s 9ms/step - loss: 9.1666 - mae: 9.1666\n",
            "Epoch 98/100\n",
            "2/2 [==============================] - 0s 6ms/step - loss: 13.1091 - mae: 13.1091\n",
            "Epoch 99/100\n",
            "2/2 [==============================] - 0s 6ms/step - loss: 14.9718 - mae: 14.9718\n",
            "Epoch 100/100\n",
            "2/2 [==============================] - 0s 6ms/step - loss: 12.7811 - mae: 12.7811\n"
          ]
        },
        {
          "output_type": "execute_result",
          "data": {
            "text/plain": [
              "<keras.callbacks.History at 0x7fa3aca8a690>"
            ]
          },
          "metadata": {},
          "execution_count": 47
        }
      ]
    },
    {
      "cell_type": "code",
      "source": [
        "## making predictions and plotting it\n",
        "y_pred_1 = model_1.predict(x_test)\n",
        "y_pred_1"
      ],
      "metadata": {
        "colab": {
          "base_uri": "https://localhost:8080/"
        },
        "id": "XCkd5LKrGQD2",
        "outputId": "3023fc32-6561-456a-c2c9-b0d8c346c09a"
      },
      "execution_count": 48,
      "outputs": [
        {
          "output_type": "execute_result",
          "data": {
            "text/plain": [
              "array([[ 64.92592 ],\n",
              "       [ 69.16973 ],\n",
              "       [ 73.41354 ],\n",
              "       [ 77.65736 ],\n",
              "       [ 81.90116 ],\n",
              "       [ 86.14497 ],\n",
              "       [ 90.38879 ],\n",
              "       [ 94.6326  ],\n",
              "       [ 98.87641 ],\n",
              "       [103.120224]], dtype=float32)"
            ]
          },
          "metadata": {},
          "execution_count": 48
        }
      ]
    },
    {
      "cell_type": "code",
      "source": [
        "plot_evaluation(prediction=y_pred_1)"
      ],
      "metadata": {
        "colab": {
          "base_uri": "https://localhost:8080/",
          "height": 428
        },
        "id": "2xoS8G4cGvE1",
        "outputId": "2ce65d7b-9a50-4304-d27c-0a13ccad8f76"
      },
      "execution_count": 49,
      "outputs": [
        {
          "output_type": "display_data",
          "data": {
            "text/plain": [
              "<Figure size 720x504 with 1 Axes>"
            ],
            "image/png": "[encoded data removed]"
          },
          "metadata": {
            "needs_background": "light"
          }
        }
      ]
    },
    {
      "cell_type": "code",
      "source": [
        "print(mae(true=y_test,pred=y_pred_1))\n",
        "print(mse(true=y_test,pred=y_pred_1))\n",
        "mae_1 = mae(true=y_test, pred=y_pred_1)\n",
        "mse_1 = mse(true=y_test, pred = y_pred_1)\n",
        "print(mae_1.numpy())\n",
        "print(mse_1.numpy())"
      ],
      "metadata": {
        "colab": {
          "base_uri": "https://localhost:8080/"
        },
        "id": "__bFWMTmG7sj",
        "outputId": "a259322d-3824-437c-c637-adbb7f4482cf"
      },
      "execution_count": 50,
      "outputs": [
        {
          "output_type": "stream",
          "name": "stdout",
          "text": [
            "tf.Tensor(3.9769294, shape=(), dtype=float32)\n",
            "tf.Tensor(16.306381, shape=(), dtype=float32)\n",
            "3.9769294\n",
            "16.306381\n"
          ]
        }
      ]
    },
    {
      "cell_type": "markdown",
      "source": [
        "**Build model 2**\n",
        "\n",
        "* 2 dense layers, trained for 100 epochs"
      ],
      "metadata": {
        "id": "PhEhAriyI53D"
      }
    },
    {
      "cell_type": "code",
      "source": [
        "tf.random.set_seed(43)\n",
        "## creating model\n",
        "\n",
        "model_2 = tf.keras.Sequential([\n",
        "    tf.keras.layers.Dense(10),\n",
        "    tf.keras.layers.Dense(1)\n",
        "])\n",
        "\n",
        "## compiling the model\n",
        "\n",
        "model_2.compile(loss = tf.keras.losses.mae,\n",
        "                optimizer = tf.keras.optimizers.SGD(),\n",
        "                metrics = ['mae'])\n",
        "\n",
        "## fitting the model\n",
        "model_2.fit(tf.expand_dims(x_test, axis=1),y_test,epochs=100)\n"
      ],
      "metadata": {
        "colab": {
          "base_uri": "https://localhost:8080/"
        },
        "id": "1pxgDGovIpnY",
        "outputId": "64e6c8cb-56e2-4566-bb71-d7a302c9a1a3"
      },
      "execution_count": 51,
      "outputs": [
        {
          "output_type": "stream",
          "name": "stdout",
          "text": [
            "Epoch 1/100\n",
            "1/1 [==============================] - 0s 332ms/step - loss: 120.2906 - mae: 120.2906\n",
            "Epoch 2/100\n",
            "1/1 [==============================] - 0s 6ms/step - loss: 12.9321 - mae: 12.9321\n",
            "Epoch 3/100\n",
            "1/1 [==============================] - 0s 16ms/step - loss: 92.9492 - mae: 92.9492\n",
            "Epoch 4/100\n",
            "1/1 [==============================] - 0s 8ms/step - loss: 72.5214 - mae: 72.5214\n",
            "Epoch 5/100\n",
            "1/1 [==============================] - 0s 10ms/step - loss: 37.4591 - mae: 37.4591\n",
            "Epoch 6/100\n",
            "1/1 [==============================] - 0s 10ms/step - loss: 72.1850 - mae: 72.1850\n",
            "Epoch 7/100\n",
            "1/1 [==============================] - 0s 9ms/step - loss: 80.2365 - mae: 80.2365\n",
            "Epoch 8/100\n",
            "1/1 [==============================] - 0s 12ms/step - loss: 63.4227 - mae: 63.4227\n",
            "Epoch 9/100\n",
            "1/1 [==============================] - 0s 11ms/step - loss: 10.1782 - mae: 10.1782\n",
            "Epoch 10/100\n",
            "1/1 [==============================] - 0s 11ms/step - loss: 158.5118 - mae: 158.5118\n",
            "Epoch 11/100\n",
            "1/1 [==============================] - 0s 8ms/step - loss: 76.0382 - mae: 76.0382\n",
            "Epoch 12/100\n",
            "1/1 [==============================] - 0s 9ms/step - loss: 50.1742 - mae: 50.1742\n",
            "Epoch 13/100\n",
            "1/1 [==============================] - 0s 23ms/step - loss: 31.7573 - mae: 31.7573\n",
            "Epoch 14/100\n",
            "1/1 [==============================] - 0s 10ms/step - loss: 82.1600 - mae: 82.1600\n",
            "Epoch 15/100\n",
            "1/1 [==============================] - 0s 7ms/step - loss: 69.5937 - mae: 69.5937\n",
            "Epoch 16/100\n",
            "1/1 [==============================] - 0s 6ms/step - loss: 29.7975 - mae: 29.7975\n",
            "Epoch 17/100\n",
            "1/1 [==============================] - 0s 7ms/step - loss: 96.2804 - mae: 96.2804\n",
            "Epoch 18/100\n",
            "1/1 [==============================] - 0s 6ms/step - loss: 79.0199 - mae: 79.0199\n",
            "Epoch 19/100\n",
            "1/1 [==============================] - 0s 7ms/step - loss: 59.6872 - mae: 59.6872\n",
            "Epoch 20/100\n",
            "1/1 [==============================] - 0s 27ms/step - loss: 1.8689 - mae: 1.8689\n",
            "Epoch 21/100\n",
            "1/1 [==============================] - 0s 9ms/step - loss: 68.3252 - mae: 68.3252\n",
            "Epoch 22/100\n",
            "1/1 [==============================] - 0s 9ms/step - loss: 25.8300 - mae: 25.8300\n",
            "Epoch 23/100\n",
            "1/1 [==============================] - 0s 8ms/step - loss: 108.7999 - mae: 108.7999\n",
            "Epoch 24/100\n",
            "1/1 [==============================] - 0s 8ms/step - loss: 78.3915 - mae: 78.3915\n",
            "Epoch 25/100\n",
            "1/1 [==============================] - 0s 7ms/step - loss: 57.7480 - mae: 57.7480\n",
            "Epoch 26/100\n",
            "1/1 [==============================] - 0s 9ms/step - loss: 7.6418 - mae: 7.6418\n",
            "Epoch 27/100\n",
            "1/1 [==============================] - 0s 8ms/step - loss: 83.2751 - mae: 83.2751\n",
            "Epoch 28/100\n",
            "1/1 [==============================] - 0s 13ms/step - loss: 73.2442 - mae: 73.2442\n",
            "Epoch 29/100\n",
            "1/1 [==============================] - 0s 10ms/step - loss: 41.4817 - mae: 41.4817\n",
            "Epoch 30/100\n",
            "1/1 [==============================] - 0s 7ms/step - loss: 59.1404 - mae: 59.1404\n",
            "Epoch 31/100\n",
            "1/1 [==============================] - 0s 7ms/step - loss: 80.7650 - mae: 80.7650\n",
            "Epoch 32/100\n",
            "1/1 [==============================] - 0s 8ms/step - loss: 65.3340 - mae: 65.3340\n",
            "Epoch 33/100\n",
            "1/1 [==============================] - 0s 7ms/step - loss: 16.4605 - mae: 16.4605\n",
            "Epoch 34/100\n",
            "1/1 [==============================] - 0s 7ms/step - loss: 138.3799 - mae: 138.3799\n",
            "Epoch 35/100\n",
            "1/1 [==============================] - 0s 7ms/step - loss: 76.9130 - mae: 76.9130\n",
            "Epoch 36/100\n",
            "1/1 [==============================] - 0s 7ms/step - loss: 53.1719 - mae: 53.1719\n",
            "Epoch 37/100\n",
            "1/1 [==============================] - 0s 7ms/step - loss: 22.0335 - mae: 22.0335\n",
            "Epoch 38/100\n",
            "1/1 [==============================] - 0s 7ms/step - loss: 82.5314 - mae: 82.5314\n",
            "Epoch 39/100\n",
            "1/1 [==============================] - 0s 8ms/step - loss: 70.9961 - mae: 70.9961\n",
            "Epoch 40/100\n",
            "1/1 [==============================] - 0s 8ms/step - loss: 34.4665 - mae: 34.4665\n",
            "Epoch 41/100\n",
            "1/1 [==============================] - 0s 8ms/step - loss: 81.2605 - mae: 81.2605\n",
            "Epoch 42/100\n",
            "1/1 [==============================] - 0s 7ms/step - loss: 79.6475 - mae: 79.6475\n",
            "Epoch 43/100\n",
            "1/1 [==============================] - 0s 7ms/step - loss: 61.9013 - mae: 61.9013\n",
            "Epoch 44/100\n",
            "1/1 [==============================] - 0s 7ms/step - loss: 5.6918 - mae: 5.6918\n",
            "Epoch 45/100\n",
            "1/1 [==============================] - 0s 10ms/step - loss: 172.3933 - mae: 172.3933\n",
            "Epoch 46/100\n",
            "1/1 [==============================] - 0s 11ms/step - loss: 75.2202 - mae: 75.2202\n",
            "Epoch 47/100\n",
            "1/1 [==============================] - 0s 17ms/step - loss: 47.9162 - mae: 47.9162\n",
            "Epoch 48/100\n",
            "1/1 [==============================] - 0s 7ms/step - loss: 38.5782 - mae: 38.5782\n",
            "Epoch 49/100\n",
            "1/1 [==============================] - 0s 7ms/step - loss: 81.6835 - mae: 81.6835\n",
            "Epoch 50/100\n",
            "1/1 [==============================] - 0s 7ms/step - loss: 68.4179 - mae: 68.4179\n",
            "Epoch 51/100\n",
            "1/1 [==============================] - 0s 7ms/step - loss: 26.4056 - mae: 26.4056\n",
            "Epoch 52/100\n",
            "1/1 [==============================] - 0s 8ms/step - loss: 106.6940 - mae: 106.6940\n",
            "Epoch 53/100\n",
            "1/1 [==============================] - 0s 7ms/step - loss: 78.3696 - mae: 78.3696\n",
            "Epoch 54/100\n",
            "1/1 [==============================] - 0s 8ms/step - loss: 57.9607 - mae: 57.9607\n",
            "Epoch 55/100\n",
            "1/1 [==============================] - 0s 9ms/step - loss: 6.6860 - mae: 6.6860\n",
            "Epoch 56/100\n",
            "1/1 [==============================] - 0s 7ms/step - loss: 83.1977 - mae: 83.1977\n",
            "Epoch 57/100\n",
            "1/1 [==============================] - 0s 9ms/step - loss: 73.2807 - mae: 73.2807\n",
            "Epoch 58/100\n",
            "1/1 [==============================] - 0s 8ms/step - loss: 41.8791 - mae: 41.8791\n",
            "Epoch 59/100\n",
            "1/1 [==============================] - 0s 7ms/step - loss: 57.5993 - mae: 57.5993\n",
            "Epoch 60/100\n",
            "1/1 [==============================] - 0s 7ms/step - loss: 80.7159 - mae: 80.7159\n",
            "Epoch 61/100\n",
            "1/1 [==============================] - 0s 7ms/step - loss: 65.4601 - mae: 65.4601\n",
            "Epoch 62/100\n",
            "1/1 [==============================] - 0s 7ms/step - loss: 17.1421 - mae: 17.1421\n",
            "Epoch 63/100\n",
            "1/1 [==============================] - 0s 11ms/step - loss: 135.9383 - mae: 135.9383\n",
            "Epoch 64/100\n",
            "1/1 [==============================] - 0s 7ms/step - loss: 76.9074 - mae: 76.9074\n",
            "Epoch 65/100\n",
            "1/1 [==============================] - 0s 7ms/step - loss: 53.4360 - mae: 53.4360\n",
            "Epoch 66/100\n",
            "1/1 [==============================] - 0s 7ms/step - loss: 20.9146 - mae: 20.9146\n",
            "Epoch 67/100\n",
            "1/1 [==============================] - 0s 7ms/step - loss: 82.4618 - mae: 82.4618\n",
            "Epoch 68/100\n",
            "1/1 [==============================] - 0s 7ms/step - loss: 71.0575 - mae: 71.0575\n",
            "Epoch 69/100\n",
            "1/1 [==============================] - 0s 10ms/step - loss: 34.9430 - mae: 34.9430\n",
            "Epoch 70/100\n",
            "1/1 [==============================] - 0s 8ms/step - loss: 79.4686 - mae: 79.4686\n",
            "Epoch 71/100\n",
            "1/1 [==============================] - 0s 7ms/step - loss: 79.6104 - mae: 79.6104\n",
            "Epoch 72/100\n",
            "1/1 [==============================] - 0s 9ms/step - loss: 62.0658 - mae: 62.0658\n",
            "Epoch 73/100\n",
            "1/1 [==============================] - 0s 7ms/step - loss: 6.4952 - mae: 6.4952\n",
            "Epoch 74/100\n",
            "1/1 [==============================] - 0s 7ms/step - loss: 169.5657 - mae: 169.5657\n",
            "Epoch 75/100\n",
            "1/1 [==============================] - 0s 7ms/step - loss: 75.2332 - mae: 75.2332\n",
            "Epoch 76/100\n",
            "1/1 [==============================] - 0s 7ms/step - loss: 48.2395 - mae: 48.2395\n",
            "Epoch 77/100\n",
            "1/1 [==============================] - 0s 8ms/step - loss: 37.2718 - mae: 37.2718\n",
            "Epoch 78/100\n",
            "1/1 [==============================] - 0s 7ms/step - loss: 81.6230 - mae: 81.6230\n",
            "Epoch 79/100\n",
            "1/1 [==============================] - 0s 7ms/step - loss: 68.5080 - mae: 68.5080\n",
            "Epoch 80/100\n",
            "1/1 [==============================] - 0s 7ms/step - loss: 26.9732 - mae: 26.9732\n",
            "Epoch 81/100\n",
            "1/1 [==============================] - 0s 7ms/step - loss: 104.6136 - mae: 104.6136\n",
            "Epoch 82/100\n",
            "1/1 [==============================] - 0s 7ms/step - loss: 78.3465 - mae: 78.3465\n",
            "Epoch 83/100\n",
            "1/1 [==============================] - 0s 7ms/step - loss: 58.1695 - mae: 58.1695\n",
            "Epoch 84/100\n",
            "1/1 [==============================] - 0s 7ms/step - loss: 5.7425 - mae: 5.7425\n",
            "Epoch 85/100\n",
            "1/1 [==============================] - 0s 7ms/step - loss: 83.1196 - mae: 83.1196\n",
            "Epoch 86/100\n",
            "1/1 [==============================] - 0s 7ms/step - loss: 73.3152 - mae: 73.3152\n",
            "Epoch 87/100\n",
            "1/1 [==============================] - 0s 8ms/step - loss: 42.2704 - mae: 42.2704\n",
            "Epoch 88/100\n",
            "1/1 [==============================] - 0s 7ms/step - loss: 56.0774 - mae: 56.0774\n",
            "Epoch 89/100\n",
            "1/1 [==============================] - 0s 7ms/step - loss: 80.6658 - mae: 80.6658\n",
            "Epoch 90/100\n",
            "1/1 [==============================] - 0s 7ms/step - loss: 65.5833 - mae: 65.5833\n",
            "Epoch 91/100\n",
            "1/1 [==============================] - 0s 7ms/step - loss: 17.8143 - mae: 17.8143\n",
            "Epoch 92/100\n",
            "1/1 [==============================] - 0s 7ms/step - loss: 133.5261 - mae: 133.5261\n",
            "Epoch 93/100\n",
            "1/1 [==============================] - 0s 7ms/step - loss: 76.9004 - mae: 76.9004\n",
            "Epoch 94/100\n",
            "1/1 [==============================] - 0s 6ms/step - loss: 53.6956 - mae: 53.6956\n",
            "Epoch 95/100\n",
            "1/1 [==============================] - 0s 7ms/step - loss: 19.8099 - mae: 19.8099\n",
            "Epoch 96/100\n",
            "1/1 [==============================] - 0s 7ms/step - loss: 82.3916 - mae: 82.3916\n",
            "Epoch 97/100\n",
            "1/1 [==============================] - 0s 7ms/step - loss: 71.1167 - mae: 71.1167\n",
            "Epoch 98/100\n",
            "1/1 [==============================] - 0s 7ms/step - loss: 35.4127 - mae: 35.4127\n",
            "Epoch 99/100\n",
            "1/1 [==============================] - 0s 9ms/step - loss: 77.6985 - mae: 77.6985\n",
            "Epoch 100/100\n",
            "1/1 [==============================] - 0s 10ms/step - loss: 79.5723 - mae: 79.5723\n"
          ]
        },
        {
          "output_type": "execute_result",
          "data": {
            "text/plain": [
              "<keras.callbacks.History at 0x7fa3aca36b90>"
            ]
          },
          "metadata": {},
          "execution_count": 51
        }
      ]
    },
    {
      "cell_type": "code",
      "source": [
        "## making predictions and plotting\n",
        "y_pred_2 = model_2.predict(x_test)\n",
        "plot_evaluation(prediction=y_pred_2)"
      ],
      "metadata": {
        "colab": {
          "base_uri": "https://localhost:8080/",
          "height": 428
        },
        "id": "XTQhlSY0LryZ",
        "outputId": "2cfe2858-16d5-46fa-8370-2fe49345bfd0"
      },
      "execution_count": 52,
      "outputs": [
        {
          "output_type": "display_data",
          "data": {
            "text/plain": [
              "<Figure size 720x504 with 1 Axes>"
            ],
            "image/png": "[encoded data removed]"
          },
          "metadata": {
            "needs_background": "light"
          }
        }
      ]
    },
    {
      "cell_type": "code",
      "source": [
        "## Let's calculate evaluation\n",
        "mae_2 = mae(true=y_test, pred=y_pred_2)\n",
        "mse_2 = mse(true=y_test, pred=y_pred_2)\n",
        "print(mae_2,mse_2)"
      ],
      "metadata": {
        "colab": {
          "base_uri": "https://localhost:8080/"
        },
        "id": "tKgVvi6RL3bO",
        "outputId": "8e1894b5-3e22-4b82-e3e2-1ffc0417e79e"
      },
      "execution_count": 53,
      "outputs": [
        {
          "output_type": "stream",
          "name": "stdout",
          "text": [
            "tf.Tensor(62.22707, shape=(), dtype=float32) tf.Tensor(3932.4048, shape=(), dtype=float32)\n"
          ]
        }
      ]
    },
    {
      "cell_type": "markdown",
      "source": [
        "**Build model 2**\n",
        "\n",
        "* Model 3 with same layers but with 500 epochs"
      ],
      "metadata": {
        "id": "rQ8wSxTdNBOq"
      }
    },
    {
      "cell_type": "code",
      "source": [
        "tf.random.set_seed(43)\n",
        "# creating model 3\n",
        "\n",
        "model_3 = tf.keras.Sequential([\n",
        "    tf.keras.layers.Dense(10),\n",
        "    tf.keras.layers.Dense(1)\n",
        "])\n",
        "\n",
        "## compiling\n",
        "model_3.compile(loss = tf.keras.losses.mae,\n",
        "                optimizer = tf.keras.optimizers.SGD(),\n",
        "                metrics = ['mae'])\n",
        "\n",
        "## fitting the model\n",
        "\n",
        "model_3.fit(tf.expand_dims(x_test,axis=1),y_test, epochs=500)\n"
      ],
      "metadata": {
        "colab": {
          "base_uri": "https://localhost:8080/"
        },
        "id": "freWlmpZM7DR",
        "outputId": "5f78547a-d2ad-43a2-bbe1-f9bd0f689dc4"
      },
      "execution_count": 54,
      "outputs": [
        {
          "output_type": "stream",
          "name": "stdout",
          "text": [
            "Epoch 1/500\n",
            "1/1 [==============================] - 0s 327ms/step - loss: 120.2906 - mae: 120.2906\n",
            "Epoch 2/500\n",
            "1/1 [==============================] - 0s 15ms/step - loss: 12.9321 - mae: 12.9321\n",
            "Epoch 3/500\n",
            "1/1 [==============================] - 0s 9ms/step - loss: 92.9492 - mae: 92.9492\n",
            "Epoch 4/500\n",
            "1/1 [==============================] - 0s 9ms/step - loss: 72.5214 - mae: 72.5214\n",
            "Epoch 5/500\n",
            "1/1 [==============================] - 0s 9ms/step - loss: 37.4591 - mae: 37.4591\n",
            "Epoch 6/500\n",
            "1/1 [==============================] - 0s 10ms/step - loss: 72.1850 - mae: 72.1850\n",
            "Epoch 7/500\n",
            "1/1 [==============================] - 0s 9ms/step - loss: 80.2365 - mae: 80.2365\n",
            "Epoch 8/500\n",
            "1/1 [==============================] - 0s 11ms/step - loss: 63.4227 - mae: 63.4227\n",
            "Epoch 9/500\n",
            "1/1 [==============================] - 0s 16ms/step - loss: 10.1782 - mae: 10.1782\n",
            "Epoch 10/500\n",
            "1/1 [==============================] - 0s 12ms/step - loss: 158.5118 - mae: 158.5118\n",
            "Epoch 11/500\n",
            "1/1 [==============================] - 0s 9ms/step - loss: 76.0382 - mae: 76.0382\n",
            "Epoch 12/500\n",
            "1/1 [==============================] - 0s 10ms/step - loss: 50.1742 - mae: 50.1742\n",
            "Epoch 13/500\n",
            "1/1 [==============================] - 0s 9ms/step - loss: 31.7573 - mae: 31.7573\n",
            "Epoch 14/500\n",
            "1/1 [==============================] - 0s 12ms/step - loss: 82.1600 - mae: 82.1600\n",
            "Epoch 15/500\n",
            "1/1 [==============================] - 0s 6ms/step - loss: 69.5937 - mae: 69.5937\n",
            "Epoch 16/500\n",
            "1/1 [==============================] - 0s 6ms/step - loss: 29.7975 - mae: 29.7975\n",
            "Epoch 17/500\n",
            "1/1 [==============================] - 0s 6ms/step - loss: 96.2804 - mae: 96.2804\n",
            "Epoch 18/500\n",
            "1/1 [==============================] - 0s 6ms/step - loss: 79.0199 - mae: 79.0199\n",
            "Epoch 19/500\n",
            "1/1 [==============================] - 0s 6ms/step - loss: 59.6872 - mae: 59.6872\n",
            "Epoch 20/500\n",
            "1/1 [==============================] - 0s 6ms/step - loss: 1.8689 - mae: 1.8689\n",
            "Epoch 21/500\n",
            "1/1 [==============================] - 0s 6ms/step - loss: 68.3252 - mae: 68.3252\n",
            "Epoch 22/500\n",
            "1/1 [==============================] - 0s 7ms/step - loss: 25.8300 - mae: 25.8300\n",
            "Epoch 23/500\n",
            "1/1 [==============================] - 0s 6ms/step - loss: 108.7999 - mae: 108.7999\n",
            "Epoch 24/500\n",
            "1/1 [==============================] - 0s 6ms/step - loss: 78.3915 - mae: 78.3915\n",
            "Epoch 25/500\n",
            "1/1 [==============================] - 0s 7ms/step - loss: 57.7480 - mae: 57.7480\n",
            "Epoch 26/500\n",
            "1/1 [==============================] - 0s 6ms/step - loss: 7.6418 - mae: 7.6418\n",
            "Epoch 27/500\n",
            "1/1 [==============================] - 0s 6ms/step - loss: 83.2751 - mae: 83.2751\n",
            "Epoch 28/500\n",
            "1/1 [==============================] - 0s 6ms/step - loss: 73.2442 - mae: 73.2442\n",
            "Epoch 29/500\n",
            "1/1 [==============================] - 0s 8ms/step - loss: 41.4817 - mae: 41.4817\n",
            "Epoch 30/500\n",
            "1/1 [==============================] - 0s 9ms/step - loss: 59.1404 - mae: 59.1404\n",
            "Epoch 31/500\n",
            "1/1 [==============================] - 0s 8ms/step - loss: 80.7650 - mae: 80.7650\n",
            "Epoch 32/500\n",
            "1/1 [==============================] - 0s 7ms/step - loss: 65.3340 - mae: 65.3340\n",
            "Epoch 33/500\n",
            "1/1 [==============================] - 0s 6ms/step - loss: 16.4605 - mae: 16.4605\n",
            "Epoch 34/500\n",
            "1/1 [==============================] - 0s 9ms/step - loss: 138.3799 - mae: 138.3799\n",
            "Epoch 35/500\n",
            "1/1 [==============================] - 0s 11ms/step - loss: 76.9130 - mae: 76.9130\n",
            "Epoch 36/500\n",
            "1/1 [==============================] - 0s 13ms/step - loss: 53.1719 - mae: 53.1719\n",
            "Epoch 37/500\n",
            "1/1 [==============================] - 0s 11ms/step - loss: 22.0335 - mae: 22.0335\n",
            "Epoch 38/500\n",
            "1/1 [==============================] - 0s 9ms/step - loss: 82.5314 - mae: 82.5314\n",
            "Epoch 39/500\n",
            "1/1 [==============================] - 0s 9ms/step - loss: 70.9961 - mae: 70.9961\n",
            "Epoch 40/500\n",
            "1/1 [==============================] - 0s 9ms/step - loss: 34.4665 - mae: 34.4665\n",
            "Epoch 41/500\n",
            "1/1 [==============================] - 0s 9ms/step - loss: 81.2605 - mae: 81.2605\n",
            "Epoch 42/500\n",
            "1/1 [==============================] - 0s 8ms/step - loss: 79.6475 - mae: 79.6475\n",
            "Epoch 43/500\n",
            "1/1 [==============================] - 0s 10ms/step - loss: 61.9013 - mae: 61.9013\n",
            "Epoch 44/500\n",
            "1/1 [==============================] - 0s 15ms/step - loss: 5.6918 - mae: 5.6918\n",
            "Epoch 45/500\n",
            "1/1 [==============================] - 0s 11ms/step - loss: 172.3933 - mae: 172.3933\n",
            "Epoch 46/500\n",
            "1/1 [==============================] - 0s 19ms/step - loss: 75.2202 - mae: 75.2202\n",
            "Epoch 47/500\n",
            "1/1 [==============================] - 0s 13ms/step - loss: 47.9162 - mae: 47.9162\n",
            "Epoch 48/500\n",
            "1/1 [==============================] - 0s 11ms/step - loss: 38.5782 - mae: 38.5782\n",
            "Epoch 49/500\n",
            "1/1 [==============================] - 0s 10ms/step - loss: 81.6835 - mae: 81.6835\n",
            "Epoch 50/500\n",
            "1/1 [==============================] - 0s 9ms/step - loss: 68.4179 - mae: 68.4179\n",
            "Epoch 51/500\n",
            "1/1 [==============================] - 0s 9ms/step - loss: 26.4056 - mae: 26.4056\n",
            "Epoch 52/500\n",
            "1/1 [==============================] - 0s 12ms/step - loss: 106.6940 - mae: 106.6940\n",
            "Epoch 53/500\n",
            "1/1 [==============================] - 0s 7ms/step - loss: 78.3696 - mae: 78.3696\n",
            "Epoch 54/500\n",
            "1/1 [==============================] - 0s 7ms/step - loss: 57.9607 - mae: 57.9607\n",
            "Epoch 55/500\n",
            "1/1 [==============================] - 0s 7ms/step - loss: 6.6860 - mae: 6.6860\n",
            "Epoch 56/500\n",
            "1/1 [==============================] - 0s 9ms/step - loss: 83.1977 - mae: 83.1977\n",
            "Epoch 57/500\n",
            "1/1 [==============================] - 0s 9ms/step - loss: 73.2807 - mae: 73.2807\n",
            "Epoch 58/500\n",
            "1/1 [==============================] - 0s 26ms/step - loss: 41.8791 - mae: 41.8791\n",
            "Epoch 59/500\n",
            "1/1 [==============================] - 0s 10ms/step - loss: 57.5993 - mae: 57.5993\n",
            "Epoch 60/500\n",
            "1/1 [==============================] - 0s 22ms/step - loss: 80.7159 - mae: 80.7159\n",
            "Epoch 61/500\n",
            "1/1 [==============================] - 0s 10ms/step - loss: 65.4601 - mae: 65.4601\n",
            "Epoch 62/500\n",
            "1/1 [==============================] - 0s 6ms/step - loss: 17.1421 - mae: 17.1421\n",
            "Epoch 63/500\n",
            "1/1 [==============================] - 0s 6ms/step - loss: 135.9383 - mae: 135.9383\n",
            "Epoch 64/500\n",
            "1/1 [==============================] - 0s 6ms/step - loss: 76.9074 - mae: 76.9074\n",
            "Epoch 65/500\n",
            "1/1 [==============================] - 0s 7ms/step - loss: 53.4360 - mae: 53.4360\n",
            "Epoch 66/500\n",
            "1/1 [==============================] - 0s 6ms/step - loss: 20.9146 - mae: 20.9146\n",
            "Epoch 67/500\n",
            "1/1 [==============================] - 0s 6ms/step - loss: 82.4618 - mae: 82.4618\n",
            "Epoch 68/500\n",
            "1/1 [==============================] - 0s 8ms/step - loss: 71.0575 - mae: 71.0575\n",
            "Epoch 69/500\n",
            "1/1 [==============================] - 0s 8ms/step - loss: 34.9430 - mae: 34.9430\n",
            "Epoch 70/500\n",
            "1/1 [==============================] - 0s 8ms/step - loss: 79.4686 - mae: 79.4686\n",
            "Epoch 71/500\n",
            "1/1 [==============================] - 0s 13ms/step - loss: 79.6104 - mae: 79.6104\n",
            "Epoch 72/500\n",
            "1/1 [==============================] - 0s 7ms/step - loss: 62.0658 - mae: 62.0658\n",
            "Epoch 73/500\n",
            "1/1 [==============================] - 0s 7ms/step - loss: 6.4952 - mae: 6.4952\n",
            "Epoch 74/500\n",
            "1/1 [==============================] - 0s 7ms/step - loss: 169.5657 - mae: 169.5657\n",
            "Epoch 75/500\n",
            "1/1 [==============================] - 0s 7ms/step - loss: 75.2332 - mae: 75.2332\n",
            "Epoch 76/500\n",
            "1/1 [==============================] - 0s 7ms/step - loss: 48.2395 - mae: 48.2395\n",
            "Epoch 77/500\n",
            "1/1 [==============================] - 0s 15ms/step - loss: 37.2718 - mae: 37.2718\n",
            "Epoch 78/500\n",
            "1/1 [==============================] - 0s 10ms/step - loss: 81.6230 - mae: 81.6230\n",
            "Epoch 79/500\n",
            "1/1 [==============================] - 0s 13ms/step - loss: 68.5080 - mae: 68.5080\n",
            "Epoch 80/500\n",
            "1/1 [==============================] - 0s 7ms/step - loss: 26.9732 - mae: 26.9732\n",
            "Epoch 81/500\n",
            "1/1 [==============================] - 0s 7ms/step - loss: 104.6136 - mae: 104.6136\n",
            "Epoch 82/500\n",
            "1/1 [==============================] - 0s 7ms/step - loss: 78.3465 - mae: 78.3465\n",
            "Epoch 83/500\n",
            "1/1 [==============================] - 0s 7ms/step - loss: 58.1695 - mae: 58.1695\n",
            "Epoch 84/500\n",
            "1/1 [==============================] - 0s 17ms/step - loss: 5.7425 - mae: 5.7425\n",
            "Epoch 85/500\n",
            "1/1 [==============================] - 0s 7ms/step - loss: 83.1196 - mae: 83.1196\n",
            "Epoch 86/500\n",
            "1/1 [==============================] - 0s 9ms/step - loss: 73.3152 - mae: 73.3152\n",
            "Epoch 87/500\n",
            "1/1 [==============================] - 0s 11ms/step - loss: 42.2704 - mae: 42.2704\n",
            "Epoch 88/500\n",
            "1/1 [==============================] - 0s 14ms/step - loss: 56.0774 - mae: 56.0774\n",
            "Epoch 89/500\n",
            "1/1 [==============================] - 0s 14ms/step - loss: 80.6658 - mae: 80.6658\n",
            "Epoch 90/500\n",
            "1/1 [==============================] - 0s 10ms/step - loss: 65.5833 - mae: 65.5833\n",
            "Epoch 91/500\n",
            "1/1 [==============================] - 0s 7ms/step - loss: 17.8143 - mae: 17.8143\n",
            "Epoch 92/500\n",
            "1/1 [==============================] - 0s 6ms/step - loss: 133.5261 - mae: 133.5261\n",
            "Epoch 93/500\n",
            "1/1 [==============================] - 0s 6ms/step - loss: 76.9004 - mae: 76.9004\n",
            "Epoch 94/500\n",
            "1/1 [==============================] - 0s 6ms/step - loss: 53.6956 - mae: 53.6956\n",
            "Epoch 95/500\n",
            "1/1 [==============================] - 0s 7ms/step - loss: 19.8099 - mae: 19.8099\n",
            "Epoch 96/500\n",
            "1/1 [==============================] - 0s 7ms/step - loss: 82.3916 - mae: 82.3916\n",
            "Epoch 97/500\n",
            "1/1 [==============================] - 0s 7ms/step - loss: 71.1167 - mae: 71.1167\n",
            "Epoch 98/500\n",
            "1/1 [==============================] - 0s 7ms/step - loss: 35.4127 - mae: 35.4127\n",
            "Epoch 99/500\n",
            "1/1 [==============================] - 0s 7ms/step - loss: 77.6985 - mae: 77.6985\n",
            "Epoch 100/500\n",
            "1/1 [==============================] - 0s 6ms/step - loss: 79.5723 - mae: 79.5723\n",
            "Epoch 101/500\n",
            "1/1 [==============================] - 0s 6ms/step - loss: 62.2271 - mae: 62.2271\n",
            "Epoch 102/500\n",
            "1/1 [==============================] - 0s 7ms/step - loss: 7.2880 - mae: 7.2880\n",
            "Epoch 103/500\n",
            "1/1 [==============================] - 0s 7ms/step - loss: 166.7716 - mae: 166.7716\n",
            "Epoch 104/500\n",
            "1/1 [==============================] - 0s 8ms/step - loss: 75.2447 - mae: 75.2447\n",
            "Epoch 105/500\n",
            "1/1 [==============================] - 0s 7ms/step - loss: 48.5577 - mae: 48.5577\n",
            "Epoch 106/500\n",
            "1/1 [==============================] - 0s 7ms/step - loss: 35.9818 - mae: 35.9818\n",
            "Epoch 107/500\n",
            "1/1 [==============================] - 0s 6ms/step - loss: 81.5617 - mae: 81.5617\n",
            "Epoch 108/500\n",
            "1/1 [==============================] - 0s 9ms/step - loss: 68.5957 - mae: 68.5957\n",
            "Epoch 109/500\n",
            "1/1 [==============================] - 0s 7ms/step - loss: 27.5329 - mae: 27.5329\n",
            "Epoch 110/500\n",
            "1/1 [==============================] - 0s 6ms/step - loss: 102.5582 - mae: 102.5582\n",
            "Epoch 111/500\n",
            "1/1 [==============================] - 0s 7ms/step - loss: 78.3223 - mae: 78.3223\n",
            "Epoch 112/500\n",
            "1/1 [==============================] - 0s 6ms/step - loss: 58.3744 - mae: 58.3744\n",
            "Epoch 113/500\n",
            "1/1 [==============================] - 0s 7ms/step - loss: 4.8111 - mae: 4.8111\n",
            "Epoch 114/500\n",
            "1/1 [==============================] - 0s 7ms/step - loss: 83.0409 - mae: 83.0409\n",
            "Epoch 115/500\n",
            "1/1 [==============================] - 0s 7ms/step - loss: 73.3479 - mae: 73.3479\n",
            "Epoch 116/500\n",
            "1/1 [==============================] - 0s 6ms/step - loss: 42.6559 - mae: 42.6559\n",
            "Epoch 117/500\n",
            "1/1 [==============================] - 0s 6ms/step - loss: 54.5740 - mae: 54.5740\n",
            "Epoch 118/500\n",
            "1/1 [==============================] - 0s 6ms/step - loss: 80.6148 - mae: 80.6148\n",
            "Epoch 119/500\n",
            "1/1 [==============================] - 0s 6ms/step - loss: 65.7037 - mae: 65.7037\n",
            "Epoch 120/500\n",
            "1/1 [==============================] - 0s 12ms/step - loss: 18.4776 - mae: 18.4776\n",
            "Epoch 121/500\n",
            "1/1 [==============================] - 0s 7ms/step - loss: 131.1426 - mae: 131.1426\n",
            "Epoch 122/500\n",
            "1/1 [==============================] - 0s 7ms/step - loss: 76.8920 - mae: 76.8920\n",
            "Epoch 123/500\n",
            "1/1 [==============================] - 0s 7ms/step - loss: 53.9509 - mae: 53.9509\n",
            "Epoch 124/500\n",
            "1/1 [==============================] - 0s 7ms/step - loss: 18.7192 - mae: 18.7192\n",
            "Epoch 125/500\n",
            "1/1 [==============================] - 0s 6ms/step - loss: 82.3206 - mae: 82.3206\n",
            "Epoch 126/500\n",
            "1/1 [==============================] - 0s 7ms/step - loss: 71.1738 - mae: 71.1738\n",
            "Epoch 127/500\n",
            "1/1 [==============================] - 0s 7ms/step - loss: 35.8755 - mae: 35.8755\n",
            "Epoch 128/500\n",
            "1/1 [==============================] - 0s 8ms/step - loss: 75.9500 - mae: 75.9500\n",
            "Epoch 129/500\n",
            "1/1 [==============================] - 0s 7ms/step - loss: 79.5332 - mae: 79.5332\n",
            "Epoch 130/500\n",
            "1/1 [==============================] - 0s 7ms/step - loss: 62.3850 - mae: 62.3850\n",
            "Epoch 131/500\n",
            "1/1 [==============================] - 0s 7ms/step - loss: 8.0704 - mae: 8.0704\n",
            "Epoch 132/500\n",
            "1/1 [==============================] - 0s 8ms/step - loss: 164.0108 - mae: 164.0108\n",
            "Epoch 133/500\n",
            "1/1 [==============================] - 0s 7ms/step - loss: 75.2545 - mae: 75.2545\n",
            "Epoch 134/500\n",
            "1/1 [==============================] - 0s 7ms/step - loss: 48.8708 - mae: 48.8708\n",
            "Epoch 135/500\n",
            "1/1 [==============================] - 0s 10ms/step - loss: 34.7078 - mae: 34.7078\n",
            "Epoch 136/500\n",
            "1/1 [==============================] - 0s 7ms/step - loss: 81.4996 - mae: 81.4996\n",
            "Epoch 137/500\n",
            "1/1 [==============================] - 0s 7ms/step - loss: 68.6809 - mae: 68.6809\n",
            "Epoch 138/500\n",
            "1/1 [==============================] - 0s 8ms/step - loss: 28.0848 - mae: 28.0848\n",
            "Epoch 139/500\n",
            "1/1 [==============================] - 0s 8ms/step - loss: 100.5276 - mae: 100.5276\n",
            "Epoch 140/500\n",
            "1/1 [==============================] - 0s 6ms/step - loss: 78.2968 - mae: 78.2968\n",
            "Epoch 141/500\n",
            "1/1 [==============================] - 0s 7ms/step - loss: 58.5756 - mae: 58.5756\n",
            "Epoch 142/500\n",
            "1/1 [==============================] - 0s 7ms/step - loss: 3.8918 - mae: 3.8918\n",
            "Epoch 143/500\n",
            "1/1 [==============================] - 0s 8ms/step - loss: 82.9617 - mae: 82.9617\n",
            "Epoch 144/500\n",
            "1/1 [==============================] - 0s 9ms/step - loss: 73.3787 - mae: 73.3787\n",
            "Epoch 145/500\n",
            "1/1 [==============================] - 0s 7ms/step - loss: 43.0355 - mae: 43.0355\n",
            "Epoch 146/500\n",
            "1/1 [==============================] - 0s 8ms/step - loss: 53.0892 - mae: 53.0892\n",
            "Epoch 147/500\n",
            "1/1 [==============================] - 0s 8ms/step - loss: 80.5629 - mae: 80.5629\n",
            "Epoch 148/500\n",
            "1/1 [==============================] - 0s 9ms/step - loss: 65.8212 - mae: 65.8212\n",
            "Epoch 149/500\n",
            "1/1 [==============================] - 0s 7ms/step - loss: 19.1319 - mae: 19.1319\n",
            "Epoch 150/500\n",
            "1/1 [==============================] - 0s 8ms/step - loss: 128.7876 - mae: 128.7876\n",
            "Epoch 151/500\n",
            "1/1 [==============================] - 0s 6ms/step - loss: 76.8822 - mae: 76.8822\n",
            "Epoch 152/500\n",
            "1/1 [==============================] - 0s 7ms/step - loss: 54.2018 - mae: 54.2018\n",
            "Epoch 153/500\n",
            "1/1 [==============================] - 0s 8ms/step - loss: 17.6423 - mae: 17.6423\n",
            "Epoch 154/500\n",
            "1/1 [==============================] - 0s 8ms/step - loss: 82.2490 - mae: 82.2490\n",
            "Epoch 155/500\n",
            "1/1 [==============================] - 0s 8ms/step - loss: 71.2288 - mae: 71.2288\n",
            "Epoch 156/500\n",
            "1/1 [==============================] - 0s 9ms/step - loss: 36.3317 - mae: 36.3317\n",
            "Epoch 157/500\n",
            "1/1 [==============================] - 0s 11ms/step - loss: 74.2227 - mae: 74.2227\n",
            "Epoch 158/500\n",
            "1/1 [==============================] - 0s 7ms/step - loss: 79.4930 - mae: 79.4930\n",
            "Epoch 159/500\n",
            "1/1 [==============================] - 0s 7ms/step - loss: 62.5397 - mae: 62.5397\n",
            "Epoch 160/500\n",
            "1/1 [==============================] - 0s 15ms/step - loss: 8.8424 - mae: 8.8424\n",
            "Epoch 161/500\n",
            "1/1 [==============================] - 0s 13ms/step - loss: 161.2827 - mae: 161.2827\n",
            "Epoch 162/500\n",
            "1/1 [==============================] - 0s 11ms/step - loss: 75.2628 - mae: 75.2628\n",
            "Epoch 163/500\n",
            "1/1 [==============================] - 0s 10ms/step - loss: 49.1788 - mae: 49.1788\n",
            "Epoch 164/500\n",
            "1/1 [==============================] - 0s 18ms/step - loss: 33.4497 - mae: 33.4497\n",
            "Epoch 165/500\n",
            "1/1 [==============================] - 0s 12ms/step - loss: 81.4368 - mae: 81.4368\n",
            "Epoch 166/500\n",
            "1/1 [==============================] - 0s 9ms/step - loss: 68.7636 - mae: 68.7636\n",
            "Epoch 167/500\n",
            "1/1 [==============================] - 0s 16ms/step - loss: 28.6289 - mae: 28.6289\n",
            "Epoch 168/500\n",
            "1/1 [==============================] - 0s 7ms/step - loss: 98.5215 - mae: 98.5215\n",
            "Epoch 169/500\n",
            "1/1 [==============================] - 0s 7ms/step - loss: 78.2701 - mae: 78.2701\n",
            "Epoch 170/500\n",
            "1/1 [==============================] - 0s 7ms/step - loss: 58.7730 - mae: 58.7730\n",
            "Epoch 171/500\n",
            "1/1 [==============================] - 0s 9ms/step - loss: 2.9844 - mae: 2.9844\n",
            "Epoch 172/500\n",
            "1/1 [==============================] - 0s 8ms/step - loss: 82.8819 - mae: 82.8819\n",
            "Epoch 173/500\n",
            "1/1 [==============================] - 0s 14ms/step - loss: 73.4077 - mae: 73.4077\n",
            "Epoch 174/500\n",
            "1/1 [==============================] - 0s 8ms/step - loss: 43.4093 - mae: 43.4093\n",
            "Epoch 175/500\n",
            "1/1 [==============================] - 0s 9ms/step - loss: 51.6228 - mae: 51.6228\n",
            "Epoch 176/500\n",
            "1/1 [==============================] - 0s 8ms/step - loss: 80.5101 - mae: 80.5101\n",
            "Epoch 177/500\n",
            "1/1 [==============================] - 0s 12ms/step - loss: 65.9359 - mae: 65.9359\n",
            "Epoch 178/500\n",
            "1/1 [==============================] - 0s 9ms/step - loss: 19.7772 - mae: 19.7772\n",
            "Epoch 179/500\n",
            "1/1 [==============================] - 0s 9ms/step - loss: 126.4610 - mae: 126.4610\n",
            "Epoch 180/500\n",
            "1/1 [==============================] - 0s 8ms/step - loss: 76.8710 - mae: 76.8710\n",
            "Epoch 181/500\n",
            "1/1 [==============================] - 0s 9ms/step - loss: 54.4483 - mae: 54.4483\n",
            "Epoch 182/500\n",
            "1/1 [==============================] - 0s 9ms/step - loss: 16.5792 - mae: 16.5792\n",
            "Epoch 183/500\n",
            "1/1 [==============================] - 0s 9ms/step - loss: 82.1767 - mae: 82.1767\n",
            "Epoch 184/500\n",
            "1/1 [==============================] - 0s 8ms/step - loss: 71.2817 - mae: 71.2817\n",
            "Epoch 185/500\n",
            "1/1 [==============================] - 0s 7ms/step - loss: 36.7811 - mae: 36.7811\n",
            "Epoch 186/500\n",
            "1/1 [==============================] - 0s 7ms/step - loss: 72.5167 - mae: 72.5167\n",
            "Epoch 187/500\n",
            "1/1 [==============================] - 0s 8ms/step - loss: 79.4519 - mae: 79.4519\n",
            "Epoch 188/500\n",
            "1/1 [==============================] - 0s 14ms/step - loss: 62.6911 - mae: 62.6911\n",
            "Epoch 189/500\n",
            "1/1 [==============================] - 0s 11ms/step - loss: 9.6040 - mae: 9.6040\n",
            "Epoch 190/500\n",
            "1/1 [==============================] - 0s 8ms/step - loss: 158.5874 - mae: 158.5874\n",
            "Epoch 191/500\n",
            "1/1 [==============================] - 0s 12ms/step - loss: 75.2694 - mae: 75.2694\n",
            "Epoch 192/500\n",
            "1/1 [==============================] - 0s 9ms/step - loss: 49.4819 - mae: 49.4819\n",
            "Epoch 193/500\n",
            "1/1 [==============================] - 0s 8ms/step - loss: 32.2076 - mae: 32.2076\n",
            "Epoch 194/500\n",
            "1/1 [==============================] - 0s 8ms/step - loss: 81.3731 - mae: 81.3731\n",
            "Epoch 195/500\n",
            "1/1 [==============================] - 0s 10ms/step - loss: 68.8439 - mae: 68.8439\n",
            "Epoch 196/500\n",
            "1/1 [==============================] - 0s 10ms/step - loss: 29.1653 - mae: 29.1653\n",
            "Epoch 197/500\n",
            "1/1 [==============================] - 0s 9ms/step - loss: 96.5400 - mae: 96.5400\n",
            "Epoch 198/500\n",
            "1/1 [==============================] - 0s 7ms/step - loss: 78.2422 - mae: 78.2422\n",
            "Epoch 199/500\n",
            "1/1 [==============================] - 0s 6ms/step - loss: 58.9666 - mae: 58.9666\n",
            "Epoch 200/500\n",
            "1/1 [==============================] - 0s 6ms/step - loss: 2.1873 - mae: 2.1873\n",
            "Epoch 201/500\n",
            "1/1 [==============================] - 0s 6ms/step - loss: 76.8060 - mae: 76.8060\n",
            "Epoch 202/500\n",
            "1/1 [==============================] - 0s 7ms/step - loss: 54.4419 - mae: 54.4419\n",
            "Epoch 203/500\n",
            "1/1 [==============================] - 0s 6ms/step - loss: 16.4000 - mae: 16.4000\n",
            "Epoch 204/500\n",
            "1/1 [==============================] - 0s 6ms/step - loss: 82.0978 - mae: 82.0978\n",
            "Epoch 205/500\n",
            "1/1 [==============================] - 0s 6ms/step - loss: 71.2312 - mae: 71.2312\n",
            "Epoch 206/500\n",
            "1/1 [==============================] - 0s 6ms/step - loss: 36.8208 - mae: 36.8208\n",
            "Epoch 207/500\n",
            "1/1 [==============================] - 0s 6ms/step - loss: 72.1913 - mae: 72.1913\n",
            "Epoch 208/500\n",
            "1/1 [==============================] - 0s 6ms/step - loss: 79.3801 - mae: 79.3801\n",
            "Epoch 209/500\n",
            "1/1 [==============================] - 0s 6ms/step - loss: 62.6630 - mae: 62.6630\n",
            "Epoch 210/500\n",
            "1/1 [==============================] - 0s 6ms/step - loss: 9.7148 - mae: 9.7148\n",
            "Epoch 211/500\n",
            "1/1 [==============================] - 0s 6ms/step - loss: 158.0370 - mae: 158.0370\n",
            "Epoch 212/500\n",
            "1/1 [==============================] - 0s 6ms/step - loss: 75.2085 - mae: 75.2085\n",
            "Epoch 213/500\n",
            "1/1 [==============================] - 0s 9ms/step - loss: 49.4883 - mae: 49.4883\n",
            "Epoch 214/500\n",
            "1/1 [==============================] - 0s 7ms/step - loss: 31.9876 - mae: 31.9876\n",
            "Epoch 215/500\n",
            "1/1 [==============================] - 0s 7ms/step - loss: 81.2962 - mae: 81.2962\n",
            "Epoch 216/500\n",
            "1/1 [==============================] - 0s 8ms/step - loss: 68.7998 - mae: 68.7998\n",
            "Epoch 217/500\n",
            "1/1 [==============================] - 0s 9ms/step - loss: 29.2248 - mae: 29.2248\n",
            "Epoch 218/500\n",
            "1/1 [==============================] - 0s 11ms/step - loss: 96.1519 - mae: 96.1519\n",
            "Epoch 219/500\n",
            "1/1 [==============================] - 0s 10ms/step - loss: 78.1735 - mae: 78.1735\n",
            "Epoch 220/500\n",
            "1/1 [==============================] - 0s 10ms/step - loss: 58.9482 - mae: 58.9482\n",
            "Epoch 221/500\n",
            "1/1 [==============================] - 0s 7ms/step - loss: 2.0671 - mae: 2.0671\n",
            "Epoch 222/500\n",
            "1/1 [==============================] - 0s 8ms/step - loss: 67.5381 - mae: 67.5381\n",
            "Epoch 223/500\n",
            "1/1 [==============================] - 0s 7ms/step - loss: 25.2791 - mae: 25.2791\n",
            "Epoch 224/500\n",
            "1/1 [==============================] - 0s 7ms/step - loss: 108.6023 - mae: 108.6023\n",
            "Epoch 225/500\n",
            "1/1 [==============================] - 0s 7ms/step - loss: 77.5484 - mae: 77.5484\n",
            "Epoch 226/500\n",
            "1/1 [==============================] - 0s 7ms/step - loss: 57.0196 - mae: 57.0196\n",
            "Epoch 227/500\n",
            "1/1 [==============================] - 0s 7ms/step - loss: 8.0068 - mae: 8.0068\n",
            "Epoch 228/500\n",
            "1/1 [==============================] - 0s 7ms/step - loss: 82.4048 - mae: 82.4048\n",
            "Epoch 229/500\n",
            "1/1 [==============================] - 0s 6ms/step - loss: 72.4296 - mae: 72.4296\n",
            "Epoch 230/500\n",
            "1/1 [==============================] - 0s 7ms/step - loss: 40.8436 - mae: 40.8436\n",
            "Epoch 231/500\n",
            "1/1 [==============================] - 0s 6ms/step - loss: 59.2191 - mae: 59.2191\n",
            "Epoch 232/500\n",
            "1/1 [==============================] - 0s 6ms/step - loss: 79.9086 - mae: 79.9086\n",
            "Epoch 233/500\n",
            "1/1 [==============================] - 0s 7ms/step - loss: 64.5633 - mae: 64.5633\n",
            "Epoch 234/500\n",
            "1/1 [==============================] - 0s 7ms/step - loss: 15.9614 - mae: 15.9614\n",
            "Epoch 235/500\n",
            "1/1 [==============================] - 0s 7ms/step - loss: 138.0182 - mae: 138.0182\n",
            "Epoch 236/500\n",
            "1/1 [==============================] - 0s 7ms/step - loss: 76.0779 - mae: 76.0779\n",
            "Epoch 237/500\n",
            "1/1 [==============================] - 0s 7ms/step - loss: 52.4686 - mae: 52.4686\n",
            "Epoch 238/500\n",
            "1/1 [==============================] - 0s 6ms/step - loss: 22.3187 - mae: 22.3187\n",
            "Epoch 239/500\n",
            "1/1 [==============================] - 0s 6ms/step - loss: 81.6650 - mae: 81.6650\n",
            "Epoch 240/500\n",
            "1/1 [==============================] - 0s 7ms/step - loss: 70.1937 - mae: 70.1937\n",
            "Epoch 241/500\n",
            "1/1 [==============================] - 0s 6ms/step - loss: 33.8671 - mae: 33.8671\n",
            "Epoch 242/500\n",
            "1/1 [==============================] - 0s 7ms/step - loss: 81.2165 - mae: 81.2165\n",
            "Epoch 243/500\n",
            "1/1 [==============================] - 0s 6ms/step - loss: 78.7969 - mae: 78.7969\n",
            "Epoch 244/500\n",
            "1/1 [==============================] - 0s 7ms/step - loss: 61.1493 - mae: 61.1493\n",
            "Epoch 245/500\n",
            "1/1 [==============================] - 0s 236ms/step - loss: 5.2524 - mae: 5.2524\n",
            "Epoch 246/500\n",
            "1/1 [==============================] - 0s 6ms/step - loss: 171.8427 - mae: 171.8427\n",
            "Epoch 247/500\n",
            "1/1 [==============================] - 0s 6ms/step - loss: 74.3941 - mae: 74.3941\n",
            "Epoch 248/500\n",
            "1/1 [==============================] - 0s 6ms/step - loss: 47.2419 - mae: 47.2419\n",
            "Epoch 249/500\n",
            "1/1 [==============================] - 0s 6ms/step - loss: 38.7717 - mae: 38.7717\n",
            "Epoch 250/500\n",
            "1/1 [==============================] - 0s 6ms/step - loss: 80.8215 - mae: 80.8215\n",
            "Epoch 251/500\n",
            "1/1 [==============================] - 0s 6ms/step - loss: 67.6295 - mae: 67.6295\n",
            "Epoch 252/500\n",
            "1/1 [==============================] - 0s 6ms/step - loss: 25.8508 - mae: 25.8508\n",
            "Epoch 253/500\n",
            "1/1 [==============================] - 0s 7ms/step - loss: 106.5089 - mae: 106.5089\n",
            "Epoch 254/500\n",
            "1/1 [==============================] - 0s 7ms/step - loss: 77.5259 - mae: 77.5259\n",
            "Epoch 255/500\n",
            "1/1 [==============================] - 0s 7ms/step - loss: 57.2304 - mae: 57.2304\n",
            "Epoch 256/500\n",
            "1/1 [==============================] - 0s 6ms/step - loss: 7.0569 - mae: 7.0569\n",
            "Epoch 257/500\n",
            "1/1 [==============================] - 0s 6ms/step - loss: 82.3271 - mae: 82.3271\n",
            "Epoch 258/500\n",
            "1/1 [==============================] - 0s 6ms/step - loss: 72.4651 - mae: 72.4651\n",
            "Epoch 259/500\n",
            "1/1 [==============================] - 0s 6ms/step - loss: 41.2380 - mae: 41.2380\n",
            "Epoch 260/500\n",
            "1/1 [==============================] - 0s 6ms/step - loss: 57.6874 - mae: 57.6874\n",
            "Epoch 261/500\n",
            "1/1 [==============================] - 0s 7ms/step - loss: 79.8590 - mae: 79.8590\n",
            "Epoch 262/500\n",
            "1/1 [==============================] - 0s 7ms/step - loss: 64.6880 - mae: 64.6880\n",
            "Epoch 263/500\n",
            "1/1 [==============================] - 0s 7ms/step - loss: 16.6385 - mae: 16.6385\n",
            "Epoch 264/500\n",
            "1/1 [==============================] - 0s 7ms/step - loss: 135.5909 - mae: 135.5909\n",
            "Epoch 265/500\n",
            "1/1 [==============================] - 0s 7ms/step - loss: 76.0716 - mae: 76.0716\n",
            "Epoch 266/500\n",
            "1/1 [==============================] - 0s 7ms/step - loss: 52.7306 - mae: 52.7306\n",
            "Epoch 267/500\n",
            "1/1 [==============================] - 0s 16ms/step - loss: 21.2067 - mae: 21.2067\n",
            "Epoch 268/500\n",
            "1/1 [==============================] - 0s 12ms/step - loss: 81.5950 - mae: 81.5950\n",
            "Epoch 269/500\n",
            "1/1 [==============================] - 0s 9ms/step - loss: 70.2540 - mae: 70.2540\n",
            "Epoch 270/500\n",
            "1/1 [==============================] - 0s 12ms/step - loss: 34.3403 - mae: 34.3403\n",
            "Epoch 271/500\n",
            "1/1 [==============================] - 0s 14ms/step - loss: 79.4353 - mae: 79.4353\n",
            "Epoch 272/500\n",
            "1/1 [==============================] - 0s 10ms/step - loss: 78.7594 - mae: 78.7594\n",
            "Epoch 273/500\n",
            "1/1 [==============================] - 0s 24ms/step - loss: 61.3123 - mae: 61.3123\n",
            "Epoch 274/500\n",
            "1/1 [==============================] - 0s 12ms/step - loss: 6.0506 - mae: 6.0506\n",
            "Epoch 275/500\n",
            "1/1 [==============================] - 0s 8ms/step - loss: 169.0316 - mae: 169.0316\n",
            "Epoch 276/500\n",
            "1/1 [==============================] - 0s 11ms/step - loss: 74.4064 - mae: 74.4064\n",
            "Epoch 277/500\n",
            "1/1 [==============================] - 0s 11ms/step - loss: 47.5627 - mae: 47.5627\n",
            "Epoch 278/500\n",
            "1/1 [==============================] - 0s 9ms/step - loss: 37.4733 - mae: 37.4733\n",
            "Epoch 279/500\n",
            "1/1 [==============================] - 0s 8ms/step - loss: 80.7606 - mae: 80.7606\n",
            "Epoch 280/500\n",
            "1/1 [==============================] - 0s 8ms/step - loss: 67.7185 - mae: 67.7185\n",
            "Epoch 281/500\n",
            "1/1 [==============================] - 0s 8ms/step - loss: 26.4145 - mae: 26.4145\n",
            "Epoch 282/500\n",
            "1/1 [==============================] - 0s 15ms/step - loss: 104.4407 - mae: 104.4407\n",
            "Epoch 283/500\n",
            "1/1 [==============================] - 0s 20ms/step - loss: 77.5022 - mae: 77.5022\n",
            "Epoch 284/500\n",
            "1/1 [==============================] - 0s 14ms/step - loss: 57.4373 - mae: 57.4373\n",
            "Epoch 285/500\n",
            "1/1 [==============================] - 0s 11ms/step - loss: 6.1194 - mae: 6.1194\n",
            "Epoch 286/500\n",
            "1/1 [==============================] - 0s 10ms/step - loss: 82.2487 - mae: 82.2487\n",
            "Epoch 287/500\n",
            "1/1 [==============================] - 0s 7ms/step - loss: 72.4988 - mae: 72.4988\n",
            "Epoch 288/500\n",
            "1/1 [==============================] - 0s 7ms/step - loss: 41.6265 - mae: 41.6265\n",
            "Epoch 289/500\n",
            "1/1 [==============================] - 0s 7ms/step - loss: 56.1744 - mae: 56.1744\n",
            "Epoch 290/500\n",
            "1/1 [==============================] - 0s 7ms/step - loss: 79.8084 - mae: 79.8084\n",
            "Epoch 291/500\n",
            "1/1 [==============================] - 0s 9ms/step - loss: 64.8098 - mae: 64.8098\n",
            "Epoch 292/500\n",
            "1/1 [==============================] - 0s 7ms/step - loss: 17.3063 - mae: 17.3063\n",
            "Epoch 293/500\n",
            "1/1 [==============================] - 0s 7ms/step - loss: 133.1927 - mae: 133.1927\n",
            "Epoch 294/500\n",
            "1/1 [==============================] - 0s 8ms/step - loss: 76.0639 - mae: 76.0639\n",
            "Epoch 295/500\n",
            "1/1 [==============================] - 0s 7ms/step - loss: 52.9881 - mae: 52.9881\n",
            "Epoch 296/500\n",
            "1/1 [==============================] - 0s 8ms/step - loss: 20.1088 - mae: 20.1088\n",
            "Epoch 297/500\n",
            "1/1 [==============================] - 0s 9ms/step - loss: 81.5244 - mae: 81.5244\n",
            "Epoch 298/500\n",
            "1/1 [==============================] - 0s 12ms/step - loss: 70.3122 - mae: 70.3122\n",
            "Epoch 299/500\n",
            "1/1 [==============================] - 0s 14ms/step - loss: 34.8066 - mae: 34.8066\n",
            "Epoch 300/500\n",
            "1/1 [==============================] - 0s 11ms/step - loss: 77.6757 - mae: 77.6757\n",
            "Epoch 301/500\n",
            "1/1 [==============================] - 0s 6ms/step - loss: 78.7208 - mae: 78.7208\n",
            "Epoch 302/500\n",
            "1/1 [==============================] - 0s 6ms/step - loss: 61.4719 - mae: 61.4719\n",
            "Epoch 303/500\n",
            "1/1 [==============================] - 0s 6ms/step - loss: 6.8383 - mae: 6.8383\n",
            "Epoch 304/500\n",
            "1/1 [==============================] - 0s 6ms/step - loss: 166.2537 - mae: 166.2537\n",
            "Epoch 305/500\n",
            "1/1 [==============================] - 0s 6ms/step - loss: 74.4171 - mae: 74.4171\n",
            "Epoch 306/500\n",
            "1/1 [==============================] - 0s 6ms/step - loss: 47.8784 - mae: 47.8784\n",
            "Epoch 307/500\n",
            "1/1 [==============================] - 0s 7ms/step - loss: 36.1911 - mae: 36.1911\n",
            "Epoch 308/500\n",
            "1/1 [==============================] - 0s 5ms/step - loss: 80.6989 - mae: 80.6989\n",
            "Epoch 309/500\n",
            "1/1 [==============================] - 0s 5ms/step - loss: 67.8049 - mae: 67.8049\n",
            "Epoch 310/500\n",
            "1/1 [==============================] - 0s 5ms/step - loss: 26.9704 - mae: 26.9704\n",
            "Epoch 311/500\n",
            "1/1 [==============================] - 0s 6ms/step - loss: 102.3975 - mae: 102.3975\n",
            "Epoch 312/500\n",
            "1/1 [==============================] - 0s 6ms/step - loss: 77.4774 - mae: 77.4774\n",
            "Epoch 313/500\n",
            "1/1 [==============================] - 0s 6ms/step - loss: 57.6404 - mae: 57.6404\n",
            "Epoch 314/500\n",
            "1/1 [==============================] - 0s 6ms/step - loss: 5.1939 - mae: 5.1939\n",
            "Epoch 315/500\n",
            "1/1 [==============================] - 0s 6ms/step - loss: 82.1698 - mae: 82.1698\n",
            "Epoch 316/500\n",
            "1/1 [==============================] - 0s 8ms/step - loss: 72.5305 - mae: 72.5305\n",
            "Epoch 317/500\n",
            "1/1 [==============================] - 0s 6ms/step - loss: 42.0091 - mae: 42.0091\n",
            "Epoch 318/500\n",
            "1/1 [==============================] - 0s 6ms/step - loss: 54.6802 - mae: 54.6802\n",
            "Epoch 319/500\n",
            "1/1 [==============================] - 0s 6ms/step - loss: 79.7570 - mae: 79.7570\n",
            "Epoch 320/500\n",
            "1/1 [==============================] - 0s 6ms/step - loss: 64.9287 - mae: 64.9287\n",
            "Epoch 321/500\n",
            "1/1 [==============================] - 0s 7ms/step - loss: 17.9652 - mae: 17.9652\n",
            "Epoch 322/500\n",
            "1/1 [==============================] - 0s 11ms/step - loss: 130.8232 - mae: 130.8232\n",
            "Epoch 323/500\n",
            "1/1 [==============================] - 0s 6ms/step - loss: 76.0548 - mae: 76.0548\n",
            "Epoch 324/500\n",
            "1/1 [==============================] - 0s 7ms/step - loss: 53.2412 - mae: 53.2412\n",
            "Epoch 325/500\n",
            "1/1 [==============================] - 0s 6ms/step - loss: 19.0249 - mae: 19.0249\n",
            "Epoch 326/500\n",
            "1/1 [==============================] - 0s 6ms/step - loss: 81.4531 - mae: 81.4531\n",
            "Epoch 327/500\n",
            "1/1 [==============================] - 0s 8ms/step - loss: 70.3683 - mae: 70.3683\n",
            "Epoch 328/500\n",
            "1/1 [==============================] - 0s 215ms/step - loss: 35.2662 - mae: 35.2662\n",
            "Epoch 329/500\n",
            "1/1 [==============================] - 0s 6ms/step - loss: 75.9376 - mae: 75.9376\n",
            "Epoch 330/500\n",
            "1/1 [==============================] - 0s 6ms/step - loss: 78.6812 - mae: 78.6812\n",
            "Epoch 331/500\n",
            "1/1 [==============================] - 0s 6ms/step - loss: 61.6282 - mae: 61.6282\n",
            "Epoch 332/500\n",
            "1/1 [==============================] - 0s 6ms/step - loss: 7.6155 - mae: 7.6155\n",
            "Epoch 333/500\n",
            "1/1 [==============================] - 0s 6ms/step - loss: 163.5089 - mae: 163.5089\n",
            "Epoch 334/500\n",
            "1/1 [==============================] - 0s 6ms/step - loss: 74.4261 - mae: 74.4261\n",
            "Epoch 335/500\n",
            "1/1 [==============================] - 0s 8ms/step - loss: 48.1890 - mae: 48.1890\n",
            "Epoch 336/500\n",
            "1/1 [==============================] - 0s 6ms/step - loss: 34.9249 - mae: 34.9249\n",
            "Epoch 337/500\n",
            "1/1 [==============================] - 0s 7ms/step - loss: 80.6365 - mae: 80.6365\n",
            "Epoch 338/500\n",
            "1/1 [==============================] - 0s 6ms/step - loss: 67.8889 - mae: 67.8889\n",
            "Epoch 339/500\n",
            "1/1 [==============================] - 0s 6ms/step - loss: 27.5185 - mae: 27.5185\n",
            "Epoch 340/500\n",
            "1/1 [==============================] - 0s 7ms/step - loss: 100.3789 - mae: 100.3789\n",
            "Epoch 341/500\n",
            "1/1 [==============================] - 0s 16ms/step - loss: 77.4513 - mae: 77.4513\n",
            "Epoch 342/500\n",
            "1/1 [==============================] - 0s 6ms/step - loss: 57.8397 - mae: 57.8397\n",
            "Epoch 343/500\n",
            "1/1 [==============================] - 0s 8ms/step - loss: 4.2804 - mae: 4.2804\n",
            "Epoch 344/500\n",
            "1/1 [==============================] - 0s 14ms/step - loss: 82.0902 - mae: 82.0902\n",
            "Epoch 345/500\n",
            "1/1 [==============================] - 0s 7ms/step - loss: 72.5605 - mae: 72.5605\n",
            "Epoch 346/500\n",
            "1/1 [==============================] - 0s 6ms/step - loss: 42.3859 - mae: 42.3859\n",
            "Epoch 347/500\n",
            "1/1 [==============================] - 0s 6ms/step - loss: 53.2044 - mae: 53.2044\n",
            "Epoch 348/500\n",
            "1/1 [==============================] - 0s 6ms/step - loss: 79.7047 - mae: 79.7047\n",
            "Epoch 349/500\n",
            "1/1 [==============================] - 0s 6ms/step - loss: 65.0448 - mae: 65.0448\n",
            "Epoch 350/500\n",
            "1/1 [==============================] - 0s 7ms/step - loss: 18.6150 - mae: 18.6150\n",
            "Epoch 351/500\n",
            "1/1 [==============================] - 0s 7ms/step - loss: 128.4821 - mae: 128.4821\n",
            "Epoch 352/500\n",
            "1/1 [==============================] - 0s 7ms/step - loss: 76.0443 - mae: 76.0443\n",
            "Epoch 353/500\n",
            "1/1 [==============================] - 0s 6ms/step - loss: 53.4899 - mae: 53.4899\n",
            "Epoch 354/500\n",
            "1/1 [==============================] - 0s 6ms/step - loss: 17.9548 - mae: 17.9548\n",
            "Epoch 355/500\n",
            "1/1 [==============================] - 0s 7ms/step - loss: 81.3812 - mae: 81.3812\n",
            "Epoch 356/500\n",
            "1/1 [==============================] - 0s 12ms/step - loss: 70.4222 - mae: 70.4222\n",
            "Epoch 357/500\n",
            "1/1 [==============================] - 0s 6ms/step - loss: 35.7191 - mae: 35.7191\n",
            "Epoch 358/500\n",
            "1/1 [==============================] - 0s 9ms/step - loss: 74.2208 - mae: 74.2208\n",
            "Epoch 359/500\n",
            "1/1 [==============================] - 0s 9ms/step - loss: 78.6405 - mae: 78.6405\n",
            "Epoch 360/500\n",
            "1/1 [==============================] - 0s 14ms/step - loss: 61.7813 - mae: 61.7813\n",
            "Epoch 361/500\n",
            "1/1 [==============================] - 0s 11ms/step - loss: 8.3825 - mae: 8.3825\n",
            "Epoch 362/500\n",
            "1/1 [==============================] - 0s 14ms/step - loss: 160.7968 - mae: 160.7968\n",
            "Epoch 363/500\n",
            "1/1 [==============================] - 0s 10ms/step - loss: 74.4336 - mae: 74.4336\n",
            "Epoch 364/500\n",
            "1/1 [==============================] - 0s 6ms/step - loss: 48.4946 - mae: 48.4946\n",
            "Epoch 365/500\n",
            "1/1 [==============================] - 0s 6ms/step - loss: 33.6746 - mae: 33.6746\n",
            "Epoch 366/500\n",
            "1/1 [==============================] - 0s 6ms/step - loss: 80.5732 - mae: 80.5732\n",
            "Epoch 367/500\n",
            "1/1 [==============================] - 0s 6ms/step - loss: 67.9705 - mae: 67.9705\n",
            "Epoch 368/500\n",
            "1/1 [==============================] - 0s 6ms/step - loss: 28.0588 - mae: 28.0588\n",
            "Epoch 369/500\n",
            "1/1 [==============================] - 0s 6ms/step - loss: 98.3848 - mae: 98.3848\n",
            "Epoch 370/500\n",
            "1/1 [==============================] - 0s 6ms/step - loss: 77.4240 - mae: 77.4240\n",
            "Epoch 371/500\n",
            "1/1 [==============================] - 0s 6ms/step - loss: 58.0353 - mae: 58.0353\n",
            "Epoch 372/500\n",
            "1/1 [==============================] - 0s 6ms/step - loss: 3.3788 - mae: 3.3788\n",
            "Epoch 373/500\n",
            "1/1 [==============================] - 0s 7ms/step - loss: 82.0101 - mae: 82.0101\n",
            "Epoch 374/500\n",
            "1/1 [==============================] - 0s 6ms/step - loss: 72.5886 - mae: 72.5886\n",
            "Epoch 375/500\n",
            "1/1 [==============================] - 0s 6ms/step - loss: 42.7569 - mae: 42.7569\n",
            "Epoch 376/500\n",
            "1/1 [==============================] - 0s 6ms/step - loss: 51.7469 - mae: 51.7469\n",
            "Epoch 377/500\n",
            "1/1 [==============================] - 0s 6ms/step - loss: 79.6515 - mae: 79.6515\n",
            "Epoch 378/500\n",
            "1/1 [==============================] - 0s 5ms/step - loss: 65.1582 - mae: 65.1582\n",
            "Epoch 379/500\n",
            "1/1 [==============================] - 0s 6ms/step - loss: 19.2560 - mae: 19.2560\n",
            "Epoch 380/500\n",
            "1/1 [==============================] - 0s 6ms/step - loss: 126.1691 - mae: 126.1691\n",
            "Epoch 381/500\n",
            "1/1 [==============================] - 0s 6ms/step - loss: 76.0325 - mae: 76.0325\n",
            "Epoch 382/500\n",
            "1/1 [==============================] - 0s 7ms/step - loss: 53.7344 - mae: 53.7344\n",
            "Epoch 383/500\n",
            "1/1 [==============================] - 0s 6ms/step - loss: 16.8983 - mae: 16.8983\n",
            "Epoch 384/500\n",
            "1/1 [==============================] - 0s 5ms/step - loss: 81.3086 - mae: 81.3086\n",
            "Epoch 385/500\n",
            "1/1 [==============================] - 0s 6ms/step - loss: 70.4741 - mae: 70.4741\n",
            "Epoch 386/500\n",
            "1/1 [==============================] - 0s 5ms/step - loss: 36.1653 - mae: 36.1653\n",
            "Epoch 387/500\n",
            "1/1 [==============================] - 0s 6ms/step - loss: 72.5250 - mae: 72.5250\n",
            "Epoch 388/500\n",
            "1/1 [==============================] - 0s 8ms/step - loss: 78.5988 - mae: 78.5988\n",
            "Epoch 389/500\n",
            "1/1 [==============================] - 0s 6ms/step - loss: 61.9311 - mae: 61.9311\n",
            "Epoch 390/500\n",
            "1/1 [==============================] - 0s 6ms/step - loss: 9.1392 - mae: 9.1392\n",
            "Epoch 391/500\n",
            "1/1 [==============================] - 0s 6ms/step - loss: 158.1172 - mae: 158.1172\n",
            "Epoch 392/500\n",
            "1/1 [==============================] - 0s 6ms/step - loss: 74.4395 - mae: 74.4395\n",
            "Epoch 393/500\n",
            "1/1 [==============================] - 0s 5ms/step - loss: 48.7953 - mae: 48.7953\n",
            "Epoch 394/500\n",
            "1/1 [==============================] - 0s 6ms/step - loss: 32.4400 - mae: 32.4400\n",
            "Epoch 395/500\n",
            "1/1 [==============================] - 0s 6ms/step - loss: 80.5092 - mae: 80.5092\n",
            "Epoch 396/500\n",
            "1/1 [==============================] - 0s 6ms/step - loss: 68.0497 - mae: 68.0497\n",
            "Epoch 397/500\n",
            "1/1 [==============================] - 0s 6ms/step - loss: 28.5915 - mae: 28.5915\n",
            "Epoch 398/500\n",
            "1/1 [==============================] - 0s 5ms/step - loss: 96.4148 - mae: 96.4148\n",
            "Epoch 399/500\n",
            "1/1 [==============================] - 0s 5ms/step - loss: 77.3956 - mae: 77.3956\n",
            "Epoch 400/500\n",
            "1/1 [==============================] - 0s 6ms/step - loss: 58.2271 - mae: 58.2271\n",
            "Epoch 401/500\n",
            "1/1 [==============================] - 0s 6ms/step - loss: 2.4889 - mae: 2.4889\n",
            "Epoch 402/500\n",
            "1/1 [==============================] - 0s 5ms/step - loss: 81.9295 - mae: 81.9295\n",
            "Epoch 403/500\n",
            "1/1 [==============================] - 0s 6ms/step - loss: 72.6149 - mae: 72.6149\n",
            "Epoch 404/500\n",
            "1/1 [==============================] - 0s 6ms/step - loss: 43.1222 - mae: 43.1222\n",
            "Epoch 405/500\n",
            "1/1 [==============================] - 0s 6ms/step - loss: 50.3074 - mae: 50.3074\n",
            "Epoch 406/500\n",
            "1/1 [==============================] - 0s 7ms/step - loss: 79.5974 - mae: 79.5974\n",
            "Epoch 407/500\n",
            "1/1 [==============================] - 0s 12ms/step - loss: 65.2687 - mae: 65.2687\n",
            "Epoch 408/500\n",
            "1/1 [==============================] - 0s 9ms/step - loss: 19.8883 - mae: 19.8883\n",
            "Epoch 409/500\n",
            "1/1 [==============================] - 0s 7ms/step - loss: 123.8838 - mae: 123.8838\n",
            "Epoch 410/500\n",
            "1/1 [==============================] - 0s 8ms/step - loss: 76.0193 - mae: 76.0193\n",
            "Epoch 411/500\n",
            "1/1 [==============================] - 0s 8ms/step - loss: 53.9746 - mae: 53.9746\n",
            "Epoch 412/500\n",
            "1/1 [==============================] - 0s 6ms/step - loss: 15.8553 - mae: 15.8553\n",
            "Epoch 413/500\n",
            "1/1 [==============================] - 0s 13ms/step - loss: 81.2353 - mae: 81.2353\n",
            "Epoch 414/500\n",
            "1/1 [==============================] - 0s 10ms/step - loss: 70.5239 - mae: 70.5239\n",
            "Epoch 415/500\n",
            "1/1 [==============================] - 0s 13ms/step - loss: 36.6049 - mae: 36.6049\n",
            "Epoch 416/500\n",
            "1/1 [==============================] - 0s 12ms/step - loss: 70.8498 - mae: 70.8498\n",
            "Epoch 417/500\n",
            "1/1 [==============================] - 0s 7ms/step - loss: 78.5561 - mae: 78.5561\n",
            "Epoch 418/500\n",
            "1/1 [==============================] - 0s 7ms/step - loss: 62.0778 - mae: 62.0778\n",
            "Epoch 419/500\n",
            "1/1 [==============================] - 0s 9ms/step - loss: 9.8859 - mae: 9.8859\n",
            "Epoch 420/500\n",
            "1/1 [==============================] - 0s 11ms/step - loss: 155.4693 - mae: 155.4693\n",
            "Epoch 421/500\n",
            "1/1 [==============================] - 0s 12ms/step - loss: 74.4439 - mae: 74.4439\n",
            "Epoch 422/500\n",
            "1/1 [==============================] - 0s 8ms/step - loss: 49.0911 - mae: 49.0911\n",
            "Epoch 423/500\n",
            "1/1 [==============================] - 0s 7ms/step - loss: 31.2209 - mae: 31.2209\n",
            "Epoch 424/500\n",
            "1/1 [==============================] - 0s 7ms/step - loss: 80.4445 - mae: 80.4445\n",
            "Epoch 425/500\n",
            "1/1 [==============================] - 0s 8ms/step - loss: 68.1264 - mae: 68.1264\n",
            "Epoch 426/500\n",
            "1/1 [==============================] - 0s 7ms/step - loss: 29.1167 - mae: 29.1167\n",
            "Epoch 427/500\n",
            "1/1 [==============================] - 0s 8ms/step - loss: 94.4688 - mae: 94.4688\n",
            "Epoch 428/500\n",
            "1/1 [==============================] - 0s 8ms/step - loss: 77.3660 - mae: 77.3660\n",
            "Epoch 429/500\n",
            "1/1 [==============================] - 0s 7ms/step - loss: 58.4154 - mae: 58.4154\n",
            "Epoch 430/500\n",
            "1/1 [==============================] - 0s 8ms/step - loss: 1.7605 - mae: 1.7605\n",
            "Epoch 431/500\n",
            "1/1 [==============================] - 0s 7ms/step - loss: 66.8824 - mae: 66.8824\n",
            "Epoch 432/500\n",
            "1/1 [==============================] - 0s 8ms/step - loss: 25.2270 - mae: 25.2270\n",
            "Epoch 433/500\n",
            "1/1 [==============================] - 0s 7ms/step - loss: 106.7420 - mae: 106.7420\n",
            "Epoch 434/500\n",
            "1/1 [==============================] - 0s 7ms/step - loss: 76.7495 - mae: 76.7495\n",
            "Epoch 435/500\n",
            "1/1 [==============================] - 0s 8ms/step - loss: 56.5139 - mae: 56.5139\n",
            "Epoch 436/500\n",
            "1/1 [==============================] - 0s 7ms/step - loss: 7.5837 - mae: 7.5837\n",
            "Epoch 437/500\n",
            "1/1 [==============================] - 0s 7ms/step - loss: 81.5365 - mae: 81.5365\n",
            "Epoch 438/500\n",
            "1/1 [==============================] - 0s 7ms/step - loss: 71.7036 - mae: 71.7036\n",
            "Epoch 439/500\n",
            "1/1 [==============================] - 0s 8ms/step - loss: 40.5687 - mae: 40.5687\n",
            "Epoch 440/500\n",
            "1/1 [==============================] - 0s 7ms/step - loss: 58.0647 - mae: 58.0647\n",
            "Epoch 441/500\n",
            "1/1 [==============================] - 0s 8ms/step - loss: 79.0756 - mae: 79.0756\n",
            "Epoch 442/500\n",
            "1/1 [==============================] - 0s 8ms/step - loss: 63.9494 - mae: 63.9494\n",
            "Epoch 443/500\n",
            "1/1 [==============================] - 0s 13ms/step - loss: 16.0417 - mae: 16.0417\n",
            "Epoch 444/500\n",
            "1/1 [==============================] - 0s 9ms/step - loss: 135.7383 - mae: 135.7383\n",
            "Epoch 445/500\n",
            "1/1 [==============================] - 0s 8ms/step - loss: 75.2993 - mae: 75.2993\n",
            "Epoch 446/500\n",
            "1/1 [==============================] - 0s 8ms/step - loss: 52.0272 - mae: 52.0272\n",
            "Epoch 447/500\n",
            "1/1 [==============================] - 0s 8ms/step - loss: 21.6918 - mae: 21.6918\n",
            "Epoch 448/500\n",
            "1/1 [==============================] - 0s 9ms/step - loss: 80.8065 - mae: 80.8065\n",
            "Epoch 449/500\n",
            "1/1 [==============================] - 0s 12ms/step - loss: 69.4989 - mae: 69.4989\n",
            "Epoch 450/500\n",
            "1/1 [==============================] - 0s 15ms/step - loss: 33.6912 - mae: 33.6912\n",
            "Epoch 451/500\n",
            "1/1 [==============================] - 0s 15ms/step - loss: 79.7485 - mae: 79.7485\n",
            "Epoch 452/500\n",
            "1/1 [==============================] - 0s 13ms/step - loss: 77.9791 - mae: 77.9791\n",
            "Epoch 453/500\n",
            "1/1 [==============================] - 0s 11ms/step - loss: 60.5835 - mae: 60.5835\n",
            "Epoch 454/500\n",
            "1/1 [==============================] - 0s 12ms/step - loss: 5.4849 - mae: 5.4849\n",
            "Epoch 455/500\n",
            "1/1 [==============================] - 0s 8ms/step - loss: 169.0803 - mae: 169.0803\n",
            "Epoch 456/500\n",
            "1/1 [==============================] - 0s 10ms/step - loss: 73.6390 - mae: 73.6390\n",
            "Epoch 457/500\n",
            "1/1 [==============================] - 0s 11ms/step - loss: 46.8745 - mae: 46.8745\n",
            "Epoch 458/500\n",
            "1/1 [==============================] - 0s 14ms/step - loss: 37.9105 - mae: 37.9105\n",
            "Epoch 459/500\n",
            "1/1 [==============================] - 0s 10ms/step - loss: 79.9743 - mae: 79.9743\n",
            "Epoch 460/500\n",
            "1/1 [==============================] - 0s 14ms/step - loss: 66.9707 - mae: 66.9707\n",
            "Epoch 461/500\n",
            "1/1 [==============================] - 0s 11ms/step - loss: 25.7886 - mae: 25.7886\n",
            "Epoch 462/500\n",
            "1/1 [==============================] - 0s 10ms/step - loss: 104.6803 - mae: 104.6803\n",
            "Epoch 463/500\n",
            "1/1 [==============================] - 0s 15ms/step - loss: 76.7255 - mae: 76.7255\n",
            "Epoch 464/500\n",
            "1/1 [==============================] - 0s 13ms/step - loss: 56.7198 - mae: 56.7198\n",
            "Epoch 465/500\n",
            "1/1 [==============================] - 0s 10ms/step - loss: 6.6493 - mae: 6.6493\n",
            "Epoch 466/500\n",
            "1/1 [==============================] - 0s 16ms/step - loss: 81.4580 - mae: 81.4580\n",
            "Epoch 467/500\n",
            "1/1 [==============================] - 0s 10ms/step - loss: 71.7368 - mae: 71.7368\n",
            "Epoch 468/500\n",
            "1/1 [==============================] - 0s 14ms/step - loss: 40.9556 - mae: 40.9556\n",
            "Epoch 469/500\n",
            "1/1 [==============================] - 0s 13ms/step - loss: 56.5566 - mae: 56.5566\n",
            "Epoch 470/500\n",
            "1/1 [==============================] - 0s 11ms/step - loss: 79.0248 - mae: 79.0248\n",
            "Epoch 471/500\n",
            "1/1 [==============================] - 0s 14ms/step - loss: 64.0704 - mae: 64.0704\n",
            "Epoch 472/500\n",
            "1/1 [==============================] - 0s 14ms/step - loss: 16.7072 - mae: 16.7072\n",
            "Epoch 473/500\n",
            "1/1 [==============================] - 0s 15ms/step - loss: 133.3476 - mae: 133.3476\n",
            "Epoch 474/500\n",
            "1/1 [==============================] - 0s 13ms/step - loss: 75.2913 - mae: 75.2913\n",
            "Epoch 475/500\n",
            "1/1 [==============================] - 0s 14ms/step - loss: 52.2836 - mae: 52.2836\n",
            "Epoch 476/500\n",
            "1/1 [==============================] - 0s 8ms/step - loss: 20.5976 - mae: 20.5976\n",
            "Epoch 477/500\n",
            "1/1 [==============================] - 0s 13ms/step - loss: 80.7357 - mae: 80.7357\n",
            "Epoch 478/500\n",
            "1/1 [==============================] - 0s 10ms/step - loss: 69.5565 - mae: 69.5565\n",
            "Epoch 479/500\n",
            "1/1 [==============================] - 0s 11ms/step - loss: 34.1557 - mae: 34.1557\n",
            "Epoch 480/500\n",
            "1/1 [==============================] - 0s 21ms/step - loss: 77.9946 - mae: 77.9946\n",
            "Epoch 481/500\n",
            "1/1 [==============================] - 0s 12ms/step - loss: 77.9403 - mae: 77.9403\n",
            "Epoch 482/500\n",
            "1/1 [==============================] - 0s 11ms/step - loss: 60.7422 - mae: 60.7422\n",
            "Epoch 483/500\n",
            "1/1 [==============================] - 0s 10ms/step - loss: 6.2698 - mae: 6.2698\n",
            "Epoch 484/500\n",
            "1/1 [==============================] - 0s 12ms/step - loss: 166.3112 - mae: 166.3112\n",
            "Epoch 485/500\n",
            "1/1 [==============================] - 0s 15ms/step - loss: 73.6492 - mae: 73.6492\n",
            "Epoch 486/500\n",
            "1/1 [==============================] - 0s 13ms/step - loss: 47.1888 - mae: 47.1888\n",
            "Epoch 487/500\n",
            "1/1 [==============================] - 0s 10ms/step - loss: 36.6325 - mae: 36.6325\n",
            "Epoch 488/500\n",
            "1/1 [==============================] - 0s 11ms/step - loss: 79.9125 - mae: 79.9125\n",
            "Epoch 489/500\n",
            "1/1 [==============================] - 0s 12ms/step - loss: 67.0565 - mae: 67.0565\n",
            "Epoch 490/500\n",
            "1/1 [==============================] - 0s 11ms/step - loss: 26.3424 - mae: 26.3424\n",
            "Epoch 491/500\n",
            "1/1 [==============================] - 0s 9ms/step - loss: 102.6436 - mae: 102.6436\n",
            "Epoch 492/500\n",
            "1/1 [==============================] - 0s 8ms/step - loss: 76.7004 - mae: 76.7004\n",
            "Epoch 493/500\n",
            "1/1 [==============================] - 0s 8ms/step - loss: 56.9219 - mae: 56.9219\n",
            "Epoch 494/500\n",
            "1/1 [==============================] - 0s 10ms/step - loss: 5.7269 - mae: 5.7269\n",
            "Epoch 495/500\n",
            "1/1 [==============================] - 0s 142ms/step - loss: 81.3789 - mae: 81.3789\n",
            "Epoch 496/500\n",
            "1/1 [==============================] - 0s 8ms/step - loss: 71.7681 - mae: 71.7681\n",
            "Epoch 497/500\n",
            "1/1 [==============================] - 0s 7ms/step - loss: 41.3367 - mae: 41.3367\n",
            "Epoch 498/500\n",
            "1/1 [==============================] - 0s 7ms/step - loss: 55.0673 - mae: 55.0673\n",
            "Epoch 499/500\n",
            "1/1 [==============================] - 0s 6ms/step - loss: 78.9732 - mae: 78.9732\n",
            "Epoch 500/500\n",
            "1/1 [==============================] - 0s 12ms/step - loss: 64.1886 - mae: 64.1886\n"
          ]
        },
        {
          "output_type": "execute_result",
          "data": {
            "text/plain": [
              "<keras.callbacks.History at 0x7fa3ac781750>"
            ]
          },
          "metadata": {},
          "execution_count": 54
        }
      ]
    },
    {
      "cell_type": "code",
      "source": [
        "## making predictions and plotting\n",
        "y_pred_3 = model_3.predict(x_test)\n",
        "plot_evaluation(prediction=y_pred_3)"
      ],
      "metadata": {
        "colab": {
          "base_uri": "https://localhost:8080/",
          "height": 428
        },
        "id": "5MdakpIyN5fR",
        "outputId": "cd8980a4-8819-4253-e5af-96039e4653ab"
      },
      "execution_count": 55,
      "outputs": [
        {
          "output_type": "display_data",
          "data": {
            "text/plain": [
              "<Figure size 720x504 with 1 Axes>"
            ],
            "image/png": "[encoded data removed]"
          },
          "metadata": {
            "needs_background": "light"
          }
        }
      ]
    },
    {
      "cell_type": "code",
      "source": [
        "## checking metrics\n",
        "mae_3 = mae(true=y_test, pred=y_pred_3)\n",
        "mse_3 = mse(true=y_test, pred = y_pred_3)\n",
        "print(mae_3, mse_3)"
      ],
      "metadata": {
        "colab": {
          "base_uri": "https://localhost:8080/"
        },
        "id": "RejaqTa5OLwb",
        "outputId": "6d5b72c9-75dc-4795-bf1f-b253f2f8e897"
      },
      "execution_count": 56,
      "outputs": [
        {
          "output_type": "stream",
          "name": "stdout",
          "text": [
            "tf.Tensor(17.363672, shape=(), dtype=float32) tf.Tensor(303.49997, shape=(), dtype=float32)\n"
          ]
        }
      ]
    },
    {
      "cell_type": "markdown",
      "source": [
        "### Let's try to compare the results of all our models by including them into a dataframe."
      ],
      "metadata": {
        "id": "SDm-R8QlQwXY"
      }
    },
    {
      "cell_type": "code",
      "source": [
        "import pandas as pd\n",
        "model_data = [[\"Model_1\", mae_1.numpy(), mse_1.numpy()],\n",
        "              [\"Model_2\", mae_2.numpy(), mse_2.numpy()],\n",
        "              [\"Model_3\", mae_3.numpy(), mse_3.numpy()]]\n",
        "model_data_df = pd.DataFrame(model_data, columns=['Model','MAE','MSE'])\n",
        "model_data_df"
      ],
      "metadata": {
        "colab": {
          "base_uri": "https://localhost:8080/",
          "height": 143
        },
        "id": "HEKuxi40Oabs",
        "outputId": "45347bd4-9159-4fca-a154-14af45f971aa"
      },
      "execution_count": 57,
      "outputs": [
        {
          "output_type": "execute_result",
          "data": {
            "text/plain": [
              "     Model        MAE          MSE\n",
              "0  Model_1   3.976929    16.306381\n",
              "1  Model_2  62.227070  3932.404785\n",
              "2  Model_3  17.363672   303.499969"
            ],
            "text/html": [
              "\n",
              "  <div id=\"df-30943705-535c-4c47-a14e-11f2477a0c05\">\n",
              "    <div class=\"colab-df-container\">\n",
              "      <div>\n",
              "<style scoped>\n",
              "    .dataframe tbody tr th:only-of-type {\n",
              "        vertical-align: middle;\n",
              "    }\n",
              "\n",
              "    .dataframe tbody tr th {\n",
              "        vertical-align: top;\n",
              "    }\n",
              "\n",
              "    .dataframe thead th {\n",
              "        text-align: right;\n",
              "    }\n",
              "</style>\n",
              "<table border=\"1\" class=\"dataframe\">\n",
              "  <thead>\n",
              "    <tr style=\"text-align: right;\">\n",
              "      <th></th>\n",
              "      <th>Model</th>\n",
              "      <th>MAE</th>\n",
              "      <th>MSE</th>\n",
              "    </tr>\n",
              "  </thead>\n",
              "  <tbody>\n",
              "    <tr>\n",
              "      <th>0</th>\n",
              "      <td>Model_1</td>\n",
              "      <td>3.976929</td>\n",
              "      <td>16.306381</td>\n",
              "    </tr>\n",
              "    <tr>\n",
              "      <th>1</th>\n",
              "      <td>Model_2</td>\n",
              "      <td>62.227070</td>\n",
              "      <td>3932.404785</td>\n",
              "    </tr>\n",
              "    <tr>\n",
              "      <th>2</th>\n",
              "      <td>Model_3</td>\n",
              "      <td>17.363672</td>\n",
              "      <td>303.499969</td>\n",
              "    </tr>\n",
              "  </tbody>\n",
              "</table>\n",
              "</div>\n",
              "      <button class=\"colab-df-convert\" onclick=\"convertToInteractive('df-30943705-535c-4c47-a14e-11f2477a0c05')\"\n",
              "              title=\"Convert this dataframe to an interactive table.\"\n",
              "              style=\"display:none;\">\n",
              "        \n",
              "  <svg xmlns=\"http://www.w3.org/2000/svg\" height=\"24px\"viewBox=\"0 0 24 24\"\n",
              "       width=\"24px\">\n",
              "    <path d=\"M0 0h24v24H0V0z\" fill=\"none\"/>\n",
              "    <path d=\"M18.56 5.44l.94 2.06.94-2.06 2.06-.94-2.06-.94-.94-2.06-.94 2.06-2.06.94zm-11 1L8.5 8.5l.94-2.06 2.06-.94-2.06-.94L8.5 2.5l-.94 2.06-2.06.94zm10 10l.94 2.06.94-2.06 2.06-.94-2.06-.94-.94-2.06-.94 2.06-2.06.94z\"/><path d=\"M17.41 7.96l-1.37-1.37c-.4-.4-.92-.59-1.43-.59-.52 0-1.04.2-1.43.59L10.3 9.45l-7.72 7.72c-.78.78-.78 2.05 0 2.83L4 21.41c.39.39.9.59 1.41.59.51 0 1.02-.2 1.41-.59l7.78-7.78 2.81-2.81c.8-.78.8-2.07 0-2.86zM5.41 20L4 18.59l7.72-7.72 1.47 1.35L5.41 20z\"/>\n",
              "  </svg>\n",
              "      </button>\n",
              "      \n",
              "  <style>\n",
              "    .colab-df-container {\n",
              "      display:flex;\n",
              "      flex-wrap:wrap;\n",
              "      gap: 12px;\n",
              "    }\n",
              "\n",
              "    .colab-df-convert {\n",
              "      background-color: #E8F0FE;\n",
              "      border: none;\n",
              "      border-radius: 50%;\n",
              "      cursor: pointer;\n",
              "      display: none;\n",
              "      fill: #1967D2;\n",
              "      height: 32px;\n",
              "      padding: 0 0 0 0;\n",
              "      width: 32px;\n",
              "    }\n",
              "\n",
              "    .colab-df-convert:hover {\n",
              "      background-color: #E2EBFA;\n",
              "      box-shadow: 0px 1px 2px rgba(60, 64, 67, 0.3), 0px 1px 3px 1px rgba(60, 64, 67, 0.15);\n",
              "      fill: #174EA6;\n",
              "    }\n",
              "\n",
              "    [theme=dark] .colab-df-convert {\n",
              "      background-color: #3B4455;\n",
              "      fill: #D2E3FC;\n",
              "    }\n",
              "\n",
              "    [theme=dark] .colab-df-convert:hover {\n",
              "      background-color: #434B5C;\n",
              "      box-shadow: 0px 1px 3px 1px rgba(0, 0, 0, 0.15);\n",
              "      filter: drop-shadow(0px 1px 2px rgba(0, 0, 0, 0.3));\n",
              "      fill: #FFFFFF;\n",
              "    }\n",
              "  </style>\n",
              "\n",
              "      <script>\n",
              "        const buttonEl =\n",
              "          document.querySelector('#df-30943705-535c-4c47-a14e-11f2477a0c05 button.colab-df-convert');\n",
              "        buttonEl.style.display =\n",
              "          google.colab.kernel.accessAllowed ? 'block' : 'none';\n",
              "\n",
              "        async function convertToInteractive(key) {\n",
              "          const element = document.querySelector('#df-30943705-535c-4c47-a14e-11f2477a0c05');\n",
              "          const dataTable =\n",
              "            await google.colab.kernel.invokeFunction('convertToInteractive',\n",
              "                                                     [key], {});\n",
              "          if (!dataTable) return;\n",
              "\n",
              "          const docLinkHtml = 'Like what you see? Visit the ' +\n",
              "            '<a target=\"_blank\" href=https://colab.research.google.com/notebooks/data_table.ipynb>data table notebook</a>'\n",
              "            + ' to learn more about interactive tables.';\n",
              "          element.innerHTML = '';\n",
              "          dataTable['output_type'] = 'display_data';\n",
              "          await google.colab.output.renderOutput(dataTable, element);\n",
              "          const docLink = document.createElement('div');\n",
              "          docLink.innerHTML = docLinkHtml;\n",
              "          element.appendChild(docLink);\n",
              "        }\n",
              "      </script>\n",
              "    </div>\n",
              "  </div>\n",
              "  "
            ]
          },
          "metadata": {},
          "execution_count": 57
        }
      ]
    },
    {
      "cell_type": "code",
      "source": [
        "model_data_df.plot()"
      ],
      "metadata": {
        "colab": {
          "base_uri": "https://localhost:8080/",
          "height": 282
        },
        "id": "kugACK7CSSgk",
        "outputId": "3554a419-8727-4f3a-ca3f-88583dd3390b"
      },
      "execution_count": 58,
      "outputs": [
        {
          "output_type": "execute_result",
          "data": {
            "text/plain": [
              "<matplotlib.axes._subplots.AxesSubplot at 0x7fa3ac5f3450>"
            ]
          },
          "metadata": {},
          "execution_count": 58
        },
        {
          "output_type": "display_data",
          "data": {
            "text/plain": [
              "<Figure size 432x288 with 1 Axes>"
            ],
            "image/png": "[encoded data removed]"
          },
          "metadata": {
            "needs_background": "light"
          }
        }
      ]
    },
    {
      "cell_type": "markdown",
      "source": [
        "### Tracking your experiments\n",
        "\n",
        "one really good habbit in machine learning modelling is to track the results of the experiments.\n",
        "\n",
        "It can be tedious in doing so if experiments are large in number\n",
        "\n",
        "We can utilise **Tensorboard** for it\n",
        "and also **weights & biases** https://wandb.ai/site"
      ],
      "metadata": {
        "id": "XtF5Kpg-eEuU"
      }
    },
    {
      "cell_type": "markdown",
      "source": [
        "## Saving the model\n",
        "We can save the model in two formats\n",
        "1. The SavedModel Format\n",
        "2. The HDF5 format"
      ],
      "metadata": {
        "id": "INgztAi0gzW6"
      }
    },
    {
      "cell_type": "code",
      "source": [
        "import os\n",
        "ROOT=\"/content/drive/MyDrive/Tensorflow certifications work\"\n",
        "os.chdir(ROOT)\n",
        "!pwd"
      ],
      "metadata": {
        "colab": {
          "base_uri": "https://localhost:8080/"
        },
        "id": "oJbeC_0RhMcV",
        "outputId": "c23f6580-6fde-4539-cb1e-44479ec54d14"
      },
      "execution_count": 59,
      "outputs": [
        {
          "output_type": "stream",
          "name": "stdout",
          "text": [
            "/content/drive/MyDrive/Tensorflow certifications work\n"
          ]
        }
      ]
    },
    {
      "cell_type": "code",
      "source": [
        "## saving the model into savedmodel format\n",
        "model_1.save(\"My_best_Model_in_saved_format\")"
      ],
      "metadata": {
        "id": "YPyDJa05SfeA"
      },
      "execution_count": 60,
      "outputs": []
    },
    {
      "cell_type": "code",
      "source": [
        "## saving the model in hdf5 format\n",
        "model_1.save(\"My_best_model_in_hdf5_format.h5\")"
      ],
      "metadata": {
        "id": "djESMb4jhZeJ"
      },
      "execution_count": 61,
      "outputs": []
    },
    {
      "cell_type": "markdown",
      "source": [
        "## Loading the saved models"
      ],
      "metadata": {
        "id": "fBZEE0F_jTbT"
      }
    },
    {
      "cell_type": "code",
      "source": [
        "loaded_saved_model = tf.keras.models.load_model(\"/content/drive/MyDrive/Tensorflow certifications work/My_best_Model_in_saved_format\")\n",
        "loaded_saved_models_predictions = loaded_saved_model.predict(x_test)\n",
        "loaded_saved_models_predictions"
      ],
      "metadata": {
        "colab": {
          "base_uri": "https://localhost:8080/"
        },
        "id": "wK2dYQfEhkdS",
        "outputId": "5ba6df82-4ed9-4ab6-bf4a-ce2e2876cc68"
      },
      "execution_count": 62,
      "outputs": [
        {
          "output_type": "execute_result",
          "data": {
            "text/plain": [
              "array([[ 64.92592 ],\n",
              "       [ 69.16973 ],\n",
              "       [ 73.41354 ],\n",
              "       [ 77.65736 ],\n",
              "       [ 81.90116 ],\n",
              "       [ 86.14497 ],\n",
              "       [ 90.38879 ],\n",
              "       [ 94.6326  ],\n",
              "       [ 98.87641 ],\n",
              "       [103.120224]], dtype=float32)"
            ]
          },
          "metadata": {},
          "execution_count": 62
        }
      ]
    },
    {
      "cell_type": "code",
      "source": [
        "## comparing the predictions of the loaded model to the model_1\n",
        "model_1_predictions = model_1.predict(x_test)\n",
        "loaded_saved_models_predictions == model_1_predictions"
      ],
      "metadata": {
        "colab": {
          "base_uri": "https://localhost:8080/"
        },
        "id": "UNYztjg8jpVA",
        "outputId": "65cf7fc9-206b-4d39-cc5e-efeb30a77594"
      },
      "execution_count": 63,
      "outputs": [
        {
          "output_type": "execute_result",
          "data": {
            "text/plain": [
              "array([[ True],\n",
              "       [ True],\n",
              "       [ True],\n",
              "       [ True],\n",
              "       [ True],\n",
              "       [ True],\n",
              "       [ True],\n",
              "       [ True],\n",
              "       [ True],\n",
              "       [ True]])"
            ]
          },
          "metadata": {},
          "execution_count": 63
        }
      ]
    },
    {
      "cell_type": "code",
      "source": [
        "## comparing the mae of above both\n",
        "mae_model_1 = mae(true=y_test,pred = model_1_predictions)\n",
        "mae_loaded_model = mae(true=y_test, pred = loaded_saved_models_predictions)\n",
        "print(mae_model_1 == mae_loaded_model)"
      ],
      "metadata": {
        "colab": {
          "base_uri": "https://localhost:8080/"
        },
        "id": "chUe186kj1F6",
        "outputId": "21532462-9ee3-47d2-cc0d-10f9c9155576"
      },
      "execution_count": 64,
      "outputs": [
        {
          "output_type": "stream",
          "name": "stdout",
          "text": [
            "tf.Tensor(True, shape=(), dtype=bool)\n"
          ]
        }
      ]
    },
    {
      "cell_type": "code",
      "source": [
        "## Loading the h5 model\n",
        "loaded_h5_model = tf.keras.models.load_model(\"/content/drive/MyDrive/Tensorflow certifications work/My_best_model_in_hdf5_format.h5\")\n",
        "loaded_h5_model_predictions = loaded_h5_model.predict(x_test)\n",
        "model_1_predictions == loaded_h5_model_predictions"
      ],
      "metadata": {
        "colab": {
          "base_uri": "https://localhost:8080/"
        },
        "id": "uXodnPCikLPT",
        "outputId": "8ea8da36-8add-4d2c-f4e0-175926b0ade4"
      },
      "execution_count": 65,
      "outputs": [
        {
          "output_type": "execute_result",
          "data": {
            "text/plain": [
              "array([[ True],\n",
              "       [ True],\n",
              "       [ True],\n",
              "       [ True],\n",
              "       [ True],\n",
              "       [ True],\n",
              "       [ True],\n",
              "       [ True],\n",
              "       [ True],\n",
              "       [ True]])"
            ]
          },
          "metadata": {},
          "execution_count": 65
        }
      ]
    },
    {
      "cell_type": "markdown",
      "source": [
        "## We observed that the loaded model is performing as same as the existing models"
      ],
      "metadata": {
        "id": "htMWYZoElA2U"
      }
    },
    {
      "cell_type": "code",
      "source": [
        "loaded_h5_model.summary()"
      ],
      "metadata": {
        "colab": {
          "base_uri": "https://localhost:8080/"
        },
        "id": "4ciRHrV6kdH4",
        "outputId": "fa86f8b0-4632-496b-86ef-23861649dd9f"
      },
      "execution_count": 66,
      "outputs": [
        {
          "output_type": "stream",
          "name": "stdout",
          "text": [
            "Model: \"sequential_10\"\n",
            "_________________________________________________________________\n",
            " Layer (type)                Output Shape              Param #   \n",
            "=================================================================\n",
            " dense_22 (Dense)            (None, 1)                 2         \n",
            "                                                                 \n",
            "=================================================================\n",
            "Total params: 2\n",
            "Trainable params: 2\n",
            "Non-trainable params: 0\n",
            "_________________________________________________________________\n"
          ]
        }
      ]
    },
    {
      "cell_type": "code",
      "source": [
        "loaded_saved_model.summary()"
      ],
      "metadata": {
        "colab": {
          "base_uri": "https://localhost:8080/"
        },
        "id": "SsWnl2Yuk_4P",
        "outputId": "06ee0882-65a6-40e0-9d30-acf1b7d7e961"
      },
      "execution_count": 67,
      "outputs": [
        {
          "output_type": "stream",
          "name": "stdout",
          "text": [
            "Model: \"sequential_10\"\n",
            "_________________________________________________________________\n",
            " Layer (type)                Output Shape              Param #   \n",
            "=================================================================\n",
            " dense_22 (Dense)            (None, 1)                 2         \n",
            "                                                                 \n",
            "=================================================================\n",
            "Total params: 2\n",
            "Trainable params: 2\n",
            "Non-trainable params: 0\n",
            "_________________________________________________________________\n"
          ]
        }
      ]
    },
    {
      "cell_type": "code",
      "source": [
        "model_1.summary()"
      ],
      "metadata": {
        "colab": {
          "base_uri": "https://localhost:8080/"
        },
        "id": "O9e2DNE-lG2m",
        "outputId": "385fbf22-6373-4c51-8df6-297a68a5e787"
      },
      "execution_count": 68,
      "outputs": [
        {
          "output_type": "stream",
          "name": "stdout",
          "text": [
            "Model: \"sequential_10\"\n",
            "_________________________________________________________________\n",
            " Layer (type)                Output Shape              Param #   \n",
            "=================================================================\n",
            " dense_22 (Dense)            (None, 1)                 2         \n",
            "                                                                 \n",
            "=================================================================\n",
            "Total params: 2\n",
            "Trainable params: 2\n",
            "Non-trainable params: 0\n",
            "_________________________________________________________________\n"
          ]
        }
      ]
    },
    {
      "cell_type": "markdown",
      "source": [
        "## Let's work on a larger dataset...Insurance premium prediction"
      ],
      "metadata": {
        "id": "68DVs3Jf8JMn"
      }
    },
    {
      "cell_type": "code",
      "source": [
        "## importing libraries\n",
        "import tensorflow as tf\n",
        "import pandas as pd\n",
        "import matplotlib.pyplot as plt\n",
        "from sklearn.model_selection import train_test_split"
      ],
      "metadata": {
        "id": "0Gkil-P1lJSi"
      },
      "execution_count": 69,
      "outputs": []
    },
    {
      "cell_type": "code",
      "source": [
        "## reading the csv file\n",
        "df = pd.read_csv(\"https://raw.githubusercontent.com/nikhilpatil44/insurance-premium-prediction/main/insurance.csv\")\n",
        "df.head()"
      ],
      "metadata": {
        "colab": {
          "base_uri": "https://localhost:8080/",
          "height": 206
        },
        "id": "70dsdFGT8cJI",
        "outputId": "ac5448ec-0b22-444b-9775-aa5d20c2f956"
      },
      "execution_count": 70,
      "outputs": [
        {
          "output_type": "execute_result",
          "data": {
            "text/plain": [
              "   age     sex   bmi  children smoker     region  expenses\n",
              "0   19  female  27.9         0    yes  southwest  16884.92\n",
              "1   18    male  33.8         1     no  southeast   1725.55\n",
              "2   28    male  33.0         3     no  southeast   4449.46\n",
              "3   33    male  22.7         0     no  northwest  21984.47\n",
              "4   32    male  28.9         0     no  northwest   3866.86"
            ],
            "text/html": [
              "\n",
              "  <div id=\"df-c2163848-7225-4131-b4a7-15b6e88bb5f3\">\n",
              "    <div class=\"colab-df-container\">\n",
              "      <div>\n",
              "<style scoped>\n",
              "    .dataframe tbody tr th:only-of-type {\n",
              "        vertical-align: middle;\n",
              "    }\n",
              "\n",
              "    .dataframe tbody tr th {\n",
              "        vertical-align: top;\n",
              "    }\n",
              "\n",
              "    .dataframe thead th {\n",
              "        text-align: right;\n",
              "    }\n",
              "</style>\n",
              "<table border=\"1\" class=\"dataframe\">\n",
              "  <thead>\n",
              "    <tr style=\"text-align: right;\">\n",
              "      <th></th>\n",
              "      <th>age</th>\n",
              "      <th>sex</th>\n",
              "      <th>bmi</th>\n",
              "      <th>children</th>\n",
              "      <th>smoker</th>\n",
              "      <th>region</th>\n",
              "      <th>expenses</th>\n",
              "    </tr>\n",
              "  </thead>\n",
              "  <tbody>\n",
              "    <tr>\n",
              "      <th>0</th>\n",
              "      <td>19</td>\n",
              "      <td>female</td>\n",
              "      <td>27.9</td>\n",
              "      <td>0</td>\n",
              "      <td>yes</td>\n",
              "      <td>southwest</td>\n",
              "      <td>16884.92</td>\n",
              "    </tr>\n",
              "    <tr>\n",
              "      <th>1</th>\n",
              "      <td>18</td>\n",
              "      <td>male</td>\n",
              "      <td>33.8</td>\n",
              "      <td>1</td>\n",
              "      <td>no</td>\n",
              "      <td>southeast</td>\n",
              "      <td>1725.55</td>\n",
              "    </tr>\n",
              "    <tr>\n",
              "      <th>2</th>\n",
              "      <td>28</td>\n",
              "      <td>male</td>\n",
              "      <td>33.0</td>\n",
              "      <td>3</td>\n",
              "      <td>no</td>\n",
              "      <td>southeast</td>\n",
              "      <td>4449.46</td>\n",
              "    </tr>\n",
              "    <tr>\n",
              "      <th>3</th>\n",
              "      <td>33</td>\n",
              "      <td>male</td>\n",
              "      <td>22.7</td>\n",
              "      <td>0</td>\n",
              "      <td>no</td>\n",
              "      <td>northwest</td>\n",
              "      <td>21984.47</td>\n",
              "    </tr>\n",
              "    <tr>\n",
              "      <th>4</th>\n",
              "      <td>32</td>\n",
              "      <td>male</td>\n",
              "      <td>28.9</td>\n",
              "      <td>0</td>\n",
              "      <td>no</td>\n",
              "      <td>northwest</td>\n",
              "      <td>3866.86</td>\n",
              "    </tr>\n",
              "  </tbody>\n",
              "</table>\n",
              "</div>\n",
              "      <button class=\"colab-df-convert\" onclick=\"convertToInteractive('df-c2163848-7225-4131-b4a7-15b6e88bb5f3')\"\n",
              "              title=\"Convert this dataframe to an interactive table.\"\n",
              "              style=\"display:none;\">\n",
              "        \n",
              "  <svg xmlns=\"http://www.w3.org/2000/svg\" height=\"24px\"viewBox=\"0 0 24 24\"\n",
              "       width=\"24px\">\n",
              "    <path d=\"M0 0h24v24H0V0z\" fill=\"none\"/>\n",
              "    <path d=\"M18.56 5.44l.94 2.06.94-2.06 2.06-.94-2.06-.94-.94-2.06-.94 2.06-2.06.94zm-11 1L8.5 8.5l.94-2.06 2.06-.94-2.06-.94L8.5 2.5l-.94 2.06-2.06.94zm10 10l.94 2.06.94-2.06 2.06-.94-2.06-.94-.94-2.06-.94 2.06-2.06.94z\"/><path d=\"M17.41 7.96l-1.37-1.37c-.4-.4-.92-.59-1.43-.59-.52 0-1.04.2-1.43.59L10.3 9.45l-7.72 7.72c-.78.78-.78 2.05 0 2.83L4 21.41c.39.39.9.59 1.41.59.51 0 1.02-.2 1.41-.59l7.78-7.78 2.81-2.81c.8-.78.8-2.07 0-2.86zM5.41 20L4 18.59l7.72-7.72 1.47 1.35L5.41 20z\"/>\n",
              "  </svg>\n",
              "      </button>\n",
              "      \n",
              "  <style>\n",
              "    .colab-df-container {\n",
              "      display:flex;\n",
              "      flex-wrap:wrap;\n",
              "      gap: 12px;\n",
              "    }\n",
              "\n",
              "    .colab-df-convert {\n",
              "      background-color: #E8F0FE;\n",
              "      border: none;\n",
              "      border-radius: 50%;\n",
              "      cursor: pointer;\n",
              "      display: none;\n",
              "      fill: #1967D2;\n",
              "      height: 32px;\n",
              "      padding: 0 0 0 0;\n",
              "      width: 32px;\n",
              "    }\n",
              "\n",
              "    .colab-df-convert:hover {\n",
              "      background-color: #E2EBFA;\n",
              "      box-shadow: 0px 1px 2px rgba(60, 64, 67, 0.3), 0px 1px 3px 1px rgba(60, 64, 67, 0.15);\n",
              "      fill: #174EA6;\n",
              "    }\n",
              "\n",
              "    [theme=dark] .colab-df-convert {\n",
              "      background-color: #3B4455;\n",
              "      fill: #D2E3FC;\n",
              "    }\n",
              "\n",
              "    [theme=dark] .colab-df-convert:hover {\n",
              "      background-color: #434B5C;\n",
              "      box-shadow: 0px 1px 3px 1px rgba(0, 0, 0, 0.15);\n",
              "      filter: drop-shadow(0px 1px 2px rgba(0, 0, 0, 0.3));\n",
              "      fill: #FFFFFF;\n",
              "    }\n",
              "  </style>\n",
              "\n",
              "      <script>\n",
              "        const buttonEl =\n",
              "          document.querySelector('#df-c2163848-7225-4131-b4a7-15b6e88bb5f3 button.colab-df-convert');\n",
              "        buttonEl.style.display =\n",
              "          google.colab.kernel.accessAllowed ? 'block' : 'none';\n",
              "\n",
              "        async function convertToInteractive(key) {\n",
              "          const element = document.querySelector('#df-c2163848-7225-4131-b4a7-15b6e88bb5f3');\n",
              "          const dataTable =\n",
              "            await google.colab.kernel.invokeFunction('convertToInteractive',\n",
              "                                                     [key], {});\n",
              "          if (!dataTable) return;\n",
              "\n",
              "          const docLinkHtml = 'Like what you see? Visit the ' +\n",
              "            '<a target=\"_blank\" href=https://colab.research.google.com/notebooks/data_table.ipynb>data table notebook</a>'\n",
              "            + ' to learn more about interactive tables.';\n",
              "          element.innerHTML = '';\n",
              "          dataTable['output_type'] = 'display_data';\n",
              "          await google.colab.output.renderOutput(dataTable, element);\n",
              "          const docLink = document.createElement('div');\n",
              "          docLink.innerHTML = docLinkHtml;\n",
              "          element.appendChild(docLink);\n",
              "        }\n",
              "      </script>\n",
              "    </div>\n",
              "  </div>\n",
              "  "
            ]
          },
          "metadata": {},
          "execution_count": 70
        }
      ]
    },
    {
      "cell_type": "code",
      "source": [
        "df.shape"
      ],
      "metadata": {
        "colab": {
          "base_uri": "https://localhost:8080/"
        },
        "id": "viJ6gEnt80N0",
        "outputId": "fc508939-3f55-4fb4-8f85-11fc99f4a350"
      },
      "execution_count": 71,
      "outputs": [
        {
          "output_type": "execute_result",
          "data": {
            "text/plain": [
              "(1338, 7)"
            ]
          },
          "metadata": {},
          "execution_count": 71
        }
      ]
    },
    {
      "cell_type": "code",
      "source": [
        "df.dtypes"
      ],
      "metadata": {
        "colab": {
          "base_uri": "https://localhost:8080/"
        },
        "id": "0oU8mIHQ9q7P",
        "outputId": "7c57bf3d-bbfe-4029-8ed5-4f260263cebd"
      },
      "execution_count": 72,
      "outputs": [
        {
          "output_type": "execute_result",
          "data": {
            "text/plain": [
              "age           int64\n",
              "sex          object\n",
              "bmi         float64\n",
              "children      int64\n",
              "smoker       object\n",
              "region       object\n",
              "expenses    float64\n",
              "dtype: object"
            ]
          },
          "metadata": {},
          "execution_count": 72
        }
      ]
    },
    {
      "cell_type": "code",
      "source": [
        "## Let's one hot encode the dataset for removing categorical features\n",
        "insurance_one_hot = pd.get_dummies(df)\n",
        "insurance_one_hot.head()"
      ],
      "metadata": {
        "colab": {
          "base_uri": "https://localhost:8080/",
          "height": 270
        },
        "id": "xuY2InxD9DJ6",
        "outputId": "01d9e82f-74fa-4159-db40-4ecc574e85a5"
      },
      "execution_count": 73,
      "outputs": [
        {
          "output_type": "execute_result",
          "data": {
            "text/plain": [
              "   age   bmi  children  expenses  sex_female  sex_male  smoker_no  smoker_yes  \\\n",
              "0   19  27.9         0  16884.92           1         0          0           1   \n",
              "1   18  33.8         1   1725.55           0         1          1           0   \n",
              "2   28  33.0         3   4449.46           0         1          1           0   \n",
              "3   33  22.7         0  21984.47           0         1          1           0   \n",
              "4   32  28.9         0   3866.86           0         1          1           0   \n",
              "\n",
              "   region_northeast  region_northwest  region_southeast  region_southwest  \n",
              "0                 0                 0                 0                 1  \n",
              "1                 0                 0                 1                 0  \n",
              "2                 0                 0                 1                 0  \n",
              "3                 0                 1                 0                 0  \n",
              "4                 0                 1                 0                 0  "
            ],
            "text/html": [
              "\n",
              "  <div id=\"df-19cb4b46-9d36-4676-aa7f-1a0a1246fb14\">\n",
              "    <div class=\"colab-df-container\">\n",
              "      <div>\n",
              "<style scoped>\n",
              "    .dataframe tbody tr th:only-of-type {\n",
              "        vertical-align: middle;\n",
              "    }\n",
              "\n",
              "    .dataframe tbody tr th {\n",
              "        vertical-align: top;\n",
              "    }\n",
              "\n",
              "    .dataframe thead th {\n",
              "        text-align: right;\n",
              "    }\n",
              "</style>\n",
              "<table border=\"1\" class=\"dataframe\">\n",
              "  <thead>\n",
              "    <tr style=\"text-align: right;\">\n",
              "      <th></th>\n",
              "      <th>age</th>\n",
              "      <th>bmi</th>\n",
              "      <th>children</th>\n",
              "      <th>expenses</th>\n",
              "      <th>sex_female</th>\n",
              "      <th>sex_male</th>\n",
              "      <th>smoker_no</th>\n",
              "      <th>smoker_yes</th>\n",
              "      <th>region_northeast</th>\n",
              "      <th>region_northwest</th>\n",
              "      <th>region_southeast</th>\n",
              "      <th>region_southwest</th>\n",
              "    </tr>\n",
              "  </thead>\n",
              "  <tbody>\n",
              "    <tr>\n",
              "      <th>0</th>\n",
              "      <td>19</td>\n",
              "      <td>27.9</td>\n",
              "      <td>0</td>\n",
              "      <td>16884.92</td>\n",
              "      <td>1</td>\n",
              "      <td>0</td>\n",
              "      <td>0</td>\n",
              "      <td>1</td>\n",
              "      <td>0</td>\n",
              "      <td>0</td>\n",
              "      <td>0</td>\n",
              "      <td>1</td>\n",
              "    </tr>\n",
              "    <tr>\n",
              "      <th>1</th>\n",
              "      <td>18</td>\n",
              "      <td>33.8</td>\n",
              "      <td>1</td>\n",
              "      <td>1725.55</td>\n",
              "      <td>0</td>\n",
              "      <td>1</td>\n",
              "      <td>1</td>\n",
              "      <td>0</td>\n",
              "      <td>0</td>\n",
              "      <td>0</td>\n",
              "      <td>1</td>\n",
              "      <td>0</td>\n",
              "    </tr>\n",
              "    <tr>\n",
              "      <th>2</th>\n",
              "      <td>28</td>\n",
              "      <td>33.0</td>\n",
              "      <td>3</td>\n",
              "      <td>4449.46</td>\n",
              "      <td>0</td>\n",
              "      <td>1</td>\n",
              "      <td>1</td>\n",
              "      <td>0</td>\n",
              "      <td>0</td>\n",
              "      <td>0</td>\n",
              "      <td>1</td>\n",
              "      <td>0</td>\n",
              "    </tr>\n",
              "    <tr>\n",
              "      <th>3</th>\n",
              "      <td>33</td>\n",
              "      <td>22.7</td>\n",
              "      <td>0</td>\n",
              "      <td>21984.47</td>\n",
              "      <td>0</td>\n",
              "      <td>1</td>\n",
              "      <td>1</td>\n",
              "      <td>0</td>\n",
              "      <td>0</td>\n",
              "      <td>1</td>\n",
              "      <td>0</td>\n",
              "      <td>0</td>\n",
              "    </tr>\n",
              "    <tr>\n",
              "      <th>4</th>\n",
              "      <td>32</td>\n",
              "      <td>28.9</td>\n",
              "      <td>0</td>\n",
              "      <td>3866.86</td>\n",
              "      <td>0</td>\n",
              "      <td>1</td>\n",
              "      <td>1</td>\n",
              "      <td>0</td>\n",
              "      <td>0</td>\n",
              "      <td>1</td>\n",
              "      <td>0</td>\n",
              "      <td>0</td>\n",
              "    </tr>\n",
              "  </tbody>\n",
              "</table>\n",
              "</div>\n",
              "      <button class=\"colab-df-convert\" onclick=\"convertToInteractive('df-19cb4b46-9d36-4676-aa7f-1a0a1246fb14')\"\n",
              "              title=\"Convert this dataframe to an interactive table.\"\n",
              "              style=\"display:none;\">\n",
              "        \n",
              "  <svg xmlns=\"http://www.w3.org/2000/svg\" height=\"24px\"viewBox=\"0 0 24 24\"\n",
              "       width=\"24px\">\n",
              "    <path d=\"M0 0h24v24H0V0z\" fill=\"none\"/>\n",
              "    <path d=\"M18.56 5.44l.94 2.06.94-2.06 2.06-.94-2.06-.94-.94-2.06-.94 2.06-2.06.94zm-11 1L8.5 8.5l.94-2.06 2.06-.94-2.06-.94L8.5 2.5l-.94 2.06-2.06.94zm10 10l.94 2.06.94-2.06 2.06-.94-2.06-.94-.94-2.06-.94 2.06-2.06.94z\"/><path d=\"M17.41 7.96l-1.37-1.37c-.4-.4-.92-.59-1.43-.59-.52 0-1.04.2-1.43.59L10.3 9.45l-7.72 7.72c-.78.78-.78 2.05 0 2.83L4 21.41c.39.39.9.59 1.41.59.51 0 1.02-.2 1.41-.59l7.78-7.78 2.81-2.81c.8-.78.8-2.07 0-2.86zM5.41 20L4 18.59l7.72-7.72 1.47 1.35L5.41 20z\"/>\n",
              "  </svg>\n",
              "      </button>\n",
              "      \n",
              "  <style>\n",
              "    .colab-df-container {\n",
              "      display:flex;\n",
              "      flex-wrap:wrap;\n",
              "      gap: 12px;\n",
              "    }\n",
              "\n",
              "    .colab-df-convert {\n",
              "      background-color: #E8F0FE;\n",
              "      border: none;\n",
              "      border-radius: 50%;\n",
              "      cursor: pointer;\n",
              "      display: none;\n",
              "      fill: #1967D2;\n",
              "      height: 32px;\n",
              "      padding: 0 0 0 0;\n",
              "      width: 32px;\n",
              "    }\n",
              "\n",
              "    .colab-df-convert:hover {\n",
              "      background-color: #E2EBFA;\n",
              "      box-shadow: 0px 1px 2px rgba(60, 64, 67, 0.3), 0px 1px 3px 1px rgba(60, 64, 67, 0.15);\n",
              "      fill: #174EA6;\n",
              "    }\n",
              "\n",
              "    [theme=dark] .colab-df-convert {\n",
              "      background-color: #3B4455;\n",
              "      fill: #D2E3FC;\n",
              "    }\n",
              "\n",
              "    [theme=dark] .colab-df-convert:hover {\n",
              "      background-color: #434B5C;\n",
              "      box-shadow: 0px 1px 3px 1px rgba(0, 0, 0, 0.15);\n",
              "      filter: drop-shadow(0px 1px 2px rgba(0, 0, 0, 0.3));\n",
              "      fill: #FFFFFF;\n",
              "    }\n",
              "  </style>\n",
              "\n",
              "      <script>\n",
              "        const buttonEl =\n",
              "          document.querySelector('#df-19cb4b46-9d36-4676-aa7f-1a0a1246fb14 button.colab-df-convert');\n",
              "        buttonEl.style.display =\n",
              "          google.colab.kernel.accessAllowed ? 'block' : 'none';\n",
              "\n",
              "        async function convertToInteractive(key) {\n",
              "          const element = document.querySelector('#df-19cb4b46-9d36-4676-aa7f-1a0a1246fb14');\n",
              "          const dataTable =\n",
              "            await google.colab.kernel.invokeFunction('convertToInteractive',\n",
              "                                                     [key], {});\n",
              "          if (!dataTable) return;\n",
              "\n",
              "          const docLinkHtml = 'Like what you see? Visit the ' +\n",
              "            '<a target=\"_blank\" href=https://colab.research.google.com/notebooks/data_table.ipynb>data table notebook</a>'\n",
              "            + ' to learn more about interactive tables.';\n",
              "          element.innerHTML = '';\n",
              "          dataTable['output_type'] = 'display_data';\n",
              "          await google.colab.output.renderOutput(dataTable, element);\n",
              "          const docLink = document.createElement('div');\n",
              "          docLink.innerHTML = docLinkHtml;\n",
              "          element.appendChild(docLink);\n",
              "        }\n",
              "      </script>\n",
              "    </div>\n",
              "  </div>\n",
              "  "
            ]
          },
          "metadata": {},
          "execution_count": 73
        }
      ]
    },
    {
      "cell_type": "code",
      "source": [
        "insurance_one_hot.dtypes"
      ],
      "metadata": {
        "colab": {
          "base_uri": "https://localhost:8080/"
        },
        "id": "_jzpDM9S9tKY",
        "outputId": "1e9da142-5155-41e4-fb97-1b70a4253ac8"
      },
      "execution_count": 74,
      "outputs": [
        {
          "output_type": "execute_result",
          "data": {
            "text/plain": [
              "age                   int64\n",
              "bmi                 float64\n",
              "children              int64\n",
              "expenses            float64\n",
              "sex_female            uint8\n",
              "sex_male              uint8\n",
              "smoker_no             uint8\n",
              "smoker_yes            uint8\n",
              "region_northeast      uint8\n",
              "region_northwest      uint8\n",
              "region_southeast      uint8\n",
              "region_southwest      uint8\n",
              "dtype: object"
            ]
          },
          "metadata": {},
          "execution_count": 74
        }
      ]
    },
    {
      "cell_type": "markdown",
      "source": [
        "## We know that we have increased the columns and not handled it effectively, our dataset has dummy variable trap but as of now we will try to develop the NN with this only later on we can work on fixing it."
      ],
      "metadata": {
        "id": "IhwKgttP9a0a"
      }
    },
    {
      "cell_type": "code",
      "source": [
        "## Let's create X, y values i.e features and labels\n",
        "y = insurance_one_hot['expenses']\n",
        "X = insurance_one_hot.drop(\"expenses\", axis=1)\n",
        "X.head()"
      ],
      "metadata": {
        "colab": {
          "base_uri": "https://localhost:8080/",
          "height": 270
        },
        "id": "tZ6UYWLZ9RYq",
        "outputId": "c292f35f-e431-4040-91e5-95d1f60a252f"
      },
      "execution_count": 75,
      "outputs": [
        {
          "output_type": "execute_result",
          "data": {
            "text/plain": [
              "   age   bmi  children  sex_female  sex_male  smoker_no  smoker_yes  \\\n",
              "0   19  27.9         0           1         0          0           1   \n",
              "1   18  33.8         1           0         1          1           0   \n",
              "2   28  33.0         3           0         1          1           0   \n",
              "3   33  22.7         0           0         1          1           0   \n",
              "4   32  28.9         0           0         1          1           0   \n",
              "\n",
              "   region_northeast  region_northwest  region_southeast  region_southwest  \n",
              "0                 0                 0                 0                 1  \n",
              "1                 0                 0                 1                 0  \n",
              "2                 0                 0                 1                 0  \n",
              "3                 0                 1                 0                 0  \n",
              "4                 0                 1                 0                 0  "
            ],
            "text/html": [
              "\n",
              "  <div id=\"df-78cfb5a0-65a2-4fde-b984-6cbd96b9d7e2\">\n",
              "    <div class=\"colab-df-container\">\n",
              "      <div>\n",
              "<style scoped>\n",
              "    .dataframe tbody tr th:only-of-type {\n",
              "        vertical-align: middle;\n",
              "    }\n",
              "\n",
              "    .dataframe tbody tr th {\n",
              "        vertical-align: top;\n",
              "    }\n",
              "\n",
              "    .dataframe thead th {\n",
              "        text-align: right;\n",
              "    }\n",
              "</style>\n",
              "<table border=\"1\" class=\"dataframe\">\n",
              "  <thead>\n",
              "    <tr style=\"text-align: right;\">\n",
              "      <th></th>\n",
              "      <th>age</th>\n",
              "      <th>bmi</th>\n",
              "      <th>children</th>\n",
              "      <th>sex_female</th>\n",
              "      <th>sex_male</th>\n",
              "      <th>smoker_no</th>\n",
              "      <th>smoker_yes</th>\n",
              "      <th>region_northeast</th>\n",
              "      <th>region_northwest</th>\n",
              "      <th>region_southeast</th>\n",
              "      <th>region_southwest</th>\n",
              "    </tr>\n",
              "  </thead>\n",
              "  <tbody>\n",
              "    <tr>\n",
              "      <th>0</th>\n",
              "      <td>19</td>\n",
              "      <td>27.9</td>\n",
              "      <td>0</td>\n",
              "      <td>1</td>\n",
              "      <td>0</td>\n",
              "      <td>0</td>\n",
              "      <td>1</td>\n",
              "      <td>0</td>\n",
              "      <td>0</td>\n",
              "      <td>0</td>\n",
              "      <td>1</td>\n",
              "    </tr>\n",
              "    <tr>\n",
              "      <th>1</th>\n",
              "      <td>18</td>\n",
              "      <td>33.8</td>\n",
              "      <td>1</td>\n",
              "      <td>0</td>\n",
              "      <td>1</td>\n",
              "      <td>1</td>\n",
              "      <td>0</td>\n",
              "      <td>0</td>\n",
              "      <td>0</td>\n",
              "      <td>1</td>\n",
              "      <td>0</td>\n",
              "    </tr>\n",
              "    <tr>\n",
              "      <th>2</th>\n",
              "      <td>28</td>\n",
              "      <td>33.0</td>\n",
              "      <td>3</td>\n",
              "      <td>0</td>\n",
              "      <td>1</td>\n",
              "      <td>1</td>\n",
              "      <td>0</td>\n",
              "      <td>0</td>\n",
              "      <td>0</td>\n",
              "      <td>1</td>\n",
              "      <td>0</td>\n",
              "    </tr>\n",
              "    <tr>\n",
              "      <th>3</th>\n",
              "      <td>33</td>\n",
              "      <td>22.7</td>\n",
              "      <td>0</td>\n",
              "      <td>0</td>\n",
              "      <td>1</td>\n",
              "      <td>1</td>\n",
              "      <td>0</td>\n",
              "      <td>0</td>\n",
              "      <td>1</td>\n",
              "      <td>0</td>\n",
              "      <td>0</td>\n",
              "    </tr>\n",
              "    <tr>\n",
              "      <th>4</th>\n",
              "      <td>32</td>\n",
              "      <td>28.9</td>\n",
              "      <td>0</td>\n",
              "      <td>0</td>\n",
              "      <td>1</td>\n",
              "      <td>1</td>\n",
              "      <td>0</td>\n",
              "      <td>0</td>\n",
              "      <td>1</td>\n",
              "      <td>0</td>\n",
              "      <td>0</td>\n",
              "    </tr>\n",
              "  </tbody>\n",
              "</table>\n",
              "</div>\n",
              "      <button class=\"colab-df-convert\" onclick=\"convertToInteractive('df-78cfb5a0-65a2-4fde-b984-6cbd96b9d7e2')\"\n",
              "              title=\"Convert this dataframe to an interactive table.\"\n",
              "              style=\"display:none;\">\n",
              "        \n",
              "  <svg xmlns=\"http://www.w3.org/2000/svg\" height=\"24px\"viewBox=\"0 0 24 24\"\n",
              "       width=\"24px\">\n",
              "    <path d=\"M0 0h24v24H0V0z\" fill=\"none\"/>\n",
              "    <path d=\"M18.56 5.44l.94 2.06.94-2.06 2.06-.94-2.06-.94-.94-2.06-.94 2.06-2.06.94zm-11 1L8.5 8.5l.94-2.06 2.06-.94-2.06-.94L8.5 2.5l-.94 2.06-2.06.94zm10 10l.94 2.06.94-2.06 2.06-.94-2.06-.94-.94-2.06-.94 2.06-2.06.94z\"/><path d=\"M17.41 7.96l-1.37-1.37c-.4-.4-.92-.59-1.43-.59-.52 0-1.04.2-1.43.59L10.3 9.45l-7.72 7.72c-.78.78-.78 2.05 0 2.83L4 21.41c.39.39.9.59 1.41.59.51 0 1.02-.2 1.41-.59l7.78-7.78 2.81-2.81c.8-.78.8-2.07 0-2.86zM5.41 20L4 18.59l7.72-7.72 1.47 1.35L5.41 20z\"/>\n",
              "  </svg>\n",
              "      </button>\n",
              "      \n",
              "  <style>\n",
              "    .colab-df-container {\n",
              "      display:flex;\n",
              "      flex-wrap:wrap;\n",
              "      gap: 12px;\n",
              "    }\n",
              "\n",
              "    .colab-df-convert {\n",
              "      background-color: #E8F0FE;\n",
              "      border: none;\n",
              "      border-radius: 50%;\n",
              "      cursor: pointer;\n",
              "      display: none;\n",
              "      fill: #1967D2;\n",
              "      height: 32px;\n",
              "      padding: 0 0 0 0;\n",
              "      width: 32px;\n",
              "    }\n",
              "\n",
              "    .colab-df-convert:hover {\n",
              "      background-color: #E2EBFA;\n",
              "      box-shadow: 0px 1px 2px rgba(60, 64, 67, 0.3), 0px 1px 3px 1px rgba(60, 64, 67, 0.15);\n",
              "      fill: #174EA6;\n",
              "    }\n",
              "\n",
              "    [theme=dark] .colab-df-convert {\n",
              "      background-color: #3B4455;\n",
              "      fill: #D2E3FC;\n",
              "    }\n",
              "\n",
              "    [theme=dark] .colab-df-convert:hover {\n",
              "      background-color: #434B5C;\n",
              "      box-shadow: 0px 1px 3px 1px rgba(0, 0, 0, 0.15);\n",
              "      filter: drop-shadow(0px 1px 2px rgba(0, 0, 0, 0.3));\n",
              "      fill: #FFFFFF;\n",
              "    }\n",
              "  </style>\n",
              "\n",
              "      <script>\n",
              "        const buttonEl =\n",
              "          document.querySelector('#df-78cfb5a0-65a2-4fde-b984-6cbd96b9d7e2 button.colab-df-convert');\n",
              "        buttonEl.style.display =\n",
              "          google.colab.kernel.accessAllowed ? 'block' : 'none';\n",
              "\n",
              "        async function convertToInteractive(key) {\n",
              "          const element = document.querySelector('#df-78cfb5a0-65a2-4fde-b984-6cbd96b9d7e2');\n",
              "          const dataTable =\n",
              "            await google.colab.kernel.invokeFunction('convertToInteractive',\n",
              "                                                     [key], {});\n",
              "          if (!dataTable) return;\n",
              "\n",
              "          const docLinkHtml = 'Like what you see? Visit the ' +\n",
              "            '<a target=\"_blank\" href=https://colab.research.google.com/notebooks/data_table.ipynb>data table notebook</a>'\n",
              "            + ' to learn more about interactive tables.';\n",
              "          element.innerHTML = '';\n",
              "          dataTable['output_type'] = 'display_data';\n",
              "          await google.colab.output.renderOutput(dataTable, element);\n",
              "          const docLink = document.createElement('div');\n",
              "          docLink.innerHTML = docLinkHtml;\n",
              "          element.appendChild(docLink);\n",
              "        }\n",
              "      </script>\n",
              "    </div>\n",
              "  </div>\n",
              "  "
            ]
          },
          "metadata": {},
          "execution_count": 75
        }
      ]
    },
    {
      "cell_type": "code",
      "source": [
        "y.head()"
      ],
      "metadata": {
        "colab": {
          "base_uri": "https://localhost:8080/"
        },
        "id": "5O-UFjdh-eiu",
        "outputId": "3134dc6f-7d84-49b5-b49e-142a17ed361d"
      },
      "execution_count": 76,
      "outputs": [
        {
          "output_type": "execute_result",
          "data": {
            "text/plain": [
              "0    16884.92\n",
              "1     1725.55\n",
              "2     4449.46\n",
              "3    21984.47\n",
              "4     3866.86\n",
              "Name: expenses, dtype: float64"
            ]
          },
          "metadata": {},
          "execution_count": 76
        }
      ]
    },
    {
      "cell_type": "code",
      "source": [
        "X_train,X_test,y_train,y_test = train_test_split(X,y, test_size=0.25, random_state=42)\n",
        "len(X_train),len(X_test), len(y_train), len(y_test)"
      ],
      "metadata": {
        "colab": {
          "base_uri": "https://localhost:8080/"
        },
        "id": "xXW14euY_ImY",
        "outputId": "3220c21f-c0ab-4839-cc16-ca54c0c32367"
      },
      "execution_count": 77,
      "outputs": [
        {
          "output_type": "execute_result",
          "data": {
            "text/plain": [
              "(1003, 335, 1003, 335)"
            ]
          },
          "metadata": {},
          "execution_count": 77
        }
      ]
    },
    {
      "cell_type": "code",
      "source": [
        "X_train"
      ],
      "metadata": {
        "colab": {
          "base_uri": "https://localhost:8080/",
          "height": 488
        },
        "id": "Yiz-eiAk_3kV",
        "outputId": "1d2f5da1-0feb-4300-c99e-f9496c7486c7"
      },
      "execution_count": 78,
      "outputs": [
        {
          "output_type": "execute_result",
          "data": {
            "text/plain": [
              "      age   bmi  children  sex_female  sex_male  smoker_no  smoker_yes  \\\n",
              "693    24  23.7         0           0         1          1           0   \n",
              "1297   28  26.5         2           1         0          1           0   \n",
              "634    51  39.7         1           0         1          1           0   \n",
              "1022   47  36.1         1           0         1          0           1   \n",
              "178    46  28.9         2           1         0          1           0   \n",
              "...   ...   ...       ...         ...       ...        ...         ...   \n",
              "1095   18  31.4         4           1         0          1           0   \n",
              "1130   39  23.9         5           1         0          1           0   \n",
              "1294   58  25.2         0           0         1          1           0   \n",
              "860    37  47.6         2           1         0          0           1   \n",
              "1126   55  29.9         0           0         1          1           0   \n",
              "\n",
              "      region_northeast  region_northwest  region_southeast  region_southwest  \n",
              "693                  0                 1                 0                 0  \n",
              "1297                 0                 0                 1                 0  \n",
              "634                  0                 0                 0                 1  \n",
              "1022                 0                 0                 1                 0  \n",
              "178                  0                 0                 0                 1  \n",
              "...                ...               ...               ...               ...  \n",
              "1095                 1                 0                 0                 0  \n",
              "1130                 0                 0                 1                 0  \n",
              "1294                 1                 0                 0                 0  \n",
              "860                  0                 0                 0                 1  \n",
              "1126                 0                 0                 0                 1  \n",
              "\n",
              "[1003 rows x 11 columns]"
            ],
            "text/html": [
              "\n",
              "  <div id=\"df-b3867f40-0157-43c0-a1bf-68f54d48b07f\">\n",
              "    <div class=\"colab-df-container\">\n",
              "      <div>\n",
              "<style scoped>\n",
              "    .dataframe tbody tr th:only-of-type {\n",
              "        vertical-align: middle;\n",
              "    }\n",
              "\n",
              "    .dataframe tbody tr th {\n",
              "        vertical-align: top;\n",
              "    }\n",
              "\n",
              "    .dataframe thead th {\n",
              "        text-align: right;\n",
              "    }\n",
              "</style>\n",
              "<table border=\"1\" class=\"dataframe\">\n",
              "  <thead>\n",
              "    <tr style=\"text-align: right;\">\n",
              "      <th></th>\n",
              "      <th>age</th>\n",
              "      <th>bmi</th>\n",
              "      <th>children</th>\n",
              "      <th>sex_female</th>\n",
              "      <th>sex_male</th>\n",
              "      <th>smoker_no</th>\n",
              "      <th>smoker_yes</th>\n",
              "      <th>region_northeast</th>\n",
              "      <th>region_northwest</th>\n",
              "      <th>region_southeast</th>\n",
              "      <th>region_southwest</th>\n",
              "    </tr>\n",
              "  </thead>\n",
              "  <tbody>\n",
              "    <tr>\n",
              "      <th>693</th>\n",
              "      <td>24</td>\n",
              "      <td>23.7</td>\n",
              "      <td>0</td>\n",
              "      <td>0</td>\n",
              "      <td>1</td>\n",
              "      <td>1</td>\n",
              "      <td>0</td>\n",
              "      <td>0</td>\n",
              "      <td>1</td>\n",
              "      <td>0</td>\n",
              "      <td>0</td>\n",
              "    </tr>\n",
              "    <tr>\n",
              "      <th>1297</th>\n",
              "      <td>28</td>\n",
              "      <td>26.5</td>\n",
              "      <td>2</td>\n",
              "      <td>1</td>\n",
              "      <td>0</td>\n",
              "      <td>1</td>\n",
              "      <td>0</td>\n",
              "      <td>0</td>\n",
              "      <td>0</td>\n",
              "      <td>1</td>\n",
              "      <td>0</td>\n",
              "    </tr>\n",
              "    <tr>\n",
              "      <th>634</th>\n",
              "      <td>51</td>\n",
              "      <td>39.7</td>\n",
              "      <td>1</td>\n",
              "      <td>0</td>\n",
              "      <td>1</td>\n",
              "      <td>1</td>\n",
              "      <td>0</td>\n",
              "      <td>0</td>\n",
              "      <td>0</td>\n",
              "      <td>0</td>\n",
              "      <td>1</td>\n",
              "    </tr>\n",
              "    <tr>\n",
              "      <th>1022</th>\n",
              "      <td>47</td>\n",
              "      <td>36.1</td>\n",
              "      <td>1</td>\n",
              "      <td>0</td>\n",
              "      <td>1</td>\n",
              "      <td>0</td>\n",
              "      <td>1</td>\n",
              "      <td>0</td>\n",
              "      <td>0</td>\n",
              "      <td>1</td>\n",
              "      <td>0</td>\n",
              "    </tr>\n",
              "    <tr>\n",
              "      <th>178</th>\n",
              "      <td>46</td>\n",
              "      <td>28.9</td>\n",
              "      <td>2</td>\n",
              "      <td>1</td>\n",
              "      <td>0</td>\n",
              "      <td>1</td>\n",
              "      <td>0</td>\n",
              "      <td>0</td>\n",
              "      <td>0</td>\n",
              "      <td>0</td>\n",
              "      <td>1</td>\n",
              "    </tr>\n",
              "    <tr>\n",
              "      <th>...</th>\n",
              "      <td>...</td>\n",
              "      <td>...</td>\n",
              "      <td>...</td>\n",
              "      <td>...</td>\n",
              "      <td>...</td>\n",
              "      <td>...</td>\n",
              "      <td>...</td>\n",
              "      <td>...</td>\n",
              "      <td>...</td>\n",
              "      <td>...</td>\n",
              "      <td>...</td>\n",
              "    </tr>\n",
              "    <tr>\n",
              "      <th>1095</th>\n",
              "      <td>18</td>\n",
              "      <td>31.4</td>\n",
              "      <td>4</td>\n",
              "      <td>1</td>\n",
              "      <td>0</td>\n",
              "      <td>1</td>\n",
              "      <td>0</td>\n",
              "      <td>1</td>\n",
              "      <td>0</td>\n",
              "      <td>0</td>\n",
              "      <td>0</td>\n",
              "    </tr>\n",
              "    <tr>\n",
              "      <th>1130</th>\n",
              "      <td>39</td>\n",
              "      <td>23.9</td>\n",
              "      <td>5</td>\n",
              "      <td>1</td>\n",
              "      <td>0</td>\n",
              "      <td>1</td>\n",
              "      <td>0</td>\n",
              "      <td>0</td>\n",
              "      <td>0</td>\n",
              "      <td>1</td>\n",
              "      <td>0</td>\n",
              "    </tr>\n",
              "    <tr>\n",
              "      <th>1294</th>\n",
              "      <td>58</td>\n",
              "      <td>25.2</td>\n",
              "      <td>0</td>\n",
              "      <td>0</td>\n",
              "      <td>1</td>\n",
              "      <td>1</td>\n",
              "      <td>0</td>\n",
              "      <td>1</td>\n",
              "      <td>0</td>\n",
              "      <td>0</td>\n",
              "      <td>0</td>\n",
              "    </tr>\n",
              "    <tr>\n",
              "      <th>860</th>\n",
              "      <td>37</td>\n",
              "      <td>47.6</td>\n",
              "      <td>2</td>\n",
              "      <td>1</td>\n",
              "      <td>0</td>\n",
              "      <td>0</td>\n",
              "      <td>1</td>\n",
              "      <td>0</td>\n",
              "      <td>0</td>\n",
              "      <td>0</td>\n",
              "      <td>1</td>\n",
              "    </tr>\n",
              "    <tr>\n",
              "      <th>1126</th>\n",
              "      <td>55</td>\n",
              "      <td>29.9</td>\n",
              "      <td>0</td>\n",
              "      <td>0</td>\n",
              "      <td>1</td>\n",
              "      <td>1</td>\n",
              "      <td>0</td>\n",
              "      <td>0</td>\n",
              "      <td>0</td>\n",
              "      <td>0</td>\n",
              "      <td>1</td>\n",
              "    </tr>\n",
              "  </tbody>\n",
              "</table>\n",
              "<p>1003 rows × 11 columns</p>\n",
              "</div>\n",
              "      <button class=\"colab-df-convert\" onclick=\"convertToInteractive('df-b3867f40-0157-43c0-a1bf-68f54d48b07f')\"\n",
              "              title=\"Convert this dataframe to an interactive table.\"\n",
              "              style=\"display:none;\">\n",
              "        \n",
              "  <svg xmlns=\"http://www.w3.org/2000/svg\" height=\"24px\"viewBox=\"0 0 24 24\"\n",
              "       width=\"24px\">\n",
              "    <path d=\"M0 0h24v24H0V0z\" fill=\"none\"/>\n",
              "    <path d=\"M18.56 5.44l.94 2.06.94-2.06 2.06-.94-2.06-.94-.94-2.06-.94 2.06-2.06.94zm-11 1L8.5 8.5l.94-2.06 2.06-.94-2.06-.94L8.5 2.5l-.94 2.06-2.06.94zm10 10l.94 2.06.94-2.06 2.06-.94-2.06-.94-.94-2.06-.94 2.06-2.06.94z\"/><path d=\"M17.41 7.96l-1.37-1.37c-.4-.4-.92-.59-1.43-.59-.52 0-1.04.2-1.43.59L10.3 9.45l-7.72 7.72c-.78.78-.78 2.05 0 2.83L4 21.41c.39.39.9.59 1.41.59.51 0 1.02-.2 1.41-.59l7.78-7.78 2.81-2.81c.8-.78.8-2.07 0-2.86zM5.41 20L4 18.59l7.72-7.72 1.47 1.35L5.41 20z\"/>\n",
              "  </svg>\n",
              "      </button>\n",
              "      \n",
              "  <style>\n",
              "    .colab-df-container {\n",
              "      display:flex;\n",
              "      flex-wrap:wrap;\n",
              "      gap: 12px;\n",
              "    }\n",
              "\n",
              "    .colab-df-convert {\n",
              "      background-color: #E8F0FE;\n",
              "      border: none;\n",
              "      border-radius: 50%;\n",
              "      cursor: pointer;\n",
              "      display: none;\n",
              "      fill: #1967D2;\n",
              "      height: 32px;\n",
              "      padding: 0 0 0 0;\n",
              "      width: 32px;\n",
              "    }\n",
              "\n",
              "    .colab-df-convert:hover {\n",
              "      background-color: #E2EBFA;\n",
              "      box-shadow: 0px 1px 2px rgba(60, 64, 67, 0.3), 0px 1px 3px 1px rgba(60, 64, 67, 0.15);\n",
              "      fill: #174EA6;\n",
              "    }\n",
              "\n",
              "    [theme=dark] .colab-df-convert {\n",
              "      background-color: #3B4455;\n",
              "      fill: #D2E3FC;\n",
              "    }\n",
              "\n",
              "    [theme=dark] .colab-df-convert:hover {\n",
              "      background-color: #434B5C;\n",
              "      box-shadow: 0px 1px 3px 1px rgba(0, 0, 0, 0.15);\n",
              "      filter: drop-shadow(0px 1px 2px rgba(0, 0, 0, 0.3));\n",
              "      fill: #FFFFFF;\n",
              "    }\n",
              "  </style>\n",
              "\n",
              "      <script>\n",
              "        const buttonEl =\n",
              "          document.querySelector('#df-b3867f40-0157-43c0-a1bf-68f54d48b07f button.colab-df-convert');\n",
              "        buttonEl.style.display =\n",
              "          google.colab.kernel.accessAllowed ? 'block' : 'none';\n",
              "\n",
              "        async function convertToInteractive(key) {\n",
              "          const element = document.querySelector('#df-b3867f40-0157-43c0-a1bf-68f54d48b07f');\n",
              "          const dataTable =\n",
              "            await google.colab.kernel.invokeFunction('convertToInteractive',\n",
              "                                                     [key], {});\n",
              "          if (!dataTable) return;\n",
              "\n",
              "          const docLinkHtml = 'Like what you see? Visit the ' +\n",
              "            '<a target=\"_blank\" href=https://colab.research.google.com/notebooks/data_table.ipynb>data table notebook</a>'\n",
              "            + ' to learn more about interactive tables.';\n",
              "          element.innerHTML = '';\n",
              "          dataTable['output_type'] = 'display_data';\n",
              "          await google.colab.output.renderOutput(dataTable, element);\n",
              "          const docLink = document.createElement('div');\n",
              "          docLink.innerHTML = docLinkHtml;\n",
              "          element.appendChild(docLink);\n",
              "        }\n",
              "      </script>\n",
              "    </div>\n",
              "  </div>\n",
              "  "
            ]
          },
          "metadata": {},
          "execution_count": 78
        }
      ]
    },
    {
      "cell_type": "markdown",
      "source": [
        "## Building a model now"
      ],
      "metadata": {
        "id": "FWJTNvJoAOBX"
      }
    },
    {
      "cell_type": "code",
      "source": [
        "tf.random.set_seed(42)\n",
        "\n",
        "## creating model\n",
        "insurance_model = tf.keras.Sequential([\n",
        "    tf.keras.layers.Dense(11),\n",
        "    tf.keras.layers.Dense(1)\n",
        "])\n",
        "\n",
        "## compiling\n",
        "insurance_model.compile(loss = tf.keras.losses.mae,\n",
        "                        optimizer = tf.keras.optimizers.SGD(),\n",
        "                        metrics = ['mae'])\n",
        "\n",
        "## fitting\n",
        "insurance_model.fit(X_train, y_train, epochs = 100)"
      ],
      "metadata": {
        "colab": {
          "base_uri": "https://localhost:8080/"
        },
        "id": "IVPJkIIPAJKi",
        "outputId": "fc5d3b24-e44b-47b2-ab5f-fa1bd0c757c3"
      },
      "execution_count": 79,
      "outputs": [
        {
          "output_type": "stream",
          "name": "stdout",
          "text": [
            "Epoch 1/100\n",
            "32/32 [==============================] - 0s 1ms/step - loss: 8670.5430 - mae: 8670.5430\n",
            "Epoch 2/100\n",
            "32/32 [==============================] - 0s 1ms/step - loss: 7705.8594 - mae: 7705.8594\n",
            "Epoch 3/100\n",
            "32/32 [==============================] - 0s 1ms/step - loss: 7612.2622 - mae: 7612.2622\n",
            "Epoch 4/100\n",
            "32/32 [==============================] - 0s 2ms/step - loss: 7651.1738 - mae: 7651.1738\n",
            "Epoch 5/100\n",
            "32/32 [==============================] - 0s 1ms/step - loss: 7687.1924 - mae: 7687.1919\n",
            "Epoch 6/100\n",
            "32/32 [==============================] - 0s 2ms/step - loss: 7682.4946 - mae: 7682.4946\n",
            "Epoch 7/100\n",
            "32/32 [==============================] - 0s 1ms/step - loss: 7442.0186 - mae: 7442.0186\n",
            "Epoch 8/100\n",
            "32/32 [==============================] - 0s 1ms/step - loss: 7511.2334 - mae: 7511.2334\n",
            "Epoch 9/100\n",
            "32/32 [==============================] - 0s 1ms/step - loss: 7573.6187 - mae: 7573.6187\n",
            "Epoch 10/100\n",
            "32/32 [==============================] - 0s 2ms/step - loss: 7562.2573 - mae: 7562.2573\n",
            "Epoch 11/100\n",
            "32/32 [==============================] - 0s 2ms/step - loss: 7597.4790 - mae: 7597.4790\n",
            "Epoch 12/100\n",
            "32/32 [==============================] - 0s 2ms/step - loss: 7462.4297 - mae: 7462.4297\n",
            "Epoch 13/100\n",
            "32/32 [==============================] - 0s 1ms/step - loss: 7657.5249 - mae: 7657.5249\n",
            "Epoch 14/100\n",
            "32/32 [==============================] - 0s 1ms/step - loss: 7745.8809 - mae: 7745.8809\n",
            "Epoch 15/100\n",
            "32/32 [==============================] - 0s 2ms/step - loss: 7705.5278 - mae: 7705.5278\n",
            "Epoch 16/100\n",
            "32/32 [==============================] - 0s 1ms/step - loss: 7354.3013 - mae: 7354.3013\n",
            "Epoch 17/100\n",
            "32/32 [==============================] - 0s 1ms/step - loss: 7481.7217 - mae: 7481.7217\n",
            "Epoch 18/100\n",
            "32/32 [==============================] - 0s 1ms/step - loss: 7274.3994 - mae: 7274.3994\n",
            "Epoch 19/100\n",
            "32/32 [==============================] - 0s 2ms/step - loss: 7645.2798 - mae: 7645.2798\n",
            "Epoch 20/100\n",
            "32/32 [==============================] - 0s 2ms/step - loss: 7621.5493 - mae: 7621.5493\n",
            "Epoch 21/100\n",
            "32/32 [==============================] - 0s 2ms/step - loss: 7496.7173 - mae: 7496.7173\n",
            "Epoch 22/100\n",
            "32/32 [==============================] - 0s 1ms/step - loss: 7425.7544 - mae: 7425.7544\n",
            "Epoch 23/100\n",
            "32/32 [==============================] - 0s 2ms/step - loss: 7469.3799 - mae: 7469.3799\n",
            "Epoch 24/100\n",
            "32/32 [==============================] - 0s 1ms/step - loss: 7542.3027 - mae: 7542.3027\n",
            "Epoch 25/100\n",
            "32/32 [==============================] - 0s 2ms/step - loss: 7553.6377 - mae: 7553.6377\n",
            "Epoch 26/100\n",
            "32/32 [==============================] - 0s 2ms/step - loss: 7411.9502 - mae: 7411.9502\n",
            "Epoch 27/100\n",
            "32/32 [==============================] - 0s 2ms/step - loss: 7478.5225 - mae: 7478.5225\n",
            "Epoch 28/100\n",
            "32/32 [==============================] - 0s 1ms/step - loss: 7754.0137 - mae: 7754.0137\n",
            "Epoch 29/100\n",
            "32/32 [==============================] - 0s 2ms/step - loss: 7624.0938 - mae: 7624.0938\n",
            "Epoch 30/100\n",
            "32/32 [==============================] - 0s 2ms/step - loss: 7406.3970 - mae: 7406.3970\n",
            "Epoch 31/100\n",
            "32/32 [==============================] - 0s 1ms/step - loss: 7551.1709 - mae: 7551.1709\n",
            "Epoch 32/100\n",
            "32/32 [==============================] - 0s 1ms/step - loss: 7530.5415 - mae: 7530.5415\n",
            "Epoch 33/100\n",
            "32/32 [==============================] - 0s 2ms/step - loss: 7447.4619 - mae: 7447.4619\n",
            "Epoch 34/100\n",
            "32/32 [==============================] - 0s 1ms/step - loss: 7713.3706 - mae: 7713.3706\n",
            "Epoch 35/100\n",
            "32/32 [==============================] - 0s 1ms/step - loss: 7452.2310 - mae: 7452.2310\n",
            "Epoch 36/100\n",
            "32/32 [==============================] - 0s 1ms/step - loss: 7422.4868 - mae: 7422.4868\n",
            "Epoch 37/100\n",
            "32/32 [==============================] - 0s 1ms/step - loss: 7561.9331 - mae: 7561.9331\n",
            "Epoch 38/100\n",
            "32/32 [==============================] - 0s 1ms/step - loss: 7429.4771 - mae: 7429.4771\n",
            "Epoch 39/100\n",
            "32/32 [==============================] - 0s 2ms/step - loss: 7498.3350 - mae: 7498.3350\n",
            "Epoch 40/100\n",
            "32/32 [==============================] - 0s 1ms/step - loss: 7460.8198 - mae: 7460.8198\n",
            "Epoch 41/100\n",
            "32/32 [==============================] - 0s 2ms/step - loss: 7559.4136 - mae: 7559.4136\n",
            "Epoch 42/100\n",
            "32/32 [==============================] - 0s 1ms/step - loss: 7596.3794 - mae: 7596.3794\n",
            "Epoch 43/100\n",
            "32/32 [==============================] - 0s 2ms/step - loss: 7473.3579 - mae: 7473.3579\n",
            "Epoch 44/100\n",
            "32/32 [==============================] - 0s 2ms/step - loss: 7166.8384 - mae: 7166.8384\n",
            "Epoch 45/100\n",
            "32/32 [==============================] - 0s 2ms/step - loss: 7469.2603 - mae: 7469.2603\n",
            "Epoch 46/100\n",
            "32/32 [==============================] - 0s 2ms/step - loss: 7396.6445 - mae: 7396.6445\n",
            "Epoch 47/100\n",
            "32/32 [==============================] - 0s 1ms/step - loss: 7367.4580 - mae: 7367.4580\n",
            "Epoch 48/100\n",
            "32/32 [==============================] - 0s 2ms/step - loss: 7550.5469 - mae: 7550.5469\n",
            "Epoch 49/100\n",
            "32/32 [==============================] - 0s 1ms/step - loss: 7321.9238 - mae: 7321.9238\n",
            "Epoch 50/100\n",
            "32/32 [==============================] - 0s 1ms/step - loss: 7720.9180 - mae: 7720.9180\n",
            "Epoch 51/100\n",
            "32/32 [==============================] - 0s 1ms/step - loss: 7512.4082 - mae: 7512.4082\n",
            "Epoch 52/100\n",
            "32/32 [==============================] - 0s 1ms/step - loss: 7332.2017 - mae: 7332.2017\n",
            "Epoch 53/100\n",
            "32/32 [==============================] - 0s 1ms/step - loss: 7581.5283 - mae: 7581.5283\n",
            "Epoch 54/100\n",
            "32/32 [==============================] - 0s 1ms/step - loss: 7435.9243 - mae: 7435.9243\n",
            "Epoch 55/100\n",
            "32/32 [==============================] - 0s 1ms/step - loss: 7517.2788 - mae: 7517.2788\n",
            "Epoch 56/100\n",
            "32/32 [==============================] - 0s 1ms/step - loss: 7539.9146 - mae: 7539.9146\n",
            "Epoch 57/100\n",
            "32/32 [==============================] - 0s 2ms/step - loss: 7478.4907 - mae: 7478.4907\n",
            "Epoch 58/100\n",
            "32/32 [==============================] - 0s 2ms/step - loss: 7508.0405 - mae: 7508.0405\n",
            "Epoch 59/100\n",
            "32/32 [==============================] - 0s 1ms/step - loss: 7463.2178 - mae: 7463.2178\n",
            "Epoch 60/100\n",
            "32/32 [==============================] - 0s 1ms/step - loss: 7463.1113 - mae: 7463.1113\n",
            "Epoch 61/100\n",
            "32/32 [==============================] - 0s 2ms/step - loss: 7428.6797 - mae: 7428.6797\n",
            "Epoch 62/100\n",
            "32/32 [==============================] - 0s 1ms/step - loss: 7421.5215 - mae: 7421.5215\n",
            "Epoch 63/100\n",
            "32/32 [==============================] - 0s 1ms/step - loss: 7508.9429 - mae: 7508.9429\n",
            "Epoch 64/100\n",
            "32/32 [==============================] - 0s 2ms/step - loss: 7042.6797 - mae: 7042.6797\n",
            "Epoch 65/100\n",
            "32/32 [==============================] - 0s 2ms/step - loss: 7441.6978 - mae: 7441.6978\n",
            "Epoch 66/100\n",
            "32/32 [==============================] - 0s 2ms/step - loss: 7340.9595 - mae: 7340.9595\n",
            "Epoch 67/100\n",
            "32/32 [==============================] - 0s 2ms/step - loss: 7436.0747 - mae: 7436.0747\n",
            "Epoch 68/100\n",
            "32/32 [==============================] - 0s 1ms/step - loss: 7231.7168 - mae: 7231.7168\n",
            "Epoch 69/100\n",
            "32/32 [==============================] - 0s 1ms/step - loss: 7372.6450 - mae: 7372.6450\n",
            "Epoch 70/100\n",
            "32/32 [==============================] - 0s 2ms/step - loss: 7398.2417 - mae: 7398.2417\n",
            "Epoch 71/100\n",
            "32/32 [==============================] - 0s 2ms/step - loss: 7371.7456 - mae: 7371.7456\n",
            "Epoch 72/100\n",
            "32/32 [==============================] - 0s 1ms/step - loss: 7351.4990 - mae: 7351.4990\n",
            "Epoch 73/100\n",
            "32/32 [==============================] - 0s 1ms/step - loss: 7152.3413 - mae: 7152.3413\n",
            "Epoch 74/100\n",
            "32/32 [==============================] - 0s 1ms/step - loss: 7470.3179 - mae: 7470.3179\n",
            "Epoch 75/100\n",
            "32/32 [==============================] - 0s 1ms/step - loss: 7424.4712 - mae: 7424.4712\n",
            "Epoch 76/100\n",
            "32/32 [==============================] - 0s 1ms/step - loss: 7247.3613 - mae: 7247.3613\n",
            "Epoch 77/100\n",
            "32/32 [==============================] - 0s 1ms/step - loss: 7314.1729 - mae: 7314.1729\n",
            "Epoch 78/100\n",
            "32/32 [==============================] - 0s 1ms/step - loss: 7659.9648 - mae: 7659.9648\n",
            "Epoch 79/100\n",
            "32/32 [==============================] - 0s 2ms/step - loss: 7158.5239 - mae: 7158.5239\n",
            "Epoch 80/100\n",
            "32/32 [==============================] - 0s 1ms/step - loss: 7378.3657 - mae: 7378.3657\n",
            "Epoch 81/100\n",
            "32/32 [==============================] - 0s 2ms/step - loss: 7108.7812 - mae: 7108.7812\n",
            "Epoch 82/100\n",
            "32/32 [==============================] - 0s 1ms/step - loss: 7239.2993 - mae: 7239.2993\n",
            "Epoch 83/100\n",
            "32/32 [==============================] - 0s 1ms/step - loss: 7181.8633 - mae: 7181.8633\n",
            "Epoch 84/100\n",
            "32/32 [==============================] - 0s 2ms/step - loss: 7145.6445 - mae: 7145.6445\n",
            "Epoch 85/100\n",
            "32/32 [==============================] - 0s 1ms/step - loss: 7366.9414 - mae: 7366.9414\n",
            "Epoch 86/100\n",
            "32/32 [==============================] - 0s 1ms/step - loss: 7151.7773 - mae: 7151.7773\n",
            "Epoch 87/100\n",
            "32/32 [==============================] - 0s 1ms/step - loss: 7230.1274 - mae: 7230.1274\n",
            "Epoch 88/100\n",
            "32/32 [==============================] - 0s 2ms/step - loss: 7316.9980 - mae: 7316.9980\n",
            "Epoch 89/100\n",
            "32/32 [==============================] - 0s 1ms/step - loss: 7243.4565 - mae: 7243.4565\n",
            "Epoch 90/100\n",
            "32/32 [==============================] - 0s 1ms/step - loss: 7157.4980 - mae: 7157.4980\n",
            "Epoch 91/100\n",
            "32/32 [==============================] - 0s 1ms/step - loss: 7325.3926 - mae: 7325.3926\n",
            "Epoch 92/100\n",
            "32/32 [==============================] - 0s 1ms/step - loss: 7233.7432 - mae: 7233.7432\n",
            "Epoch 93/100\n",
            "32/32 [==============================] - 0s 2ms/step - loss: 7231.5537 - mae: 7231.5537\n",
            "Epoch 94/100\n",
            "32/32 [==============================] - 0s 1ms/step - loss: 7254.9492 - mae: 7254.9492\n",
            "Epoch 95/100\n",
            "32/32 [==============================] - 0s 2ms/step - loss: 7347.8730 - mae: 7347.8730\n",
            "Epoch 96/100\n",
            "32/32 [==============================] - 0s 1ms/step - loss: 7107.9800 - mae: 7107.9800\n",
            "Epoch 97/100\n",
            "32/32 [==============================] - 0s 2ms/step - loss: 7496.7891 - mae: 7496.7891\n",
            "Epoch 98/100\n",
            "32/32 [==============================] - 0s 2ms/step - loss: 7409.4463 - mae: 7409.4463\n",
            "Epoch 99/100\n",
            "32/32 [==============================] - 0s 1ms/step - loss: 7045.7495 - mae: 7045.7495\n",
            "Epoch 100/100\n",
            "32/32 [==============================] - 0s 1ms/step - loss: 7281.3447 - mae: 7281.3447\n"
          ]
        },
        {
          "output_type": "execute_result",
          "data": {
            "text/plain": [
              "<keras.callbacks.History at 0x7fa3aa07e050>"
            ]
          },
          "metadata": {},
          "execution_count": 79
        }
      ]
    },
    {
      "cell_type": "code",
      "source": [
        "## check the result on test data\n",
        "insurance_model.evaluate(X_test,y_test)"
      ],
      "metadata": {
        "colab": {
          "base_uri": "https://localhost:8080/"
        },
        "id": "-5bMHVayB5SX",
        "outputId": "f8127b53-613c-4a73-cffd-1fbcc96f9d2b"
      },
      "execution_count": 80,
      "outputs": [
        {
          "output_type": "stream",
          "name": "stdout",
          "text": [
            "11/11 [==============================] - 0s 2ms/step - loss: 6316.6177 - mae: 6316.6177\n"
          ]
        },
        {
          "output_type": "execute_result",
          "data": {
            "text/plain": [
              "[6316.61767578125, 6316.61767578125]"
            ]
          },
          "metadata": {},
          "execution_count": 80
        }
      ]
    },
    {
      "cell_type": "code",
      "source": [
        "## Let's check the mean and median of the train data \n",
        "y_train.mean(), y_train.median()"
      ],
      "metadata": {
        "colab": {
          "base_uri": "https://localhost:8080/"
        },
        "id": "n0iSDKraCTt_",
        "outputId": "fb5a87ae-c28e-4aaa-db69-bef983ba46e5"
      },
      "execution_count": 81,
      "outputs": [
        {
          "output_type": "execute_result",
          "data": {
            "text/plain": [
              "(13267.935952143569, 9447.38)"
            ]
          },
          "metadata": {},
          "execution_count": 81
        }
      ]
    },
    {
      "cell_type": "markdown",
      "source": [
        "### Looks like our model is not working too well, because the mean shows 13267 and we are charging around 6316 less or more than that. Let's try few more models"
      ],
      "metadata": {
        "id": "4Wzb2euMDMTO"
      }
    },
    {
      "cell_type": "markdown",
      "source": [
        "**Model 2**\n",
        "* More layers, with 100 epochs\n",
        "* More layers, with 500 epochs\n",
        "* More layers, with Adam with 0.0001 lr, epochs = 100\n",
        "* More layers, with Adam with 0.0001 lr, epochs = 500"
      ],
      "metadata": {
        "id": "rgrCHogcDbrd"
      }
    },
    {
      "cell_type": "code",
      "source": [
        "## Model 2\n",
        "tf.random.set_seed(43)\n",
        "\n",
        "insurance_model_2 = tf.keras.Sequential([\n",
        "    tf.keras.layers.Dense(110),\n",
        "    tf.keras.layers.Dense(55),\n",
        "    tf.keras.layers.Dense(11),\n",
        "    tf.keras.layers.Dense(1)\n",
        "])\n",
        "\n",
        "insurance_model_2.compile(loss = tf.keras.losses.mae,\n",
        "                          optimizer = tf.keras.optimizers.SGD(),\n",
        "                          metrics = [\"mae\"])\n",
        "\n",
        "insurance_model_2.fit(X_train,y_train, epochs = 100)\n",
        "\n"
      ],
      "metadata": {
        "colab": {
          "base_uri": "https://localhost:8080/"
        },
        "id": "NI46WILRCnsf",
        "outputId": "3562ee01-fb86-45f6-ba95-df82c4a418c2"
      },
      "execution_count": 82,
      "outputs": [
        {
          "output_type": "stream",
          "name": "stdout",
          "text": [
            "Epoch 1/100\n",
            "32/32 [==============================] - 0s 2ms/step - loss: nan - mae: nan\n",
            "Epoch 2/100\n",
            "32/32 [==============================] - 0s 2ms/step - loss: nan - mae: nan\n",
            "Epoch 3/100\n",
            "32/32 [==============================] - 0s 2ms/step - loss: nan - mae: nan\n",
            "Epoch 4/100\n",
            "32/32 [==============================] - 0s 2ms/step - loss: nan - mae: nan\n",
            "Epoch 5/100\n",
            "32/32 [==============================] - 0s 2ms/step - loss: nan - mae: nan\n",
            "Epoch 6/100\n",
            "32/32 [==============================] - 0s 2ms/step - loss: nan - mae: nan\n",
            "Epoch 7/100\n",
            "32/32 [==============================] - 0s 2ms/step - loss: nan - mae: nan\n",
            "Epoch 8/100\n",
            "32/32 [==============================] - 0s 1ms/step - loss: nan - mae: nan\n",
            "Epoch 9/100\n",
            "32/32 [==============================] - 0s 1ms/step - loss: nan - mae: nan\n",
            "Epoch 10/100\n",
            "32/32 [==============================] - 0s 2ms/step - loss: nan - mae: nan\n",
            "Epoch 11/100\n",
            "32/32 [==============================] - 0s 2ms/step - loss: nan - mae: nan\n",
            "Epoch 12/100\n",
            "32/32 [==============================] - 0s 2ms/step - loss: nan - mae: nan\n",
            "Epoch 13/100\n",
            "32/32 [==============================] - 0s 2ms/step - loss: nan - mae: nan\n",
            "Epoch 14/100\n",
            "32/32 [==============================] - 0s 2ms/step - loss: nan - mae: nan\n",
            "Epoch 15/100\n",
            "32/32 [==============================] - 0s 2ms/step - loss: nan - mae: nan\n",
            "Epoch 16/100\n",
            "32/32 [==============================] - 0s 2ms/step - loss: nan - mae: nan\n",
            "Epoch 17/100\n",
            "32/32 [==============================] - 0s 2ms/step - loss: nan - mae: nan\n",
            "Epoch 18/100\n",
            "32/32 [==============================] - 0s 2ms/step - loss: nan - mae: nan\n",
            "Epoch 19/100\n",
            "32/32 [==============================] - 0s 2ms/step - loss: nan - mae: nan\n",
            "Epoch 20/100\n",
            "32/32 [==============================] - 0s 2ms/step - loss: nan - mae: nan\n",
            "Epoch 21/100\n",
            "32/32 [==============================] - 0s 2ms/step - loss: nan - mae: nan\n",
            "Epoch 22/100\n",
            "32/32 [==============================] - 0s 2ms/step - loss: nan - mae: nan\n",
            "Epoch 23/100\n",
            "32/32 [==============================] - 0s 2ms/step - loss: nan - mae: nan\n",
            "Epoch 24/100\n",
            "32/32 [==============================] - 0s 2ms/step - loss: nan - mae: nan\n",
            "Epoch 25/100\n",
            "32/32 [==============================] - 0s 1ms/step - loss: nan - mae: nan\n",
            "Epoch 26/100\n",
            "32/32 [==============================] - 0s 2ms/step - loss: nan - mae: nan\n",
            "Epoch 27/100\n",
            "32/32 [==============================] - 0s 2ms/step - loss: nan - mae: nan\n",
            "Epoch 28/100\n",
            "32/32 [==============================] - 0s 2ms/step - loss: nan - mae: nan\n",
            "Epoch 29/100\n",
            "32/32 [==============================] - 0s 2ms/step - loss: nan - mae: nan\n",
            "Epoch 30/100\n",
            "32/32 [==============================] - 0s 2ms/step - loss: nan - mae: nan\n",
            "Epoch 31/100\n",
            "32/32 [==============================] - 0s 2ms/step - loss: nan - mae: nan\n",
            "Epoch 32/100\n",
            "32/32 [==============================] - 0s 2ms/step - loss: nan - mae: nan\n",
            "Epoch 33/100\n",
            "32/32 [==============================] - 0s 2ms/step - loss: nan - mae: nan\n",
            "Epoch 34/100\n",
            "32/32 [==============================] - 0s 2ms/step - loss: nan - mae: nan\n",
            "Epoch 35/100\n",
            "32/32 [==============================] - 0s 1ms/step - loss: nan - mae: nan\n",
            "Epoch 36/100\n",
            "32/32 [==============================] - 0s 2ms/step - loss: nan - mae: nan\n",
            "Epoch 37/100\n",
            "32/32 [==============================] - 0s 1ms/step - loss: nan - mae: nan\n",
            "Epoch 38/100\n",
            "32/32 [==============================] - 0s 2ms/step - loss: nan - mae: nan\n",
            "Epoch 39/100\n",
            "32/32 [==============================] - 0s 2ms/step - loss: nan - mae: nan\n",
            "Epoch 40/100\n",
            "32/32 [==============================] - 0s 1ms/step - loss: nan - mae: nan\n",
            "Epoch 41/100\n",
            "32/32 [==============================] - 0s 2ms/step - loss: nan - mae: nan\n",
            "Epoch 42/100\n",
            "32/32 [==============================] - 0s 2ms/step - loss: nan - mae: nan\n",
            "Epoch 43/100\n",
            "32/32 [==============================] - 0s 2ms/step - loss: nan - mae: nan\n",
            "Epoch 44/100\n",
            "32/32 [==============================] - 0s 2ms/step - loss: nan - mae: nan\n",
            "Epoch 45/100\n",
            "32/32 [==============================] - 0s 1ms/step - loss: nan - mae: nan\n",
            "Epoch 46/100\n",
            "32/32 [==============================] - 0s 2ms/step - loss: nan - mae: nan\n",
            "Epoch 47/100\n",
            "32/32 [==============================] - 0s 2ms/step - loss: nan - mae: nan\n",
            "Epoch 48/100\n",
            "32/32 [==============================] - 0s 2ms/step - loss: nan - mae: nan\n",
            "Epoch 49/100\n",
            "32/32 [==============================] - 0s 2ms/step - loss: nan - mae: nan\n",
            "Epoch 50/100\n",
            "32/32 [==============================] - 0s 2ms/step - loss: nan - mae: nan\n",
            "Epoch 51/100\n",
            "32/32 [==============================] - 0s 2ms/step - loss: nan - mae: nan\n",
            "Epoch 52/100\n",
            "32/32 [==============================] - 0s 2ms/step - loss: nan - mae: nan\n",
            "Epoch 53/100\n",
            "32/32 [==============================] - 0s 2ms/step - loss: nan - mae: nan\n",
            "Epoch 54/100\n",
            "32/32 [==============================] - 0s 2ms/step - loss: nan - mae: nan\n",
            "Epoch 55/100\n",
            "32/32 [==============================] - 0s 2ms/step - loss: nan - mae: nan\n",
            "Epoch 56/100\n",
            "32/32 [==============================] - 0s 2ms/step - loss: nan - mae: nan\n",
            "Epoch 57/100\n",
            "32/32 [==============================] - 0s 2ms/step - loss: nan - mae: nan\n",
            "Epoch 58/100\n",
            "32/32 [==============================] - 0s 2ms/step - loss: nan - mae: nan\n",
            "Epoch 59/100\n",
            "32/32 [==============================] - 0s 2ms/step - loss: nan - mae: nan\n",
            "Epoch 60/100\n",
            "32/32 [==============================] - 0s 2ms/step - loss: nan - mae: nan\n",
            "Epoch 61/100\n",
            "32/32 [==============================] - 0s 2ms/step - loss: nan - mae: nan\n",
            "Epoch 62/100\n",
            "32/32 [==============================] - 0s 2ms/step - loss: nan - mae: nan\n",
            "Epoch 63/100\n",
            "32/32 [==============================] - 0s 2ms/step - loss: nan - mae: nan\n",
            "Epoch 64/100\n",
            "32/32 [==============================] - 0s 2ms/step - loss: nan - mae: nan\n",
            "Epoch 65/100\n",
            "32/32 [==============================] - 0s 2ms/step - loss: nan - mae: nan\n",
            "Epoch 66/100\n",
            "32/32 [==============================] - 0s 1ms/step - loss: nan - mae: nan\n",
            "Epoch 67/100\n",
            "32/32 [==============================] - 0s 2ms/step - loss: nan - mae: nan\n",
            "Epoch 68/100\n",
            "32/32 [==============================] - 0s 2ms/step - loss: nan - mae: nan\n",
            "Epoch 69/100\n",
            "32/32 [==============================] - 0s 2ms/step - loss: nan - mae: nan\n",
            "Epoch 70/100\n",
            "32/32 [==============================] - 0s 2ms/step - loss: nan - mae: nan\n",
            "Epoch 71/100\n",
            "32/32 [==============================] - 0s 2ms/step - loss: nan - mae: nan\n",
            "Epoch 72/100\n",
            "32/32 [==============================] - 0s 1ms/step - loss: nan - mae: nan\n",
            "Epoch 73/100\n",
            "32/32 [==============================] - 0s 1ms/step - loss: nan - mae: nan\n",
            "Epoch 74/100\n",
            "32/32 [==============================] - 0s 1ms/step - loss: nan - mae: nan\n",
            "Epoch 75/100\n",
            "32/32 [==============================] - 0s 2ms/step - loss: nan - mae: nan\n",
            "Epoch 76/100\n",
            "32/32 [==============================] - 0s 2ms/step - loss: nan - mae: nan\n",
            "Epoch 77/100\n",
            "32/32 [==============================] - 0s 1ms/step - loss: nan - mae: nan\n",
            "Epoch 78/100\n",
            "32/32 [==============================] - 0s 2ms/step - loss: nan - mae: nan\n",
            "Epoch 79/100\n",
            "32/32 [==============================] - 0s 2ms/step - loss: nan - mae: nan\n",
            "Epoch 80/100\n",
            "32/32 [==============================] - 0s 2ms/step - loss: nan - mae: nan\n",
            "Epoch 81/100\n",
            "32/32 [==============================] - 0s 2ms/step - loss: nan - mae: nan\n",
            "Epoch 82/100\n",
            "32/32 [==============================] - 0s 1ms/step - loss: nan - mae: nan\n",
            "Epoch 83/100\n",
            "32/32 [==============================] - 0s 2ms/step - loss: nan - mae: nan\n",
            "Epoch 84/100\n",
            "32/32 [==============================] - 0s 2ms/step - loss: nan - mae: nan\n",
            "Epoch 85/100\n",
            "32/32 [==============================] - 0s 2ms/step - loss: nan - mae: nan\n",
            "Epoch 86/100\n",
            "32/32 [==============================] - 0s 2ms/step - loss: nan - mae: nan\n",
            "Epoch 87/100\n",
            "32/32 [==============================] - 0s 2ms/step - loss: nan - mae: nan\n",
            "Epoch 88/100\n",
            "32/32 [==============================] - 0s 2ms/step - loss: nan - mae: nan\n",
            "Epoch 89/100\n",
            "32/32 [==============================] - 0s 1ms/step - loss: nan - mae: nan\n",
            "Epoch 90/100\n",
            "32/32 [==============================] - 0s 2ms/step - loss: nan - mae: nan\n",
            "Epoch 91/100\n",
            "32/32 [==============================] - 0s 2ms/step - loss: nan - mae: nan\n",
            "Epoch 92/100\n",
            "32/32 [==============================] - 0s 2ms/step - loss: nan - mae: nan\n",
            "Epoch 93/100\n",
            "32/32 [==============================] - 0s 2ms/step - loss: nan - mae: nan\n",
            "Epoch 94/100\n",
            "32/32 [==============================] - 0s 2ms/step - loss: nan - mae: nan\n",
            "Epoch 95/100\n",
            "32/32 [==============================] - 0s 1ms/step - loss: nan - mae: nan\n",
            "Epoch 96/100\n",
            "32/32 [==============================] - 0s 2ms/step - loss: nan - mae: nan\n",
            "Epoch 97/100\n",
            "32/32 [==============================] - 0s 2ms/step - loss: nan - mae: nan\n",
            "Epoch 98/100\n",
            "32/32 [==============================] - 0s 2ms/step - loss: nan - mae: nan\n",
            "Epoch 99/100\n",
            "32/32 [==============================] - 0s 2ms/step - loss: nan - mae: nan\n",
            "Epoch 100/100\n",
            "32/32 [==============================] - 0s 2ms/step - loss: nan - mae: nan\n"
          ]
        },
        {
          "output_type": "execute_result",
          "data": {
            "text/plain": [
              "<keras.callbacks.History at 0x7fa3aa89afd0>"
            ]
          },
          "metadata": {},
          "execution_count": 82
        }
      ]
    },
    {
      "cell_type": "code",
      "source": [
        "insurance_model_2.evaluate(X_test,y_test)"
      ],
      "metadata": {
        "colab": {
          "base_uri": "https://localhost:8080/"
        },
        "id": "_blBHJnuERiR",
        "outputId": "7812ef4a-0c95-4e2b-f725-1cebaf852302"
      },
      "execution_count": 83,
      "outputs": [
        {
          "output_type": "stream",
          "name": "stdout",
          "text": [
            "11/11 [==============================] - 0s 2ms/step - loss: nan - mae: nan\n"
          ]
        },
        {
          "output_type": "execute_result",
          "data": {
            "text/plain": [
              "[nan, nan]"
            ]
          },
          "metadata": {},
          "execution_count": 83
        }
      ]
    },
    {
      "cell_type": "markdown",
      "source": [
        "### As observed from above looks like the model is exploding the gradients hence it is not able to interpret the results. So let's use Adam optimizer in another model."
      ],
      "metadata": {
        "id": "pEaCCi6-GJkn"
      }
    },
    {
      "cell_type": "code",
      "source": [
        "## Model 3\n",
        "tf.random.set_seed(43)\n",
        "\n",
        "insurance_model_3 = tf.keras.Sequential([\n",
        "    tf.keras.layers.Dense(110),\n",
        "    tf.keras.layers.Dense(55),\n",
        "    tf.keras.layers.Dense(11),\n",
        "    tf.keras.layers.Dense(1)\n",
        "])\n",
        "\n",
        "insurance_model_3.compile(loss = tf.keras.losses.mae,\n",
        "                          optimizer = tf.keras.optimizers.Adam(),\n",
        "                          metrics = [\"mae\"])\n",
        "\n",
        "insurance_model_3.fit(X_train,y_train, epochs = 100)"
      ],
      "metadata": {
        "colab": {
          "base_uri": "https://localhost:8080/"
        },
        "id": "2ylM9on2E5jN",
        "outputId": "94a93815-2b35-47b2-9e84-c0b1c8ee50a1"
      },
      "execution_count": 84,
      "outputs": [
        {
          "output_type": "stream",
          "name": "stdout",
          "text": [
            "Epoch 1/100\n",
            "32/32 [==============================] - 1s 3ms/step - loss: 13121.8340 - mae: 13121.8340\n",
            "Epoch 2/100\n",
            "32/32 [==============================] - 0s 2ms/step - loss: 12162.2451 - mae: 12162.2451\n",
            "Epoch 3/100\n",
            "32/32 [==============================] - 0s 2ms/step - loss: 9031.1387 - mae: 9031.1387\n",
            "Epoch 4/100\n",
            "32/32 [==============================] - 0s 2ms/step - loss: 7468.0190 - mae: 7468.0190\n",
            "Epoch 5/100\n",
            "32/32 [==============================] - 0s 2ms/step - loss: 7360.7681 - mae: 7360.7681\n",
            "Epoch 6/100\n",
            "32/32 [==============================] - 0s 2ms/step - loss: 7311.9233 - mae: 7311.9233\n",
            "Epoch 7/100\n",
            "32/32 [==============================] - 0s 2ms/step - loss: 7262.6367 - mae: 7262.6367\n",
            "Epoch 8/100\n",
            "32/32 [==============================] - 0s 2ms/step - loss: 7205.5430 - mae: 7205.5430\n",
            "Epoch 9/100\n",
            "32/32 [==============================] - 0s 2ms/step - loss: 7136.6289 - mae: 7136.6289\n",
            "Epoch 10/100\n",
            "32/32 [==============================] - 0s 2ms/step - loss: 7079.8354 - mae: 7079.8354\n",
            "Epoch 11/100\n",
            "32/32 [==============================] - 0s 2ms/step - loss: 7000.1914 - mae: 7000.1914\n",
            "Epoch 12/100\n",
            "32/32 [==============================] - 0s 2ms/step - loss: 6929.6841 - mae: 6929.6841\n",
            "Epoch 13/100\n",
            "32/32 [==============================] - 0s 2ms/step - loss: 6862.7852 - mae: 6862.7852\n",
            "Epoch 14/100\n",
            "32/32 [==============================] - 0s 2ms/step - loss: 6766.5938 - mae: 6766.5938\n",
            "Epoch 15/100\n",
            "32/32 [==============================] - 0s 2ms/step - loss: 6671.8975 - mae: 6671.8975\n",
            "Epoch 16/100\n",
            "32/32 [==============================] - 0s 2ms/step - loss: 6592.5767 - mae: 6592.5767\n",
            "Epoch 17/100\n",
            "32/32 [==============================] - 0s 2ms/step - loss: 6520.2983 - mae: 6520.2983\n",
            "Epoch 18/100\n",
            "32/32 [==============================] - 0s 2ms/step - loss: 6488.8945 - mae: 6488.8945\n",
            "Epoch 19/100\n",
            "32/32 [==============================] - 0s 2ms/step - loss: 6453.8027 - mae: 6453.8027\n",
            "Epoch 20/100\n",
            "32/32 [==============================] - 0s 2ms/step - loss: 6414.6636 - mae: 6414.6636\n",
            "Epoch 21/100\n",
            "32/32 [==============================] - 0s 2ms/step - loss: 6386.3555 - mae: 6386.3555\n",
            "Epoch 22/100\n",
            "32/32 [==============================] - 0s 2ms/step - loss: 6359.8721 - mae: 6359.8721\n",
            "Epoch 23/100\n",
            "32/32 [==============================] - 0s 2ms/step - loss: 6332.4639 - mae: 6332.4639\n",
            "Epoch 24/100\n",
            "32/32 [==============================] - 0s 2ms/step - loss: 6292.5142 - mae: 6292.5142\n",
            "Epoch 25/100\n",
            "32/32 [==============================] - 0s 2ms/step - loss: 6257.5527 - mae: 6257.5527\n",
            "Epoch 26/100\n",
            "32/32 [==============================] - 0s 3ms/step - loss: 6236.3901 - mae: 6236.3901\n",
            "Epoch 27/100\n",
            "32/32 [==============================] - 0s 2ms/step - loss: 6178.2305 - mae: 6178.2305\n",
            "Epoch 28/100\n",
            "32/32 [==============================] - 0s 2ms/step - loss: 6138.3896 - mae: 6138.3896\n",
            "Epoch 29/100\n",
            "32/32 [==============================] - 0s 3ms/step - loss: 6091.0781 - mae: 6091.0781\n",
            "Epoch 30/100\n",
            "32/32 [==============================] - 0s 2ms/step - loss: 6047.4971 - mae: 6047.4971\n",
            "Epoch 31/100\n",
            "32/32 [==============================] - 0s 2ms/step - loss: 5986.5298 - mae: 5986.5298\n",
            "Epoch 32/100\n",
            "32/32 [==============================] - 0s 2ms/step - loss: 5925.0298 - mae: 5925.0298\n",
            "Epoch 33/100\n",
            "32/32 [==============================] - 0s 2ms/step - loss: 5850.6182 - mae: 5850.6182\n",
            "Epoch 34/100\n",
            "32/32 [==============================] - 0s 2ms/step - loss: 5758.2168 - mae: 5758.2168\n",
            "Epoch 35/100\n",
            "32/32 [==============================] - 0s 2ms/step - loss: 5663.9810 - mae: 5663.9810\n",
            "Epoch 36/100\n",
            "32/32 [==============================] - 0s 2ms/step - loss: 5554.5806 - mae: 5554.5806\n",
            "Epoch 37/100\n",
            "32/32 [==============================] - 0s 2ms/step - loss: 5421.3364 - mae: 5421.3364\n",
            "Epoch 38/100\n",
            "32/32 [==============================] - 0s 2ms/step - loss: 5267.6523 - mae: 5267.6523\n",
            "Epoch 39/100\n",
            "32/32 [==============================] - 0s 2ms/step - loss: 5050.2280 - mae: 5050.2280\n",
            "Epoch 40/100\n",
            "32/32 [==============================] - 0s 2ms/step - loss: 4812.0010 - mae: 4812.0010\n",
            "Epoch 41/100\n",
            "32/32 [==============================] - 0s 2ms/step - loss: 4509.5708 - mae: 4509.5708\n",
            "Epoch 42/100\n",
            "32/32 [==============================] - 0s 2ms/step - loss: 4184.1987 - mae: 4184.1987\n",
            "Epoch 43/100\n",
            "32/32 [==============================] - 0s 2ms/step - loss: 3941.9304 - mae: 3941.9304\n",
            "Epoch 44/100\n",
            "32/32 [==============================] - 0s 2ms/step - loss: 3833.0833 - mae: 3833.0833\n",
            "Epoch 45/100\n",
            "32/32 [==============================] - 0s 2ms/step - loss: 3856.5095 - mae: 3856.5095\n",
            "Epoch 46/100\n",
            "32/32 [==============================] - 0s 2ms/step - loss: 3786.8162 - mae: 3786.8162\n",
            "Epoch 47/100\n",
            "32/32 [==============================] - 0s 2ms/step - loss: 3776.7954 - mae: 3776.7954\n",
            "Epoch 48/100\n",
            "32/32 [==============================] - 0s 2ms/step - loss: 3776.6301 - mae: 3776.6301\n",
            "Epoch 49/100\n",
            "32/32 [==============================] - 0s 2ms/step - loss: 3761.0500 - mae: 3761.0500\n",
            "Epoch 50/100\n",
            "32/32 [==============================] - 0s 2ms/step - loss: 3782.9482 - mae: 3782.9482\n",
            "Epoch 51/100\n",
            "32/32 [==============================] - 0s 3ms/step - loss: 3749.0095 - mae: 3749.0095\n",
            "Epoch 52/100\n",
            "32/32 [==============================] - 0s 2ms/step - loss: 3735.1333 - mae: 3735.1333\n",
            "Epoch 53/100\n",
            "32/32 [==============================] - 0s 2ms/step - loss: 3728.4775 - mae: 3728.4775\n",
            "Epoch 54/100\n",
            "32/32 [==============================] - 0s 2ms/step - loss: 3736.2617 - mae: 3736.2617\n",
            "Epoch 55/100\n",
            "32/32 [==============================] - 0s 2ms/step - loss: 3728.7751 - mae: 3728.7751\n",
            "Epoch 56/100\n",
            "32/32 [==============================] - 0s 2ms/step - loss: 3717.8320 - mae: 3717.8320\n",
            "Epoch 57/100\n",
            "32/32 [==============================] - 0s 2ms/step - loss: 3711.0403 - mae: 3711.0403\n",
            "Epoch 58/100\n",
            "32/32 [==============================] - 0s 2ms/step - loss: 3734.3457 - mae: 3734.3457\n",
            "Epoch 59/100\n",
            "32/32 [==============================] - 0s 3ms/step - loss: 3737.0168 - mae: 3737.0168\n",
            "Epoch 60/100\n",
            "32/32 [==============================] - 0s 2ms/step - loss: 3712.7236 - mae: 3712.7236\n",
            "Epoch 61/100\n",
            "32/32 [==============================] - 0s 2ms/step - loss: 3715.6980 - mae: 3715.6980\n",
            "Epoch 62/100\n",
            "32/32 [==============================] - 0s 2ms/step - loss: 3689.5754 - mae: 3689.5754\n",
            "Epoch 63/100\n",
            "32/32 [==============================] - 0s 3ms/step - loss: 3730.5347 - mae: 3730.5347\n",
            "Epoch 64/100\n",
            "32/32 [==============================] - 0s 2ms/step - loss: 3734.6174 - mae: 3734.6174\n",
            "Epoch 65/100\n",
            "32/32 [==============================] - 0s 2ms/step - loss: 3682.0791 - mae: 3682.0791\n",
            "Epoch 66/100\n",
            "32/32 [==============================] - 0s 2ms/step - loss: 3677.1482 - mae: 3677.1482\n",
            "Epoch 67/100\n",
            "32/32 [==============================] - 0s 2ms/step - loss: 3673.3486 - mae: 3673.3486\n",
            "Epoch 68/100\n",
            "32/32 [==============================] - 0s 3ms/step - loss: 3670.3816 - mae: 3670.3816\n",
            "Epoch 69/100\n",
            "32/32 [==============================] - 0s 2ms/step - loss: 3678.0225 - mae: 3678.0225\n",
            "Epoch 70/100\n",
            "32/32 [==============================] - 0s 3ms/step - loss: 3718.4919 - mae: 3718.4919\n",
            "Epoch 71/100\n",
            "32/32 [==============================] - 0s 2ms/step - loss: 3658.5024 - mae: 3658.5024\n",
            "Epoch 72/100\n",
            "32/32 [==============================] - 0s 2ms/step - loss: 3676.0959 - mae: 3676.0959\n",
            "Epoch 73/100\n",
            "32/32 [==============================] - 0s 2ms/step - loss: 3673.6484 - mae: 3673.6484\n",
            "Epoch 74/100\n",
            "32/32 [==============================] - 0s 2ms/step - loss: 3664.1819 - mae: 3664.1819\n",
            "Epoch 75/100\n",
            "32/32 [==============================] - 0s 3ms/step - loss: 3666.7773 - mae: 3666.7773\n",
            "Epoch 76/100\n",
            "32/32 [==============================] - 0s 2ms/step - loss: 3665.2627 - mae: 3665.2627\n",
            "Epoch 77/100\n",
            "32/32 [==============================] - 0s 2ms/step - loss: 3658.5166 - mae: 3658.5166\n",
            "Epoch 78/100\n",
            "32/32 [==============================] - 0s 2ms/step - loss: 3646.5818 - mae: 3646.5818\n",
            "Epoch 79/100\n",
            "32/32 [==============================] - 0s 3ms/step - loss: 3634.7285 - mae: 3634.7285\n",
            "Epoch 80/100\n",
            "32/32 [==============================] - 0s 2ms/step - loss: 3673.5227 - mae: 3673.5227\n",
            "Epoch 81/100\n",
            "32/32 [==============================] - 0s 2ms/step - loss: 3660.2349 - mae: 3660.2349\n",
            "Epoch 82/100\n",
            "32/32 [==============================] - 0s 2ms/step - loss: 3630.4329 - mae: 3630.4329\n",
            "Epoch 83/100\n",
            "32/32 [==============================] - 0s 2ms/step - loss: 3625.2524 - mae: 3625.2524\n",
            "Epoch 84/100\n",
            "32/32 [==============================] - 0s 2ms/step - loss: 3648.3926 - mae: 3648.3926\n",
            "Epoch 85/100\n",
            "32/32 [==============================] - 0s 2ms/step - loss: 3626.9341 - mae: 3626.9341\n",
            "Epoch 86/100\n",
            "32/32 [==============================] - 0s 3ms/step - loss: 3618.2776 - mae: 3618.2776\n",
            "Epoch 87/100\n",
            "32/32 [==============================] - 0s 2ms/step - loss: 3617.5784 - mae: 3617.5784\n",
            "Epoch 88/100\n",
            "32/32 [==============================] - 0s 2ms/step - loss: 3626.1365 - mae: 3626.1365\n",
            "Epoch 89/100\n",
            "32/32 [==============================] - 0s 2ms/step - loss: 3610.1538 - mae: 3610.1538\n",
            "Epoch 90/100\n",
            "32/32 [==============================] - 0s 2ms/step - loss: 3607.0864 - mae: 3607.0864\n",
            "Epoch 91/100\n",
            "32/32 [==============================] - 0s 2ms/step - loss: 3591.8162 - mae: 3591.8162\n",
            "Epoch 92/100\n",
            "32/32 [==============================] - 0s 2ms/step - loss: 3630.5339 - mae: 3630.5339\n",
            "Epoch 93/100\n",
            "32/32 [==============================] - 0s 2ms/step - loss: 3604.8296 - mae: 3604.8296\n",
            "Epoch 94/100\n",
            "32/32 [==============================] - 0s 2ms/step - loss: 3595.7356 - mae: 3595.7356\n",
            "Epoch 95/100\n",
            "32/32 [==============================] - 0s 2ms/step - loss: 3597.4133 - mae: 3597.4133\n",
            "Epoch 96/100\n",
            "32/32 [==============================] - 0s 2ms/step - loss: 3594.8730 - mae: 3594.8730\n",
            "Epoch 97/100\n",
            "32/32 [==============================] - 0s 2ms/step - loss: 3582.0471 - mae: 3582.0471\n",
            "Epoch 98/100\n",
            "32/32 [==============================] - 0s 2ms/step - loss: 3581.0627 - mae: 3581.0627\n",
            "Epoch 99/100\n",
            "32/32 [==============================] - 0s 3ms/step - loss: 3567.8264 - mae: 3567.8264\n",
            "Epoch 100/100\n",
            "32/32 [==============================] - 0s 2ms/step - loss: 3579.3269 - mae: 3579.3269\n"
          ]
        },
        {
          "output_type": "execute_result",
          "data": {
            "text/plain": [
              "<keras.callbacks.History at 0x7fa3aa74b490>"
            ]
          },
          "metadata": {},
          "execution_count": 84
        }
      ]
    },
    {
      "cell_type": "code",
      "source": [
        "insurance_model_3.evaluate(X_test,y_test)"
      ],
      "metadata": {
        "colab": {
          "base_uri": "https://localhost:8080/"
        },
        "id": "EYQ6wqDtFDVA",
        "outputId": "b681a612-2b9c-4312-a180-a7d9fe890222"
      },
      "execution_count": 85,
      "outputs": [
        {
          "output_type": "stream",
          "name": "stdout",
          "text": [
            "11/11 [==============================] - 0s 2ms/step - loss: 3515.8496 - mae: 3515.8496\n"
          ]
        },
        {
          "output_type": "execute_result",
          "data": {
            "text/plain": [
              "[3515.849609375, 3515.849609375]"
            ]
          },
          "metadata": {},
          "execution_count": 85
        }
      ]
    },
    {
      "cell_type": "code",
      "source": [
        "insurance_model.evaluate(X_test,y_test)"
      ],
      "metadata": {
        "colab": {
          "base_uri": "https://localhost:8080/"
        },
        "id": "td6AFu5tGlbV",
        "outputId": "07527f21-e7a7-4d2b-e77f-37d7fc56bfb7"
      },
      "execution_count": 86,
      "outputs": [
        {
          "output_type": "stream",
          "name": "stdout",
          "text": [
            "11/11 [==============================] - 0s 2ms/step - loss: 6316.6177 - mae: 6316.6177\n"
          ]
        },
        {
          "output_type": "execute_result",
          "data": {
            "text/plain": [
              "[6316.61767578125, 6316.61767578125]"
            ]
          },
          "metadata": {},
          "execution_count": 86
        }
      ]
    },
    {
      "cell_type": "markdown",
      "source": [
        "## We observed good amount of reduction in the loss in model 3 from model 1"
      ],
      "metadata": {
        "id": "EV4VBY8yGrbQ"
      }
    },
    {
      "cell_type": "code",
      "source": [
        "## Model 4\n",
        "\n",
        "tf.random.set_seed(43)\n",
        "\n",
        "insurance_model_4 = tf.keras.Sequential([\n",
        "    tf.keras.layers.Dense(110),\n",
        "    tf.keras.layers.Dense(55),\n",
        "    tf.keras.layers.Dense(11),\n",
        "    tf.keras.layers.Dense(1)\n",
        "])\n",
        "\n",
        "insurance_model_4.compile(loss=tf.keras.losses.mae,\n",
        "                          optimizer = tf.keras.optimizers.Adam(),\n",
        "                          metrics = ['mae'])\n",
        "\n",
        "history = insurance_model_4.fit(X_train, y_train, epochs = 300)"
      ],
      "metadata": {
        "colab": {
          "base_uri": "https://localhost:8080/"
        },
        "id": "IvjCWADHGpXx",
        "outputId": "4f05c588-4ca7-40a4-d1c6-0dc78e42fc58"
      },
      "execution_count": null,
      "outputs": [
        {
          "output_type": "stream",
          "name": "stdout",
          "text": [
            "Epoch 1/300\n",
            "32/32 [==============================] - 1s 2ms/step - loss: 13121.8340 - mae: 13121.8340\n",
            "Epoch 2/300\n",
            "32/32 [==============================] - 0s 2ms/step - loss: 12162.2451 - mae: 12162.2451\n",
            "Epoch 3/300\n",
            "32/32 [==============================] - 0s 2ms/step - loss: 9031.1387 - mae: 9031.1387\n",
            "Epoch 4/300\n",
            "32/32 [==============================] - 0s 2ms/step - loss: 7468.0190 - mae: 7468.0190\n",
            "Epoch 5/300\n",
            "32/32 [==============================] - 0s 2ms/step - loss: 7360.7681 - mae: 7360.7681\n",
            "Epoch 6/300\n",
            "32/32 [==============================] - 0s 2ms/step - loss: 7311.9233 - mae: 7311.9233\n",
            "Epoch 7/300\n",
            "32/32 [==============================] - 0s 2ms/step - loss: 7262.6367 - mae: 7262.6367\n",
            "Epoch 8/300\n",
            "32/32 [==============================] - 0s 2ms/step - loss: 7205.5430 - mae: 7205.5430\n",
            "Epoch 9/300\n",
            "32/32 [==============================] - 0s 3ms/step - loss: 7136.6289 - mae: 7136.6289\n",
            "Epoch 10/300\n",
            "32/32 [==============================] - 0s 2ms/step - loss: 7079.8354 - mae: 7079.8354\n",
            "Epoch 11/300\n",
            "32/32 [==============================] - 0s 2ms/step - loss: 7000.1914 - mae: 7000.1914\n",
            "Epoch 12/300\n",
            "32/32 [==============================] - 0s 3ms/step - loss: 6929.6841 - mae: 6929.6841\n",
            "Epoch 13/300\n",
            "32/32 [==============================] - 0s 2ms/step - loss: 6862.7852 - mae: 6862.7852\n",
            "Epoch 14/300\n",
            "32/32 [==============================] - 0s 2ms/step - loss: 6766.5938 - mae: 6766.5938\n",
            "Epoch 15/300\n",
            "32/32 [==============================] - 0s 2ms/step - loss: 6671.8975 - mae: 6671.8975\n",
            "Epoch 16/300\n",
            "32/32 [==============================] - 0s 2ms/step - loss: 6592.5767 - mae: 6592.5767\n",
            "Epoch 17/300\n",
            "32/32 [==============================] - 0s 2ms/step - loss: 6520.2983 - mae: 6520.2983\n",
            "Epoch 18/300\n",
            "32/32 [==============================] - 0s 2ms/step - loss: 6488.8945 - mae: 6488.8945\n",
            "Epoch 19/300\n",
            "32/32 [==============================] - 0s 2ms/step - loss: 6453.8027 - mae: 6453.8027\n",
            "Epoch 20/300\n",
            "32/32 [==============================] - 0s 2ms/step - loss: 6414.6636 - mae: 6414.6636\n",
            "Epoch 21/300\n",
            "32/32 [==============================] - 0s 2ms/step - loss: 6386.3555 - mae: 6386.3555\n",
            "Epoch 22/300\n",
            "32/32 [==============================] - 0s 2ms/step - loss: 6359.8721 - mae: 6359.8721\n",
            "Epoch 23/300\n",
            "32/32 [==============================] - 0s 2ms/step - loss: 6332.4639 - mae: 6332.4639\n",
            "Epoch 24/300\n",
            "32/32 [==============================] - 0s 2ms/step - loss: 6292.5142 - mae: 6292.5142\n",
            "Epoch 25/300\n",
            "32/32 [==============================] - 0s 2ms/step - loss: 6257.5527 - mae: 6257.5527\n",
            "Epoch 26/300\n",
            "32/32 [==============================] - 0s 2ms/step - loss: 6236.3901 - mae: 6236.3901\n",
            "Epoch 27/300\n",
            "32/32 [==============================] - 0s 2ms/step - loss: 6178.2305 - mae: 6178.2305\n",
            "Epoch 28/300\n",
            "32/32 [==============================] - 0s 2ms/step - loss: 6138.3896 - mae: 6138.3896\n",
            "Epoch 29/300\n",
            "32/32 [==============================] - 0s 2ms/step - loss: 6091.0781 - mae: 6091.0781\n",
            "Epoch 30/300\n",
            "32/32 [==============================] - 0s 2ms/step - loss: 6047.4971 - mae: 6047.4971\n",
            "Epoch 31/300\n",
            "32/32 [==============================] - 0s 2ms/step - loss: 5986.5298 - mae: 5986.5298\n",
            "Epoch 32/300\n",
            "32/32 [==============================] - 0s 2ms/step - loss: 5925.0298 - mae: 5925.0298\n",
            "Epoch 33/300\n",
            "32/32 [==============================] - 0s 2ms/step - loss: 5850.6182 - mae: 5850.6182\n",
            "Epoch 34/300\n",
            "32/32 [==============================] - 0s 2ms/step - loss: 5758.2168 - mae: 5758.2168\n",
            "Epoch 35/300\n",
            "32/32 [==============================] - 0s 2ms/step - loss: 5663.9810 - mae: 5663.9810\n",
            "Epoch 36/300\n",
            "32/32 [==============================] - 0s 2ms/step - loss: 5554.5806 - mae: 5554.5806\n",
            "Epoch 37/300\n",
            "32/32 [==============================] - 0s 2ms/step - loss: 5421.3364 - mae: 5421.3364\n",
            "Epoch 38/300\n",
            "32/32 [==============================] - 0s 2ms/step - loss: 5267.6523 - mae: 5267.6523\n",
            "Epoch 39/300\n",
            "32/32 [==============================] - 0s 2ms/step - loss: 5050.2280 - mae: 5050.2280\n",
            "Epoch 40/300\n",
            "32/32 [==============================] - 0s 2ms/step - loss: 4812.0010 - mae: 4812.0010\n",
            "Epoch 41/300\n",
            "32/32 [==============================] - 0s 2ms/step - loss: 4509.5708 - mae: 4509.5708\n",
            "Epoch 42/300\n",
            "32/32 [==============================] - 0s 2ms/step - loss: 4184.1987 - mae: 4184.1987\n",
            "Epoch 43/300\n",
            "32/32 [==============================] - 0s 2ms/step - loss: 3941.9304 - mae: 3941.9304\n",
            "Epoch 44/300\n",
            "32/32 [==============================] - 0s 2ms/step - loss: 3833.0833 - mae: 3833.0833\n",
            "Epoch 45/300\n",
            "32/32 [==============================] - 0s 2ms/step - loss: 3856.5095 - mae: 3856.5095\n",
            "Epoch 46/300\n",
            "32/32 [==============================] - 0s 2ms/step - loss: 3786.8162 - mae: 3786.8162\n",
            "Epoch 47/300\n",
            "32/32 [==============================] - 0s 2ms/step - loss: 3776.7954 - mae: 3776.7954\n",
            "Epoch 48/300\n",
            "32/32 [==============================] - 0s 2ms/step - loss: 3776.6301 - mae: 3776.6301\n",
            "Epoch 49/300\n",
            "32/32 [==============================] - 0s 2ms/step - loss: 3761.0500 - mae: 3761.0500\n",
            "Epoch 50/300\n",
            "32/32 [==============================] - 0s 3ms/step - loss: 3782.9482 - mae: 3782.9482\n",
            "Epoch 51/300\n",
            "32/32 [==============================] - 0s 2ms/step - loss: 3749.0095 - mae: 3749.0095\n",
            "Epoch 52/300\n",
            "32/32 [==============================] - 0s 2ms/step - loss: 3735.1333 - mae: 3735.1333\n",
            "Epoch 53/300\n",
            "32/32 [==============================] - 0s 2ms/step - loss: 3728.4775 - mae: 3728.4775\n",
            "Epoch 54/300\n",
            "32/32 [==============================] - 0s 2ms/step - loss: 3736.2617 - mae: 3736.2617\n",
            "Epoch 55/300\n",
            "32/32 [==============================] - 0s 2ms/step - loss: 3728.7751 - mae: 3728.7751\n",
            "Epoch 56/300\n",
            "32/32 [==============================] - 0s 2ms/step - loss: 3717.8320 - mae: 3717.8320\n",
            "Epoch 57/300\n",
            "32/32 [==============================] - 0s 2ms/step - loss: 3711.0403 - mae: 3711.0403\n",
            "Epoch 58/300\n",
            "32/32 [==============================] - 0s 2ms/step - loss: 3734.3457 - mae: 3734.3457\n",
            "Epoch 59/300\n",
            "32/32 [==============================] - 0s 2ms/step - loss: 3737.0168 - mae: 3737.0168\n",
            "Epoch 60/300\n",
            "32/32 [==============================] - 0s 2ms/step - loss: 3712.7236 - mae: 3712.7236\n",
            "Epoch 61/300\n",
            "32/32 [==============================] - 0s 2ms/step - loss: 3715.6980 - mae: 3715.6980\n",
            "Epoch 62/300\n",
            "32/32 [==============================] - 0s 3ms/step - loss: 3689.5754 - mae: 3689.5754\n",
            "Epoch 63/300\n",
            "32/32 [==============================] - 0s 2ms/step - loss: 3730.5347 - mae: 3730.5347\n",
            "Epoch 64/300\n",
            "32/32 [==============================] - 0s 2ms/step - loss: 3734.6174 - mae: 3734.6174\n",
            "Epoch 65/300\n",
            "32/32 [==============================] - 0s 2ms/step - loss: 3682.0791 - mae: 3682.0791\n",
            "Epoch 66/300\n",
            "32/32 [==============================] - 0s 2ms/step - loss: 3677.1482 - mae: 3677.1482\n",
            "Epoch 67/300\n",
            "32/32 [==============================] - 0s 2ms/step - loss: 3673.3486 - mae: 3673.3486\n",
            "Epoch 68/300\n",
            "32/32 [==============================] - 0s 2ms/step - loss: 3670.3816 - mae: 3670.3816\n",
            "Epoch 69/300\n",
            "32/32 [==============================] - 0s 2ms/step - loss: 3678.0225 - mae: 3678.0225\n",
            "Epoch 70/300\n",
            "32/32 [==============================] - 0s 2ms/step - loss: 3718.4919 - mae: 3718.4919\n",
            "Epoch 71/300\n",
            "32/32 [==============================] - 0s 2ms/step - loss: 3658.5024 - mae: 3658.5024\n",
            "Epoch 72/300\n",
            "32/32 [==============================] - 0s 2ms/step - loss: 3676.0959 - mae: 3676.0959\n",
            "Epoch 73/300\n",
            "32/32 [==============================] - 0s 2ms/step - loss: 3673.6484 - mae: 3673.6484\n",
            "Epoch 74/300\n",
            "32/32 [==============================] - 0s 2ms/step - loss: 3664.1819 - mae: 3664.1819\n",
            "Epoch 75/300\n",
            "32/32 [==============================] - 0s 2ms/step - loss: 3666.7773 - mae: 3666.7773\n",
            "Epoch 76/300\n",
            "32/32 [==============================] - 0s 2ms/step - loss: 3665.2627 - mae: 3665.2627\n",
            "Epoch 77/300\n",
            "32/32 [==============================] - 0s 2ms/step - loss: 3658.5166 - mae: 3658.5166\n",
            "Epoch 78/300\n",
            "32/32 [==============================] - 0s 2ms/step - loss: 3646.5818 - mae: 3646.5818\n",
            "Epoch 79/300\n",
            "32/32 [==============================] - 0s 2ms/step - loss: 3634.7285 - mae: 3634.7285\n",
            "Epoch 80/300\n",
            "32/32 [==============================] - 0s 3ms/step - loss: 3673.5227 - mae: 3673.5227\n",
            "Epoch 81/300\n",
            "32/32 [==============================] - 0s 2ms/step - loss: 3660.2349 - mae: 3660.2349\n",
            "Epoch 82/300\n",
            "32/32 [==============================] - 0s 2ms/step - loss: 3630.4329 - mae: 3630.4329\n",
            "Epoch 83/300\n",
            "32/32 [==============================] - 0s 2ms/step - loss: 3625.2524 - mae: 3625.2524\n",
            "Epoch 84/300\n",
            "32/32 [==============================] - 0s 2ms/step - loss: 3648.3926 - mae: 3648.3926\n",
            "Epoch 85/300\n",
            "32/32 [==============================] - 0s 2ms/step - loss: 3626.9341 - mae: 3626.9341\n",
            "Epoch 86/300\n",
            "32/32 [==============================] - 0s 3ms/step - loss: 3618.2776 - mae: 3618.2776\n",
            "Epoch 87/300\n",
            "32/32 [==============================] - 0s 7ms/step - loss: 3617.5784 - mae: 3617.5784\n",
            "Epoch 88/300\n",
            "32/32 [==============================] - 0s 8ms/step - loss: 3626.1365 - mae: 3626.1365\n",
            "Epoch 89/300\n",
            "32/32 [==============================] - 0s 7ms/step - loss: 3610.1538 - mae: 3610.1538\n",
            "Epoch 90/300\n",
            "32/32 [==============================] - 0s 6ms/step - loss: 3607.0864 - mae: 3607.0864\n",
            "Epoch 91/300\n",
            "32/32 [==============================] - 0s 6ms/step - loss: 3591.8162 - mae: 3591.8162\n",
            "Epoch 92/300\n",
            "32/32 [==============================] - 0s 2ms/step - loss: 3630.5339 - mae: 3630.5339\n",
            "Epoch 93/300\n",
            "32/32 [==============================] - 0s 2ms/step - loss: 3604.8296 - mae: 3604.8296\n",
            "Epoch 94/300\n",
            "32/32 [==============================] - 0s 2ms/step - loss: 3595.7356 - mae: 3595.7356\n",
            "Epoch 95/300\n",
            "32/32 [==============================] - 0s 2ms/step - loss: 3597.4133 - mae: 3597.4133\n",
            "Epoch 96/300\n",
            "32/32 [==============================] - 0s 8ms/step - loss: 3594.8730 - mae: 3594.8730\n",
            "Epoch 97/300\n",
            "32/32 [==============================] - 0s 6ms/step - loss: 3582.0471 - mae: 3582.0471\n",
            "Epoch 98/300\n",
            "32/32 [==============================] - 0s 8ms/step - loss: 3581.0627 - mae: 3581.0627\n",
            "Epoch 99/300\n",
            "32/32 [==============================] - 0s 5ms/step - loss: 3567.8264 - mae: 3567.8264\n",
            "Epoch 100/300\n",
            "32/32 [==============================] - 0s 5ms/step - loss: 3579.3269 - mae: 3579.3269\n",
            "Epoch 101/300\n",
            "32/32 [==============================] - 0s 2ms/step - loss: 3573.8230 - mae: 3573.8230\n",
            "Epoch 102/300\n",
            "32/32 [==============================] - 0s 2ms/step - loss: 3579.3601 - mae: 3579.3601\n",
            "Epoch 103/300\n",
            "32/32 [==============================] - 0s 2ms/step - loss: 3589.9136 - mae: 3589.9136\n",
            "Epoch 104/300\n",
            "32/32 [==============================] - 0s 2ms/step - loss: 3586.3579 - mae: 3586.3579\n",
            "Epoch 105/300\n",
            "32/32 [==============================] - 0s 2ms/step - loss: 3565.1709 - mae: 3565.1709\n",
            "Epoch 106/300\n",
            "32/32 [==============================] - 0s 2ms/step - loss: 3555.9624 - mae: 3555.9624\n",
            "Epoch 107/300\n",
            "32/32 [==============================] - 0s 2ms/step - loss: 3536.8843 - mae: 3536.8843\n",
            "Epoch 108/300\n",
            "32/32 [==============================] - 0s 2ms/step - loss: 3537.1826 - mae: 3537.1826\n",
            "Epoch 109/300\n",
            "32/32 [==============================] - 0s 3ms/step - loss: 3534.6919 - mae: 3534.6919\n",
            "Epoch 110/300\n",
            "32/32 [==============================] - 0s 2ms/step - loss: 3544.4343 - mae: 3544.4343\n",
            "Epoch 111/300\n",
            "32/32 [==============================] - 0s 2ms/step - loss: 3527.9978 - mae: 3527.9978\n",
            "Epoch 112/300\n",
            "32/32 [==============================] - 0s 2ms/step - loss: 3545.8674 - mae: 3545.8674\n",
            "Epoch 113/300\n",
            "32/32 [==============================] - 0s 2ms/step - loss: 3545.1143 - mae: 3545.1143\n",
            "Epoch 114/300\n",
            "32/32 [==============================] - 0s 2ms/step - loss: 3555.0378 - mae: 3555.0378\n",
            "Epoch 115/300\n",
            "32/32 [==============================] - 0s 2ms/step - loss: 3550.8848 - mae: 3550.8848\n",
            "Epoch 116/300\n",
            "32/32 [==============================] - 0s 2ms/step - loss: 3519.4341 - mae: 3519.4341\n",
            "Epoch 117/300\n",
            "32/32 [==============================] - 0s 2ms/step - loss: 3514.3953 - mae: 3514.3953\n",
            "Epoch 118/300\n",
            "32/32 [==============================] - 0s 2ms/step - loss: 3532.9326 - mae: 3532.9326\n",
            "Epoch 119/300\n",
            "32/32 [==============================] - 0s 3ms/step - loss: 3509.1562 - mae: 3509.1562\n",
            "Epoch 120/300\n",
            "32/32 [==============================] - 0s 3ms/step - loss: 3523.2651 - mae: 3523.2651\n",
            "Epoch 121/300\n",
            "32/32 [==============================] - 0s 3ms/step - loss: 3520.4153 - mae: 3520.4153\n",
            "Epoch 122/300\n",
            "32/32 [==============================] - 0s 2ms/step - loss: 3504.0422 - mae: 3504.0422\n",
            "Epoch 123/300\n",
            "32/32 [==============================] - 0s 2ms/step - loss: 3527.4109 - mae: 3527.4109\n",
            "Epoch 124/300\n",
            "32/32 [==============================] - 0s 2ms/step - loss: 3549.4814 - mae: 3549.4814\n",
            "Epoch 125/300\n",
            "32/32 [==============================] - 0s 2ms/step - loss: 3513.4756 - mae: 3513.4756\n",
            "Epoch 126/300\n",
            "32/32 [==============================] - 0s 2ms/step - loss: 3504.5400 - mae: 3504.5400\n",
            "Epoch 127/300\n",
            "32/32 [==============================] - 0s 2ms/step - loss: 3533.7273 - mae: 3533.7273\n",
            "Epoch 128/300\n",
            "32/32 [==============================] - 0s 3ms/step - loss: 3504.2646 - mae: 3504.2646\n",
            "Epoch 129/300\n",
            "32/32 [==============================] - 0s 2ms/step - loss: 3502.1880 - mae: 3502.1880\n",
            "Epoch 130/300\n",
            "32/32 [==============================] - 0s 2ms/step - loss: 3482.5806 - mae: 3482.5806\n",
            "Epoch 131/300\n",
            "32/32 [==============================] - 0s 2ms/step - loss: 3491.2520 - mae: 3491.2520\n",
            "Epoch 132/300\n",
            "32/32 [==============================] - 0s 2ms/step - loss: 3503.9644 - mae: 3503.9644\n",
            "Epoch 133/300\n",
            "32/32 [==============================] - 0s 2ms/step - loss: 3482.8958 - mae: 3482.8958\n",
            "Epoch 134/300\n",
            "32/32 [==============================] - 0s 2ms/step - loss: 3480.1038 - mae: 3480.1038\n",
            "Epoch 135/300\n",
            "32/32 [==============================] - 0s 2ms/step - loss: 3481.6477 - mae: 3481.6477\n",
            "Epoch 136/300\n",
            "32/32 [==============================] - 0s 2ms/step - loss: 3478.6987 - mae: 3478.6987\n",
            "Epoch 137/300\n",
            "32/32 [==============================] - 0s 2ms/step - loss: 3530.9824 - mae: 3530.9824\n",
            "Epoch 138/300\n",
            "32/32 [==============================] - 0s 2ms/step - loss: 3501.4956 - mae: 3501.4956\n",
            "Epoch 139/300\n",
            "32/32 [==============================] - 0s 2ms/step - loss: 3494.4133 - mae: 3494.4133\n",
            "Epoch 140/300\n",
            "32/32 [==============================] - 0s 2ms/step - loss: 3490.8010 - mae: 3490.8010\n",
            "Epoch 141/300\n",
            "32/32 [==============================] - 0s 2ms/step - loss: 3484.8752 - mae: 3484.8752\n",
            "Epoch 142/300\n",
            "32/32 [==============================] - 0s 2ms/step - loss: 3511.1892 - mae: 3511.1892\n",
            "Epoch 143/300\n",
            "32/32 [==============================] - 0s 3ms/step - loss: 3520.0432 - mae: 3520.0432\n",
            "Epoch 144/300\n",
            "32/32 [==============================] - 0s 2ms/step - loss: 3488.4536 - mae: 3488.4536\n",
            "Epoch 145/300\n",
            "32/32 [==============================] - 0s 2ms/step - loss: 3499.3496 - mae: 3499.3496\n",
            "Epoch 146/300\n",
            "32/32 [==============================] - 0s 2ms/step - loss: 3487.9773 - mae: 3487.9773\n",
            "Epoch 147/300\n",
            "32/32 [==============================] - 0s 3ms/step - loss: 3475.7295 - mae: 3475.7295\n",
            "Epoch 148/300\n",
            "32/32 [==============================] - 0s 2ms/step - loss: 3484.7117 - mae: 3484.7117\n",
            "Epoch 149/300\n",
            "32/32 [==============================] - 0s 2ms/step - loss: 3474.8799 - mae: 3474.8799\n",
            "Epoch 150/300\n",
            "32/32 [==============================] - 0s 2ms/step - loss: 3474.6951 - mae: 3474.6951\n",
            "Epoch 151/300\n",
            "32/32 [==============================] - 0s 2ms/step - loss: 3478.4902 - mae: 3478.4902\n",
            "Epoch 152/300\n",
            "32/32 [==============================] - 0s 2ms/step - loss: 3499.2629 - mae: 3499.2629\n",
            "Epoch 153/300\n",
            "32/32 [==============================] - 0s 2ms/step - loss: 3491.3733 - mae: 3491.3733\n",
            "Epoch 154/300\n",
            "32/32 [==============================] - 0s 2ms/step - loss: 3476.0972 - mae: 3476.0972\n",
            "Epoch 155/300\n",
            "32/32 [==============================] - 0s 3ms/step - loss: 3474.3455 - mae: 3474.3455\n",
            "Epoch 156/300\n",
            "32/32 [==============================] - 0s 2ms/step - loss: 3497.3540 - mae: 3497.3540\n",
            "Epoch 157/300\n",
            "32/32 [==============================] - 0s 2ms/step - loss: 3486.3413 - mae: 3486.3413\n",
            "Epoch 158/300\n",
            "32/32 [==============================] - 0s 2ms/step - loss: 3491.6230 - mae: 3491.6230\n",
            "Epoch 159/300\n",
            " 1/32 [..............................] - ETA: 0s - loss: 3148.9897 - mae: 3148.9897"
          ]
        }
      ]
    },
    {
      "cell_type": "code",
      "source": [
        "insurance_model_4.evaluate(X_test,y_test)"
      ],
      "metadata": {
        "id": "A_oDDDEXH41c"
      },
      "execution_count": null,
      "outputs": []
    },
    {
      "cell_type": "code",
      "source": [
        "insurance_model_3.evaluate(X_test,y_test)"
      ],
      "metadata": {
        "id": "b4JMgiogII00"
      },
      "execution_count": null,
      "outputs": []
    },
    {
      "cell_type": "markdown",
      "source": [
        "## History will store all the losses and we can use it to plot the loss curve"
      ],
      "metadata": {
        "id": "eWsn5K_ZI78W"
      }
    },
    {
      "cell_type": "code",
      "source": [
        "pd.DataFrame(history.history).plot()\n",
        "plt.ylabel(\"loss\")\n",
        "plt.xlabel(\"epochs\")"
      ],
      "metadata": {
        "id": "ccI7ZMbfINUN"
      },
      "execution_count": null,
      "outputs": []
    },
    {
      "cell_type": "markdown",
      "source": [
        "## The above graph shows that from 200 onwards there wasn't much change in the losses"
      ],
      "metadata": {
        "id": "ZO1McL5aJMMN"
      }
    },
    {
      "cell_type": "code",
      "source": [],
      "metadata": {
        "id": "q-XdczdmI1jP"
      },
      "execution_count": null,
      "outputs": []
    }
  ]
}